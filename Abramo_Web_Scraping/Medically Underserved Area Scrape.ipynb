{
 "cells": [
  {
   "cell_type": "markdown",
   "id": "9f2bf7a9",
   "metadata": {},
   "source": [
    "## Dependencies"
   ]
  },
  {
   "cell_type": "code",
   "execution_count": 1,
   "id": "f5bd97f8",
   "metadata": {},
   "outputs": [],
   "source": [
    "# Import Splinter and BeautifulSoup\n",
    "from splinter import Browser\n",
    "from bs4 import BeautifulSoup as soup\n",
    "from webdriver_manager.chrome import ChromeDriverManager\n",
    "from selenium import webdriver\n",
    "import pandas as pd"
   ]
  },
  {
   "cell_type": "code",
   "execution_count": 2,
   "id": "7c43610c",
   "metadata": {},
   "outputs": [
    {
     "name": "stderr",
     "output_type": "stream",
     "text": [
      "\n",
      "\n",
      "====== WebDriver manager ======\n",
      "Current google-chrome version is 101.0.4951\n",
      "Get LATEST chromedriver version for 101.0.4951 google-chrome\n",
      "Trying to download new driver from https://chromedriver.storage.googleapis.com/101.0.4951.41/chromedriver_win32.zip\n",
      "Driver has been saved in cache [C:\\Users\\drewa\\.wdm\\drivers\\chromedriver\\win32\\101.0.4951.41]\n"
     ]
    }
   ],
   "source": [
    "executable_path = {'executable_path': ChromeDriverManager().install()}\n",
    "browser = Browser('chrome', **executable_path, headless=False)"
   ]
  },
  {
   "cell_type": "markdown",
   "id": "1ac8a5e7",
   "metadata": {},
   "source": [
    "## Medically Underserved Areas"
   ]
  },
  {
   "cell_type": "code",
   "execution_count": 3,
   "id": "99c7f522",
   "metadata": {},
   "outputs": [
    {
     "data": {
      "text/plain": [
       "True"
      ]
     },
     "execution_count": 3,
     "metadata": {},
     "output_type": "execute_result"
    }
   ],
   "source": [
    "# Visit the HRSA data website site\n",
    "url = 'https://data.hrsa.gov/tools/shortage-area/mua-find'\n",
    "browser.visit(url)\n",
    "# Optional delay for loading the page\n",
    "browser.is_element_present_by_css('div.tab-content', wait_time=1)"
   ]
  },
  {
   "cell_type": "code",
   "execution_count": 4,
   "id": "ed32a673",
   "metadata": {},
   "outputs": [],
   "source": [
    "# Set the html parameter of interest\n",
    "html = browser.html\n",
    "# Control parameters\n",
    "control_soup = soup(html, 'html.parser')\n",
    "control_elem = control_soup.select_one('div.tab-content')\n",
    "# Collect parameter\n",
    "collect_soup =soup(html, 'html.parser')\n",
    "collect_elem = collect_soup.select_one('div.dataTables_scroll')"
   ]
  },
  {
   "cell_type": "code",
   "execution_count": 9,
   "id": "88d60544",
   "metadata": {},
   "outputs": [
    {
     "data": {
      "text/plain": [
       "[<option value=\"AL\">Alabama</option>,\n",
       " <option value=\"AK\">Alaska</option>,\n",
       " <option value=\"AS\">American Samoa</option>,\n",
       " <option value=\"AZ\">Arizona</option>,\n",
       " <option value=\"AR\">Arkansas</option>,\n",
       " <option value=\"CA\">California</option>,\n",
       " <option value=\"CO\">Colorado</option>,\n",
       " <option value=\"CT\">Connecticut</option>,\n",
       " <option value=\"DE\">Delaware</option>,\n",
       " <option value=\"DC\">District of Columbia</option>,\n",
       " <option value=\"FM\">Federated States of Micronesia</option>,\n",
       " <option value=\"FL\">Florida</option>,\n",
       " <option value=\"GA\">Georgia</option>,\n",
       " <option value=\"GU\">Guam</option>,\n",
       " <option value=\"HI\">Hawaii</option>,\n",
       " <option value=\"ID\">Idaho</option>,\n",
       " <option value=\"IL\">Illinois</option>,\n",
       " <option value=\"IN\">Indiana</option>,\n",
       " <option value=\"IA\">Iowa</option>,\n",
       " <option value=\"KS\">Kansas</option>,\n",
       " <option value=\"KY\">Kentucky</option>,\n",
       " <option value=\"LA\">Louisiana</option>,\n",
       " <option value=\"ME\">Maine</option>,\n",
       " <option value=\"MH\">Marshall Islands</option>,\n",
       " <option value=\"MD\">Maryland</option>,\n",
       " <option value=\"MA\">Massachusetts</option>,\n",
       " <option value=\"MI\">Michigan</option>,\n",
       " <option value=\"MN\">Minnesota</option>,\n",
       " <option value=\"MS\">Mississippi</option>,\n",
       " <option value=\"MO\">Missouri</option>,\n",
       " <option value=\"MT\">Montana</option>,\n",
       " <option value=\"NE\">Nebraska</option>,\n",
       " <option value=\"NV\">Nevada</option>,\n",
       " <option value=\"NH\">New Hampshire</option>,\n",
       " <option value=\"NJ\">New Jersey</option>,\n",
       " <option value=\"NM\">New Mexico</option>,\n",
       " <option value=\"NY\">New York</option>,\n",
       " <option value=\"NC\">North Carolina</option>,\n",
       " <option value=\"ND\">North Dakota</option>,\n",
       " <option value=\"MP\">Northern Mariana Islands</option>,\n",
       " <option value=\"OH\">Ohio</option>,\n",
       " <option value=\"OK\">Oklahoma</option>,\n",
       " <option value=\"OR\">Oregon</option>,\n",
       " <option value=\"PA\">Pennsylvania</option>,\n",
       " <option value=\"PR\">Puerto Rico</option>,\n",
       " <option value=\"PW\">Republic of Palau</option>,\n",
       " <option value=\"RI\">Rhode Island</option>,\n",
       " <option value=\"SC\">South Carolina</option>,\n",
       " <option value=\"SD\">South Dakota</option>,\n",
       " <option value=\"TN\">Tennessee</option>,\n",
       " <option value=\"TX\">Texas</option>,\n",
       " <option value=\"UM\">U.S. Minor Islands</option>,\n",
       " <option value=\"VI\">U.S. Virgin Islands</option>,\n",
       " <option value=\"UT\">Utah</option>,\n",
       " <option value=\"VT\">Vermont</option>,\n",
       " <option value=\"VA\">Virginia</option>,\n",
       " <option value=\"WA\">Washington</option>,\n",
       " <option value=\"WV\">West Virginia</option>,\n",
       " <option value=\"WI\">Wisconsin</option>,\n",
       " <option value=\"WY\">Wyoming</option>]"
      ]
     },
     "execution_count": 9,
     "metadata": {},
     "output_type": "execute_result"
    }
   ],
   "source": [
    "control_elem.find_all('option')[1:61]"
   ]
  },
  {
   "cell_type": "code",
   "execution_count": null,
   "id": "ca0ba573",
   "metadata": {},
   "outputs": [],
   "source": [
    "# Medically Underserved Area\n",
    "\n",
    "# Set <input placeholder=\"From MM/DD/YYYY\" to \"1/1/2015\"\n",
    "\n",
    "# Set <input placeholder=\"To MM/DD/YYYY\" to \"12/31/2019\"\n",
    "\n",
    "# Create a list of relevant states\n",
    "states = {}\n",
    "table = {}\n",
    "# Loop through states using control_elem\n",
    "For x in states:\n",
    "    #Change state in control_elem\n",
    "    #Apply submit button <button class='btn btn-primary' type='submit'> .click()\n",
    "    # Use collect_elem to select columns and data\n",
    "    #MUA/P ID, Service Area Name, Designation Type, Primary State Name, County, Index of Medical Underservice Score, Rural Status\n",
    "    For x in table:\n",
    "        # Collect text for header columns into DataFrame\n",
    "        # Collect text for all columns in the same positions into DataFrame\n",
    "        \n",
    "        \n",
    "\n",
    "        "
   ]
  },
  {
   "cell_type": "code",
   "execution_count": null,
   "id": "c105ec38",
   "metadata": {},
   "outputs": [],
   "source": [
    "# Save DataFrame to CSV"
   ]
  },
  {
   "cell_type": "code",
   "execution_count": null,
   "id": "6d5233c8",
   "metadata": {},
   "outputs": [],
   "source": []
  }
 ],
 "metadata": {
  "kernelspec": {
   "display_name": "PythonData",
   "language": "python",
   "name": "pythondata"
  },
  "language_info": {
   "codemirror_mode": {
    "name": "ipython",
    "version": 3
   },
   "file_extension": ".py",
   "mimetype": "text/x-python",
   "name": "python",
   "nbconvert_exporter": "python",
   "pygments_lexer": "ipython3",
   "version": "3.7.11"
  }
 },
 "nbformat": 4,
 "nbformat_minor": 5
}
