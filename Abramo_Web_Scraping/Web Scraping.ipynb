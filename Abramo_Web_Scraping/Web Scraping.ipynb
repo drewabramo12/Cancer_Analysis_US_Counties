{
 "cells": [
  {
   "cell_type": "markdown",
   "id": "9f2bf7a9",
   "metadata": {},
   "source": [
    "## Dependencies"
   ]
  },
  {
   "cell_type": "code",
   "execution_count": 1,
   "id": "f5bd97f8",
   "metadata": {},
   "outputs": [],
   "source": [
    "# Import Splinter and BeautifulSoup\n",
    "from splinter import Browser\n",
    "from bs4 import BeautifulSoup as soup\n",
    "from webdriver_manager.chrome import ChromeDriverManager\n",
    "import pandas as pd"
   ]
  },
  {
   "cell_type": "code",
   "execution_count": 2,
   "id": "db40e8d7",
   "metadata": {},
   "outputs": [
    {
     "name": "stderr",
     "output_type": "stream",
     "text": [
      "\n",
      "\n",
      "====== WebDriver manager ======\n",
      "Current google-chrome version is 101.0.4951\n",
      "Get LATEST chromedriver version for 101.0.4951 google-chrome\n",
      "There is no [win32] chromedriver for browser  in cache\n",
      "Trying to download new driver from https://chromedriver.storage.googleapis.com/101.0.4951.41/chromedriver_win32.zip\n",
      "Driver has been saved in cache [C:\\Users\\drewa\\.wdm\\drivers\\chromedriver\\win32\\101.0.4951.41]\n"
     ]
    }
   ],
   "source": [
    "executable_path = {'executable_path': ChromeDriverManager().install()}\n",
    "browser = Browser('chrome', **executable_path, headless=False)"
   ]
  },
  {
   "cell_type": "markdown",
   "id": "ca3e6ce8",
   "metadata": {},
   "source": [
    "## Cancer Incidence Data"
   ]
  },
  {
   "cell_type": "code",
   "execution_count": 9,
   "id": "3e621160",
   "metadata": {},
   "outputs": [
    {
     "data": {
      "text/plain": [
       "True"
      ]
     },
     "execution_count": 9,
     "metadata": {},
     "output_type": "execute_result"
    }
   ],
   "source": [
    "# Visit the State Cancer Profile(Incidence) site\n",
    "url = 'https://www.statecancerprofiles.cancer.gov/incidencerates/index.php'\n",
    "browser.visit(url)\n",
    "# Optional delay for loading the page\n",
    "browser.is_element_present_by_css('div.col-xs-9', wait_time=1)"
   ]
  },
  {
   "cell_type": "code",
   "execution_count": 7,
   "id": "650a6fc9",
   "metadata": {},
   "outputs": [],
   "source": [
    "# Set the html parameter of interest\n",
    "html = browser.html\n",
    "news_soup = soup(html, 'html.parser')\n",
    "slide_elem = news_soup.select_one('fieldset')"
   ]
  },
  {
   "cell_type": "code",
   "execution_count": null,
   "id": "40a6f698",
   "metadata": {},
   "outputs": [],
   "source": [
    "# Cancer Incidence Data(2015-2019)\n",
    "\n",
    "# Data options lists\n",
    "\n",
    "#Area\n",
    "\n",
    "# Cancer\n",
    "\n",
    "# Race/Ethnicity\n",
    "\n",
    "# Sex\n",
    "\n",
    "# Age\n",
    "\n",
    "# Stage\n",
    "\n",
    "#Set Area Type(Should be By County)\n",
    "\n",
    "# For loop to change all data options to relevant data points\n",
    "\n",
    "For x in Data Options:\n",
    "    # Select specific features\n",
    "    For x in Area:\n",
    "        #Select in Area\n",
    "        For x in Cancer:\n",
    "            # Select in Cancer\n",
    "            # Reset all other fields\n",
    "            # Generate table .click()\n",
    "            # Collect data from table into dataframe\n",
    "        For x in Race/Ethnicity:\n",
    "            # Select Race/Ethnicity\n",
    "            # Reset all other fields\n",
    "            # Generate table .click()\n",
    "            # Collect data from table into dataframe\n",
    "        For x in Sex:\n",
    "            # Select Sex\n",
    "            # Reset all other fields\n",
    "            # Generate table .click()\n",
    "            # Collect data from table into dataframe\n",
    "        For x in Age:\n",
    "            # Select Age\n",
    "            # Reset all other fields\n",
    "            # Generate table .click()\n",
    "            # Collect data from table into dataframe\n",
    "        For x in Stage:\n",
    "            # Select Stage\n",
    "            # Reset all other fields\n",
    "            # Generate table .click()\n",
    "            # Collect data from table into dataframe\n",
    "Dataframe.head()"
   ]
  },
  {
   "cell_type": "code",
   "execution_count": null,
   "id": "9f34c13e",
   "metadata": {},
   "outputs": [],
   "source": [
    "# Save DataFrame as csv"
   ]
  },
  {
   "cell_type": "markdown",
   "id": "1fa81468",
   "metadata": {},
   "source": [
    "## Cancer Mortality Data"
   ]
  },
  {
   "cell_type": "code",
   "execution_count": null,
   "id": "4c41857c",
   "metadata": {},
   "outputs": [],
   "source": [
    "# Visit the State Cancer Profile(Mortality) site\n",
    "url = 'https://www.statecancerprofiles.cancer.gov/deathrates/index.php'\n",
    "browser.visit(url)\n",
    "# Optional delay for loading the page\n",
    "browser.is_element_present_by_css('div.col-xs-9', wait_time=1)"
   ]
  },
  {
   "cell_type": "code",
   "execution_count": null,
   "id": "7845f628",
   "metadata": {},
   "outputs": [],
   "source": [
    "# Set the html parameter of interest\n",
    "html = browser.html\n",
    "news_soup = soup(html, 'html.parser')\n",
    "slide_elem = news_soup.select_one('fieldset')"
   ]
  },
  {
   "cell_type": "code",
   "execution_count": null,
   "id": "5942a82b",
   "metadata": {},
   "outputs": [],
   "source": [
    "# Cancer Mortality Data(2015-2019)\n",
    "\n",
    "# Data options lists\n",
    "\n",
    "#Area\n",
    "\n",
    "# Cancer\n",
    "\n",
    "# Race/Ethnicity\n",
    "\n",
    "# Sex\n",
    "\n",
    "# Age\n",
    "\n",
    "# Stage\n",
    "#Set Area Type(Should be By County)\n",
    "# For loop to change all data options to relevant data points\n",
    "\n",
    "For x in Data Options:\n",
    "    # Select specific features\n",
    "    For x in Area:\n",
    "        #Select in Area\n",
    "        For x in Cancer:\n",
    "            # Select in Cancer\n",
    "            # Reset all other fields\n",
    "            # Generate table .click()\n",
    "            # Collect data from table into dataframe\n",
    "        For x in Race/Ethnicity:\n",
    "            # Select Race/Ethnicity\n",
    "            # Reset all other fields\n",
    "            # Generate table .click()\n",
    "            # Collect data from table into dataframe\n",
    "        For x in Sex:\n",
    "            # Select Sex\n",
    "            # Reset all other fields\n",
    "            # Generate table .click()\n",
    "            # Collect data from table into dataframe\n",
    "        For x in Age:\n",
    "            # Select Age\n",
    "            # Reset all other fields\n",
    "            # Generate table .click()\n",
    "            # Collect data from table into dataframe\n",
    "        For x in Stage:\n",
    "            # Select Stage\n",
    "            # Reset all other fields\n",
    "            # Generate table .click()\n",
    "            # Collect data from table into dataframe\n",
    "Dataframe.head()"
   ]
  },
  {
   "cell_type": "code",
   "execution_count": null,
   "id": "6ad64210",
   "metadata": {},
   "outputs": [],
   "source": [
    "# Save DataFrame as csv\n",
    "Cancer"
   ]
  },
  {
   "cell_type": "code",
   "execution_count": null,
   "id": "9ca96a9f",
   "metadata": {},
   "outputs": [],
   "source": []
  },
  {
   "cell_type": "markdown",
   "id": "1ac8a5e7",
   "metadata": {},
   "source": [
    "## Medically Underserved Areas"
   ]
  },
  {
   "cell_type": "code",
   "execution_count": 11,
   "id": "99c7f522",
   "metadata": {},
   "outputs": [
    {
     "data": {
      "text/plain": [
       "True"
      ]
     },
     "execution_count": 11,
     "metadata": {},
     "output_type": "execute_result"
    }
   ],
   "source": [
    "# Visit the HRSA data website site\n",
    "url = 'https://data.hrsa.gov/tools/shortage-area/mua-find'\n",
    "browser.visit(url)\n",
    "# Optional delay for loading the page\n",
    "browser.is_element_present_by_css('div.tab-content', wait_time=1)"
   ]
  },
  {
   "cell_type": "code",
   "execution_count": null,
   "id": "ed32a673",
   "metadata": {},
   "outputs": [],
   "source": [
    "# Set the html parameter of interest\n",
    "html = browser.html\n",
    "# Control parameters\n",
    "control_soup = soup(html, 'html.parser')\n",
    "control_elem = control_soup.select_one('div.tab-content')\n",
    "# Collect parameter\n",
    "collect_soup =soup(html, 'html.parser')\n",
    "collect_elem = collect_soup.select_one('div.dataTables_scroll')"
   ]
  },
  {
   "cell_type": "code",
   "execution_count": null,
   "id": "ca0ba573",
   "metadata": {},
   "outputs": [],
   "source": [
    "# Medically Underserved Area\n",
    "\n",
    "# Set <input placeholder=\"From MM/DD/YYYY\" to \"1/1/2015\"\n",
    "\n",
    "# Set <input placeholder=\"To MM/DD/YYYY\" to \"12/31/2019\"\n",
    "\n",
    "# Create a list of relevant states\n",
    "states = []\n",
    "table = []\n",
    "# Loop through states using control_elem\n",
    "For x in states:\n",
    "    #Change state in control_elem\n",
    "    #Apply submit button <button class='btn btn-primary' type='submit'> .click()\n",
    "    # Use collect_elem to select columns and data\n",
    "    #MUA/P ID, Service Area Name, Designation Type, Primary State Name, County, Index of Medical Underservice Score, Rural Status\n",
    "    For x in table:\n",
    "        # Collect text for header columns into DataFrame\n",
    "        # Collect text for all columns in the same positions into DataFrame\n",
    "        \n",
    "        \n",
    "\n",
    "        "
   ]
  },
  {
   "cell_type": "code",
   "execution_count": null,
   "id": "c105ec38",
   "metadata": {},
   "outputs": [],
   "source": [
    "# Save DataFrame to CSV"
   ]
  }
 ],
 "metadata": {
  "kernelspec": {
   "display_name": "PythonData",
   "language": "python",
   "name": "pythondata"
  },
  "language_info": {
   "codemirror_mode": {
    "name": "ipython",
    "version": 3
   },
   "file_extension": ".py",
   "mimetype": "text/x-python",
   "name": "python",
   "nbconvert_exporter": "python",
   "pygments_lexer": "ipython3",
   "version": "3.7.11"
  }
 },
 "nbformat": 4,
 "nbformat_minor": 5
}
