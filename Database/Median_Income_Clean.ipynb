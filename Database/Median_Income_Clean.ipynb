{
 "cells": [
  {
   "cell_type": "code",
   "execution_count": 1,
   "id": "98a2aed8",
   "metadata": {},
   "outputs": [],
   "source": [
    "import pandas as pd\n",
    "income15 = pd.read_csv('Resources/est15all.csv')\n",
    "income16 = pd.read_csv('Resources/est16all.csv')\n",
    "income17 = pd.read_csv('Resources/est17all.csv')\n",
    "income18 = pd.read_csv('Resources/est18all.csv')\n",
    "income19 = pd.read_csv('Resources/est19all.csv')"
   ]
  },
  {
   "cell_type": "markdown",
   "id": "ad1131f5",
   "metadata": {},
   "source": [
    "Median Household Income 2015"
   ]
  },
  {
   "cell_type": "code",
   "execution_count": 2,
   "id": "1ded174a",
   "metadata": {},
   "outputs": [
    {
     "data": {
      "text/plain": [
       "['Table with column headers in rows 3 and 4',\n",
       " 'Unnamed: 1',\n",
       " 'Unnamed: 2',\n",
       " 'Unnamed: 3',\n",
       " 'Unnamed: 4',\n",
       " 'Unnamed: 5',\n",
       " 'Unnamed: 6',\n",
       " 'Unnamed: 7',\n",
       " 'Unnamed: 8',\n",
       " 'Unnamed: 9',\n",
       " 'Unnamed: 10',\n",
       " 'Unnamed: 11',\n",
       " 'Unnamed: 12',\n",
       " 'Unnamed: 13',\n",
       " 'Unnamed: 14',\n",
       " 'Unnamed: 15',\n",
       " 'Unnamed: 16',\n",
       " 'Unnamed: 17',\n",
       " 'Unnamed: 18',\n",
       " 'Unnamed: 19',\n",
       " 'Unnamed: 20',\n",
       " 'Unnamed: 21',\n",
       " 'Unnamed: 22',\n",
       " 'Unnamed: 23',\n",
       " 'Unnamed: 24',\n",
       " 'Unnamed: 25',\n",
       " 'Unnamed: 26',\n",
       " 'Unnamed: 27',\n",
       " 'Unnamed: 28',\n",
       " 'Unnamed: 29',\n",
       " 'Unnamed: 30']"
      ]
     },
     "execution_count": 2,
     "metadata": {},
     "output_type": "execute_result"
    }
   ],
   "source": [
    "list(income15)"
   ]
  },
  {
   "cell_type": "code",
   "execution_count": 3,
   "id": "ea84354f",
   "metadata": {},
   "outputs": [
    {
     "name": "stderr",
     "output_type": "stream",
     "text": [
      "C:\\Users\\cookr\\AppData\\Local\\Temp/ipykernel_23540/3648254648.py:1: FutureWarning: In a future version of pandas all arguments of DataFrame.drop except for the argument 'labels' will be keyword-only\n",
      "  income15.drop(['Table with column headers in rows 3 and 4',\n"
     ]
    },
    {
     "data": {
      "text/html": [
       "<div>\n",
       "<style scoped>\n",
       "    .dataframe tbody tr th:only-of-type {\n",
       "        vertical-align: middle;\n",
       "    }\n",
       "\n",
       "    .dataframe tbody tr th {\n",
       "        vertical-align: top;\n",
       "    }\n",
       "\n",
       "    .dataframe thead th {\n",
       "        text-align: right;\n",
       "    }\n",
       "</style>\n",
       "<table border=\"1\" class=\"dataframe\">\n",
       "  <thead>\n",
       "    <tr style=\"text-align: right;\">\n",
       "      <th></th>\n",
       "      <th>Unnamed: 2</th>\n",
       "      <th>Unnamed: 3</th>\n",
       "      <th>Unnamed: 22</th>\n",
       "    </tr>\n",
       "  </thead>\n",
       "  <tbody>\n",
       "    <tr>\n",
       "      <th>0</th>\n",
       "      <td>NaN</td>\n",
       "      <td>NaN</td>\n",
       "      <td>NaN</td>\n",
       "    </tr>\n",
       "    <tr>\n",
       "      <th>1</th>\n",
       "      <td>NaN</td>\n",
       "      <td>NaN</td>\n",
       "      <td>Median Household Income</td>\n",
       "    </tr>\n",
       "    <tr>\n",
       "      <th>2</th>\n",
       "      <td>Postal Code</td>\n",
       "      <td>Name</td>\n",
       "      <td>Median Household Income</td>\n",
       "    </tr>\n",
       "    <tr>\n",
       "      <th>3</th>\n",
       "      <td>US</td>\n",
       "      <td>United States</td>\n",
       "      <td>55,775</td>\n",
       "    </tr>\n",
       "    <tr>\n",
       "      <th>4</th>\n",
       "      <td>AL</td>\n",
       "      <td>Alabama</td>\n",
       "      <td>44,833</td>\n",
       "    </tr>\n",
       "  </tbody>\n",
       "</table>\n",
       "</div>"
      ],
      "text/plain": [
       "    Unnamed: 2     Unnamed: 3              Unnamed: 22\n",
       "0          NaN            NaN                      NaN\n",
       "1          NaN            NaN  Median Household Income\n",
       "2  Postal Code           Name  Median Household Income\n",
       "3           US  United States                   55,775\n",
       "4           AL        Alabama                   44,833"
      ]
     },
     "execution_count": 3,
     "metadata": {},
     "output_type": "execute_result"
    }
   ],
   "source": [
    "income15.drop(['Table with column headers in rows 3 and 4',\n",
    " 'Unnamed: 1',\n",
    " 'Unnamed: 4',\n",
    " 'Unnamed: 5',\n",
    " 'Unnamed: 6',\n",
    " 'Unnamed: 7',\n",
    " 'Unnamed: 8',\n",
    " 'Unnamed: 9',\n",
    " 'Unnamed: 10',\n",
    " 'Unnamed: 11',\n",
    " 'Unnamed: 12',\n",
    " 'Unnamed: 13',\n",
    " 'Unnamed: 14',\n",
    " 'Unnamed: 15',\n",
    " 'Unnamed: 16',\n",
    " 'Unnamed: 17',\n",
    " 'Unnamed: 18',\n",
    " 'Unnamed: 19',\n",
    " 'Unnamed: 20',\n",
    " 'Unnamed: 21',\n",
    " 'Unnamed: 23',\n",
    " 'Unnamed: 24',\n",
    " 'Unnamed: 25',\n",
    " 'Unnamed: 26',\n",
    " 'Unnamed: 27',\n",
    " 'Unnamed: 28',\n",
    " 'Unnamed: 29',\n",
    " 'Unnamed: 30'], 1, inplace=True)\n",
    "income15.head()"
   ]
  },
  {
   "cell_type": "code",
   "execution_count": 4,
   "id": "3a43108f",
   "metadata": {},
   "outputs": [
    {
     "data": {
      "text/plain": [
       "['Unnamed: 2', 'Unnamed: 3', 'Unnamed: 22']"
      ]
     },
     "execution_count": 4,
     "metadata": {},
     "output_type": "execute_result"
    }
   ],
   "source": [
    "list(income15)"
   ]
  },
  {
   "cell_type": "code",
   "execution_count": 5,
   "id": "8f5cdcbd",
   "metadata": {},
   "outputs": [
    {
     "name": "stdout",
     "output_type": "stream",
     "text": [
      "(3197, 3)\n"
     ]
    },
    {
     "data": {
      "text/html": [
       "<div>\n",
       "<style scoped>\n",
       "    .dataframe tbody tr th:only-of-type {\n",
       "        vertical-align: middle;\n",
       "    }\n",
       "\n",
       "    .dataframe tbody tr th {\n",
       "        vertical-align: top;\n",
       "    }\n",
       "\n",
       "    .dataframe thead th {\n",
       "        text-align: right;\n",
       "    }\n",
       "</style>\n",
       "<table border=\"1\" class=\"dataframe\">\n",
       "  <thead>\n",
       "    <tr style=\"text-align: right;\">\n",
       "      <th></th>\n",
       "      <th>Abbrv</th>\n",
       "      <th>County</th>\n",
       "      <th>Median Household Income 2015</th>\n",
       "    </tr>\n",
       "  </thead>\n",
       "  <tbody>\n",
       "    <tr>\n",
       "      <th>0</th>\n",
       "      <td>NaN</td>\n",
       "      <td>NaN</td>\n",
       "      <td>NaN</td>\n",
       "    </tr>\n",
       "    <tr>\n",
       "      <th>1</th>\n",
       "      <td>NaN</td>\n",
       "      <td>NaN</td>\n",
       "      <td>Median Household Income</td>\n",
       "    </tr>\n",
       "    <tr>\n",
       "      <th>2</th>\n",
       "      <td>Postal Code</td>\n",
       "      <td>Name</td>\n",
       "      <td>Median Household Income</td>\n",
       "    </tr>\n",
       "    <tr>\n",
       "      <th>3</th>\n",
       "      <td>US</td>\n",
       "      <td>United States</td>\n",
       "      <td>55,775</td>\n",
       "    </tr>\n",
       "    <tr>\n",
       "      <th>4</th>\n",
       "      <td>AL</td>\n",
       "      <td>Alabama</td>\n",
       "      <td>44,833</td>\n",
       "    </tr>\n",
       "  </tbody>\n",
       "</table>\n",
       "</div>"
      ],
      "text/plain": [
       "         Abbrv         County Median Household Income 2015\n",
       "0          NaN            NaN                          NaN\n",
       "1          NaN            NaN      Median Household Income\n",
       "2  Postal Code           Name      Median Household Income\n",
       "3           US  United States                       55,775\n",
       "4           AL        Alabama                       44,833"
      ]
     },
     "execution_count": 5,
     "metadata": {},
     "output_type": "execute_result"
    }
   ],
   "source": [
    "income15 = income15.rename(columns={'Unnamed: 2':'Abbrv', 'Unnamed: 3':'County', 'Unnamed: 22':'Median Household Income 2015'})\n",
    "print(income15.shape)\n",
    "income15.head()"
   ]
  },
  {
   "cell_type": "code",
   "execution_count": 6,
   "id": "b70c6a82",
   "metadata": {},
   "outputs": [
    {
     "name": "stdout",
     "output_type": "stream",
     "text": [
      "(3194, 3)\n"
     ]
    },
    {
     "data": {
      "text/html": [
       "<div>\n",
       "<style scoped>\n",
       "    .dataframe tbody tr th:only-of-type {\n",
       "        vertical-align: middle;\n",
       "    }\n",
       "\n",
       "    .dataframe tbody tr th {\n",
       "        vertical-align: top;\n",
       "    }\n",
       "\n",
       "    .dataframe thead th {\n",
       "        text-align: right;\n",
       "    }\n",
       "</style>\n",
       "<table border=\"1\" class=\"dataframe\">\n",
       "  <thead>\n",
       "    <tr style=\"text-align: right;\">\n",
       "      <th></th>\n",
       "      <th>Abbrv</th>\n",
       "      <th>County</th>\n",
       "      <th>Median Household Income 2015</th>\n",
       "    </tr>\n",
       "  </thead>\n",
       "  <tbody>\n",
       "    <tr>\n",
       "      <th>0</th>\n",
       "      <td>US</td>\n",
       "      <td>United States</td>\n",
       "      <td>55,775</td>\n",
       "    </tr>\n",
       "    <tr>\n",
       "      <th>1</th>\n",
       "      <td>AL</td>\n",
       "      <td>Alabama</td>\n",
       "      <td>44,833</td>\n",
       "    </tr>\n",
       "    <tr>\n",
       "      <th>2</th>\n",
       "      <td>AL</td>\n",
       "      <td>Autauga County</td>\n",
       "      <td>56,580</td>\n",
       "    </tr>\n",
       "    <tr>\n",
       "      <th>3</th>\n",
       "      <td>AL</td>\n",
       "      <td>Baldwin County</td>\n",
       "      <td>52,387</td>\n",
       "    </tr>\n",
       "    <tr>\n",
       "      <th>4</th>\n",
       "      <td>AL</td>\n",
       "      <td>Barbour County</td>\n",
       "      <td>31,433</td>\n",
       "    </tr>\n",
       "  </tbody>\n",
       "</table>\n",
       "</div>"
      ],
      "text/plain": [
       "  Abbrv          County Median Household Income 2015\n",
       "0    US   United States                       55,775\n",
       "1    AL         Alabama                       44,833\n",
       "2    AL  Autauga County                       56,580\n",
       "3    AL  Baldwin County                       52,387\n",
       "4    AL  Barbour County                       31,433"
      ]
     },
     "execution_count": 6,
     "metadata": {},
     "output_type": "execute_result"
    }
   ],
   "source": [
    "income15 = income15.drop([0,1,2], axis=0)\n",
    "income15 = income15.reset_index(drop=True)\n",
    "print(income15.shape)\n",
    "income15.head()"
   ]
  },
  {
   "cell_type": "code",
   "execution_count": 7,
   "id": "fabcc0c5",
   "metadata": {},
   "outputs": [
    {
     "name": "stdout",
     "output_type": "stream",
     "text": [
      "(3194, 4)\n"
     ]
    },
    {
     "data": {
      "text/html": [
       "<div>\n",
       "<style scoped>\n",
       "    .dataframe tbody tr th:only-of-type {\n",
       "        vertical-align: middle;\n",
       "    }\n",
       "\n",
       "    .dataframe tbody tr th {\n",
       "        vertical-align: top;\n",
       "    }\n",
       "\n",
       "    .dataframe thead th {\n",
       "        text-align: right;\n",
       "    }\n",
       "</style>\n",
       "<table border=\"1\" class=\"dataframe\">\n",
       "  <thead>\n",
       "    <tr style=\"text-align: right;\">\n",
       "      <th></th>\n",
       "      <th>Abbrv</th>\n",
       "      <th>County</th>\n",
       "      <th>Median Household Income 2015</th>\n",
       "      <th>County_State</th>\n",
       "    </tr>\n",
       "  </thead>\n",
       "  <tbody>\n",
       "    <tr>\n",
       "      <th>0</th>\n",
       "      <td>US</td>\n",
       "      <td>United States</td>\n",
       "      <td>55,775</td>\n",
       "      <td>United States, US</td>\n",
       "    </tr>\n",
       "    <tr>\n",
       "      <th>1</th>\n",
       "      <td>AL</td>\n",
       "      <td>Alabama</td>\n",
       "      <td>44,833</td>\n",
       "      <td>Alabama, AL</td>\n",
       "    </tr>\n",
       "    <tr>\n",
       "      <th>2</th>\n",
       "      <td>AL</td>\n",
       "      <td>Autauga County</td>\n",
       "      <td>56,580</td>\n",
       "      <td>Autauga County, AL</td>\n",
       "    </tr>\n",
       "    <tr>\n",
       "      <th>3</th>\n",
       "      <td>AL</td>\n",
       "      <td>Baldwin County</td>\n",
       "      <td>52,387</td>\n",
       "      <td>Baldwin County, AL</td>\n",
       "    </tr>\n",
       "    <tr>\n",
       "      <th>4</th>\n",
       "      <td>AL</td>\n",
       "      <td>Barbour County</td>\n",
       "      <td>31,433</td>\n",
       "      <td>Barbour County, AL</td>\n",
       "    </tr>\n",
       "  </tbody>\n",
       "</table>\n",
       "</div>"
      ],
      "text/plain": [
       "  Abbrv          County Median Household Income 2015        County_State\n",
       "0    US   United States                       55,775   United States, US\n",
       "1    AL         Alabama                       44,833         Alabama, AL\n",
       "2    AL  Autauga County                       56,580  Autauga County, AL\n",
       "3    AL  Baldwin County                       52,387  Baldwin County, AL\n",
       "4    AL  Barbour County                       31,433  Barbour County, AL"
      ]
     },
     "execution_count": 7,
     "metadata": {},
     "output_type": "execute_result"
    }
   ],
   "source": [
    "income15['County_State'] = income15['County'].astype(str) +\", \"+ income15['Abbrv']\n",
    "print(income15.shape)\n",
    "income15.head()"
   ]
  },
  {
   "cell_type": "code",
   "execution_count": 8,
   "id": "63840172",
   "metadata": {},
   "outputs": [
    {
     "name": "stdout",
     "output_type": "stream",
     "text": [
      "(3194,)\n"
     ]
    },
    {
     "data": {
      "text/plain": [
       "0     United States, US\n",
       "1           Alabama, AL\n",
       "2    Autauga County, AL\n",
       "3    Baldwin County, AL\n",
       "4    Barbour County, AL\n",
       "Name: County_State, dtype: object"
      ]
     },
     "execution_count": 8,
     "metadata": {},
     "output_type": "execute_result"
    }
   ],
   "source": [
    "county_state = income15['County_State']\n",
    "print(county_state.shape)\n",
    "county_state.head()"
   ]
  },
  {
   "cell_type": "markdown",
   "id": "adb1de96",
   "metadata": {},
   "source": [
    "Median Household Income 2016"
   ]
  },
  {
   "cell_type": "code",
   "execution_count": 9,
   "id": "b3d1a123",
   "metadata": {},
   "outputs": [
    {
     "data": {
      "text/plain": [
       "['Table with column headers in rows 3 and 4',\n",
       " 'Unnamed: 1',\n",
       " 'Unnamed: 2',\n",
       " 'Unnamed: 3',\n",
       " 'Unnamed: 4',\n",
       " 'Unnamed: 5',\n",
       " 'Unnamed: 6',\n",
       " 'Unnamed: 7',\n",
       " 'Unnamed: 8',\n",
       " 'Unnamed: 9',\n",
       " 'Unnamed: 10',\n",
       " 'Unnamed: 11',\n",
       " 'Unnamed: 12',\n",
       " 'Unnamed: 13',\n",
       " 'Unnamed: 14',\n",
       " 'Unnamed: 15',\n",
       " 'Unnamed: 16',\n",
       " 'Unnamed: 17',\n",
       " 'Unnamed: 18',\n",
       " 'Unnamed: 19',\n",
       " 'Unnamed: 20',\n",
       " 'Unnamed: 21',\n",
       " 'Unnamed: 22',\n",
       " 'Unnamed: 23',\n",
       " 'Unnamed: 24',\n",
       " 'Unnamed: 25',\n",
       " 'Unnamed: 26',\n",
       " 'Unnamed: 27',\n",
       " 'Unnamed: 28',\n",
       " 'Unnamed: 29',\n",
       " 'Unnamed: 30']"
      ]
     },
     "execution_count": 9,
     "metadata": {},
     "output_type": "execute_result"
    }
   ],
   "source": [
    "list(income16)"
   ]
  },
  {
   "cell_type": "code",
   "execution_count": 10,
   "id": "670c6bb4",
   "metadata": {},
   "outputs": [
    {
     "name": "stderr",
     "output_type": "stream",
     "text": [
      "C:\\Users\\cookr\\AppData\\Local\\Temp/ipykernel_23540/2669479580.py:1: FutureWarning: In a future version of pandas all arguments of DataFrame.drop except for the argument 'labels' will be keyword-only\n",
      "  income16.drop(['Table with column headers in rows 3 and 4',\n"
     ]
    },
    {
     "data": {
      "text/html": [
       "<div>\n",
       "<style scoped>\n",
       "    .dataframe tbody tr th:only-of-type {\n",
       "        vertical-align: middle;\n",
       "    }\n",
       "\n",
       "    .dataframe tbody tr th {\n",
       "        vertical-align: top;\n",
       "    }\n",
       "\n",
       "    .dataframe thead th {\n",
       "        text-align: right;\n",
       "    }\n",
       "</style>\n",
       "<table border=\"1\" class=\"dataframe\">\n",
       "  <thead>\n",
       "    <tr style=\"text-align: right;\">\n",
       "      <th></th>\n",
       "      <th>Unnamed: 2</th>\n",
       "      <th>Unnamed: 3</th>\n",
       "      <th>Unnamed: 22</th>\n",
       "    </tr>\n",
       "  </thead>\n",
       "  <tbody>\n",
       "    <tr>\n",
       "      <th>0</th>\n",
       "      <td>NaN</td>\n",
       "      <td>NaN</td>\n",
       "      <td>NaN</td>\n",
       "    </tr>\n",
       "    <tr>\n",
       "      <th>1</th>\n",
       "      <td>NaN</td>\n",
       "      <td>NaN</td>\n",
       "      <td>Median Household Income</td>\n",
       "    </tr>\n",
       "    <tr>\n",
       "      <th>2</th>\n",
       "      <td>Postal Code</td>\n",
       "      <td>Name</td>\n",
       "      <td>Median Household Income</td>\n",
       "    </tr>\n",
       "    <tr>\n",
       "      <th>3</th>\n",
       "      <td>US</td>\n",
       "      <td>United States</td>\n",
       "      <td>57,617</td>\n",
       "    </tr>\n",
       "    <tr>\n",
       "      <th>4</th>\n",
       "      <td>AL</td>\n",
       "      <td>Alabama</td>\n",
       "      <td>46,309</td>\n",
       "    </tr>\n",
       "  </tbody>\n",
       "</table>\n",
       "</div>"
      ],
      "text/plain": [
       "    Unnamed: 2     Unnamed: 3              Unnamed: 22\n",
       "0          NaN            NaN                      NaN\n",
       "1          NaN            NaN  Median Household Income\n",
       "2  Postal Code           Name  Median Household Income\n",
       "3           US  United States                   57,617\n",
       "4           AL        Alabama                   46,309"
      ]
     },
     "execution_count": 10,
     "metadata": {},
     "output_type": "execute_result"
    }
   ],
   "source": [
    "income16.drop(['Table with column headers in rows 3 and 4',\n",
    " 'Unnamed: 1',\n",
    " 'Unnamed: 4',\n",
    " 'Unnamed: 5',\n",
    " 'Unnamed: 6',\n",
    " 'Unnamed: 7',\n",
    " 'Unnamed: 8',\n",
    " 'Unnamed: 9',\n",
    " 'Unnamed: 10',\n",
    " 'Unnamed: 11',\n",
    " 'Unnamed: 12',\n",
    " 'Unnamed: 13',\n",
    " 'Unnamed: 14',\n",
    " 'Unnamed: 15',\n",
    " 'Unnamed: 16',\n",
    " 'Unnamed: 17',\n",
    " 'Unnamed: 18',\n",
    " 'Unnamed: 19',\n",
    " 'Unnamed: 20',\n",
    " 'Unnamed: 21',\n",
    " 'Unnamed: 23',\n",
    " 'Unnamed: 24',\n",
    " 'Unnamed: 25',\n",
    " 'Unnamed: 26',\n",
    " 'Unnamed: 27',\n",
    " 'Unnamed: 28',\n",
    " 'Unnamed: 29',\n",
    " 'Unnamed: 30'], 1, inplace=True)\n",
    "income16.head()"
   ]
  },
  {
   "cell_type": "code",
   "execution_count": 11,
   "id": "7e678c14",
   "metadata": {},
   "outputs": [
    {
     "data": {
      "text/plain": [
       "['Unnamed: 2', 'Unnamed: 3', 'Unnamed: 22']"
      ]
     },
     "execution_count": 11,
     "metadata": {},
     "output_type": "execute_result"
    }
   ],
   "source": [
    "list(income16)"
   ]
  },
  {
   "cell_type": "code",
   "execution_count": 12,
   "id": "d1528c7e",
   "metadata": {},
   "outputs": [
    {
     "name": "stdout",
     "output_type": "stream",
     "text": [
      "(3197, 3)\n"
     ]
    },
    {
     "data": {
      "text/html": [
       "<div>\n",
       "<style scoped>\n",
       "    .dataframe tbody tr th:only-of-type {\n",
       "        vertical-align: middle;\n",
       "    }\n",
       "\n",
       "    .dataframe tbody tr th {\n",
       "        vertical-align: top;\n",
       "    }\n",
       "\n",
       "    .dataframe thead th {\n",
       "        text-align: right;\n",
       "    }\n",
       "</style>\n",
       "<table border=\"1\" class=\"dataframe\">\n",
       "  <thead>\n",
       "    <tr style=\"text-align: right;\">\n",
       "      <th></th>\n",
       "      <th>Abbrv</th>\n",
       "      <th>County</th>\n",
       "      <th>Median Household Income 2016</th>\n",
       "    </tr>\n",
       "  </thead>\n",
       "  <tbody>\n",
       "    <tr>\n",
       "      <th>0</th>\n",
       "      <td>NaN</td>\n",
       "      <td>NaN</td>\n",
       "      <td>NaN</td>\n",
       "    </tr>\n",
       "    <tr>\n",
       "      <th>1</th>\n",
       "      <td>NaN</td>\n",
       "      <td>NaN</td>\n",
       "      <td>Median Household Income</td>\n",
       "    </tr>\n",
       "    <tr>\n",
       "      <th>2</th>\n",
       "      <td>Postal Code</td>\n",
       "      <td>Name</td>\n",
       "      <td>Median Household Income</td>\n",
       "    </tr>\n",
       "    <tr>\n",
       "      <th>3</th>\n",
       "      <td>US</td>\n",
       "      <td>United States</td>\n",
       "      <td>57,617</td>\n",
       "    </tr>\n",
       "    <tr>\n",
       "      <th>4</th>\n",
       "      <td>AL</td>\n",
       "      <td>Alabama</td>\n",
       "      <td>46,309</td>\n",
       "    </tr>\n",
       "  </tbody>\n",
       "</table>\n",
       "</div>"
      ],
      "text/plain": [
       "         Abbrv         County Median Household Income 2016\n",
       "0          NaN            NaN                          NaN\n",
       "1          NaN            NaN      Median Household Income\n",
       "2  Postal Code           Name      Median Household Income\n",
       "3           US  United States                       57,617\n",
       "4           AL        Alabama                       46,309"
      ]
     },
     "execution_count": 12,
     "metadata": {},
     "output_type": "execute_result"
    }
   ],
   "source": [
    "income16 = income16.rename(columns={'Unnamed: 2':'Abbrv', 'Unnamed: 3':'County', 'Unnamed: 22':'Median Household Income 2016'})\n",
    "print(income16.shape)\n",
    "income16.head()"
   ]
  },
  {
   "cell_type": "code",
   "execution_count": 13,
   "id": "30ea087e",
   "metadata": {},
   "outputs": [
    {
     "name": "stdout",
     "output_type": "stream",
     "text": [
      "(3194, 3)\n"
     ]
    },
    {
     "data": {
      "text/html": [
       "<div>\n",
       "<style scoped>\n",
       "    .dataframe tbody tr th:only-of-type {\n",
       "        vertical-align: middle;\n",
       "    }\n",
       "\n",
       "    .dataframe tbody tr th {\n",
       "        vertical-align: top;\n",
       "    }\n",
       "\n",
       "    .dataframe thead th {\n",
       "        text-align: right;\n",
       "    }\n",
       "</style>\n",
       "<table border=\"1\" class=\"dataframe\">\n",
       "  <thead>\n",
       "    <tr style=\"text-align: right;\">\n",
       "      <th></th>\n",
       "      <th>Abbrv</th>\n",
       "      <th>County</th>\n",
       "      <th>Median Household Income 2016</th>\n",
       "    </tr>\n",
       "  </thead>\n",
       "  <tbody>\n",
       "    <tr>\n",
       "      <th>0</th>\n",
       "      <td>US</td>\n",
       "      <td>United States</td>\n",
       "      <td>57,617</td>\n",
       "    </tr>\n",
       "    <tr>\n",
       "      <th>1</th>\n",
       "      <td>AL</td>\n",
       "      <td>Alabama</td>\n",
       "      <td>46,309</td>\n",
       "    </tr>\n",
       "    <tr>\n",
       "      <th>2</th>\n",
       "      <td>AL</td>\n",
       "      <td>Autauga County</td>\n",
       "      <td>54,487</td>\n",
       "    </tr>\n",
       "    <tr>\n",
       "      <th>3</th>\n",
       "      <td>AL</td>\n",
       "      <td>Baldwin County</td>\n",
       "      <td>56,460</td>\n",
       "    </tr>\n",
       "    <tr>\n",
       "      <th>4</th>\n",
       "      <td>AL</td>\n",
       "      <td>Barbour County</td>\n",
       "      <td>32,884</td>\n",
       "    </tr>\n",
       "  </tbody>\n",
       "</table>\n",
       "</div>"
      ],
      "text/plain": [
       "  Abbrv          County Median Household Income 2016\n",
       "0    US   United States                       57,617\n",
       "1    AL         Alabama                       46,309\n",
       "2    AL  Autauga County                       54,487\n",
       "3    AL  Baldwin County                       56,460\n",
       "4    AL  Barbour County                       32,884"
      ]
     },
     "execution_count": 13,
     "metadata": {},
     "output_type": "execute_result"
    }
   ],
   "source": [
    "income16 = income16.drop([0,1,2], axis=0)\n",
    "income16 = income16.reset_index(drop=True)\n",
    "print(income16.shape)\n",
    "income16.head()"
   ]
  },
  {
   "cell_type": "code",
   "execution_count": 14,
   "id": "df2874ed",
   "metadata": {},
   "outputs": [
    {
     "name": "stdout",
     "output_type": "stream",
     "text": [
      "(3194, 4)\n"
     ]
    },
    {
     "data": {
      "text/html": [
       "<div>\n",
       "<style scoped>\n",
       "    .dataframe tbody tr th:only-of-type {\n",
       "        vertical-align: middle;\n",
       "    }\n",
       "\n",
       "    .dataframe tbody tr th {\n",
       "        vertical-align: top;\n",
       "    }\n",
       "\n",
       "    .dataframe thead th {\n",
       "        text-align: right;\n",
       "    }\n",
       "</style>\n",
       "<table border=\"1\" class=\"dataframe\">\n",
       "  <thead>\n",
       "    <tr style=\"text-align: right;\">\n",
       "      <th></th>\n",
       "      <th>Abbrv</th>\n",
       "      <th>County</th>\n",
       "      <th>Median Household Income 2016</th>\n",
       "      <th>County_State</th>\n",
       "    </tr>\n",
       "  </thead>\n",
       "  <tbody>\n",
       "    <tr>\n",
       "      <th>0</th>\n",
       "      <td>US</td>\n",
       "      <td>United States</td>\n",
       "      <td>57,617</td>\n",
       "      <td>United States, US</td>\n",
       "    </tr>\n",
       "    <tr>\n",
       "      <th>1</th>\n",
       "      <td>AL</td>\n",
       "      <td>Alabama</td>\n",
       "      <td>46,309</td>\n",
       "      <td>Alabama, AL</td>\n",
       "    </tr>\n",
       "    <tr>\n",
       "      <th>2</th>\n",
       "      <td>AL</td>\n",
       "      <td>Autauga County</td>\n",
       "      <td>54,487</td>\n",
       "      <td>Autauga County, AL</td>\n",
       "    </tr>\n",
       "    <tr>\n",
       "      <th>3</th>\n",
       "      <td>AL</td>\n",
       "      <td>Baldwin County</td>\n",
       "      <td>56,460</td>\n",
       "      <td>Baldwin County, AL</td>\n",
       "    </tr>\n",
       "    <tr>\n",
       "      <th>4</th>\n",
       "      <td>AL</td>\n",
       "      <td>Barbour County</td>\n",
       "      <td>32,884</td>\n",
       "      <td>Barbour County, AL</td>\n",
       "    </tr>\n",
       "  </tbody>\n",
       "</table>\n",
       "</div>"
      ],
      "text/plain": [
       "  Abbrv          County Median Household Income 2016        County_State\n",
       "0    US   United States                       57,617   United States, US\n",
       "1    AL         Alabama                       46,309         Alabama, AL\n",
       "2    AL  Autauga County                       54,487  Autauga County, AL\n",
       "3    AL  Baldwin County                       56,460  Baldwin County, AL\n",
       "4    AL  Barbour County                       32,884  Barbour County, AL"
      ]
     },
     "execution_count": 14,
     "metadata": {},
     "output_type": "execute_result"
    }
   ],
   "source": [
    "income16['County_State'] = income16['County'].astype(str) +\", \"+ income16['Abbrv']\n",
    "print(income16.shape)\n",
    "income16.head()"
   ]
  },
  {
   "cell_type": "markdown",
   "id": "ee92c2fc",
   "metadata": {},
   "source": [
    "Median Household Income 2017"
   ]
  },
  {
   "cell_type": "code",
   "execution_count": 15,
   "id": "48cdde2d",
   "metadata": {
    "scrolled": true
   },
   "outputs": [
    {
     "data": {
      "text/plain": [
       "['Table with column headers in rows 3 and 4',\n",
       " 'Unnamed: 1',\n",
       " 'Unnamed: 2',\n",
       " 'Unnamed: 3',\n",
       " 'Unnamed: 4',\n",
       " 'Unnamed: 5',\n",
       " 'Unnamed: 6',\n",
       " 'Unnamed: 7',\n",
       " 'Unnamed: 8',\n",
       " 'Unnamed: 9',\n",
       " 'Unnamed: 10',\n",
       " 'Unnamed: 11',\n",
       " 'Unnamed: 12',\n",
       " 'Unnamed: 13',\n",
       " 'Unnamed: 14',\n",
       " 'Unnamed: 15',\n",
       " 'Unnamed: 16',\n",
       " 'Unnamed: 17',\n",
       " 'Unnamed: 18',\n",
       " 'Unnamed: 19',\n",
       " 'Unnamed: 20',\n",
       " 'Unnamed: 21',\n",
       " 'Unnamed: 22',\n",
       " 'Unnamed: 23',\n",
       " 'Unnamed: 24',\n",
       " 'Unnamed: 25',\n",
       " 'Unnamed: 26',\n",
       " 'Unnamed: 27',\n",
       " 'Unnamed: 28',\n",
       " 'Unnamed: 29',\n",
       " 'Unnamed: 30']"
      ]
     },
     "execution_count": 15,
     "metadata": {},
     "output_type": "execute_result"
    }
   ],
   "source": [
    "list(income17)"
   ]
  },
  {
   "cell_type": "code",
   "execution_count": 16,
   "id": "af5c736b",
   "metadata": {},
   "outputs": [
    {
     "name": "stderr",
     "output_type": "stream",
     "text": [
      "C:\\Users\\cookr\\AppData\\Local\\Temp/ipykernel_23540/2847760823.py:1: FutureWarning: In a future version of pandas all arguments of DataFrame.drop except for the argument 'labels' will be keyword-only\n",
      "  income17.drop(['Table with column headers in rows 3 and 4',\n"
     ]
    },
    {
     "data": {
      "text/html": [
       "<div>\n",
       "<style scoped>\n",
       "    .dataframe tbody tr th:only-of-type {\n",
       "        vertical-align: middle;\n",
       "    }\n",
       "\n",
       "    .dataframe tbody tr th {\n",
       "        vertical-align: top;\n",
       "    }\n",
       "\n",
       "    .dataframe thead th {\n",
       "        text-align: right;\n",
       "    }\n",
       "</style>\n",
       "<table border=\"1\" class=\"dataframe\">\n",
       "  <thead>\n",
       "    <tr style=\"text-align: right;\">\n",
       "      <th></th>\n",
       "      <th>Unnamed: 2</th>\n",
       "      <th>Unnamed: 3</th>\n",
       "      <th>Unnamed: 22</th>\n",
       "    </tr>\n",
       "  </thead>\n",
       "  <tbody>\n",
       "    <tr>\n",
       "      <th>0</th>\n",
       "      <td>NaN</td>\n",
       "      <td>NaN</td>\n",
       "      <td>NaN</td>\n",
       "    </tr>\n",
       "    <tr>\n",
       "      <th>1</th>\n",
       "      <td>NaN</td>\n",
       "      <td>NaN</td>\n",
       "      <td>Median Household Income</td>\n",
       "    </tr>\n",
       "    <tr>\n",
       "      <th>2</th>\n",
       "      <td>Postal Code</td>\n",
       "      <td>Name</td>\n",
       "      <td>Median Household Income</td>\n",
       "    </tr>\n",
       "    <tr>\n",
       "      <th>3</th>\n",
       "      <td>US</td>\n",
       "      <td>United States</td>\n",
       "      <td>60,336</td>\n",
       "    </tr>\n",
       "    <tr>\n",
       "      <th>4</th>\n",
       "      <td>AL</td>\n",
       "      <td>Alabama</td>\n",
       "      <td>48,193</td>\n",
       "    </tr>\n",
       "  </tbody>\n",
       "</table>\n",
       "</div>"
      ],
      "text/plain": [
       "    Unnamed: 2     Unnamed: 3              Unnamed: 22\n",
       "0          NaN            NaN                      NaN\n",
       "1          NaN            NaN  Median Household Income\n",
       "2  Postal Code           Name  Median Household Income\n",
       "3           US  United States                   60,336\n",
       "4           AL        Alabama                   48,193"
      ]
     },
     "execution_count": 16,
     "metadata": {},
     "output_type": "execute_result"
    }
   ],
   "source": [
    "income17.drop(['Table with column headers in rows 3 and 4',\n",
    " 'Unnamed: 1',\n",
    " 'Unnamed: 4',\n",
    " 'Unnamed: 5',\n",
    " 'Unnamed: 6',\n",
    " 'Unnamed: 7',\n",
    " 'Unnamed: 8',\n",
    " 'Unnamed: 9',\n",
    " 'Unnamed: 10',\n",
    " 'Unnamed: 11',\n",
    " 'Unnamed: 12',\n",
    " 'Unnamed: 13',\n",
    " 'Unnamed: 14',\n",
    " 'Unnamed: 15',\n",
    " 'Unnamed: 16',\n",
    " 'Unnamed: 17',\n",
    " 'Unnamed: 18',\n",
    " 'Unnamed: 19',\n",
    " 'Unnamed: 20',\n",
    " 'Unnamed: 21',\n",
    " 'Unnamed: 23',\n",
    " 'Unnamed: 24',\n",
    " 'Unnamed: 25',\n",
    " 'Unnamed: 26',\n",
    " 'Unnamed: 27',\n",
    " 'Unnamed: 28',\n",
    " 'Unnamed: 29',\n",
    " 'Unnamed: 30'], 1, inplace=True)\n",
    "income17.head()"
   ]
  },
  {
   "cell_type": "code",
   "execution_count": 17,
   "id": "b23899f6",
   "metadata": {},
   "outputs": [
    {
     "data": {
      "text/plain": [
       "['Unnamed: 2', 'Unnamed: 3', 'Unnamed: 22']"
      ]
     },
     "execution_count": 17,
     "metadata": {},
     "output_type": "execute_result"
    }
   ],
   "source": [
    "list(income17)"
   ]
  },
  {
   "cell_type": "code",
   "execution_count": 18,
   "id": "13d5d89a",
   "metadata": {},
   "outputs": [
    {
     "name": "stdout",
     "output_type": "stream",
     "text": [
      "(3197, 3)\n"
     ]
    },
    {
     "data": {
      "text/html": [
       "<div>\n",
       "<style scoped>\n",
       "    .dataframe tbody tr th:only-of-type {\n",
       "        vertical-align: middle;\n",
       "    }\n",
       "\n",
       "    .dataframe tbody tr th {\n",
       "        vertical-align: top;\n",
       "    }\n",
       "\n",
       "    .dataframe thead th {\n",
       "        text-align: right;\n",
       "    }\n",
       "</style>\n",
       "<table border=\"1\" class=\"dataframe\">\n",
       "  <thead>\n",
       "    <tr style=\"text-align: right;\">\n",
       "      <th></th>\n",
       "      <th>Abbrv</th>\n",
       "      <th>County</th>\n",
       "      <th>Median Household Income 2017</th>\n",
       "    </tr>\n",
       "  </thead>\n",
       "  <tbody>\n",
       "    <tr>\n",
       "      <th>0</th>\n",
       "      <td>NaN</td>\n",
       "      <td>NaN</td>\n",
       "      <td>NaN</td>\n",
       "    </tr>\n",
       "    <tr>\n",
       "      <th>1</th>\n",
       "      <td>NaN</td>\n",
       "      <td>NaN</td>\n",
       "      <td>Median Household Income</td>\n",
       "    </tr>\n",
       "    <tr>\n",
       "      <th>2</th>\n",
       "      <td>Postal Code</td>\n",
       "      <td>Name</td>\n",
       "      <td>Median Household Income</td>\n",
       "    </tr>\n",
       "    <tr>\n",
       "      <th>3</th>\n",
       "      <td>US</td>\n",
       "      <td>United States</td>\n",
       "      <td>60,336</td>\n",
       "    </tr>\n",
       "    <tr>\n",
       "      <th>4</th>\n",
       "      <td>AL</td>\n",
       "      <td>Alabama</td>\n",
       "      <td>48,193</td>\n",
       "    </tr>\n",
       "  </tbody>\n",
       "</table>\n",
       "</div>"
      ],
      "text/plain": [
       "         Abbrv         County Median Household Income 2017\n",
       "0          NaN            NaN                          NaN\n",
       "1          NaN            NaN      Median Household Income\n",
       "2  Postal Code           Name      Median Household Income\n",
       "3           US  United States                       60,336\n",
       "4           AL        Alabama                       48,193"
      ]
     },
     "execution_count": 18,
     "metadata": {},
     "output_type": "execute_result"
    }
   ],
   "source": [
    "income17 = income17.rename(columns={'Unnamed: 2':'Abbrv', 'Unnamed: 3':'County', 'Unnamed: 22':'Median Household Income 2017'})\n",
    "print(income17.shape)\n",
    "income17.head()"
   ]
  },
  {
   "cell_type": "code",
   "execution_count": 19,
   "id": "b58d1c7d",
   "metadata": {},
   "outputs": [
    {
     "name": "stdout",
     "output_type": "stream",
     "text": [
      "(3194, 3)\n"
     ]
    },
    {
     "data": {
      "text/html": [
       "<div>\n",
       "<style scoped>\n",
       "    .dataframe tbody tr th:only-of-type {\n",
       "        vertical-align: middle;\n",
       "    }\n",
       "\n",
       "    .dataframe tbody tr th {\n",
       "        vertical-align: top;\n",
       "    }\n",
       "\n",
       "    .dataframe thead th {\n",
       "        text-align: right;\n",
       "    }\n",
       "</style>\n",
       "<table border=\"1\" class=\"dataframe\">\n",
       "  <thead>\n",
       "    <tr style=\"text-align: right;\">\n",
       "      <th></th>\n",
       "      <th>Abbrv</th>\n",
       "      <th>County</th>\n",
       "      <th>Median Household Income 2017</th>\n",
       "    </tr>\n",
       "  </thead>\n",
       "  <tbody>\n",
       "    <tr>\n",
       "      <th>0</th>\n",
       "      <td>US</td>\n",
       "      <td>United States</td>\n",
       "      <td>60,336</td>\n",
       "    </tr>\n",
       "    <tr>\n",
       "      <th>1</th>\n",
       "      <td>AL</td>\n",
       "      <td>Alabama</td>\n",
       "      <td>48,193</td>\n",
       "    </tr>\n",
       "    <tr>\n",
       "      <th>2</th>\n",
       "      <td>AL</td>\n",
       "      <td>Autauga County</td>\n",
       "      <td>58,343</td>\n",
       "    </tr>\n",
       "    <tr>\n",
       "      <th>3</th>\n",
       "      <td>AL</td>\n",
       "      <td>Baldwin County</td>\n",
       "      <td>56,607</td>\n",
       "    </tr>\n",
       "    <tr>\n",
       "      <th>4</th>\n",
       "      <td>AL</td>\n",
       "      <td>Barbour County</td>\n",
       "      <td>32,490</td>\n",
       "    </tr>\n",
       "  </tbody>\n",
       "</table>\n",
       "</div>"
      ],
      "text/plain": [
       "  Abbrv          County Median Household Income 2017\n",
       "0    US   United States                       60,336\n",
       "1    AL         Alabama                       48,193\n",
       "2    AL  Autauga County                       58,343\n",
       "3    AL  Baldwin County                       56,607\n",
       "4    AL  Barbour County                       32,490"
      ]
     },
     "execution_count": 19,
     "metadata": {},
     "output_type": "execute_result"
    }
   ],
   "source": [
    "income17 = income17.drop([0,1,2], axis=0)\n",
    "income17 = income17.reset_index(drop=True)\n",
    "print(income17.shape)\n",
    "income17.head()"
   ]
  },
  {
   "cell_type": "code",
   "execution_count": 20,
   "id": "12e75d13",
   "metadata": {},
   "outputs": [
    {
     "name": "stdout",
     "output_type": "stream",
     "text": [
      "(3194, 4)\n"
     ]
    },
    {
     "data": {
      "text/html": [
       "<div>\n",
       "<style scoped>\n",
       "    .dataframe tbody tr th:only-of-type {\n",
       "        vertical-align: middle;\n",
       "    }\n",
       "\n",
       "    .dataframe tbody tr th {\n",
       "        vertical-align: top;\n",
       "    }\n",
       "\n",
       "    .dataframe thead th {\n",
       "        text-align: right;\n",
       "    }\n",
       "</style>\n",
       "<table border=\"1\" class=\"dataframe\">\n",
       "  <thead>\n",
       "    <tr style=\"text-align: right;\">\n",
       "      <th></th>\n",
       "      <th>Abbrv</th>\n",
       "      <th>County</th>\n",
       "      <th>Median Household Income 2017</th>\n",
       "      <th>County_State</th>\n",
       "    </tr>\n",
       "  </thead>\n",
       "  <tbody>\n",
       "    <tr>\n",
       "      <th>0</th>\n",
       "      <td>US</td>\n",
       "      <td>United States</td>\n",
       "      <td>60,336</td>\n",
       "      <td>United States, US</td>\n",
       "    </tr>\n",
       "    <tr>\n",
       "      <th>1</th>\n",
       "      <td>AL</td>\n",
       "      <td>Alabama</td>\n",
       "      <td>48,193</td>\n",
       "      <td>Alabama, AL</td>\n",
       "    </tr>\n",
       "    <tr>\n",
       "      <th>2</th>\n",
       "      <td>AL</td>\n",
       "      <td>Autauga County</td>\n",
       "      <td>58,343</td>\n",
       "      <td>Autauga County, AL</td>\n",
       "    </tr>\n",
       "    <tr>\n",
       "      <th>3</th>\n",
       "      <td>AL</td>\n",
       "      <td>Baldwin County</td>\n",
       "      <td>56,607</td>\n",
       "      <td>Baldwin County, AL</td>\n",
       "    </tr>\n",
       "    <tr>\n",
       "      <th>4</th>\n",
       "      <td>AL</td>\n",
       "      <td>Barbour County</td>\n",
       "      <td>32,490</td>\n",
       "      <td>Barbour County, AL</td>\n",
       "    </tr>\n",
       "  </tbody>\n",
       "</table>\n",
       "</div>"
      ],
      "text/plain": [
       "  Abbrv          County Median Household Income 2017        County_State\n",
       "0    US   United States                       60,336   United States, US\n",
       "1    AL         Alabama                       48,193         Alabama, AL\n",
       "2    AL  Autauga County                       58,343  Autauga County, AL\n",
       "3    AL  Baldwin County                       56,607  Baldwin County, AL\n",
       "4    AL  Barbour County                       32,490  Barbour County, AL"
      ]
     },
     "execution_count": 20,
     "metadata": {},
     "output_type": "execute_result"
    }
   ],
   "source": [
    "income17['County_State'] = income17['County'].astype(str) +\", \"+ income17['Abbrv']\n",
    "print(income17.shape)\n",
    "income17.head()"
   ]
  },
  {
   "cell_type": "markdown",
   "id": "e9df6d21",
   "metadata": {},
   "source": [
    "Median Household Income 2018"
   ]
  },
  {
   "cell_type": "code",
   "execution_count": 21,
   "id": "7e5b16f7",
   "metadata": {},
   "outputs": [
    {
     "data": {
      "text/plain": [
       "['Table with column headers in rows 3 and 4',\n",
       " 'Unnamed: 1',\n",
       " 'Unnamed: 2',\n",
       " 'Unnamed: 3',\n",
       " 'Unnamed: 4',\n",
       " 'Unnamed: 5',\n",
       " 'Unnamed: 6',\n",
       " 'Unnamed: 7',\n",
       " 'Unnamed: 8',\n",
       " 'Unnamed: 9',\n",
       " 'Unnamed: 10',\n",
       " 'Unnamed: 11',\n",
       " 'Unnamed: 12',\n",
       " 'Unnamed: 13',\n",
       " 'Unnamed: 14',\n",
       " 'Unnamed: 15',\n",
       " 'Unnamed: 16',\n",
       " 'Unnamed: 17',\n",
       " 'Unnamed: 18',\n",
       " 'Unnamed: 19',\n",
       " 'Unnamed: 20',\n",
       " 'Unnamed: 21',\n",
       " 'Unnamed: 22',\n",
       " 'Unnamed: 23',\n",
       " 'Unnamed: 24',\n",
       " 'Unnamed: 25',\n",
       " 'Unnamed: 26',\n",
       " 'Unnamed: 27',\n",
       " 'Unnamed: 28',\n",
       " 'Unnamed: 29',\n",
       " 'Unnamed: 30']"
      ]
     },
     "execution_count": 21,
     "metadata": {},
     "output_type": "execute_result"
    }
   ],
   "source": [
    "list(income18)"
   ]
  },
  {
   "cell_type": "code",
   "execution_count": 22,
   "id": "842478f5",
   "metadata": {},
   "outputs": [
    {
     "name": "stderr",
     "output_type": "stream",
     "text": [
      "C:\\Users\\cookr\\AppData\\Local\\Temp/ipykernel_23540/1118570410.py:1: FutureWarning: In a future version of pandas all arguments of DataFrame.drop except for the argument 'labels' will be keyword-only\n",
      "  income18.drop(['Table with column headers in rows 3 and 4',\n"
     ]
    },
    {
     "data": {
      "text/html": [
       "<div>\n",
       "<style scoped>\n",
       "    .dataframe tbody tr th:only-of-type {\n",
       "        vertical-align: middle;\n",
       "    }\n",
       "\n",
       "    .dataframe tbody tr th {\n",
       "        vertical-align: top;\n",
       "    }\n",
       "\n",
       "    .dataframe thead th {\n",
       "        text-align: right;\n",
       "    }\n",
       "</style>\n",
       "<table border=\"1\" class=\"dataframe\">\n",
       "  <thead>\n",
       "    <tr style=\"text-align: right;\">\n",
       "      <th></th>\n",
       "      <th>Unnamed: 2</th>\n",
       "      <th>Unnamed: 3</th>\n",
       "      <th>Unnamed: 22</th>\n",
       "    </tr>\n",
       "  </thead>\n",
       "  <tbody>\n",
       "    <tr>\n",
       "      <th>0</th>\n",
       "      <td>NaN</td>\n",
       "      <td>NaN</td>\n",
       "      <td>NaN</td>\n",
       "    </tr>\n",
       "    <tr>\n",
       "      <th>1</th>\n",
       "      <td>NaN</td>\n",
       "      <td>NaN</td>\n",
       "      <td>Median Household Income</td>\n",
       "    </tr>\n",
       "    <tr>\n",
       "      <th>2</th>\n",
       "      <td>Postal Code</td>\n",
       "      <td>Name</td>\n",
       "      <td>Median Household Income</td>\n",
       "    </tr>\n",
       "    <tr>\n",
       "      <th>3</th>\n",
       "      <td>US</td>\n",
       "      <td>United States</td>\n",
       "      <td>61,937</td>\n",
       "    </tr>\n",
       "    <tr>\n",
       "      <th>4</th>\n",
       "      <td>AL</td>\n",
       "      <td>Alabama</td>\n",
       "      <td>49,881</td>\n",
       "    </tr>\n",
       "  </tbody>\n",
       "</table>\n",
       "</div>"
      ],
      "text/plain": [
       "    Unnamed: 2     Unnamed: 3              Unnamed: 22\n",
       "0          NaN            NaN                      NaN\n",
       "1          NaN            NaN  Median Household Income\n",
       "2  Postal Code           Name  Median Household Income\n",
       "3           US  United States                   61,937\n",
       "4           AL        Alabama                   49,881"
      ]
     },
     "execution_count": 22,
     "metadata": {},
     "output_type": "execute_result"
    }
   ],
   "source": [
    "income18.drop(['Table with column headers in rows 3 and 4',\n",
    " 'Unnamed: 1',\n",
    " 'Unnamed: 4',\n",
    " 'Unnamed: 5',\n",
    " 'Unnamed: 6',\n",
    " 'Unnamed: 7',\n",
    " 'Unnamed: 8',\n",
    " 'Unnamed: 9',\n",
    " 'Unnamed: 10',\n",
    " 'Unnamed: 11',\n",
    " 'Unnamed: 12',\n",
    " 'Unnamed: 13',\n",
    " 'Unnamed: 14',\n",
    " 'Unnamed: 15',\n",
    " 'Unnamed: 16',\n",
    " 'Unnamed: 17',\n",
    " 'Unnamed: 18',\n",
    " 'Unnamed: 19',\n",
    " 'Unnamed: 20',\n",
    " 'Unnamed: 21',\n",
    " 'Unnamed: 23',\n",
    " 'Unnamed: 24',\n",
    " 'Unnamed: 25',\n",
    " 'Unnamed: 26',\n",
    " 'Unnamed: 27',\n",
    " 'Unnamed: 28',\n",
    " 'Unnamed: 29',\n",
    " 'Unnamed: 30'], 1, inplace=True)\n",
    "income18.head()"
   ]
  },
  {
   "cell_type": "code",
   "execution_count": 23,
   "id": "68eb57f7",
   "metadata": {},
   "outputs": [
    {
     "data": {
      "text/plain": [
       "['Unnamed: 2', 'Unnamed: 3', 'Unnamed: 22']"
      ]
     },
     "execution_count": 23,
     "metadata": {},
     "output_type": "execute_result"
    }
   ],
   "source": [
    "list(income18)"
   ]
  },
  {
   "cell_type": "code",
   "execution_count": 24,
   "id": "3a9b332d",
   "metadata": {},
   "outputs": [
    {
     "name": "stdout",
     "output_type": "stream",
     "text": [
      "(3197, 3)\n"
     ]
    },
    {
     "data": {
      "text/html": [
       "<div>\n",
       "<style scoped>\n",
       "    .dataframe tbody tr th:only-of-type {\n",
       "        vertical-align: middle;\n",
       "    }\n",
       "\n",
       "    .dataframe tbody tr th {\n",
       "        vertical-align: top;\n",
       "    }\n",
       "\n",
       "    .dataframe thead th {\n",
       "        text-align: right;\n",
       "    }\n",
       "</style>\n",
       "<table border=\"1\" class=\"dataframe\">\n",
       "  <thead>\n",
       "    <tr style=\"text-align: right;\">\n",
       "      <th></th>\n",
       "      <th>Abbrv</th>\n",
       "      <th>County</th>\n",
       "      <th>Median Household Income 2018</th>\n",
       "    </tr>\n",
       "  </thead>\n",
       "  <tbody>\n",
       "    <tr>\n",
       "      <th>0</th>\n",
       "      <td>NaN</td>\n",
       "      <td>NaN</td>\n",
       "      <td>NaN</td>\n",
       "    </tr>\n",
       "    <tr>\n",
       "      <th>1</th>\n",
       "      <td>NaN</td>\n",
       "      <td>NaN</td>\n",
       "      <td>Median Household Income</td>\n",
       "    </tr>\n",
       "    <tr>\n",
       "      <th>2</th>\n",
       "      <td>Postal Code</td>\n",
       "      <td>Name</td>\n",
       "      <td>Median Household Income</td>\n",
       "    </tr>\n",
       "    <tr>\n",
       "      <th>3</th>\n",
       "      <td>US</td>\n",
       "      <td>United States</td>\n",
       "      <td>61,937</td>\n",
       "    </tr>\n",
       "    <tr>\n",
       "      <th>4</th>\n",
       "      <td>AL</td>\n",
       "      <td>Alabama</td>\n",
       "      <td>49,881</td>\n",
       "    </tr>\n",
       "  </tbody>\n",
       "</table>\n",
       "</div>"
      ],
      "text/plain": [
       "         Abbrv         County Median Household Income 2018\n",
       "0          NaN            NaN                          NaN\n",
       "1          NaN            NaN      Median Household Income\n",
       "2  Postal Code           Name      Median Household Income\n",
       "3           US  United States                       61,937\n",
       "4           AL        Alabama                       49,881"
      ]
     },
     "execution_count": 24,
     "metadata": {},
     "output_type": "execute_result"
    }
   ],
   "source": [
    "income18 = income18.rename(columns={'Unnamed: 2':'Abbrv', 'Unnamed: 3':'County', 'Unnamed: 22':'Median Household Income 2018'})\n",
    "print(income18.shape)\n",
    "income18.head()"
   ]
  },
  {
   "cell_type": "code",
   "execution_count": 25,
   "id": "2b63b202",
   "metadata": {},
   "outputs": [
    {
     "name": "stdout",
     "output_type": "stream",
     "text": [
      "(3194, 3)\n"
     ]
    },
    {
     "data": {
      "text/html": [
       "<div>\n",
       "<style scoped>\n",
       "    .dataframe tbody tr th:only-of-type {\n",
       "        vertical-align: middle;\n",
       "    }\n",
       "\n",
       "    .dataframe tbody tr th {\n",
       "        vertical-align: top;\n",
       "    }\n",
       "\n",
       "    .dataframe thead th {\n",
       "        text-align: right;\n",
       "    }\n",
       "</style>\n",
       "<table border=\"1\" class=\"dataframe\">\n",
       "  <thead>\n",
       "    <tr style=\"text-align: right;\">\n",
       "      <th></th>\n",
       "      <th>Abbrv</th>\n",
       "      <th>County</th>\n",
       "      <th>Median Household Income 2018</th>\n",
       "    </tr>\n",
       "  </thead>\n",
       "  <tbody>\n",
       "    <tr>\n",
       "      <th>0</th>\n",
       "      <td>US</td>\n",
       "      <td>United States</td>\n",
       "      <td>61,937</td>\n",
       "    </tr>\n",
       "    <tr>\n",
       "      <th>1</th>\n",
       "      <td>AL</td>\n",
       "      <td>Alabama</td>\n",
       "      <td>49,881</td>\n",
       "    </tr>\n",
       "    <tr>\n",
       "      <th>2</th>\n",
       "      <td>AL</td>\n",
       "      <td>Autauga County</td>\n",
       "      <td>59,338</td>\n",
       "    </tr>\n",
       "    <tr>\n",
       "      <th>3</th>\n",
       "      <td>AL</td>\n",
       "      <td>Baldwin County</td>\n",
       "      <td>57,588</td>\n",
       "    </tr>\n",
       "    <tr>\n",
       "      <th>4</th>\n",
       "      <td>AL</td>\n",
       "      <td>Barbour County</td>\n",
       "      <td>34,382</td>\n",
       "    </tr>\n",
       "  </tbody>\n",
       "</table>\n",
       "</div>"
      ],
      "text/plain": [
       "  Abbrv          County Median Household Income 2018\n",
       "0    US   United States                       61,937\n",
       "1    AL         Alabama                       49,881\n",
       "2    AL  Autauga County                       59,338\n",
       "3    AL  Baldwin County                       57,588\n",
       "4    AL  Barbour County                       34,382"
      ]
     },
     "execution_count": 25,
     "metadata": {},
     "output_type": "execute_result"
    }
   ],
   "source": [
    "income18 = income18.drop([0,1,2], axis=0)\n",
    "income18 = income18.reset_index(drop=True)\n",
    "print(income18.shape)\n",
    "income18.head()"
   ]
  },
  {
   "cell_type": "code",
   "execution_count": 26,
   "id": "90cf282d",
   "metadata": {},
   "outputs": [
    {
     "name": "stdout",
     "output_type": "stream",
     "text": [
      "(3194, 4)\n"
     ]
    },
    {
     "data": {
      "text/html": [
       "<div>\n",
       "<style scoped>\n",
       "    .dataframe tbody tr th:only-of-type {\n",
       "        vertical-align: middle;\n",
       "    }\n",
       "\n",
       "    .dataframe tbody tr th {\n",
       "        vertical-align: top;\n",
       "    }\n",
       "\n",
       "    .dataframe thead th {\n",
       "        text-align: right;\n",
       "    }\n",
       "</style>\n",
       "<table border=\"1\" class=\"dataframe\">\n",
       "  <thead>\n",
       "    <tr style=\"text-align: right;\">\n",
       "      <th></th>\n",
       "      <th>Abbrv</th>\n",
       "      <th>County</th>\n",
       "      <th>Median Household Income 2018</th>\n",
       "      <th>County_State</th>\n",
       "    </tr>\n",
       "  </thead>\n",
       "  <tbody>\n",
       "    <tr>\n",
       "      <th>0</th>\n",
       "      <td>US</td>\n",
       "      <td>United States</td>\n",
       "      <td>61,937</td>\n",
       "      <td>United States, US</td>\n",
       "    </tr>\n",
       "    <tr>\n",
       "      <th>1</th>\n",
       "      <td>AL</td>\n",
       "      <td>Alabama</td>\n",
       "      <td>49,881</td>\n",
       "      <td>Alabama, AL</td>\n",
       "    </tr>\n",
       "    <tr>\n",
       "      <th>2</th>\n",
       "      <td>AL</td>\n",
       "      <td>Autauga County</td>\n",
       "      <td>59,338</td>\n",
       "      <td>Autauga County, AL</td>\n",
       "    </tr>\n",
       "    <tr>\n",
       "      <th>3</th>\n",
       "      <td>AL</td>\n",
       "      <td>Baldwin County</td>\n",
       "      <td>57,588</td>\n",
       "      <td>Baldwin County, AL</td>\n",
       "    </tr>\n",
       "    <tr>\n",
       "      <th>4</th>\n",
       "      <td>AL</td>\n",
       "      <td>Barbour County</td>\n",
       "      <td>34,382</td>\n",
       "      <td>Barbour County, AL</td>\n",
       "    </tr>\n",
       "  </tbody>\n",
       "</table>\n",
       "</div>"
      ],
      "text/plain": [
       "  Abbrv          County Median Household Income 2018        County_State\n",
       "0    US   United States                       61,937   United States, US\n",
       "1    AL         Alabama                       49,881         Alabama, AL\n",
       "2    AL  Autauga County                       59,338  Autauga County, AL\n",
       "3    AL  Baldwin County                       57,588  Baldwin County, AL\n",
       "4    AL  Barbour County                       34,382  Barbour County, AL"
      ]
     },
     "execution_count": 26,
     "metadata": {},
     "output_type": "execute_result"
    }
   ],
   "source": [
    "income18['County_State'] = income18['County'].astype(str) +\", \"+ income18['Abbrv']\n",
    "print(income18.shape)\n",
    "income18.head()"
   ]
  },
  {
   "cell_type": "markdown",
   "id": "c25b51bf",
   "metadata": {},
   "source": [
    "Median Household Income 2019"
   ]
  },
  {
   "cell_type": "code",
   "execution_count": 27,
   "id": "27d2af55",
   "metadata": {},
   "outputs": [
    {
     "data": {
      "text/plain": [
       "['Table with column headers in rows 3 and 4',\n",
       " 'Unnamed: 1',\n",
       " 'Unnamed: 2',\n",
       " 'Unnamed: 3',\n",
       " 'Unnamed: 4',\n",
       " 'Unnamed: 5',\n",
       " 'Unnamed: 6',\n",
       " 'Unnamed: 7',\n",
       " 'Unnamed: 8',\n",
       " 'Unnamed: 9',\n",
       " 'Unnamed: 10',\n",
       " 'Unnamed: 11',\n",
       " 'Unnamed: 12',\n",
       " 'Unnamed: 13',\n",
       " 'Unnamed: 14',\n",
       " 'Unnamed: 15',\n",
       " 'Unnamed: 16',\n",
       " 'Unnamed: 17',\n",
       " 'Unnamed: 18',\n",
       " 'Unnamed: 19',\n",
       " 'Unnamed: 20',\n",
       " 'Unnamed: 21',\n",
       " 'Unnamed: 22',\n",
       " 'Unnamed: 23',\n",
       " 'Unnamed: 24',\n",
       " 'Unnamed: 25',\n",
       " 'Unnamed: 26',\n",
       " 'Unnamed: 27',\n",
       " 'Unnamed: 28',\n",
       " 'Unnamed: 29',\n",
       " 'Unnamed: 30']"
      ]
     },
     "execution_count": 27,
     "metadata": {},
     "output_type": "execute_result"
    }
   ],
   "source": [
    "list(income19)"
   ]
  },
  {
   "cell_type": "code",
   "execution_count": 28,
   "id": "95400d45",
   "metadata": {},
   "outputs": [
    {
     "name": "stderr",
     "output_type": "stream",
     "text": [
      "C:\\Users\\cookr\\AppData\\Local\\Temp/ipykernel_23540/3875315755.py:1: FutureWarning: In a future version of pandas all arguments of DataFrame.drop except for the argument 'labels' will be keyword-only\n",
      "  income19.drop(['Table with column headers in rows 3 and 4',\n"
     ]
    },
    {
     "data": {
      "text/html": [
       "<div>\n",
       "<style scoped>\n",
       "    .dataframe tbody tr th:only-of-type {\n",
       "        vertical-align: middle;\n",
       "    }\n",
       "\n",
       "    .dataframe tbody tr th {\n",
       "        vertical-align: top;\n",
       "    }\n",
       "\n",
       "    .dataframe thead th {\n",
       "        text-align: right;\n",
       "    }\n",
       "</style>\n",
       "<table border=\"1\" class=\"dataframe\">\n",
       "  <thead>\n",
       "    <tr style=\"text-align: right;\">\n",
       "      <th></th>\n",
       "      <th>Unnamed: 2</th>\n",
       "      <th>Unnamed: 3</th>\n",
       "      <th>Unnamed: 22</th>\n",
       "    </tr>\n",
       "  </thead>\n",
       "  <tbody>\n",
       "    <tr>\n",
       "      <th>0</th>\n",
       "      <td>NaN</td>\n",
       "      <td>NaN</td>\n",
       "      <td>NaN</td>\n",
       "    </tr>\n",
       "    <tr>\n",
       "      <th>1</th>\n",
       "      <td>NaN</td>\n",
       "      <td>NaN</td>\n",
       "      <td>Median Household Income</td>\n",
       "    </tr>\n",
       "    <tr>\n",
       "      <th>2</th>\n",
       "      <td>Postal Code</td>\n",
       "      <td>Name</td>\n",
       "      <td>Median Household Income</td>\n",
       "    </tr>\n",
       "    <tr>\n",
       "      <th>3</th>\n",
       "      <td>US</td>\n",
       "      <td>United States</td>\n",
       "      <td>65,712</td>\n",
       "    </tr>\n",
       "    <tr>\n",
       "      <th>4</th>\n",
       "      <td>AL</td>\n",
       "      <td>Alabama</td>\n",
       "      <td>51,771</td>\n",
       "    </tr>\n",
       "  </tbody>\n",
       "</table>\n",
       "</div>"
      ],
      "text/plain": [
       "    Unnamed: 2     Unnamed: 3              Unnamed: 22\n",
       "0          NaN            NaN                      NaN\n",
       "1          NaN            NaN  Median Household Income\n",
       "2  Postal Code           Name  Median Household Income\n",
       "3           US  United States                   65,712\n",
       "4           AL        Alabama                   51,771"
      ]
     },
     "execution_count": 28,
     "metadata": {},
     "output_type": "execute_result"
    }
   ],
   "source": [
    "income19.drop(['Table with column headers in rows 3 and 4',\n",
    " 'Unnamed: 1',\n",
    " 'Unnamed: 4',\n",
    " 'Unnamed: 5',\n",
    " 'Unnamed: 6',\n",
    " 'Unnamed: 7',\n",
    " 'Unnamed: 8',\n",
    " 'Unnamed: 9',\n",
    " 'Unnamed: 10',\n",
    " 'Unnamed: 11',\n",
    " 'Unnamed: 12',\n",
    " 'Unnamed: 13',\n",
    " 'Unnamed: 14',\n",
    " 'Unnamed: 15',\n",
    " 'Unnamed: 16',\n",
    " 'Unnamed: 17',\n",
    " 'Unnamed: 18',\n",
    " 'Unnamed: 19',\n",
    " 'Unnamed: 20',\n",
    " 'Unnamed: 21',\n",
    " 'Unnamed: 23',\n",
    " 'Unnamed: 24',\n",
    " 'Unnamed: 25',\n",
    " 'Unnamed: 26',\n",
    " 'Unnamed: 27',\n",
    " 'Unnamed: 28',\n",
    " 'Unnamed: 29',\n",
    " 'Unnamed: 30'], 1, inplace=True)\n",
    "income19.head()"
   ]
  },
  {
   "cell_type": "code",
   "execution_count": 29,
   "id": "2706439b",
   "metadata": {},
   "outputs": [
    {
     "data": {
      "text/plain": [
       "['Unnamed: 2', 'Unnamed: 3', 'Unnamed: 22']"
      ]
     },
     "execution_count": 29,
     "metadata": {},
     "output_type": "execute_result"
    }
   ],
   "source": [
    "list(income19)"
   ]
  },
  {
   "cell_type": "code",
   "execution_count": 30,
   "id": "6309c9bd",
   "metadata": {},
   "outputs": [
    {
     "name": "stdout",
     "output_type": "stream",
     "text": [
      "(3197, 3)\n"
     ]
    },
    {
     "data": {
      "text/html": [
       "<div>\n",
       "<style scoped>\n",
       "    .dataframe tbody tr th:only-of-type {\n",
       "        vertical-align: middle;\n",
       "    }\n",
       "\n",
       "    .dataframe tbody tr th {\n",
       "        vertical-align: top;\n",
       "    }\n",
       "\n",
       "    .dataframe thead th {\n",
       "        text-align: right;\n",
       "    }\n",
       "</style>\n",
       "<table border=\"1\" class=\"dataframe\">\n",
       "  <thead>\n",
       "    <tr style=\"text-align: right;\">\n",
       "      <th></th>\n",
       "      <th>Abbrv</th>\n",
       "      <th>County</th>\n",
       "      <th>Median Household Income 2019</th>\n",
       "    </tr>\n",
       "  </thead>\n",
       "  <tbody>\n",
       "    <tr>\n",
       "      <th>0</th>\n",
       "      <td>NaN</td>\n",
       "      <td>NaN</td>\n",
       "      <td>NaN</td>\n",
       "    </tr>\n",
       "    <tr>\n",
       "      <th>1</th>\n",
       "      <td>NaN</td>\n",
       "      <td>NaN</td>\n",
       "      <td>Median Household Income</td>\n",
       "    </tr>\n",
       "    <tr>\n",
       "      <th>2</th>\n",
       "      <td>Postal Code</td>\n",
       "      <td>Name</td>\n",
       "      <td>Median Household Income</td>\n",
       "    </tr>\n",
       "    <tr>\n",
       "      <th>3</th>\n",
       "      <td>US</td>\n",
       "      <td>United States</td>\n",
       "      <td>65,712</td>\n",
       "    </tr>\n",
       "    <tr>\n",
       "      <th>4</th>\n",
       "      <td>AL</td>\n",
       "      <td>Alabama</td>\n",
       "      <td>51,771</td>\n",
       "    </tr>\n",
       "  </tbody>\n",
       "</table>\n",
       "</div>"
      ],
      "text/plain": [
       "         Abbrv         County Median Household Income 2019\n",
       "0          NaN            NaN                          NaN\n",
       "1          NaN            NaN      Median Household Income\n",
       "2  Postal Code           Name      Median Household Income\n",
       "3           US  United States                       65,712\n",
       "4           AL        Alabama                       51,771"
      ]
     },
     "execution_count": 30,
     "metadata": {},
     "output_type": "execute_result"
    }
   ],
   "source": [
    "income19 = income19.rename(columns={'Unnamed: 2':'Abbrv', 'Unnamed: 3':'County', 'Unnamed: 22':'Median Household Income 2019'})\n",
    "print(income19.shape)\n",
    "income19.head()"
   ]
  },
  {
   "cell_type": "code",
   "execution_count": 31,
   "id": "f22195b9",
   "metadata": {},
   "outputs": [
    {
     "name": "stdout",
     "output_type": "stream",
     "text": [
      "(3194, 3)\n"
     ]
    },
    {
     "data": {
      "text/html": [
       "<div>\n",
       "<style scoped>\n",
       "    .dataframe tbody tr th:only-of-type {\n",
       "        vertical-align: middle;\n",
       "    }\n",
       "\n",
       "    .dataframe tbody tr th {\n",
       "        vertical-align: top;\n",
       "    }\n",
       "\n",
       "    .dataframe thead th {\n",
       "        text-align: right;\n",
       "    }\n",
       "</style>\n",
       "<table border=\"1\" class=\"dataframe\">\n",
       "  <thead>\n",
       "    <tr style=\"text-align: right;\">\n",
       "      <th></th>\n",
       "      <th>Abbrv</th>\n",
       "      <th>County</th>\n",
       "      <th>Median Household Income 2019</th>\n",
       "    </tr>\n",
       "  </thead>\n",
       "  <tbody>\n",
       "    <tr>\n",
       "      <th>0</th>\n",
       "      <td>US</td>\n",
       "      <td>United States</td>\n",
       "      <td>65,712</td>\n",
       "    </tr>\n",
       "    <tr>\n",
       "      <th>1</th>\n",
       "      <td>AL</td>\n",
       "      <td>Alabama</td>\n",
       "      <td>51,771</td>\n",
       "    </tr>\n",
       "    <tr>\n",
       "      <th>2</th>\n",
       "      <td>AL</td>\n",
       "      <td>Autauga County</td>\n",
       "      <td>58,233</td>\n",
       "    </tr>\n",
       "    <tr>\n",
       "      <th>3</th>\n",
       "      <td>AL</td>\n",
       "      <td>Baldwin County</td>\n",
       "      <td>59,871</td>\n",
       "    </tr>\n",
       "    <tr>\n",
       "      <th>4</th>\n",
       "      <td>AL</td>\n",
       "      <td>Barbour County</td>\n",
       "      <td>35,972</td>\n",
       "    </tr>\n",
       "  </tbody>\n",
       "</table>\n",
       "</div>"
      ],
      "text/plain": [
       "  Abbrv          County Median Household Income 2019\n",
       "0    US   United States                       65,712\n",
       "1    AL         Alabama                       51,771\n",
       "2    AL  Autauga County                       58,233\n",
       "3    AL  Baldwin County                       59,871\n",
       "4    AL  Barbour County                       35,972"
      ]
     },
     "execution_count": 31,
     "metadata": {},
     "output_type": "execute_result"
    }
   ],
   "source": [
    "income19 = income19.drop([0,1,2], axis=0)\n",
    "income19 = income19.reset_index(drop=True)\n",
    "print(income19.shape)\n",
    "income19.head()"
   ]
  },
  {
   "cell_type": "code",
   "execution_count": 32,
   "id": "958bcdd3",
   "metadata": {},
   "outputs": [
    {
     "name": "stdout",
     "output_type": "stream",
     "text": [
      "(3194, 4)\n"
     ]
    },
    {
     "data": {
      "text/html": [
       "<div>\n",
       "<style scoped>\n",
       "    .dataframe tbody tr th:only-of-type {\n",
       "        vertical-align: middle;\n",
       "    }\n",
       "\n",
       "    .dataframe tbody tr th {\n",
       "        vertical-align: top;\n",
       "    }\n",
       "\n",
       "    .dataframe thead th {\n",
       "        text-align: right;\n",
       "    }\n",
       "</style>\n",
       "<table border=\"1\" class=\"dataframe\">\n",
       "  <thead>\n",
       "    <tr style=\"text-align: right;\">\n",
       "      <th></th>\n",
       "      <th>Abbrv</th>\n",
       "      <th>County</th>\n",
       "      <th>Median Household Income 2019</th>\n",
       "      <th>County_State</th>\n",
       "    </tr>\n",
       "  </thead>\n",
       "  <tbody>\n",
       "    <tr>\n",
       "      <th>0</th>\n",
       "      <td>US</td>\n",
       "      <td>United States</td>\n",
       "      <td>65,712</td>\n",
       "      <td>United States, US</td>\n",
       "    </tr>\n",
       "    <tr>\n",
       "      <th>1</th>\n",
       "      <td>AL</td>\n",
       "      <td>Alabama</td>\n",
       "      <td>51,771</td>\n",
       "      <td>Alabama, AL</td>\n",
       "    </tr>\n",
       "    <tr>\n",
       "      <th>2</th>\n",
       "      <td>AL</td>\n",
       "      <td>Autauga County</td>\n",
       "      <td>58,233</td>\n",
       "      <td>Autauga County, AL</td>\n",
       "    </tr>\n",
       "    <tr>\n",
       "      <th>3</th>\n",
       "      <td>AL</td>\n",
       "      <td>Baldwin County</td>\n",
       "      <td>59,871</td>\n",
       "      <td>Baldwin County, AL</td>\n",
       "    </tr>\n",
       "    <tr>\n",
       "      <th>4</th>\n",
       "      <td>AL</td>\n",
       "      <td>Barbour County</td>\n",
       "      <td>35,972</td>\n",
       "      <td>Barbour County, AL</td>\n",
       "    </tr>\n",
       "  </tbody>\n",
       "</table>\n",
       "</div>"
      ],
      "text/plain": [
       "  Abbrv          County Median Household Income 2019        County_State\n",
       "0    US   United States                       65,712   United States, US\n",
       "1    AL         Alabama                       51,771         Alabama, AL\n",
       "2    AL  Autauga County                       58,233  Autauga County, AL\n",
       "3    AL  Baldwin County                       59,871  Baldwin County, AL\n",
       "4    AL  Barbour County                       35,972  Barbour County, AL"
      ]
     },
     "execution_count": 32,
     "metadata": {},
     "output_type": "execute_result"
    }
   ],
   "source": [
    "income19['County_State'] = income19['County'].astype(str) +\", \"+ income19['Abbrv']\n",
    "print(income19.shape)\n",
    "income19.head()"
   ]
  },
  {
   "cell_type": "code",
   "execution_count": 33,
   "id": "716ca045",
   "metadata": {},
   "outputs": [
    {
     "name": "stdout",
     "output_type": "stream",
     "text": [
      "(3196, 4)\n"
     ]
    },
    {
     "data": {
      "text/html": [
       "<div>\n",
       "<style scoped>\n",
       "    .dataframe tbody tr th:only-of-type {\n",
       "        vertical-align: middle;\n",
       "    }\n",
       "\n",
       "    .dataframe tbody tr th {\n",
       "        vertical-align: top;\n",
       "    }\n",
       "\n",
       "    .dataframe thead th {\n",
       "        text-align: right;\n",
       "    }\n",
       "</style>\n",
       "<table border=\"1\" class=\"dataframe\">\n",
       "  <thead>\n",
       "    <tr style=\"text-align: right;\">\n",
       "      <th></th>\n",
       "      <th>County_State</th>\n",
       "      <th>Abbrv</th>\n",
       "      <th>County</th>\n",
       "      <th>Median Household Income 2015</th>\n",
       "    </tr>\n",
       "  </thead>\n",
       "  <tbody>\n",
       "    <tr>\n",
       "      <th>0</th>\n",
       "      <td>United States, US</td>\n",
       "      <td>US</td>\n",
       "      <td>United States</td>\n",
       "      <td>55,775</td>\n",
       "    </tr>\n",
       "    <tr>\n",
       "      <th>1</th>\n",
       "      <td>Alabama, AL</td>\n",
       "      <td>AL</td>\n",
       "      <td>Alabama</td>\n",
       "      <td>44,833</td>\n",
       "    </tr>\n",
       "    <tr>\n",
       "      <th>2</th>\n",
       "      <td>Autauga County, AL</td>\n",
       "      <td>AL</td>\n",
       "      <td>Autauga County</td>\n",
       "      <td>56,580</td>\n",
       "    </tr>\n",
       "    <tr>\n",
       "      <th>3</th>\n",
       "      <td>Baldwin County, AL</td>\n",
       "      <td>AL</td>\n",
       "      <td>Baldwin County</td>\n",
       "      <td>52,387</td>\n",
       "    </tr>\n",
       "    <tr>\n",
       "      <th>4</th>\n",
       "      <td>Barbour County, AL</td>\n",
       "      <td>AL</td>\n",
       "      <td>Barbour County</td>\n",
       "      <td>31,433</td>\n",
       "    </tr>\n",
       "  </tbody>\n",
       "</table>\n",
       "</div>"
      ],
      "text/plain": [
       "         County_State Abbrv          County Median Household Income 2015\n",
       "0   United States, US    US   United States                       55,775\n",
       "1         Alabama, AL    AL         Alabama                       44,833\n",
       "2  Autauga County, AL    AL  Autauga County                       56,580\n",
       "3  Baldwin County, AL    AL  Baldwin County                       52,387\n",
       "4  Barbour County, AL    AL  Barbour County                       31,433"
      ]
     },
     "execution_count": 33,
     "metadata": {},
     "output_type": "execute_result"
    }
   ],
   "source": [
    "median_income_15_19 = pd.merge(county_state, income15)\n",
    "print(median_income_15_19.shape)\n",
    "median_income_15_19.head()"
   ]
  },
  {
   "cell_type": "code",
   "execution_count": 34,
   "id": "4d636f98",
   "metadata": {
    "scrolled": true
   },
   "outputs": [
    {
     "name": "stdout",
     "output_type": "stream",
     "text": [
      "(3200, 5)\n"
     ]
    },
    {
     "data": {
      "text/html": [
       "<div>\n",
       "<style scoped>\n",
       "    .dataframe tbody tr th:only-of-type {\n",
       "        vertical-align: middle;\n",
       "    }\n",
       "\n",
       "    .dataframe tbody tr th {\n",
       "        vertical-align: top;\n",
       "    }\n",
       "\n",
       "    .dataframe thead th {\n",
       "        text-align: right;\n",
       "    }\n",
       "</style>\n",
       "<table border=\"1\" class=\"dataframe\">\n",
       "  <thead>\n",
       "    <tr style=\"text-align: right;\">\n",
       "      <th></th>\n",
       "      <th>County_State</th>\n",
       "      <th>Abbrv</th>\n",
       "      <th>County</th>\n",
       "      <th>Median Household Income 2015</th>\n",
       "      <th>Median Household Income 2016</th>\n",
       "    </tr>\n",
       "  </thead>\n",
       "  <tbody>\n",
       "    <tr>\n",
       "      <th>0</th>\n",
       "      <td>United States, US</td>\n",
       "      <td>US</td>\n",
       "      <td>United States</td>\n",
       "      <td>55,775</td>\n",
       "      <td>57,617</td>\n",
       "    </tr>\n",
       "    <tr>\n",
       "      <th>1</th>\n",
       "      <td>Alabama, AL</td>\n",
       "      <td>AL</td>\n",
       "      <td>Alabama</td>\n",
       "      <td>44,833</td>\n",
       "      <td>46,309</td>\n",
       "    </tr>\n",
       "    <tr>\n",
       "      <th>2</th>\n",
       "      <td>Autauga County, AL</td>\n",
       "      <td>AL</td>\n",
       "      <td>Autauga County</td>\n",
       "      <td>56,580</td>\n",
       "      <td>54,487</td>\n",
       "    </tr>\n",
       "    <tr>\n",
       "      <th>3</th>\n",
       "      <td>Baldwin County, AL</td>\n",
       "      <td>AL</td>\n",
       "      <td>Baldwin County</td>\n",
       "      <td>52,387</td>\n",
       "      <td>56,460</td>\n",
       "    </tr>\n",
       "    <tr>\n",
       "      <th>4</th>\n",
       "      <td>Barbour County, AL</td>\n",
       "      <td>AL</td>\n",
       "      <td>Barbour County</td>\n",
       "      <td>31,433</td>\n",
       "      <td>32,884</td>\n",
       "    </tr>\n",
       "  </tbody>\n",
       "</table>\n",
       "</div>"
      ],
      "text/plain": [
       "         County_State Abbrv          County Median Household Income 2015  \\\n",
       "0   United States, US    US   United States                       55,775   \n",
       "1         Alabama, AL    AL         Alabama                       44,833   \n",
       "2  Autauga County, AL    AL  Autauga County                       56,580   \n",
       "3  Baldwin County, AL    AL  Baldwin County                       52,387   \n",
       "4  Barbour County, AL    AL  Barbour County                       31,433   \n",
       "\n",
       "  Median Household Income 2016  \n",
       "0                       57,617  \n",
       "1                       46,309  \n",
       "2                       54,487  \n",
       "3                       56,460  \n",
       "4                       32,884  "
      ]
     },
     "execution_count": 34,
     "metadata": {},
     "output_type": "execute_result"
    }
   ],
   "source": [
    "median_income_15_19 = pd.merge(median_income_15_19, income16)\n",
    "print(median_income_15_19.shape)\n",
    "median_income_15_19.head()"
   ]
  },
  {
   "cell_type": "code",
   "execution_count": 35,
   "id": "61f563a4",
   "metadata": {},
   "outputs": [
    {
     "name": "stdout",
     "output_type": "stream",
     "text": [
      "(3208, 6)\n"
     ]
    },
    {
     "data": {
      "text/html": [
       "<div>\n",
       "<style scoped>\n",
       "    .dataframe tbody tr th:only-of-type {\n",
       "        vertical-align: middle;\n",
       "    }\n",
       "\n",
       "    .dataframe tbody tr th {\n",
       "        vertical-align: top;\n",
       "    }\n",
       "\n",
       "    .dataframe thead th {\n",
       "        text-align: right;\n",
       "    }\n",
       "</style>\n",
       "<table border=\"1\" class=\"dataframe\">\n",
       "  <thead>\n",
       "    <tr style=\"text-align: right;\">\n",
       "      <th></th>\n",
       "      <th>County_State</th>\n",
       "      <th>Abbrv</th>\n",
       "      <th>County</th>\n",
       "      <th>Median Household Income 2015</th>\n",
       "      <th>Median Household Income 2016</th>\n",
       "      <th>Median Household Income 2017</th>\n",
       "    </tr>\n",
       "  </thead>\n",
       "  <tbody>\n",
       "    <tr>\n",
       "      <th>0</th>\n",
       "      <td>United States, US</td>\n",
       "      <td>US</td>\n",
       "      <td>United States</td>\n",
       "      <td>55,775</td>\n",
       "      <td>57,617</td>\n",
       "      <td>60,336</td>\n",
       "    </tr>\n",
       "    <tr>\n",
       "      <th>1</th>\n",
       "      <td>Alabama, AL</td>\n",
       "      <td>AL</td>\n",
       "      <td>Alabama</td>\n",
       "      <td>44,833</td>\n",
       "      <td>46,309</td>\n",
       "      <td>48,193</td>\n",
       "    </tr>\n",
       "    <tr>\n",
       "      <th>2</th>\n",
       "      <td>Autauga County, AL</td>\n",
       "      <td>AL</td>\n",
       "      <td>Autauga County</td>\n",
       "      <td>56,580</td>\n",
       "      <td>54,487</td>\n",
       "      <td>58,343</td>\n",
       "    </tr>\n",
       "    <tr>\n",
       "      <th>3</th>\n",
       "      <td>Baldwin County, AL</td>\n",
       "      <td>AL</td>\n",
       "      <td>Baldwin County</td>\n",
       "      <td>52,387</td>\n",
       "      <td>56,460</td>\n",
       "      <td>56,607</td>\n",
       "    </tr>\n",
       "    <tr>\n",
       "      <th>4</th>\n",
       "      <td>Barbour County, AL</td>\n",
       "      <td>AL</td>\n",
       "      <td>Barbour County</td>\n",
       "      <td>31,433</td>\n",
       "      <td>32,884</td>\n",
       "      <td>32,490</td>\n",
       "    </tr>\n",
       "  </tbody>\n",
       "</table>\n",
       "</div>"
      ],
      "text/plain": [
       "         County_State Abbrv          County Median Household Income 2015  \\\n",
       "0   United States, US    US   United States                       55,775   \n",
       "1         Alabama, AL    AL         Alabama                       44,833   \n",
       "2  Autauga County, AL    AL  Autauga County                       56,580   \n",
       "3  Baldwin County, AL    AL  Baldwin County                       52,387   \n",
       "4  Barbour County, AL    AL  Barbour County                       31,433   \n",
       "\n",
       "  Median Household Income 2016 Median Household Income 2017  \n",
       "0                       57,617                       60,336  \n",
       "1                       46,309                       48,193  \n",
       "2                       54,487                       58,343  \n",
       "3                       56,460                       56,607  \n",
       "4                       32,884                       32,490  "
      ]
     },
     "execution_count": 35,
     "metadata": {},
     "output_type": "execute_result"
    }
   ],
   "source": [
    "median_income_15_19 = pd.merge(median_income_15_19, income17)\n",
    "print(median_income_15_19.shape)\n",
    "median_income_15_19.head()"
   ]
  },
  {
   "cell_type": "code",
   "execution_count": 36,
   "id": "4d061498",
   "metadata": {},
   "outputs": [
    {
     "name": "stdout",
     "output_type": "stream",
     "text": [
      "(3224, 7)\n"
     ]
    },
    {
     "data": {
      "text/html": [
       "<div>\n",
       "<style scoped>\n",
       "    .dataframe tbody tr th:only-of-type {\n",
       "        vertical-align: middle;\n",
       "    }\n",
       "\n",
       "    .dataframe tbody tr th {\n",
       "        vertical-align: top;\n",
       "    }\n",
       "\n",
       "    .dataframe thead th {\n",
       "        text-align: right;\n",
       "    }\n",
       "</style>\n",
       "<table border=\"1\" class=\"dataframe\">\n",
       "  <thead>\n",
       "    <tr style=\"text-align: right;\">\n",
       "      <th></th>\n",
       "      <th>County_State</th>\n",
       "      <th>Abbrv</th>\n",
       "      <th>County</th>\n",
       "      <th>Median Household Income 2015</th>\n",
       "      <th>Median Household Income 2016</th>\n",
       "      <th>Median Household Income 2017</th>\n",
       "      <th>Median Household Income 2018</th>\n",
       "    </tr>\n",
       "  </thead>\n",
       "  <tbody>\n",
       "    <tr>\n",
       "      <th>0</th>\n",
       "      <td>United States, US</td>\n",
       "      <td>US</td>\n",
       "      <td>United States</td>\n",
       "      <td>55,775</td>\n",
       "      <td>57,617</td>\n",
       "      <td>60,336</td>\n",
       "      <td>61,937</td>\n",
       "    </tr>\n",
       "    <tr>\n",
       "      <th>1</th>\n",
       "      <td>Alabama, AL</td>\n",
       "      <td>AL</td>\n",
       "      <td>Alabama</td>\n",
       "      <td>44,833</td>\n",
       "      <td>46,309</td>\n",
       "      <td>48,193</td>\n",
       "      <td>49,881</td>\n",
       "    </tr>\n",
       "    <tr>\n",
       "      <th>2</th>\n",
       "      <td>Autauga County, AL</td>\n",
       "      <td>AL</td>\n",
       "      <td>Autauga County</td>\n",
       "      <td>56,580</td>\n",
       "      <td>54,487</td>\n",
       "      <td>58,343</td>\n",
       "      <td>59,338</td>\n",
       "    </tr>\n",
       "    <tr>\n",
       "      <th>3</th>\n",
       "      <td>Baldwin County, AL</td>\n",
       "      <td>AL</td>\n",
       "      <td>Baldwin County</td>\n",
       "      <td>52,387</td>\n",
       "      <td>56,460</td>\n",
       "      <td>56,607</td>\n",
       "      <td>57,588</td>\n",
       "    </tr>\n",
       "    <tr>\n",
       "      <th>4</th>\n",
       "      <td>Barbour County, AL</td>\n",
       "      <td>AL</td>\n",
       "      <td>Barbour County</td>\n",
       "      <td>31,433</td>\n",
       "      <td>32,884</td>\n",
       "      <td>32,490</td>\n",
       "      <td>34,382</td>\n",
       "    </tr>\n",
       "  </tbody>\n",
       "</table>\n",
       "</div>"
      ],
      "text/plain": [
       "         County_State Abbrv          County Median Household Income 2015  \\\n",
       "0   United States, US    US   United States                       55,775   \n",
       "1         Alabama, AL    AL         Alabama                       44,833   \n",
       "2  Autauga County, AL    AL  Autauga County                       56,580   \n",
       "3  Baldwin County, AL    AL  Baldwin County                       52,387   \n",
       "4  Barbour County, AL    AL  Barbour County                       31,433   \n",
       "\n",
       "  Median Household Income 2016 Median Household Income 2017  \\\n",
       "0                       57,617                       60,336   \n",
       "1                       46,309                       48,193   \n",
       "2                       54,487                       58,343   \n",
       "3                       56,460                       56,607   \n",
       "4                       32,884                       32,490   \n",
       "\n",
       "  Median Household Income 2018  \n",
       "0                       61,937  \n",
       "1                       49,881  \n",
       "2                       59,338  \n",
       "3                       57,588  \n",
       "4                       34,382  "
      ]
     },
     "execution_count": 36,
     "metadata": {},
     "output_type": "execute_result"
    }
   ],
   "source": [
    "median_income_15_19 = pd.merge(median_income_15_19, income18)\n",
    "print(median_income_15_19.shape)\n",
    "median_income_15_19.head()"
   ]
  },
  {
   "cell_type": "code",
   "execution_count": 37,
   "id": "90067f64",
   "metadata": {},
   "outputs": [
    {
     "name": "stdout",
     "output_type": "stream",
     "text": [
      "(3256, 8)\n"
     ]
    },
    {
     "data": {
      "text/html": [
       "<div>\n",
       "<style scoped>\n",
       "    .dataframe tbody tr th:only-of-type {\n",
       "        vertical-align: middle;\n",
       "    }\n",
       "\n",
       "    .dataframe tbody tr th {\n",
       "        vertical-align: top;\n",
       "    }\n",
       "\n",
       "    .dataframe thead th {\n",
       "        text-align: right;\n",
       "    }\n",
       "</style>\n",
       "<table border=\"1\" class=\"dataframe\">\n",
       "  <thead>\n",
       "    <tr style=\"text-align: right;\">\n",
       "      <th></th>\n",
       "      <th>County_State</th>\n",
       "      <th>Abbrv</th>\n",
       "      <th>County</th>\n",
       "      <th>Median Household Income 2015</th>\n",
       "      <th>Median Household Income 2016</th>\n",
       "      <th>Median Household Income 2017</th>\n",
       "      <th>Median Household Income 2018</th>\n",
       "      <th>Median Household Income 2019</th>\n",
       "    </tr>\n",
       "  </thead>\n",
       "  <tbody>\n",
       "    <tr>\n",
       "      <th>0</th>\n",
       "      <td>United States, US</td>\n",
       "      <td>US</td>\n",
       "      <td>United States</td>\n",
       "      <td>55,775</td>\n",
       "      <td>57,617</td>\n",
       "      <td>60,336</td>\n",
       "      <td>61,937</td>\n",
       "      <td>65,712</td>\n",
       "    </tr>\n",
       "    <tr>\n",
       "      <th>1</th>\n",
       "      <td>Alabama, AL</td>\n",
       "      <td>AL</td>\n",
       "      <td>Alabama</td>\n",
       "      <td>44,833</td>\n",
       "      <td>46,309</td>\n",
       "      <td>48,193</td>\n",
       "      <td>49,881</td>\n",
       "      <td>51,771</td>\n",
       "    </tr>\n",
       "    <tr>\n",
       "      <th>2</th>\n",
       "      <td>Autauga County, AL</td>\n",
       "      <td>AL</td>\n",
       "      <td>Autauga County</td>\n",
       "      <td>56,580</td>\n",
       "      <td>54,487</td>\n",
       "      <td>58,343</td>\n",
       "      <td>59,338</td>\n",
       "      <td>58,233</td>\n",
       "    </tr>\n",
       "    <tr>\n",
       "      <th>3</th>\n",
       "      <td>Baldwin County, AL</td>\n",
       "      <td>AL</td>\n",
       "      <td>Baldwin County</td>\n",
       "      <td>52,387</td>\n",
       "      <td>56,460</td>\n",
       "      <td>56,607</td>\n",
       "      <td>57,588</td>\n",
       "      <td>59,871</td>\n",
       "    </tr>\n",
       "    <tr>\n",
       "      <th>4</th>\n",
       "      <td>Barbour County, AL</td>\n",
       "      <td>AL</td>\n",
       "      <td>Barbour County</td>\n",
       "      <td>31,433</td>\n",
       "      <td>32,884</td>\n",
       "      <td>32,490</td>\n",
       "      <td>34,382</td>\n",
       "      <td>35,972</td>\n",
       "    </tr>\n",
       "  </tbody>\n",
       "</table>\n",
       "</div>"
      ],
      "text/plain": [
       "         County_State Abbrv          County Median Household Income 2015  \\\n",
       "0   United States, US    US   United States                       55,775   \n",
       "1         Alabama, AL    AL         Alabama                       44,833   \n",
       "2  Autauga County, AL    AL  Autauga County                       56,580   \n",
       "3  Baldwin County, AL    AL  Baldwin County                       52,387   \n",
       "4  Barbour County, AL    AL  Barbour County                       31,433   \n",
       "\n",
       "  Median Household Income 2016 Median Household Income 2017  \\\n",
       "0                       57,617                       60,336   \n",
       "1                       46,309                       48,193   \n",
       "2                       54,487                       58,343   \n",
       "3                       56,460                       56,607   \n",
       "4                       32,884                       32,490   \n",
       "\n",
       "  Median Household Income 2018 Median Household Income 2019  \n",
       "0                       61,937                       65,712  \n",
       "1                       49,881                       51,771  \n",
       "2                       59,338                       58,233  \n",
       "3                       57,588                       59,871  \n",
       "4                       34,382                       35,972  "
      ]
     },
     "execution_count": 37,
     "metadata": {},
     "output_type": "execute_result"
    }
   ],
   "source": [
    "median_income_15_19 = pd.merge(median_income_15_19, income19)\n",
    "print(median_income_15_19.shape)\n",
    "median_income_15_19.head()"
   ]
  },
  {
   "cell_type": "code",
   "execution_count": 38,
   "id": "3ee08adf",
   "metadata": {},
   "outputs": [],
   "source": [
    "statesonly = [\"Alabama\", \"Alaska\", \"Arizona\", \"Arkansas\", \"California\",\n",
    "                       \"Colorado\", \"Connecticut\", \"Delaware\", \"Florida\", \"Georgia\", \"Hawaii\", \"Idaho\", \"Illinois\", \"Indiana\",\n",
    "                       \"Iowa\", \"Kansas\", \"Kentucky\", \"Louisiana\", \"Maine\", \"Maryland\", \"Massachusetts\", \"Michigan\", \"Minnesota\",\n",
    "                       \"Mississippi\", \"Missouri\", \"Montana\", \"Nebraska\", \"Nevada\", \"New Hampshire\", \"New Jersey\", \"New Mexico\",\n",
    "                       \"New York\", \"North Carolina\", \"North Dakota\", \"Ohio\", \"Oklahoma\" ,\"Oregon\", \"Pennsylvania\", \"Rhode Island\",\n",
    "                       \"South Carolina\", \"South Dakota\", \"Tennessee\", \"Texas\", \"Utah\", \"Vermont\", \"Virginia\", \"Washington\",\n",
    "                       \"West Virginia\", \"Wisconsin\", \"Wyoming\", \"United States\"]\n",
    "median_income_15_19 = median_income_15_19[median_income_15_19.County.isin(statesonly) == False]"
   ]
  },
  {
   "cell_type": "code",
   "execution_count": 39,
   "id": "3b859a5d",
   "metadata": {
    "scrolled": true
   },
   "outputs": [
    {
     "name": "stdout",
     "output_type": "stream",
     "text": [
      "(3205, 7)\n"
     ]
    },
    {
     "name": "stderr",
     "output_type": "stream",
     "text": [
      "C:\\Users\\cookr\\AppData\\Local\\Temp/ipykernel_23540/1591957269.py:1: FutureWarning: In a future version of pandas all arguments of DataFrame.drop except for the argument 'labels' will be keyword-only\n",
      "  median_income_15_19.drop(['County'], 1, inplace=True)\n"
     ]
    },
    {
     "data": {
      "text/html": [
       "<div>\n",
       "<style scoped>\n",
       "    .dataframe tbody tr th:only-of-type {\n",
       "        vertical-align: middle;\n",
       "    }\n",
       "\n",
       "    .dataframe tbody tr th {\n",
       "        vertical-align: top;\n",
       "    }\n",
       "\n",
       "    .dataframe thead th {\n",
       "        text-align: right;\n",
       "    }\n",
       "</style>\n",
       "<table border=\"1\" class=\"dataframe\">\n",
       "  <thead>\n",
       "    <tr style=\"text-align: right;\">\n",
       "      <th></th>\n",
       "      <th>County_State</th>\n",
       "      <th>Abbrv</th>\n",
       "      <th>Median Household Income 2015</th>\n",
       "      <th>Median Household Income 2016</th>\n",
       "      <th>Median Household Income 2017</th>\n",
       "      <th>Median Household Income 2018</th>\n",
       "      <th>Median Household Income 2019</th>\n",
       "    </tr>\n",
       "  </thead>\n",
       "  <tbody>\n",
       "    <tr>\n",
       "      <th>2</th>\n",
       "      <td>Autauga County, AL</td>\n",
       "      <td>AL</td>\n",
       "      <td>56,580</td>\n",
       "      <td>54,487</td>\n",
       "      <td>58,343</td>\n",
       "      <td>59,338</td>\n",
       "      <td>58,233</td>\n",
       "    </tr>\n",
       "    <tr>\n",
       "      <th>3</th>\n",
       "      <td>Baldwin County, AL</td>\n",
       "      <td>AL</td>\n",
       "      <td>52,387</td>\n",
       "      <td>56,460</td>\n",
       "      <td>56,607</td>\n",
       "      <td>57,588</td>\n",
       "      <td>59,871</td>\n",
       "    </tr>\n",
       "    <tr>\n",
       "      <th>4</th>\n",
       "      <td>Barbour County, AL</td>\n",
       "      <td>AL</td>\n",
       "      <td>31,433</td>\n",
       "      <td>32,884</td>\n",
       "      <td>32,490</td>\n",
       "      <td>34,382</td>\n",
       "      <td>35,972</td>\n",
       "    </tr>\n",
       "    <tr>\n",
       "      <th>5</th>\n",
       "      <td>Bibb County, AL</td>\n",
       "      <td>AL</td>\n",
       "      <td>40,767</td>\n",
       "      <td>43,079</td>\n",
       "      <td>45,795</td>\n",
       "      <td>46,064</td>\n",
       "      <td>47,918</td>\n",
       "    </tr>\n",
       "    <tr>\n",
       "      <th>6</th>\n",
       "      <td>Blount County, AL</td>\n",
       "      <td>AL</td>\n",
       "      <td>50,487</td>\n",
       "      <td>47,213</td>\n",
       "      <td>48,253</td>\n",
       "      <td>50,412</td>\n",
       "      <td>52,902</td>\n",
       "    </tr>\n",
       "  </tbody>\n",
       "</table>\n",
       "</div>"
      ],
      "text/plain": [
       "         County_State Abbrv Median Household Income 2015  \\\n",
       "2  Autauga County, AL    AL                       56,580   \n",
       "3  Baldwin County, AL    AL                       52,387   \n",
       "4  Barbour County, AL    AL                       31,433   \n",
       "5     Bibb County, AL    AL                       40,767   \n",
       "6   Blount County, AL    AL                       50,487   \n",
       "\n",
       "  Median Household Income 2016 Median Household Income 2017  \\\n",
       "2                       54,487                       58,343   \n",
       "3                       56,460                       56,607   \n",
       "4                       32,884                       32,490   \n",
       "5                       43,079                       45,795   \n",
       "6                       47,213                       48,253   \n",
       "\n",
       "  Median Household Income 2018 Median Household Income 2019  \n",
       "2                       59,338                       58,233  \n",
       "3                       57,588                       59,871  \n",
       "4                       34,382                       35,972  \n",
       "5                       46,064                       47,918  \n",
       "6                       50,412                       52,902  "
      ]
     },
     "execution_count": 39,
     "metadata": {},
     "output_type": "execute_result"
    }
   ],
   "source": [
    "median_income_15_19.drop(['County'], 1, inplace=True)\n",
    "print(median_income_15_19.shape)\n",
    "median_income_15_19.head()"
   ]
  },
  {
   "cell_type": "code",
   "execution_count": 40,
   "id": "a64ff3f8",
   "metadata": {},
   "outputs": [
    {
     "data": {
      "text/plain": [
       "County_State                    object\n",
       "Abbrv                           object\n",
       "Median Household Income 2015    object\n",
       "Median Household Income 2016    object\n",
       "Median Household Income 2017    object\n",
       "Median Household Income 2018    object\n",
       "Median Household Income 2019    object\n",
       "dtype: object"
      ]
     },
     "execution_count": 40,
     "metadata": {},
     "output_type": "execute_result"
    }
   ],
   "source": [
    "median_income_15_19.dtypes"
   ]
  },
  {
   "cell_type": "code",
   "execution_count": 41,
   "id": "47b22ec1",
   "metadata": {
    "scrolled": true
   },
   "outputs": [
    {
     "name": "stderr",
     "output_type": "stream",
     "text": [
      "C:\\Users\\cookr\\AppData\\Local\\Temp/ipykernel_23540/175277883.py:1: FutureWarning: The default value of regex will change from True to False in a future version.\n",
      "  median_income_15_19['Median Household Income 2015'] = pd.to_numeric(median_income_15_19['Median Household Income 2015'].str.replace(r'[,.%]',''))\n"
     ]
    }
   ],
   "source": [
    "median_income_15_19['Median Household Income 2015'] = pd.to_numeric(median_income_15_19['Median Household Income 2015'].str.replace(r'[,.%]',''))\n"
   ]
  },
  {
   "cell_type": "code",
   "execution_count": 42,
   "id": "5dcc4982",
   "metadata": {
    "scrolled": true
   },
   "outputs": [
    {
     "name": "stderr",
     "output_type": "stream",
     "text": [
      "C:\\Users\\cookr\\AppData\\Local\\Temp/ipykernel_23540/1688586544.py:1: FutureWarning: The default value of regex will change from True to False in a future version.\n",
      "  median_income_15_19['Median Household Income 2016'] = pd.to_numeric(median_income_15_19['Median Household Income 2016'].str.replace(r'[,.%]',''))\n"
     ]
    }
   ],
   "source": [
    "median_income_15_19['Median Household Income 2016'] = pd.to_numeric(median_income_15_19['Median Household Income 2016'].str.replace(r'[,.%]',''))\n"
   ]
  },
  {
   "cell_type": "code",
   "execution_count": 43,
   "id": "a180448b",
   "metadata": {
    "scrolled": true
   },
   "outputs": [
    {
     "name": "stderr",
     "output_type": "stream",
     "text": [
      "C:\\Users\\cookr\\AppData\\Local\\Temp/ipykernel_23540/3877982973.py:1: FutureWarning: The default value of regex will change from True to False in a future version.\n",
      "  median_income_15_19['Median Household Income 2017'] = pd.to_numeric(median_income_15_19['Median Household Income 2017'].str.replace(r'[,.%]',''))\n"
     ]
    }
   ],
   "source": [
    "median_income_15_19['Median Household Income 2017'] = pd.to_numeric(median_income_15_19['Median Household Income 2017'].str.replace(r'[,.%]',''))\n"
   ]
  },
  {
   "cell_type": "code",
   "execution_count": 44,
   "id": "9e628b13",
   "metadata": {
    "scrolled": true
   },
   "outputs": [
    {
     "name": "stderr",
     "output_type": "stream",
     "text": [
      "C:\\Users\\cookr\\AppData\\Local\\Temp/ipykernel_23540/2698130151.py:1: FutureWarning: The default value of regex will change from True to False in a future version.\n",
      "  median_income_15_19['Median Household Income 2018'] = pd.to_numeric(median_income_15_19['Median Household Income 2018'].str.replace(r'[,.%]',''))\n"
     ]
    }
   ],
   "source": [
    "median_income_15_19['Median Household Income 2018'] = pd.to_numeric(median_income_15_19['Median Household Income 2018'].str.replace(r'[,.%]',''))\n"
   ]
  },
  {
   "cell_type": "code",
   "execution_count": 45,
   "id": "d6073573",
   "metadata": {
    "scrolled": true
   },
   "outputs": [
    {
     "name": "stderr",
     "output_type": "stream",
     "text": [
      "C:\\Users\\cookr\\AppData\\Local\\Temp/ipykernel_23540/303071221.py:1: FutureWarning: The default value of regex will change from True to False in a future version.\n",
      "  median_income_15_19['Median Household Income 2019'] = pd.to_numeric(median_income_15_19['Median Household Income 2019'].str.replace(r'[,.%]',''))\n"
     ]
    }
   ],
   "source": [
    "median_income_15_19['Median Household Income 2019'] = pd.to_numeric(median_income_15_19['Median Household Income 2019'].str.replace(r'[,.%]',''))\n"
   ]
  },
  {
   "cell_type": "code",
   "execution_count": 46,
   "id": "c57a3fc7",
   "metadata": {
    "scrolled": true
   },
   "outputs": [
    {
     "data": {
      "text/plain": [
       "County_State                     object\n",
       "Abbrv                            object\n",
       "Median Household Income 2015    float64\n",
       "Median Household Income 2016    float64\n",
       "Median Household Income 2017    float64\n",
       "Median Household Income 2018    float64\n",
       "Median Household Income 2019    float64\n",
       "dtype: object"
      ]
     },
     "execution_count": 46,
     "metadata": {},
     "output_type": "execute_result"
    }
   ],
   "source": [
    "median_income_15_19.dtypes"
   ]
  },
  {
   "cell_type": "code",
   "execution_count": 47,
   "id": "c28a03a8",
   "metadata": {},
   "outputs": [],
   "source": [
    "median_income_15_19['Median Household Income 2015'] = median_income_15_19['Median Household Income 2015'].astype('Int64')"
   ]
  },
  {
   "cell_type": "code",
   "execution_count": 48,
   "id": "4ed71e15",
   "metadata": {},
   "outputs": [],
   "source": [
    "median_income_15_19['Median Household Income 2016'] = median_income_15_19['Median Household Income 2016'].astype('Int64')"
   ]
  },
  {
   "cell_type": "code",
   "execution_count": 49,
   "id": "f489bebb",
   "metadata": {},
   "outputs": [],
   "source": [
    "median_income_15_19['Median Household Income 2017'] = median_income_15_19['Median Household Income 2017'].astype('Int64')"
   ]
  },
  {
   "cell_type": "code",
   "execution_count": 50,
   "id": "3eb1701d",
   "metadata": {},
   "outputs": [],
   "source": [
    "median_income_15_19['Median Household Income 2018'] = median_income_15_19['Median Household Income 2018'].astype('Int64')"
   ]
  },
  {
   "cell_type": "code",
   "execution_count": 51,
   "id": "02f146e8",
   "metadata": {},
   "outputs": [],
   "source": [
    "median_income_15_19['Median Household Income 2019'] = median_income_15_19['Median Household Income 2019'].astype('Int64')"
   ]
  },
  {
   "cell_type": "code",
   "execution_count": 52,
   "id": "b065de51",
   "metadata": {
    "scrolled": true
   },
   "outputs": [
    {
     "data": {
      "text/plain": [
       "County_State                    object\n",
       "Abbrv                           object\n",
       "Median Household Income 2015     Int64\n",
       "Median Household Income 2016     Int64\n",
       "Median Household Income 2017     Int64\n",
       "Median Household Income 2018     Int64\n",
       "Median Household Income 2019     Int64\n",
       "dtype: object"
      ]
     },
     "execution_count": 52,
     "metadata": {},
     "output_type": "execute_result"
    }
   ],
   "source": [
    "median_income_15_19.dtypes"
   ]
  },
  {
   "cell_type": "code",
   "execution_count": 53,
   "id": "d389c749",
   "metadata": {},
   "outputs": [],
   "source": [
    "median_income_15_19 = median_income_15_19.dropna()"
   ]
  },
  {
   "cell_type": "code",
   "execution_count": 54,
   "id": "0fbb419a",
   "metadata": {
    "scrolled": true
   },
   "outputs": [
    {
     "name": "stdout",
     "output_type": "stream",
     "text": [
      "(3204, 7)\n"
     ]
    },
    {
     "data": {
      "text/html": [
       "<div>\n",
       "<style scoped>\n",
       "    .dataframe tbody tr th:only-of-type {\n",
       "        vertical-align: middle;\n",
       "    }\n",
       "\n",
       "    .dataframe tbody tr th {\n",
       "        vertical-align: top;\n",
       "    }\n",
       "\n",
       "    .dataframe thead th {\n",
       "        text-align: right;\n",
       "    }\n",
       "</style>\n",
       "<table border=\"1\" class=\"dataframe\">\n",
       "  <thead>\n",
       "    <tr style=\"text-align: right;\">\n",
       "      <th></th>\n",
       "      <th>County_State</th>\n",
       "      <th>Abbrv</th>\n",
       "      <th>Median Household Income 2015</th>\n",
       "      <th>Median Household Income 2016</th>\n",
       "      <th>Median Household Income 2017</th>\n",
       "      <th>Median Household Income 2018</th>\n",
       "      <th>Median Household Income 2019</th>\n",
       "    </tr>\n",
       "  </thead>\n",
       "  <tbody>\n",
       "    <tr>\n",
       "      <th>2</th>\n",
       "      <td>Autauga County, AL</td>\n",
       "      <td>AL</td>\n",
       "      <td>56580</td>\n",
       "      <td>54487</td>\n",
       "      <td>58343</td>\n",
       "      <td>59338</td>\n",
       "      <td>58233</td>\n",
       "    </tr>\n",
       "    <tr>\n",
       "      <th>3</th>\n",
       "      <td>Baldwin County, AL</td>\n",
       "      <td>AL</td>\n",
       "      <td>52387</td>\n",
       "      <td>56460</td>\n",
       "      <td>56607</td>\n",
       "      <td>57588</td>\n",
       "      <td>59871</td>\n",
       "    </tr>\n",
       "    <tr>\n",
       "      <th>4</th>\n",
       "      <td>Barbour County, AL</td>\n",
       "      <td>AL</td>\n",
       "      <td>31433</td>\n",
       "      <td>32884</td>\n",
       "      <td>32490</td>\n",
       "      <td>34382</td>\n",
       "      <td>35972</td>\n",
       "    </tr>\n",
       "    <tr>\n",
       "      <th>5</th>\n",
       "      <td>Bibb County, AL</td>\n",
       "      <td>AL</td>\n",
       "      <td>40767</td>\n",
       "      <td>43079</td>\n",
       "      <td>45795</td>\n",
       "      <td>46064</td>\n",
       "      <td>47918</td>\n",
       "    </tr>\n",
       "    <tr>\n",
       "      <th>6</th>\n",
       "      <td>Blount County, AL</td>\n",
       "      <td>AL</td>\n",
       "      <td>50487</td>\n",
       "      <td>47213</td>\n",
       "      <td>48253</td>\n",
       "      <td>50412</td>\n",
       "      <td>52902</td>\n",
       "    </tr>\n",
       "  </tbody>\n",
       "</table>\n",
       "</div>"
      ],
      "text/plain": [
       "         County_State Abbrv  Median Household Income 2015  \\\n",
       "2  Autauga County, AL    AL                         56580   \n",
       "3  Baldwin County, AL    AL                         52387   \n",
       "4  Barbour County, AL    AL                         31433   \n",
       "5     Bibb County, AL    AL                         40767   \n",
       "6   Blount County, AL    AL                         50487   \n",
       "\n",
       "   Median Household Income 2016  Median Household Income 2017  \\\n",
       "2                         54487                         58343   \n",
       "3                         56460                         56607   \n",
       "4                         32884                         32490   \n",
       "5                         43079                         45795   \n",
       "6                         47213                         48253   \n",
       "\n",
       "   Median Household Income 2018  Median Household Income 2019  \n",
       "2                         59338                         58233  \n",
       "3                         57588                         59871  \n",
       "4                         34382                         35972  \n",
       "5                         46064                         47918  \n",
       "6                         50412                         52902  "
      ]
     },
     "execution_count": 54,
     "metadata": {},
     "output_type": "execute_result"
    }
   ],
   "source": [
    "print(median_income_15_19.shape)\n",
    "median_income_15_19.head()"
   ]
  },
  {
   "cell_type": "code",
   "execution_count": 56,
   "id": "7f4cca49",
   "metadata": {},
   "outputs": [
    {
     "name": "stdout",
     "output_type": "stream",
     "text": [
      "(3140, 7)\n"
     ]
    },
    {
     "data": {
      "text/html": [
       "<div>\n",
       "<style scoped>\n",
       "    .dataframe tbody tr th:only-of-type {\n",
       "        vertical-align: middle;\n",
       "    }\n",
       "\n",
       "    .dataframe tbody tr th {\n",
       "        vertical-align: top;\n",
       "    }\n",
       "\n",
       "    .dataframe thead th {\n",
       "        text-align: right;\n",
       "    }\n",
       "</style>\n",
       "<table border=\"1\" class=\"dataframe\">\n",
       "  <thead>\n",
       "    <tr style=\"text-align: right;\">\n",
       "      <th></th>\n",
       "      <th>County_State</th>\n",
       "      <th>Abbrv</th>\n",
       "      <th>Median Household Income 2015</th>\n",
       "      <th>Median Household Income 2016</th>\n",
       "      <th>Median Household Income 2017</th>\n",
       "      <th>Median Household Income 2018</th>\n",
       "      <th>Median Household Income 2019</th>\n",
       "    </tr>\n",
       "  </thead>\n",
       "  <tbody>\n",
       "    <tr>\n",
       "      <th>2</th>\n",
       "      <td>Autauga County, AL</td>\n",
       "      <td>AL</td>\n",
       "      <td>56580</td>\n",
       "      <td>54487</td>\n",
       "      <td>58343</td>\n",
       "      <td>59338</td>\n",
       "      <td>58233</td>\n",
       "    </tr>\n",
       "    <tr>\n",
       "      <th>3</th>\n",
       "      <td>Baldwin County, AL</td>\n",
       "      <td>AL</td>\n",
       "      <td>52387</td>\n",
       "      <td>56460</td>\n",
       "      <td>56607</td>\n",
       "      <td>57588</td>\n",
       "      <td>59871</td>\n",
       "    </tr>\n",
       "    <tr>\n",
       "      <th>4</th>\n",
       "      <td>Barbour County, AL</td>\n",
       "      <td>AL</td>\n",
       "      <td>31433</td>\n",
       "      <td>32884</td>\n",
       "      <td>32490</td>\n",
       "      <td>34382</td>\n",
       "      <td>35972</td>\n",
       "    </tr>\n",
       "    <tr>\n",
       "      <th>5</th>\n",
       "      <td>Bibb County, AL</td>\n",
       "      <td>AL</td>\n",
       "      <td>40767</td>\n",
       "      <td>43079</td>\n",
       "      <td>45795</td>\n",
       "      <td>46064</td>\n",
       "      <td>47918</td>\n",
       "    </tr>\n",
       "    <tr>\n",
       "      <th>6</th>\n",
       "      <td>Blount County, AL</td>\n",
       "      <td>AL</td>\n",
       "      <td>50487</td>\n",
       "      <td>47213</td>\n",
       "      <td>48253</td>\n",
       "      <td>50412</td>\n",
       "      <td>52902</td>\n",
       "    </tr>\n",
       "  </tbody>\n",
       "</table>\n",
       "</div>"
      ],
      "text/plain": [
       "         County_State Abbrv  Median Household Income 2015  \\\n",
       "2  Autauga County, AL    AL                         56580   \n",
       "3  Baldwin County, AL    AL                         52387   \n",
       "4  Barbour County, AL    AL                         31433   \n",
       "5     Bibb County, AL    AL                         40767   \n",
       "6   Blount County, AL    AL                         50487   \n",
       "\n",
       "   Median Household Income 2016  Median Household Income 2017  \\\n",
       "2                         54487                         58343   \n",
       "3                         56460                         56607   \n",
       "4                         32884                         32490   \n",
       "5                         43079                         45795   \n",
       "6                         47213                         48253   \n",
       "\n",
       "   Median Household Income 2018  Median Household Income 2019  \n",
       "2                         59338                         58233  \n",
       "3                         57588                         59871  \n",
       "4                         34382                         35972  \n",
       "5                         46064                         47918  \n",
       "6                         50412                         52902  "
      ]
     },
     "execution_count": 56,
     "metadata": {},
     "output_type": "execute_result"
    }
   ],
   "source": [
    "remove_dc_median_income_15_19 = median_income_15_19['County_State'] == 'District of Columbia, DC'\n",
    "median_income_15_19 = median_income_15_19[~remove_dc_median_income_15_19]\n",
    "print(median_income_15_19.shape)\n",
    "median_income_15_19.head()"
   ]
  },
  {
   "cell_type": "code",
   "execution_count": 57,
   "id": "ebe4f2b5",
   "metadata": {},
   "outputs": [],
   "source": [
    "median_income_15_19.to_csv('Resources/median_income_15_19_cook.csv', index=False)"
   ]
  },
  {
   "cell_type": "code",
   "execution_count": null,
   "id": "7ca33c0a",
   "metadata": {},
   "outputs": [],
   "source": []
  }
 ],
 "metadata": {
  "kernelspec": {
   "display_name": "PythonData",
   "language": "python",
   "name": "pythondata"
  },
  "language_info": {
   "codemirror_mode": {
    "name": "ipython",
    "version": 3
   },
   "file_extension": ".py",
   "mimetype": "text/x-python",
   "name": "python",
   "nbconvert_exporter": "python",
   "pygments_lexer": "ipython3",
   "version": "3.9.7"
  }
 },
 "nbformat": 4,
 "nbformat_minor": 5
}
