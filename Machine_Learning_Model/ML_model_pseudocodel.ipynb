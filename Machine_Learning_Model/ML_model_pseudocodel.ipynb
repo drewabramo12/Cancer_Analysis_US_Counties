{
 "cells": [
  {
   "cell_type": "code",
   "execution_count": 2,
   "id": "76e6fb6e",
   "metadata": {},
   "outputs": [],
   "source": [
    "#initial imports\n",
    "import pandas as pd\n",
    "import matplotlib.pyplot as plt \n",
    "from sklearn.preprocessing import StandardScaler, LabelEncoder\n",
    "from sklearn.linear_model import LinearRegression\n",
    "\n"
   ]
  },
  {
   "cell_type": "code",
   "execution_count": null,
   "id": "86185b3e",
   "metadata": {},
   "outputs": [],
   "source": [
    "#read in counties cancer dataframe (df is not yet complete, columns have not been finalized)\n",
    "#columns could include: Type of Cancer, age group, ethnicity, county population, level of medical service available in county, incidence measure (either count or rate),/\n",
    "#mortality measure (either count or rate), previous 5 year rate (mortality and incidence), poverty rate (or some measurement or average county income level)\n",
    "\n",
    "cancer_county_df = pd.read_csv(\"Resources/--)                           \n",
    "cancer_county_df.head()                            "
   ]
  },
  {
   "cell_type": "code",
   "execution_count": null,
   "id": "ec34caa0",
   "metadata": {},
   "outputs": [],
   "source": [
    "#preprocessing\n",
    "#encode gender with LabelEncoder\n",
    "#turn categorical columns (such as gender, ethnicity, medical service level) into multiple dummy columns/\n",
    "#using pandas get_dummmies\n",
    "#scale certain columns if they include very big values compared to other columns\n",
    "\n",
    "\n"
   ]
  },
  {
   "cell_type": "code",
   "execution_count": 14,
   "id": "d953cc07",
   "metadata": {},
   "outputs": [],
   "source": [
    "# create target and feautures for first regression (predicting incidence)\n",
    "y_incidence = cancer_county_df[#incidence measurement]\n",
    "X = cancer_county_df.drop(columns=[incidence, mortality]).values()\n",
    "    "
   ]
  },
  {
   "cell_type": "code",
   "execution_count": null,
   "id": "4b72e6c4",
   "metadata": {},
   "outputs": [],
   "source": [
    "#get shape of target array\n",
    "y_incicdence.shape"
   ]
  },
  {
   "cell_type": "code",
   "execution_count": null,
   "id": "bf54667b",
   "metadata": {},
   "outputs": [],
   "source": [
    "#get shape of feautures array\n",
    "X.shape"
   ]
  },
  {
   "cell_type": "code",
   "execution_count": null,
   "id": "7cb7044d",
   "metadata": {},
   "outputs": [],
   "source": [
    "#create instance of linear regression model\n",
    "model = LinearRegression()"
   ]
  },
  {
   "cell_type": "code",
   "execution_count": null,
   "id": "bce9bd7a",
   "metadata": {},
   "outputs": [],
   "source": [
    "#fit the incidence model\n",
    "regression_incidence = model.fit(X,y_incidence)"
   ]
  },
  {
   "cell_type": "code",
   "execution_count": null,
   "id": "2ef493b9",
   "metadata": {},
   "outputs": [],
   "source": [
    "#calculate coefficients\n",
    "regression_incidence.coef_"
   ]
  },
  {
   "cell_type": "code",
   "execution_count": null,
   "id": "cb7f9c7c",
   "metadata": {},
   "outputs": [],
   "source": [
    "#calculate intercept\n",
    "regression_incidence.intercept_"
   ]
  },
  {
   "cell_type": "code",
   "execution_count": null,
   "id": "829cd43b",
   "metadata": {},
   "outputs": [],
   "source": [
    "#get R2 value and p-values for every coefficient to determine strenth of model"
   ]
  },
  {
   "cell_type": "code",
   "execution_count": null,
   "id": "9f53b300",
   "metadata": {},
   "outputs": [],
   "source": [
    "#predict incidence measurement based on selected values for features\n",
    "regression_incidence.predict([choose value for every feature])\n",
    "\n",
    "\n",
    "\n"
   ]
  },
  {
   "cell_type": "code",
   "execution_count": null,
   "id": "9cf046aa",
   "metadata": {},
   "outputs": [],
   "source": [
    "#repeat the above steps but replace incidence with mortality\n",
    "y_mortality = cancer_county_df[#mortality measurement]"
   ]
  },
  {
   "cell_type": "code",
   "execution_count": null,
   "id": "634ae5a4",
   "metadata": {},
   "outputs": [],
   "source": [
    "#get shape of target array\n",
    "y_mortality.shape"
   ]
  },
  {
   "cell_type": "code",
   "execution_count": null,
   "id": "f4358b07",
   "metadata": {},
   "outputs": [],
   "source": [
    "#fit the mortality model\n",
    "regression_mortality = model.fit(X, y_mortality)"
   ]
  },
  {
   "cell_type": "code",
   "execution_count": null,
   "id": "614e1b5c",
   "metadata": {},
   "outputs": [],
   "source": [
    "#calculate coefficients\n",
    "regression_mortality.coef_"
   ]
  },
  {
   "cell_type": "code",
   "execution_count": null,
   "id": "8c7beec4",
   "metadata": {},
   "outputs": [],
   "source": [
    "#calculate intercept\n",
    "regression_mortality.intercept_"
   ]
  },
  {
   "cell_type": "code",
   "execution_count": null,
   "id": "36cc7464",
   "metadata": {},
   "outputs": [],
   "source": [
    "#get R2 value and p-values for every coefficient to determine strenth of model"
   ]
  },
  {
   "cell_type": "code",
   "execution_count": null,
   "id": "50c78412",
   "metadata": {},
   "outputs": [],
   "source": [
    "#predict mortality measurement based on selected values for features\n",
    "regression_mortality.predict([choose value for every feature])"
   ]
  },
  {
   "cell_type": "code",
   "execution_count": null,
   "id": "1f654205",
   "metadata": {},
   "outputs": [],
   "source": [
    "##NOTE: we may choose to split dataframe by gender and/or ethnicity and run regressions for each filtered df\n",
    "#Additionally, if this multiple linear regression model doensn't perform well, we will try alternative algorithms (possibly random forest)"
   ]
  }
 ],
 "metadata": {
  "kernelspec": {
   "display_name": "mlenv",
   "language": "python",
   "name": "mlenv"
  },
  "language_info": {
   "codemirror_mode": {
    "name": "ipython",
    "version": 3
   },
   "file_extension": ".py",
   "mimetype": "text/x-python",
   "name": "python",
   "nbconvert_exporter": "python",
   "pygments_lexer": "ipython3",
   "version": "3.7.11"
  }
 },
 "nbformat": 4,
 "nbformat_minor": 5
}
