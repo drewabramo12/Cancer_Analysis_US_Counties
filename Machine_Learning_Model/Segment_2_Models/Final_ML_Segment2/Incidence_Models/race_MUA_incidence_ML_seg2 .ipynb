{
 "cells": [
  {
   "cell_type": "code",
   "execution_count": 46,
   "id": "238a26ab",
   "metadata": {},
   "outputs": [],
   "source": [
    "#initial imports\n",
    "import pandas as pd\n",
    "import matplotlib.pyplot as plt \n",
    "from sklearn.preprocessing import StandardScaler, LabelEncoder\n",
    "from sklearn.linear_model import LinearRegression\n",
    "import statsmodels.api as sm\n",
    "import numpy as np \n",
    "from sklearn.metrics import r2_score\n",
    "from sklearn.model_selection import train_test_split\n",
    "from sklearn.tree import DecisionTreeRegressor \n",
    "import numpy as np"
   ]
  },
  {
   "cell_type": "code",
   "execution_count": 4,
   "id": "e78e7a47",
   "metadata": {},
   "outputs": [
    {
     "data": {
      "text/html": [
       "<div>\n",
       "<style scoped>\n",
       "    .dataframe tbody tr th:only-of-type {\n",
       "        vertical-align: middle;\n",
       "    }\n",
       "\n",
       "    .dataframe tbody tr th {\n",
       "        vertical-align: top;\n",
       "    }\n",
       "\n",
       "    .dataframe thead th {\n",
       "        text-align: right;\n",
       "    }\n",
       "</style>\n",
       "<table border=\"1\" class=\"dataframe\">\n",
       "  <thead>\n",
       "    <tr style=\"text-align: right;\">\n",
       "      <th></th>\n",
       "      <th>average_annual_count</th>\n",
       "      <th>primary_state_name</th>\n",
       "      <th>cancer</th>\n",
       "      <th>race_ethnicity</th>\n",
       "      <th>sex</th>\n",
       "      <th>age</th>\n",
       "      <th>age_adjusted_rate</th>\n",
       "      <th>county_state</th>\n",
       "      <th>index_of_medical_underservice_score</th>\n",
       "      <th>popestimate2015</th>\n",
       "      <th>popestimate2016</th>\n",
       "      <th>popestimate2017</th>\n",
       "      <th>popestimate2018</th>\n",
       "      <th>popestimate2019</th>\n",
       "    </tr>\n",
       "  </thead>\n",
       "  <tbody>\n",
       "    <tr>\n",
       "      <th>0</th>\n",
       "      <td>30</td>\n",
       "      <td>Alabama</td>\n",
       "      <td>All Cancer Sites</td>\n",
       "      <td>White (includes Hispanic)</td>\n",
       "      <td>All Sexes</td>\n",
       "      <td>All Ages</td>\n",
       "      <td>681.2</td>\n",
       "      <td>Lowndes County AL</td>\n",
       "      <td>54.0</td>\n",
       "      <td>10350</td>\n",
       "      <td>10248</td>\n",
       "      <td>10097</td>\n",
       "      <td>9974</td>\n",
       "      <td>9726</td>\n",
       "    </tr>\n",
       "    <tr>\n",
       "      <th>1</th>\n",
       "      <td>30</td>\n",
       "      <td>Alabama</td>\n",
       "      <td>All Cancer Sites</td>\n",
       "      <td>White Non-Hispanic</td>\n",
       "      <td>All Sexes</td>\n",
       "      <td>All Ages</td>\n",
       "      <td>694.0</td>\n",
       "      <td>Lowndes County AL</td>\n",
       "      <td>54.0</td>\n",
       "      <td>10350</td>\n",
       "      <td>10248</td>\n",
       "      <td>10097</td>\n",
       "      <td>9974</td>\n",
       "      <td>9726</td>\n",
       "    </tr>\n",
       "    <tr>\n",
       "      <th>2</th>\n",
       "      <td>51</td>\n",
       "      <td>Alabama</td>\n",
       "      <td>All Cancer Sites</td>\n",
       "      <td>Black (includes Hispanic)</td>\n",
       "      <td>All Sexes</td>\n",
       "      <td>All Ages</td>\n",
       "      <td>570.1</td>\n",
       "      <td>Lowndes County AL</td>\n",
       "      <td>54.0</td>\n",
       "      <td>10350</td>\n",
       "      <td>10248</td>\n",
       "      <td>10097</td>\n",
       "      <td>9974</td>\n",
       "      <td>9726</td>\n",
       "    </tr>\n",
       "    <tr>\n",
       "      <th>3</th>\n",
       "      <td>80</td>\n",
       "      <td>Alabama</td>\n",
       "      <td>All Cancer Sites</td>\n",
       "      <td>White (includes Hispanic)</td>\n",
       "      <td>All Sexes</td>\n",
       "      <td>All Ages</td>\n",
       "      <td>558.3</td>\n",
       "      <td>Crenshaw County AL</td>\n",
       "      <td>58.0</td>\n",
       "      <td>13850</td>\n",
       "      <td>13916</td>\n",
       "      <td>13858</td>\n",
       "      <td>13825</td>\n",
       "      <td>13772</td>\n",
       "    </tr>\n",
       "    <tr>\n",
       "      <th>4</th>\n",
       "      <td>80</td>\n",
       "      <td>Alabama</td>\n",
       "      <td>All Cancer Sites</td>\n",
       "      <td>White Non-Hispanic</td>\n",
       "      <td>All Sexes</td>\n",
       "      <td>All Ages</td>\n",
       "      <td>565.3</td>\n",
       "      <td>Crenshaw County AL</td>\n",
       "      <td>58.0</td>\n",
       "      <td>13850</td>\n",
       "      <td>13916</td>\n",
       "      <td>13858</td>\n",
       "      <td>13825</td>\n",
       "      <td>13772</td>\n",
       "    </tr>\n",
       "  </tbody>\n",
       "</table>\n",
       "</div>"
      ],
      "text/plain": [
       "   average_annual_count primary_state_name            cancer  \\\n",
       "0                    30            Alabama  All Cancer Sites   \n",
       "1                    30            Alabama  All Cancer Sites   \n",
       "2                    51            Alabama  All Cancer Sites   \n",
       "3                    80            Alabama  All Cancer Sites   \n",
       "4                    80            Alabama  All Cancer Sites   \n",
       "\n",
       "              race_ethnicity        sex       age age_adjusted_rate  \\\n",
       "0  White (includes Hispanic)  All Sexes  All Ages            681.2    \n",
       "1         White Non-Hispanic  All Sexes  All Ages            694.0    \n",
       "2  Black (includes Hispanic)  All Sexes  All Ages            570.1    \n",
       "3  White (includes Hispanic)  All Sexes  All Ages            558.3    \n",
       "4         White Non-Hispanic  All Sexes  All Ages            565.3    \n",
       "\n",
       "         county_state  index_of_medical_underservice_score  popestimate2015  \\\n",
       "0   Lowndes County AL                                 54.0            10350   \n",
       "1   Lowndes County AL                                 54.0            10350   \n",
       "2   Lowndes County AL                                 54.0            10350   \n",
       "3  Crenshaw County AL                                 58.0            13850   \n",
       "4  Crenshaw County AL                                 58.0            13850   \n",
       "\n",
       "   popestimate2016  popestimate2017  popestimate2018  popestimate2019  \n",
       "0            10248            10097             9974             9726  \n",
       "1            10248            10097             9974             9726  \n",
       "2            10248            10097             9974             9726  \n",
       "3            13916            13858            13825            13772  \n",
       "4            13916            13858            13825            13772  "
      ]
     },
     "execution_count": 4,
     "metadata": {},
     "output_type": "execute_result"
    }
   ],
   "source": [
    "#read in race incidence csv from github\n",
    "\n",
    "incidence_df = pd.read_csv(\"https://raw.githubusercontent.com/robyndook/Cancer_Treatment_Centers_California/main/Resources/Race_Incidence_Cancer_DB.csv\")                         \n",
    "#get rid of commas in columns\n",
    "incidence_df = incidence_df.replace(',','', regex=True)\n",
    "incidence_df.head()     "
   ]
  },
  {
   "cell_type": "code",
   "execution_count": 5,
   "id": "bb0ea0f7",
   "metadata": {},
   "outputs": [
    {
     "data": {
      "text/plain": [
       "average_annual_count                   9160\n",
       "primary_state_name                     9160\n",
       "cancer                                 9160\n",
       "race_ethnicity                         9160\n",
       "sex                                    9160\n",
       "age                                    9160\n",
       "age_adjusted_rate                      9160\n",
       "county_state                           9160\n",
       "index_of_medical_underservice_score    7931\n",
       "popestimate2015                        9160\n",
       "popestimate2016                        9160\n",
       "popestimate2017                        9160\n",
       "popestimate2018                        9160\n",
       "popestimate2019                        9160\n",
       "dtype: int64"
      ]
     },
     "execution_count": 5,
     "metadata": {},
     "output_type": "execute_result"
    }
   ],
   "source": [
    "#get count of rows\n",
    "incidence_df.count()"
   ]
  },
  {
   "cell_type": "code",
   "execution_count": 7,
   "id": "cf7b9e77",
   "metadata": {},
   "outputs": [
    {
     "data": {
      "text/plain": [
       "White (includes Hispanic)                       2643\n",
       "  White Non-Hispanic                            2335\n",
       "Black (includes Hispanic)                       1308\n",
       "Hispanic (any race)                             1009\n",
       "  White Hispanic                                 912\n",
       "Asian / Pacific Islander (includes Hispanic)     525\n",
       "Amer. Indian / AK Native (includes Hispanic)     428\n",
       "Name: race_ethnicity, dtype: int64"
      ]
     },
     "execution_count": 7,
     "metadata": {},
     "output_type": "execute_result"
    }
   ],
   "source": [
    "#get count of values for race\n",
    "incidence_df[\"race_ethnicity\"].value_counts()"
   ]
  },
  {
   "cell_type": "code",
   "execution_count": 8,
   "id": "98f52a67",
   "metadata": {},
   "outputs": [
    {
     "data": {
      "text/plain": [
       "1229"
      ]
     },
     "execution_count": 8,
     "metadata": {},
     "output_type": "execute_result"
    }
   ],
   "source": [
    "#get count of NA values for MUA\n",
    "incidence_df[\"index_of_medical_underservice_score\"].isna().sum()"
   ]
  },
  {
   "cell_type": "code",
   "execution_count": 9,
   "id": "4b746899",
   "metadata": {},
   "outputs": [],
   "source": [
    "#drop rows where MUA index is null\n",
    "incidence_df = incidence_df[incidence_df[\"index_of_medical_underservice_score\"].isna() == False]"
   ]
  },
  {
   "cell_type": "code",
   "execution_count": 10,
   "id": "04937a74",
   "metadata": {},
   "outputs": [
    {
     "name": "stderr",
     "output_type": "stream",
     "text": [
      "/Users/hankbowman/opt/anaconda3/envs/mlenv/lib/python3.7/site-packages/ipykernel_launcher.py:5: SettingWithCopyWarning: \n",
      "A value is trying to be set on a copy of a slice from a DataFrame.\n",
      "Try using .loc[row_indexer,col_indexer] = value instead\n",
      "\n",
      "See the caveats in the documentation: https://pandas.pydata.org/pandas-docs/stable/user_guide/indexing.html#returning-a-view-versus-a-copy\n",
      "  \"\"\"\n"
     ]
    },
    {
     "data": {
      "text/html": [
       "<div>\n",
       "<style scoped>\n",
       "    .dataframe tbody tr th:only-of-type {\n",
       "        vertical-align: middle;\n",
       "    }\n",
       "\n",
       "    .dataframe tbody tr th {\n",
       "        vertical-align: top;\n",
       "    }\n",
       "\n",
       "    .dataframe thead th {\n",
       "        text-align: right;\n",
       "    }\n",
       "</style>\n",
       "<table border=\"1\" class=\"dataframe\">\n",
       "  <thead>\n",
       "    <tr style=\"text-align: right;\">\n",
       "      <th></th>\n",
       "      <th>age_adjusted_rate</th>\n",
       "    </tr>\n",
       "  </thead>\n",
       "  <tbody>\n",
       "    <tr>\n",
       "      <th>0</th>\n",
       "      <td>681.2</td>\n",
       "    </tr>\n",
       "    <tr>\n",
       "      <th>1</th>\n",
       "      <td>694.0</td>\n",
       "    </tr>\n",
       "    <tr>\n",
       "      <th>2</th>\n",
       "      <td>570.1</td>\n",
       "    </tr>\n",
       "    <tr>\n",
       "      <th>3</th>\n",
       "      <td>558.3</td>\n",
       "    </tr>\n",
       "    <tr>\n",
       "      <th>4</th>\n",
       "      <td>565.3</td>\n",
       "    </tr>\n",
       "  </tbody>\n",
       "</table>\n",
       "</div>"
      ],
      "text/plain": [
       "   age_adjusted_rate\n",
       "0              681.2\n",
       "1              694.0\n",
       "2              570.1\n",
       "3              558.3\n",
       "4              565.3"
      ]
     },
     "execution_count": 10,
     "metadata": {},
     "output_type": "execute_result"
    }
   ],
   "source": [
    "#create target \n",
    "y = incidence_df[['age_adjusted_rate']]\n",
    "\n",
    "#change dtype to numeric\n",
    "y['age_adjusted_rate'] = y['age_adjusted_rate'].astype(float)\n",
    "y.head()"
   ]
  },
  {
   "cell_type": "code",
   "execution_count": 11,
   "id": "6450707a",
   "metadata": {},
   "outputs": [
    {
     "data": {
      "text/html": [
       "<div>\n",
       "<style scoped>\n",
       "    .dataframe tbody tr th:only-of-type {\n",
       "        vertical-align: middle;\n",
       "    }\n",
       "\n",
       "    .dataframe tbody tr th {\n",
       "        vertical-align: top;\n",
       "    }\n",
       "\n",
       "    .dataframe thead th {\n",
       "        text-align: right;\n",
       "    }\n",
       "</style>\n",
       "<table border=\"1\" class=\"dataframe\">\n",
       "  <thead>\n",
       "    <tr style=\"text-align: right;\">\n",
       "      <th></th>\n",
       "      <th>race_ethnicity</th>\n",
       "      <th>index_of_medical_underservice_score</th>\n",
       "    </tr>\n",
       "  </thead>\n",
       "  <tbody>\n",
       "    <tr>\n",
       "      <th>0</th>\n",
       "      <td>White (includes Hispanic)</td>\n",
       "      <td>54.0</td>\n",
       "    </tr>\n",
       "    <tr>\n",
       "      <th>1</th>\n",
       "      <td>White Non-Hispanic</td>\n",
       "      <td>54.0</td>\n",
       "    </tr>\n",
       "    <tr>\n",
       "      <th>2</th>\n",
       "      <td>Black (includes Hispanic)</td>\n",
       "      <td>54.0</td>\n",
       "    </tr>\n",
       "    <tr>\n",
       "      <th>3</th>\n",
       "      <td>White (includes Hispanic)</td>\n",
       "      <td>58.0</td>\n",
       "    </tr>\n",
       "    <tr>\n",
       "      <th>4</th>\n",
       "      <td>White Non-Hispanic</td>\n",
       "      <td>58.0</td>\n",
       "    </tr>\n",
       "  </tbody>\n",
       "</table>\n",
       "</div>"
      ],
      "text/plain": [
       "              race_ethnicity  index_of_medical_underservice_score\n",
       "0  White (includes Hispanic)                                 54.0\n",
       "1         White Non-Hispanic                                 54.0\n",
       "2  Black (includes Hispanic)                                 54.0\n",
       "3  White (includes Hispanic)                                 58.0\n",
       "4         White Non-Hispanic                                 58.0"
      ]
     },
     "execution_count": 11,
     "metadata": {},
     "output_type": "execute_result"
    }
   ],
   "source": [
    "#create feautures variable holding ages\n",
    "X = incidence_df[[\"race_ethnicity\", \"index_of_medical_underservice_score\"]]\n",
    "X.head()"
   ]
  },
  {
   "cell_type": "code",
   "execution_count": 12,
   "id": "81967ef9",
   "metadata": {},
   "outputs": [
    {
     "data": {
      "text/html": [
       "<div>\n",
       "<style scoped>\n",
       "    .dataframe tbody tr th:only-of-type {\n",
       "        vertical-align: middle;\n",
       "    }\n",
       "\n",
       "    .dataframe tbody tr th {\n",
       "        vertical-align: top;\n",
       "    }\n",
       "\n",
       "    .dataframe thead th {\n",
       "        text-align: right;\n",
       "    }\n",
       "</style>\n",
       "<table border=\"1\" class=\"dataframe\">\n",
       "  <thead>\n",
       "    <tr style=\"text-align: right;\">\n",
       "      <th></th>\n",
       "      <th>index_of_medical_underservice_score</th>\n",
       "      <th>race_ethnicity_Amer. Indian / AK Native (includes Hispanic)</th>\n",
       "      <th>race_ethnicity_Asian / Pacific Islander (includes Hispanic)</th>\n",
       "      <th>race_ethnicity_Black (includes Hispanic)</th>\n",
       "      <th>race_ethnicity_Hispanic (any race)</th>\n",
       "      <th>race_ethnicity_White (includes Hispanic)</th>\n",
       "      <th>race_ethnicity_  White Hispanic</th>\n",
       "      <th>race_ethnicity_  White Non-Hispanic</th>\n",
       "    </tr>\n",
       "  </thead>\n",
       "  <tbody>\n",
       "    <tr>\n",
       "      <th>0</th>\n",
       "      <td>54.0</td>\n",
       "      <td>0</td>\n",
       "      <td>0</td>\n",
       "      <td>0</td>\n",
       "      <td>0</td>\n",
       "      <td>1</td>\n",
       "      <td>0</td>\n",
       "      <td>0</td>\n",
       "    </tr>\n",
       "    <tr>\n",
       "      <th>1</th>\n",
       "      <td>54.0</td>\n",
       "      <td>0</td>\n",
       "      <td>0</td>\n",
       "      <td>0</td>\n",
       "      <td>0</td>\n",
       "      <td>0</td>\n",
       "      <td>0</td>\n",
       "      <td>1</td>\n",
       "    </tr>\n",
       "    <tr>\n",
       "      <th>2</th>\n",
       "      <td>54.0</td>\n",
       "      <td>0</td>\n",
       "      <td>0</td>\n",
       "      <td>1</td>\n",
       "      <td>0</td>\n",
       "      <td>0</td>\n",
       "      <td>0</td>\n",
       "      <td>0</td>\n",
       "    </tr>\n",
       "    <tr>\n",
       "      <th>3</th>\n",
       "      <td>58.0</td>\n",
       "      <td>0</td>\n",
       "      <td>0</td>\n",
       "      <td>0</td>\n",
       "      <td>0</td>\n",
       "      <td>1</td>\n",
       "      <td>0</td>\n",
       "      <td>0</td>\n",
       "    </tr>\n",
       "    <tr>\n",
       "      <th>4</th>\n",
       "      <td>58.0</td>\n",
       "      <td>0</td>\n",
       "      <td>0</td>\n",
       "      <td>0</td>\n",
       "      <td>0</td>\n",
       "      <td>0</td>\n",
       "      <td>0</td>\n",
       "      <td>1</td>\n",
       "    </tr>\n",
       "  </tbody>\n",
       "</table>\n",
       "</div>"
      ],
      "text/plain": [
       "   index_of_medical_underservice_score  \\\n",
       "0                                 54.0   \n",
       "1                                 54.0   \n",
       "2                                 54.0   \n",
       "3                                 58.0   \n",
       "4                                 58.0   \n",
       "\n",
       "   race_ethnicity_Amer. Indian / AK Native (includes Hispanic)  \\\n",
       "0                                                  0             \n",
       "1                                                  0             \n",
       "2                                                  0             \n",
       "3                                                  0             \n",
       "4                                                  0             \n",
       "\n",
       "   race_ethnicity_Asian / Pacific Islander (includes Hispanic)  \\\n",
       "0                                                  0             \n",
       "1                                                  0             \n",
       "2                                                  0             \n",
       "3                                                  0             \n",
       "4                                                  0             \n",
       "\n",
       "   race_ethnicity_Black (includes Hispanic)  \\\n",
       "0                                         0   \n",
       "1                                         0   \n",
       "2                                         1   \n",
       "3                                         0   \n",
       "4                                         0   \n",
       "\n",
       "   race_ethnicity_Hispanic (any race)  \\\n",
       "0                                   0   \n",
       "1                                   0   \n",
       "2                                   0   \n",
       "3                                   0   \n",
       "4                                   0   \n",
       "\n",
       "   race_ethnicity_White (includes Hispanic)  race_ethnicity_  White Hispanic  \\\n",
       "0                                         1                                0   \n",
       "1                                         0                                0   \n",
       "2                                         0                                0   \n",
       "3                                         1                                0   \n",
       "4                                         0                                0   \n",
       "\n",
       "   race_ethnicity_  White Non-Hispanic  \n",
       "0                                    0  \n",
       "1                                    1  \n",
       "2                                    0  \n",
       "3                                    0  \n",
       "4                                    1  "
      ]
     },
     "execution_count": 12,
     "metadata": {},
     "output_type": "execute_result"
    }
   ],
   "source": [
    "#create dummy variables for age\n",
    "X = pd.get_dummies(X, columns=[\"race_ethnicity\"])\n",
    "X.head()"
   ]
  },
  {
   "cell_type": "code",
   "execution_count": 13,
   "id": "2aa76633",
   "metadata": {},
   "outputs": [
    {
     "data": {
      "text/plain": [
       "(7931, 1)"
      ]
     },
     "execution_count": 13,
     "metadata": {},
     "output_type": "execute_result"
    }
   ],
   "source": [
    "#get shape of target array\n",
    "y.shape"
   ]
  },
  {
   "cell_type": "code",
   "execution_count": 14,
   "id": "1280b889",
   "metadata": {},
   "outputs": [
    {
     "data": {
      "text/plain": [
       "(7931, 8)"
      ]
     },
     "execution_count": 14,
     "metadata": {},
     "output_type": "execute_result"
    }
   ],
   "source": [
    "#get shape of feautures array\n",
    "X.shape"
   ]
  },
  {
   "cell_type": "code",
   "execution_count": 15,
   "id": "481444e9",
   "metadata": {},
   "outputs": [],
   "source": [
    "#split data\n",
    "X_train, X_test, y_train, y_test = train_test_split(X, y)"
   ]
  },
  {
   "cell_type": "code",
   "execution_count": 16,
   "id": "d2527940",
   "metadata": {},
   "outputs": [],
   "source": [
    "#create linear regression model using sklearn\n",
    "model = LinearRegression()"
   ]
  },
  {
   "cell_type": "code",
   "execution_count": 17,
   "id": "f8ddaed7",
   "metadata": {},
   "outputs": [],
   "source": [
    "#fit the model\n",
    "regression_race_MUA_incidence = model.fit(X_train ,y_train)"
   ]
  },
  {
   "cell_type": "code",
   "execution_count": 19,
   "id": "c7765a0d",
   "metadata": {},
   "outputs": [
    {
     "data": {
      "text/plain": [
       "array([[424.57808079],\n",
       "       [450.15734848],\n",
       "       [451.10011881],\n",
       "       ...,\n",
       "       [452.04288915],\n",
       "       [451.10011881],\n",
       "       [449.69488993]])"
      ]
     },
     "execution_count": 19,
     "metadata": {},
     "output_type": "execute_result"
    }
   ],
   "source": [
    "#Create predictions array using linear regression\n",
    "y_pred = regression_race_MUA_incidence.predict(X_test)\n",
    "y_pred"
   ]
  },
  {
   "cell_type": "code",
   "execution_count": 20,
   "id": "d80f5562",
   "metadata": {},
   "outputs": [
    {
     "data": {
      "text/plain": [
       "0.2778661304937293"
      ]
     },
     "execution_count": 20,
     "metadata": {},
     "output_type": "execute_result"
    }
   ],
   "source": [
    "#get R2 value from linear regression\n",
    "from sklearn.metrics import r2_score\n",
    "r2_score(y_test, y_pred)"
   ]
  },
  {
   "cell_type": "code",
   "execution_count": 33,
   "id": "d168955c",
   "metadata": {},
   "outputs": [
    {
     "name": "stderr",
     "output_type": "stream",
     "text": [
      "/Users/hankbowman/opt/anaconda3/envs/mlenv/lib/python3.7/site-packages/statsmodels/tsa/tsatools.py:142: FutureWarning: In a future version of pandas all arguments of concat except for the argument 'objs' will be keyword-only\n",
      "  x = pd.concat(x[::order], 1)\n"
     ]
    }
   ],
   "source": [
    "#run regression again with statsmodels\n",
    "#use statsmodels to add constant to X\n",
    "#add constant to X\n",
    "X1 = sm.add_constant(X)"
   ]
  },
  {
   "cell_type": "code",
   "execution_count": 40,
   "id": "5ebb7adf",
   "metadata": {},
   "outputs": [],
   "source": [
    "#fit linear regression model\n",
    "model = sm.OLS(y, X1).fit()"
   ]
  },
  {
   "cell_type": "code",
   "execution_count": 41,
   "id": "9695608b",
   "metadata": {},
   "outputs": [
    {
     "name": "stdout",
     "output_type": "stream",
     "text": [
      "                            OLS Regression Results                            \n",
      "==============================================================================\n",
      "Dep. Variable:      age_adjusted_rate   R-squared:                       0.232\n",
      "Model:                            OLS   Adj. R-squared:                  0.231\n",
      "Method:                 Least Squares   F-statistic:                     342.0\n",
      "Date:                Sun, 29 May 2022   Prob (F-statistic):               0.00\n",
      "Time:                        14:13:45   Log-Likelihood:                -47692.\n",
      "No. Observations:                7931   AIC:                         9.540e+04\n",
      "Df Residuals:                    7923   BIC:                         9.546e+04\n",
      "Df Model:                           7                                         \n",
      "Covariance Type:            nonrobust                                         \n",
      "===============================================================================================================================\n",
      "                                                                  coef    std err          t      P>|t|      [0.025      0.975]\n",
      "-------------------------------------------------------------------------------------------------------------------------------\n",
      "const                                                         350.0110      4.041     86.614      0.000     342.089     357.932\n",
      "index_of_medical_underservice_score                            -0.1116      0.086     -1.304      0.192      -0.279       0.056\n",
      "race_ethnicity_Amer. Indian / AK Native (includes Hispanic)    80.1975      4.489     17.866      0.000      71.398      88.997\n",
      "race_ethnicity_Asian / Pacific Islander (includes Hispanic)   -61.8954      4.147    -14.925      0.000     -70.025     -53.766\n",
      "race_ethnicity_Black (includes Hispanic)                      111.2735      2.808     39.632      0.000     105.770     116.777\n",
      "race_ethnicity_Hispanic (any race)                              3.6806      3.219      1.143      0.253      -2.629       9.990\n",
      "race_ethnicity_White (includes Hispanic)                      107.1165      2.222     48.204      0.000     102.760     111.473\n",
      "race_ethnicity_  White Hispanic                                 1.1411      3.369      0.339      0.735      -5.464       7.746\n",
      "race_ethnicity_  White Non-Hispanic                           108.4972      2.313     46.900      0.000     103.962     113.032\n",
      "==============================================================================\n",
      "Omnibus:                     6760.042   Durbin-Watson:                   1.425\n",
      "Prob(Omnibus):                  0.000   Jarque-Bera (JB):           838605.349\n",
      "Skew:                           3.485   Prob(JB):                         0.00\n",
      "Kurtosis:                      52.891   Cond. No.                     4.95e+17\n",
      "==============================================================================\n",
      "\n",
      "Notes:\n",
      "[1] Standard Errors assume that the covariance matrix of the errors is correctly specified.\n",
      "[2] The smallest eigenvalue is 9.22e-29. This might indicate that there are\n",
      "strong multicollinearity problems or that the design matrix is singular.\n"
     ]
    }
   ],
   "source": [
    "#view model summary with statsmodels\n",
    "print(model.summary())"
   ]
  },
  {
   "cell_type": "code",
   "execution_count": 42,
   "id": "27fb6f89",
   "metadata": {},
   "outputs": [],
   "source": [
    "##decision tree model\n",
    "#split data\n",
    "X_train, X_test, y_train, y_test = train_test_split(X, y)"
   ]
  },
  {
   "cell_type": "code",
   "execution_count": 43,
   "id": "e657087d",
   "metadata": {},
   "outputs": [
    {
     "data": {
      "text/plain": [
       "DecisionTreeRegressor()"
      ]
     },
     "execution_count": 43,
     "metadata": {},
     "output_type": "execute_result"
    }
   ],
   "source": [
    "#fit the model with training data\n",
    "regressor_DT = DecisionTreeRegressor()\n",
    "regressor_DT.fit(X_train, y_train)"
   ]
  },
  {
   "cell_type": "code",
   "execution_count": 44,
   "id": "18e6ac94",
   "metadata": {},
   "outputs": [
    {
     "data": {
      "text/plain": [
       "array([436.35      , 436.45142857, 443.5       , ..., 388.15      ,\n",
       "       452.03618421, 455.83030303])"
      ]
     },
     "execution_count": 44,
     "metadata": {},
     "output_type": "execute_result"
    }
   ],
   "source": [
    "#predict\n",
    "y_pred = regressor_DT.predict(X)\n",
    "y_pred"
   ]
  },
  {
   "cell_type": "code",
   "execution_count": 45,
   "id": "74325c04",
   "metadata": {},
   "outputs": [
    {
     "data": {
      "text/plain": [
       "0.31184415741166505"
      ]
     },
     "execution_count": 45,
     "metadata": {},
     "output_type": "execute_result"
    }
   ],
   "source": [
    "\n",
    "#calculate r2 score\n",
    "r2_score(y, y_pred)"
   ]
  }
 ],
 "metadata": {
  "kernelspec": {
   "display_name": "mlenv",
   "language": "python",
   "name": "mlenv"
  },
  "language_info": {
   "codemirror_mode": {
    "name": "ipython",
    "version": 3
   },
   "file_extension": ".py",
   "mimetype": "text/x-python",
   "name": "python",
   "nbconvert_exporter": "python",
   "pygments_lexer": "ipython3",
   "version": "3.7.11"
  }
 },
 "nbformat": 4,
 "nbformat_minor": 5
}
