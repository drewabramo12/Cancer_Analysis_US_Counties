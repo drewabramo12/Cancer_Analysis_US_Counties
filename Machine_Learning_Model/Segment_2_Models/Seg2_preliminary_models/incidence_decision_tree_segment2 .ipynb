{
 "cells": [
  {
   "cell_type": "code",
   "execution_count": 55,
   "id": "76e6fb6e",
   "metadata": {},
   "outputs": [],
   "source": [
    "#initial imports\n",
    "import pandas as pd\n",
    "import matplotlib.pyplot as plt \n",
    "from sklearn.preprocessing import StandardScaler, LabelEncoder\n",
    "from sklearn.linear_model import LinearRegression\n",
    "import statsmodels.api as sm\n",
    "import numpy as np \n",
    "from sklearn.metrics import r2_score\n",
    "from sklearn.model_selection import train_test_split\n",
    "\n"
   ]
  },
  {
   "cell_type": "code",
   "execution_count": 56,
   "id": "86185b3e",
   "metadata": {},
   "outputs": [
    {
     "data": {
      "text/html": [
       "<div>\n",
       "<style scoped>\n",
       "    .dataframe tbody tr th:only-of-type {\n",
       "        vertical-align: middle;\n",
       "    }\n",
       "\n",
       "    .dataframe tbody tr th {\n",
       "        vertical-align: top;\n",
       "    }\n",
       "\n",
       "    .dataframe thead th {\n",
       "        text-align: right;\n",
       "    }\n",
       "</style>\n",
       "<table border=\"1\" class=\"dataframe\">\n",
       "  <thead>\n",
       "    <tr style=\"text-align: right;\">\n",
       "      <th></th>\n",
       "      <th>County</th>\n",
       "      <th>Average Annual Count</th>\n",
       "      <th>Recent Trend</th>\n",
       "      <th>State</th>\n",
       "      <th>Cancer</th>\n",
       "      <th>Race/Ethnicity</th>\n",
       "      <th>Sex</th>\n",
       "      <th>Age</th>\n",
       "      <th>Age-Adjusted Incidence Rate cases per 100,000</th>\n",
       "      <th>CI*Rank</th>\n",
       "      <th>Recent 5-Year Trend in Incidence Rates</th>\n",
       "    </tr>\n",
       "  </thead>\n",
       "  <tbody>\n",
       "    <tr>\n",
       "      <th>0</th>\n",
       "      <td>Lowndes County  6</td>\n",
       "      <td>30</td>\n",
       "      <td>rising</td>\n",
       "      <td>Alabama</td>\n",
       "      <td>All Cancer Sites</td>\n",
       "      <td>White (includes Hispanic)</td>\n",
       "      <td>All Sexes</td>\n",
       "      <td>All Ages</td>\n",
       "      <td>681.2</td>\n",
       "      <td>1</td>\n",
       "      <td>11.7</td>\n",
       "    </tr>\n",
       "    <tr>\n",
       "      <th>1</th>\n",
       "      <td>Crenshaw County  6</td>\n",
       "      <td>80</td>\n",
       "      <td>rising</td>\n",
       "      <td>Alabama</td>\n",
       "      <td>All Cancer Sites</td>\n",
       "      <td>White (includes Hispanic)</td>\n",
       "      <td>All Sexes</td>\n",
       "      <td>All Ages</td>\n",
       "      <td>558.3</td>\n",
       "      <td>2</td>\n",
       "      <td>2.7</td>\n",
       "    </tr>\n",
       "    <tr>\n",
       "      <th>2</th>\n",
       "      <td>Greene County  6</td>\n",
       "      <td>15</td>\n",
       "      <td>stable</td>\n",
       "      <td>Alabama</td>\n",
       "      <td>All Cancer Sites</td>\n",
       "      <td>White (includes Hispanic)</td>\n",
       "      <td>All Sexes</td>\n",
       "      <td>All Ages</td>\n",
       "      <td>542.5</td>\n",
       "      <td>3</td>\n",
       "      <td>1.5</td>\n",
       "    </tr>\n",
       "    <tr>\n",
       "      <th>3</th>\n",
       "      <td>Chambers County  6</td>\n",
       "      <td>158</td>\n",
       "      <td>stable</td>\n",
       "      <td>Alabama</td>\n",
       "      <td>All Cancer Sites</td>\n",
       "      <td>White (includes Hispanic)</td>\n",
       "      <td>All Sexes</td>\n",
       "      <td>All Ages</td>\n",
       "      <td>519.5</td>\n",
       "      <td>4</td>\n",
       "      <td>0.3</td>\n",
       "    </tr>\n",
       "    <tr>\n",
       "      <th>4</th>\n",
       "      <td>Walker County  6</td>\n",
       "      <td>418</td>\n",
       "      <td>stable</td>\n",
       "      <td>Alabama</td>\n",
       "      <td>All Cancer Sites</td>\n",
       "      <td>White (includes Hispanic)</td>\n",
       "      <td>All Sexes</td>\n",
       "      <td>All Ages</td>\n",
       "      <td>509.3</td>\n",
       "      <td>5</td>\n",
       "      <td>0.4</td>\n",
       "    </tr>\n",
       "  </tbody>\n",
       "</table>\n",
       "</div>"
      ],
      "text/plain": [
       "               County Average Annual Count Recent Trend    State  \\\n",
       "0   Lowndes County  6                   30       rising  Alabama   \n",
       "1  Crenshaw County  6                   80       rising  Alabama   \n",
       "2    Greene County  6                   15       stable  Alabama   \n",
       "3  Chambers County  6                  158       stable  Alabama   \n",
       "4    Walker County  6                  418       stable  Alabama   \n",
       "\n",
       "             Cancer             Race/Ethnicity        Sex       Age  \\\n",
       "0  All Cancer Sites  White (includes Hispanic)  All Sexes  All Ages   \n",
       "1  All Cancer Sites  White (includes Hispanic)  All Sexes  All Ages   \n",
       "2  All Cancer Sites  White (includes Hispanic)  All Sexes  All Ages   \n",
       "3  All Cancer Sites  White (includes Hispanic)  All Sexes  All Ages   \n",
       "4  All Cancer Sites  White (includes Hispanic)  All Sexes  All Ages   \n",
       "\n",
       "  Age-Adjusted Incidence Rate cases per 100,000 CI*Rank  \\\n",
       "0                                        681.2       1    \n",
       "1                                        558.3       2    \n",
       "2                                        542.5       3    \n",
       "3                                        519.5       4    \n",
       "4                                        509.3       5    \n",
       "\n",
       "  Recent 5-Year Trend in Incidence Rates  \n",
       "0                                  11.7   \n",
       "1                                   2.7   \n",
       "2                                   1.5   \n",
       "3                                   0.3   \n",
       "4                                   0.4   "
      ]
     },
     "execution_count": 56,
     "metadata": {},
     "output_type": "execute_result"
    }
   ],
   "source": [
    "#read in incidence csv from github\n",
    "\n",
    "incidence_df = pd.read_csv(\"https://raw.githubusercontent.com/robyndook/Cancer_Treatment_Centers_California/abramo_data_analysis/Abramo_Web_Scraping/Incidence_data.csv\")                         \n",
    "#get rid of commas in trend columns\n",
    "incidence_df = incidence_df.replace(',','', regex=True)\n",
    "incidence_df.head()                            "
   ]
  },
  {
   "cell_type": "code",
   "execution_count": 57,
   "id": "43d2d248",
   "metadata": {},
   "outputs": [
    {
     "data": {
      "text/plain": [
       "Index(['County', 'Average Annual Count', 'Recent Trend', 'State', 'Cancer',\n",
       "       'Race/Ethnicity', 'Sex', 'Age',\n",
       "       'Age-Adjusted Incidence Rate cases per 100,000', 'CI*Rank',\n",
       "       'Recent 5-Year Trend in Incidence Rates'],\n",
       "      dtype='object')"
      ]
     },
     "execution_count": 57,
     "metadata": {},
     "output_type": "execute_result"
    }
   ],
   "source": [
    "#check column names\n",
    "incidence_df.columns"
   ]
  },
  {
   "cell_type": "code",
   "execution_count": 58,
   "id": "56553437",
   "metadata": {},
   "outputs": [],
   "source": [
    "#drop unnecessary columns\n",
    "incidence_df = incidence_df.drop(columns=[\"CI*Rank\"])"
   ]
  },
  {
   "cell_type": "code",
   "execution_count": 59,
   "id": "c595ecea",
   "metadata": {},
   "outputs": [
    {
     "data": {
      "text/html": [
       "<div>\n",
       "<style scoped>\n",
       "    .dataframe tbody tr th:only-of-type {\n",
       "        vertical-align: middle;\n",
       "    }\n",
       "\n",
       "    .dataframe tbody tr th {\n",
       "        vertical-align: top;\n",
       "    }\n",
       "\n",
       "    .dataframe thead th {\n",
       "        text-align: right;\n",
       "    }\n",
       "</style>\n",
       "<table border=\"1\" class=\"dataframe\">\n",
       "  <thead>\n",
       "    <tr style=\"text-align: right;\">\n",
       "      <th></th>\n",
       "      <th>County</th>\n",
       "      <th>Average Annual Count</th>\n",
       "      <th>Recent Trend</th>\n",
       "      <th>State</th>\n",
       "      <th>Cancer</th>\n",
       "      <th>Race/Ethnicity</th>\n",
       "      <th>Sex</th>\n",
       "      <th>Age</th>\n",
       "      <th>Age-Adjusted Incidence Rate cases per 100,000</th>\n",
       "      <th>Recent 5-Year Trend in Incidence Rates</th>\n",
       "    </tr>\n",
       "  </thead>\n",
       "  <tbody>\n",
       "    <tr>\n",
       "      <th>0</th>\n",
       "      <td>Lowndes County  6</td>\n",
       "      <td>30</td>\n",
       "      <td>rising</td>\n",
       "      <td>Alabama</td>\n",
       "      <td>All Cancer Sites</td>\n",
       "      <td>White (includes Hispanic)</td>\n",
       "      <td>All Sexes</td>\n",
       "      <td>All Ages</td>\n",
       "      <td>681.2</td>\n",
       "      <td>11.7</td>\n",
       "    </tr>\n",
       "    <tr>\n",
       "      <th>1</th>\n",
       "      <td>Crenshaw County  6</td>\n",
       "      <td>80</td>\n",
       "      <td>rising</td>\n",
       "      <td>Alabama</td>\n",
       "      <td>All Cancer Sites</td>\n",
       "      <td>White (includes Hispanic)</td>\n",
       "      <td>All Sexes</td>\n",
       "      <td>All Ages</td>\n",
       "      <td>558.3</td>\n",
       "      <td>2.7</td>\n",
       "    </tr>\n",
       "    <tr>\n",
       "      <th>2</th>\n",
       "      <td>Greene County  6</td>\n",
       "      <td>15</td>\n",
       "      <td>stable</td>\n",
       "      <td>Alabama</td>\n",
       "      <td>All Cancer Sites</td>\n",
       "      <td>White (includes Hispanic)</td>\n",
       "      <td>All Sexes</td>\n",
       "      <td>All Ages</td>\n",
       "      <td>542.5</td>\n",
       "      <td>1.5</td>\n",
       "    </tr>\n",
       "    <tr>\n",
       "      <th>3</th>\n",
       "      <td>Chambers County  6</td>\n",
       "      <td>158</td>\n",
       "      <td>stable</td>\n",
       "      <td>Alabama</td>\n",
       "      <td>All Cancer Sites</td>\n",
       "      <td>White (includes Hispanic)</td>\n",
       "      <td>All Sexes</td>\n",
       "      <td>All Ages</td>\n",
       "      <td>519.5</td>\n",
       "      <td>0.3</td>\n",
       "    </tr>\n",
       "    <tr>\n",
       "      <th>4</th>\n",
       "      <td>Walker County  6</td>\n",
       "      <td>418</td>\n",
       "      <td>stable</td>\n",
       "      <td>Alabama</td>\n",
       "      <td>All Cancer Sites</td>\n",
       "      <td>White (includes Hispanic)</td>\n",
       "      <td>All Sexes</td>\n",
       "      <td>All Ages</td>\n",
       "      <td>509.3</td>\n",
       "      <td>0.4</td>\n",
       "    </tr>\n",
       "  </tbody>\n",
       "</table>\n",
       "</div>"
      ],
      "text/plain": [
       "               County Average Annual Count Recent Trend    State  \\\n",
       "0   Lowndes County  6                   30       rising  Alabama   \n",
       "1  Crenshaw County  6                   80       rising  Alabama   \n",
       "2    Greene County  6                   15       stable  Alabama   \n",
       "3  Chambers County  6                  158       stable  Alabama   \n",
       "4    Walker County  6                  418       stable  Alabama   \n",
       "\n",
       "             Cancer             Race/Ethnicity        Sex       Age  \\\n",
       "0  All Cancer Sites  White (includes Hispanic)  All Sexes  All Ages   \n",
       "1  All Cancer Sites  White (includes Hispanic)  All Sexes  All Ages   \n",
       "2  All Cancer Sites  White (includes Hispanic)  All Sexes  All Ages   \n",
       "3  All Cancer Sites  White (includes Hispanic)  All Sexes  All Ages   \n",
       "4  All Cancer Sites  White (includes Hispanic)  All Sexes  All Ages   \n",
       "\n",
       "  Age-Adjusted Incidence Rate cases per 100,000  \\\n",
       "0                                        681.2    \n",
       "1                                        558.3    \n",
       "2                                        542.5    \n",
       "3                                        519.5    \n",
       "4                                        509.3    \n",
       "\n",
       "  Recent 5-Year Trend in Incidence Rates  \n",
       "0                                  11.7   \n",
       "1                                   2.7   \n",
       "2                                   1.5   \n",
       "3                                   0.3   \n",
       "4                                   0.4   "
      ]
     },
     "execution_count": 59,
     "metadata": {},
     "output_type": "execute_result"
    }
   ],
   "source": [
    "#view updated dataframe\n",
    "incidence_df.head()"
   ]
  },
  {
   "cell_type": "code",
   "execution_count": 60,
   "id": "58f7632a",
   "metadata": {},
   "outputs": [
    {
     "data": {
      "text/plain": [
       "County                                           37803\n",
       "Average Annual Count                             37803\n",
       "Recent Trend                                     37803\n",
       "State                                            37803\n",
       "Cancer                                           37803\n",
       "Race/Ethnicity                                   37803\n",
       "Sex                                              37803\n",
       "Age                                              37803\n",
       "Age-Adjusted Incidence Rate cases per 100,000    37803\n",
       "Recent 5-Year Trend in Incidence Rates           37803\n",
       "dtype: int64"
      ]
     },
     "execution_count": 60,
     "metadata": {},
     "output_type": "execute_result"
    }
   ],
   "source": [
    "#get count of rows\n",
    "incidence_df.count()"
   ]
  },
  {
   "cell_type": "code",
   "execution_count": 61,
   "id": "cfc077b5",
   "metadata": {},
   "outputs": [
    {
     "data": {
      "text/plain": [
       "County                                           24545\n",
       "Average Annual Count                             24545\n",
       "Recent Trend                                     24545\n",
       "State                                            24545\n",
       "Cancer                                           24545\n",
       "Race/Ethnicity                                   24545\n",
       "Sex                                              24545\n",
       "Age                                              24545\n",
       "Age-Adjusted Incidence Rate cases per 100,000    24545\n",
       "Recent 5-Year Trend in Incidence Rates           24545\n",
       "dtype: int64"
      ]
     },
     "execution_count": 61,
     "metadata": {},
     "output_type": "execute_result"
    }
   ],
   "source": [
    "#drop rows that lack incidence data\n",
    "#NOTE: We may look for an alternative to dropping these rows in future segments\n",
    "incidence_df = incidence_df[incidence_df[\"Age-Adjusted Incidence Rate cases per 100,000\"] != \"*\"]\n",
    "incidence_df = incidence_df[incidence_df[\"Recent 5-Year Trend in Incidence Rates\"] != \"*\"]\n",
    "#count rows again\n",
    "incidence_df.count()"
   ]
  },
  {
   "cell_type": "code",
   "execution_count": 62,
   "id": "c24a2d9d",
   "metadata": {},
   "outputs": [
    {
     "name": "stderr",
     "output_type": "stream",
     "text": [
      "/Users/hankbowman/opt/anaconda3/envs/mlenv/lib/python3.7/site-packages/ipykernel_launcher.py:5: SettingWithCopyWarning: \n",
      "A value is trying to be set on a copy of a slice from a DataFrame.\n",
      "Try using .loc[row_indexer,col_indexer] = value instead\n",
      "\n",
      "See the caveats in the documentation: https://pandas.pydata.org/pandas-docs/stable/user_guide/indexing.html#returning-a-view-versus-a-copy\n",
      "  \"\"\"\n"
     ]
    }
   ],
   "source": [
    "#create target \n",
    "y = incidence_df[['Age-Adjusted Incidence Rate cases per 100,000']]\n",
    "\n",
    "#change dtype to numeric\n",
    "y['Age-Adjusted Incidence Rate cases per 100,000'] = y['Age-Adjusted Incidence Rate cases per 100,000'].astype(float)\n",
    "y = y.values"
   ]
  },
  {
   "cell_type": "code",
   "execution_count": 63,
   "id": "89f77808",
   "metadata": {},
   "outputs": [
    {
     "data": {
      "text/html": [
       "<div>\n",
       "<style scoped>\n",
       "    .dataframe tbody tr th:only-of-type {\n",
       "        vertical-align: middle;\n",
       "    }\n",
       "\n",
       "    .dataframe tbody tr th {\n",
       "        vertical-align: top;\n",
       "    }\n",
       "\n",
       "    .dataframe thead th {\n",
       "        text-align: right;\n",
       "    }\n",
       "</style>\n",
       "<table border=\"1\" class=\"dataframe\">\n",
       "  <thead>\n",
       "    <tr style=\"text-align: right;\">\n",
       "      <th></th>\n",
       "      <th>State</th>\n",
       "      <th>Race/Ethnicity</th>\n",
       "      <th>Recent 5-Year Trend in Incidence Rates</th>\n",
       "    </tr>\n",
       "  </thead>\n",
       "  <tbody>\n",
       "    <tr>\n",
       "      <th>0</th>\n",
       "      <td>Alabama</td>\n",
       "      <td>White (includes Hispanic)</td>\n",
       "      <td>11.7</td>\n",
       "    </tr>\n",
       "    <tr>\n",
       "      <th>1</th>\n",
       "      <td>Alabama</td>\n",
       "      <td>White (includes Hispanic)</td>\n",
       "      <td>2.7</td>\n",
       "    </tr>\n",
       "    <tr>\n",
       "      <th>2</th>\n",
       "      <td>Alabama</td>\n",
       "      <td>White (includes Hispanic)</td>\n",
       "      <td>1.5</td>\n",
       "    </tr>\n",
       "    <tr>\n",
       "      <th>3</th>\n",
       "      <td>Alabama</td>\n",
       "      <td>White (includes Hispanic)</td>\n",
       "      <td>0.3</td>\n",
       "    </tr>\n",
       "    <tr>\n",
       "      <th>4</th>\n",
       "      <td>Alabama</td>\n",
       "      <td>White (includes Hispanic)</td>\n",
       "      <td>0.4</td>\n",
       "    </tr>\n",
       "  </tbody>\n",
       "</table>\n",
       "</div>"
      ],
      "text/plain": [
       "     State             Race/Ethnicity Recent 5-Year Trend in Incidence Rates\n",
       "0  Alabama  White (includes Hispanic)                                  11.7 \n",
       "1  Alabama  White (includes Hispanic)                                   2.7 \n",
       "2  Alabama  White (includes Hispanic)                                   1.5 \n",
       "3  Alabama  White (includes Hispanic)                                   0.3 \n",
       "4  Alabama  White (includes Hispanic)                                   0.4 "
      ]
     },
     "execution_count": 63,
     "metadata": {},
     "output_type": "execute_result"
    }
   ],
   "source": [
    "#create feautures variable\n",
    "#NOTE: Data gathering is not yet fully complete\n",
    "##Final model features will also include gender, county statistics (population, MUA index, income metrics), and possibly type of cancer\n",
    "X = incidence_df[[\"State\", \"Race/Ethnicity\", \"Recent 5-Year Trend in Incidence Rates\"]]\n",
    "X.head()"
   ]
  },
  {
   "cell_type": "code",
   "execution_count": 64,
   "id": "3deeb2cd",
   "metadata": {},
   "outputs": [
    {
     "name": "stderr",
     "output_type": "stream",
     "text": [
      "/Users/hankbowman/opt/anaconda3/envs/mlenv/lib/python3.7/site-packages/ipykernel_launcher.py:2: SettingWithCopyWarning: \n",
      "A value is trying to be set on a copy of a slice from a DataFrame.\n",
      "Try using .loc[row_indexer,col_indexer] = value instead\n",
      "\n",
      "See the caveats in the documentation: https://pandas.pydata.org/pandas-docs/stable/user_guide/indexing.html#returning-a-view-versus-a-copy\n",
      "  \n"
     ]
    },
    {
     "data": {
      "text/plain": [
       "State                                      object\n",
       "Race/Ethnicity                             object\n",
       "Recent 5-Year Trend in Incidence Rates    float64\n",
       "dtype: object"
      ]
     },
     "execution_count": 64,
     "metadata": {},
     "output_type": "execute_result"
    }
   ],
   "source": [
    "#change 5-year trend column to float\n",
    "X['Recent 5-Year Trend in Incidence Rates'] = pd.to_numeric(X['Recent 5-Year Trend in Incidence Rates'])\n",
    "X.dtypes"
   ]
  },
  {
   "cell_type": "code",
   "execution_count": 65,
   "id": "762b7a48",
   "metadata": {},
   "outputs": [],
   "source": [
    "#create dummy variables for state and race\n",
    "X = pd.get_dummies(X, columns=['State','Race/Ethnicity'])\n",
    "X = X.values"
   ]
  },
  {
   "cell_type": "code",
   "execution_count": 66,
   "id": "4b72e6c4",
   "metadata": {},
   "outputs": [
    {
     "data": {
      "text/plain": [
       "(24545, 1)"
      ]
     },
     "execution_count": 66,
     "metadata": {},
     "output_type": "execute_result"
    }
   ],
   "source": [
    "#get shape of target array\n",
    "y.shape"
   ]
  },
  {
   "cell_type": "code",
   "execution_count": 67,
   "id": "bf54667b",
   "metadata": {},
   "outputs": [
    {
     "data": {
      "text/plain": [
       "(24545, 54)"
      ]
     },
     "execution_count": 67,
     "metadata": {},
     "output_type": "execute_result"
    }
   ],
   "source": [
    "#get shape of feautures array\n",
    "X.shape"
   ]
  },
  {
   "cell_type": "code",
   "execution_count": 68,
   "id": "886fe14c",
   "metadata": {},
   "outputs": [
    {
     "data": {
      "text/plain": [
       "DecisionTreeRegressor()"
      ]
     },
     "execution_count": 68,
     "metadata": {},
     "output_type": "execute_result"
    }
   ],
   "source": [
    "# import the regressor\n",
    "from sklearn.tree import DecisionTreeRegressor \n",
    "regressor = DecisionTreeRegressor()\n",
    "regressor.fit(X, y)"
   ]
  },
  {
   "cell_type": "code",
   "execution_count": 69,
   "id": "2d9256bc",
   "metadata": {},
   "outputs": [],
   "source": [
    "#predict\n",
    "y_pred = regressor.predict(X)"
   ]
  },
  {
   "cell_type": "code",
   "execution_count": 70,
   "id": "f63915bb",
   "metadata": {},
   "outputs": [
    {
     "data": {
      "text/plain": [
       "0.3356906026628729"
      ]
     },
     "execution_count": 70,
     "metadata": {},
     "output_type": "execute_result"
    }
   ],
   "source": [
    "\n",
    "#calculate r2 score\n",
    "r2_score(y, y_pred)"
   ]
  },
  {
   "cell_type": "code",
   "execution_count": 71,
   "id": "7cb7044d",
   "metadata": {},
   "outputs": [],
   "source": [
    "#run again with split data\n",
    "X_train, X_test, y_train, y_test = train_test_split(X, y)"
   ]
  },
  {
   "cell_type": "code",
   "execution_count": 72,
   "id": "bce9bd7a",
   "metadata": {},
   "outputs": [
    {
     "data": {
      "text/plain": [
       "DecisionTreeRegressor()"
      ]
     },
     "execution_count": 72,
     "metadata": {},
     "output_type": "execute_result"
    }
   ],
   "source": [
    "#fit the model with trained data\n",
    "regressor2 = DecisionTreeRegressor()\n",
    "regressor2.fit(X_train, y_train)"
   ]
  },
  {
   "cell_type": "code",
   "execution_count": 73,
   "id": "2ef493b9",
   "metadata": {},
   "outputs": [],
   "source": [
    "#make pred with test data\n",
    "y_pred_2 = regressor.predict(X_test)"
   ]
  },
  {
   "cell_type": "code",
   "execution_count": 75,
   "id": "a2bc6464",
   "metadata": {},
   "outputs": [
    {
     "data": {
      "text/plain": [
       "0.33508153333213675"
      ]
     },
     "execution_count": 75,
     "metadata": {},
     "output_type": "execute_result"
    }
   ],
   "source": [
    "\n",
    "#calculate r2 score\n",
    "r2_score(y_test, y_pred_2)"
   ]
  },
  {
   "cell_type": "code",
   "execution_count": null,
   "id": "17b13d61",
   "metadata": {},
   "outputs": [],
   "source": []
  }
 ],
 "metadata": {
  "kernelspec": {
   "display_name": "mlenv",
   "language": "python",
   "name": "mlenv"
  },
  "language_info": {
   "codemirror_mode": {
    "name": "ipython",
    "version": 3
   },
   "file_extension": ".py",
   "mimetype": "text/x-python",
   "name": "python",
   "nbconvert_exporter": "python",
   "pygments_lexer": "ipython3",
   "version": "3.7.11"
  }
 },
 "nbformat": 4,
 "nbformat_minor": 5
}
