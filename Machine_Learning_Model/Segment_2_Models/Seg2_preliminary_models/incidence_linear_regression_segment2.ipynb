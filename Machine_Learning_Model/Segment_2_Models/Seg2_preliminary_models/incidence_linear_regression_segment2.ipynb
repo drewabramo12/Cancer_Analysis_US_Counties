{
 "cells": [
  {
   "cell_type": "code",
   "execution_count": 1,
   "id": "76e6fb6e",
   "metadata": {},
   "outputs": [],
   "source": [
    "#initial imports\n",
    "import pandas as pd\n",
    "import matplotlib.pyplot as plt \n",
    "from sklearn.preprocessing import StandardScaler, LabelEncoder\n",
    "from sklearn.linear_model import LinearRegression\n",
    "import statsmodels.api as sm\n",
    "\n"
   ]
  },
  {
   "cell_type": "code",
   "execution_count": 2,
   "id": "86185b3e",
   "metadata": {},
   "outputs": [
    {
     "data": {
      "text/html": [
       "<div>\n",
       "<style scoped>\n",
       "    .dataframe tbody tr th:only-of-type {\n",
       "        vertical-align: middle;\n",
       "    }\n",
       "\n",
       "    .dataframe tbody tr th {\n",
       "        vertical-align: top;\n",
       "    }\n",
       "\n",
       "    .dataframe thead th {\n",
       "        text-align: right;\n",
       "    }\n",
       "</style>\n",
       "<table border=\"1\" class=\"dataframe\">\n",
       "  <thead>\n",
       "    <tr style=\"text-align: right;\">\n",
       "      <th></th>\n",
       "      <th>County</th>\n",
       "      <th>Average Annual Count</th>\n",
       "      <th>Recent Trend</th>\n",
       "      <th>State</th>\n",
       "      <th>Cancer</th>\n",
       "      <th>Race/Ethnicity</th>\n",
       "      <th>Sex</th>\n",
       "      <th>Age</th>\n",
       "      <th>Age-Adjusted Incidence Rate cases per 100,000</th>\n",
       "      <th>CI*Rank</th>\n",
       "      <th>Recent 5-Year Trend in Incidence Rates</th>\n",
       "    </tr>\n",
       "  </thead>\n",
       "  <tbody>\n",
       "    <tr>\n",
       "      <th>0</th>\n",
       "      <td>Lowndes County  6</td>\n",
       "      <td>30</td>\n",
       "      <td>rising</td>\n",
       "      <td>Alabama</td>\n",
       "      <td>All Cancer Sites</td>\n",
       "      <td>White (includes Hispanic)</td>\n",
       "      <td>All Sexes</td>\n",
       "      <td>All Ages</td>\n",
       "      <td>681.2</td>\n",
       "      <td>1</td>\n",
       "      <td>11.7</td>\n",
       "    </tr>\n",
       "    <tr>\n",
       "      <th>1</th>\n",
       "      <td>Crenshaw County  6</td>\n",
       "      <td>80</td>\n",
       "      <td>rising</td>\n",
       "      <td>Alabama</td>\n",
       "      <td>All Cancer Sites</td>\n",
       "      <td>White (includes Hispanic)</td>\n",
       "      <td>All Sexes</td>\n",
       "      <td>All Ages</td>\n",
       "      <td>558.3</td>\n",
       "      <td>2</td>\n",
       "      <td>2.7</td>\n",
       "    </tr>\n",
       "    <tr>\n",
       "      <th>2</th>\n",
       "      <td>Greene County  6</td>\n",
       "      <td>15</td>\n",
       "      <td>stable</td>\n",
       "      <td>Alabama</td>\n",
       "      <td>All Cancer Sites</td>\n",
       "      <td>White (includes Hispanic)</td>\n",
       "      <td>All Sexes</td>\n",
       "      <td>All Ages</td>\n",
       "      <td>542.5</td>\n",
       "      <td>3</td>\n",
       "      <td>1.5</td>\n",
       "    </tr>\n",
       "    <tr>\n",
       "      <th>3</th>\n",
       "      <td>Chambers County  6</td>\n",
       "      <td>158</td>\n",
       "      <td>stable</td>\n",
       "      <td>Alabama</td>\n",
       "      <td>All Cancer Sites</td>\n",
       "      <td>White (includes Hispanic)</td>\n",
       "      <td>All Sexes</td>\n",
       "      <td>All Ages</td>\n",
       "      <td>519.5</td>\n",
       "      <td>4</td>\n",
       "      <td>0.3</td>\n",
       "    </tr>\n",
       "    <tr>\n",
       "      <th>4</th>\n",
       "      <td>Walker County  6</td>\n",
       "      <td>418</td>\n",
       "      <td>stable</td>\n",
       "      <td>Alabama</td>\n",
       "      <td>All Cancer Sites</td>\n",
       "      <td>White (includes Hispanic)</td>\n",
       "      <td>All Sexes</td>\n",
       "      <td>All Ages</td>\n",
       "      <td>509.3</td>\n",
       "      <td>5</td>\n",
       "      <td>0.4</td>\n",
       "    </tr>\n",
       "  </tbody>\n",
       "</table>\n",
       "</div>"
      ],
      "text/plain": [
       "               County Average Annual Count Recent Trend    State  \\\n",
       "0   Lowndes County  6                   30       rising  Alabama   \n",
       "1  Crenshaw County  6                   80       rising  Alabama   \n",
       "2    Greene County  6                   15       stable  Alabama   \n",
       "3  Chambers County  6                  158       stable  Alabama   \n",
       "4    Walker County  6                  418       stable  Alabama   \n",
       "\n",
       "             Cancer             Race/Ethnicity        Sex       Age  \\\n",
       "0  All Cancer Sites  White (includes Hispanic)  All Sexes  All Ages   \n",
       "1  All Cancer Sites  White (includes Hispanic)  All Sexes  All Ages   \n",
       "2  All Cancer Sites  White (includes Hispanic)  All Sexes  All Ages   \n",
       "3  All Cancer Sites  White (includes Hispanic)  All Sexes  All Ages   \n",
       "4  All Cancer Sites  White (includes Hispanic)  All Sexes  All Ages   \n",
       "\n",
       "  Age-Adjusted Incidence Rate cases per 100,000 CI*Rank  \\\n",
       "0                                        681.2       1    \n",
       "1                                        558.3       2    \n",
       "2                                        542.5       3    \n",
       "3                                        519.5       4    \n",
       "4                                        509.3       5    \n",
       "\n",
       "  Recent 5-Year Trend in Incidence Rates  \n",
       "0                                  11.7   \n",
       "1                                   2.7   \n",
       "2                                   1.5   \n",
       "3                                   0.3   \n",
       "4                                   0.4   "
      ]
     },
     "execution_count": 2,
     "metadata": {},
     "output_type": "execute_result"
    }
   ],
   "source": [
    "#read in age incidence csv from github\n",
    "\n",
    "incidence_df = pd.read_csv(\"https://raw.githubusercontent.com/robyndook/Cancer_Treatment_Centers_California/abramo_data_analysis/Abramo_Web_Scraping/Incidence_data.csv\")                         \n",
    "#get rid of commas in trend columns\n",
    "incidence_df = incidence_df.replace(',','', regex=True)\n",
    "incidence_df.head()                            "
   ]
  },
  {
   "cell_type": "code",
   "execution_count": 3,
   "id": "43d2d248",
   "metadata": {},
   "outputs": [
    {
     "data": {
      "text/plain": [
       "Index(['County', 'Average Annual Count', 'Recent Trend', 'State', 'Cancer',\n",
       "       'Race/Ethnicity', 'Sex', 'Age',\n",
       "       'Age-Adjusted Incidence Rate cases per 100,000', 'CI*Rank',\n",
       "       'Recent 5-Year Trend in Incidence Rates'],\n",
       "      dtype='object')"
      ]
     },
     "execution_count": 3,
     "metadata": {},
     "output_type": "execute_result"
    }
   ],
   "source": [
    "#check column names\n",
    "incidence_df.columns"
   ]
  },
  {
   "cell_type": "code",
   "execution_count": 4,
   "id": "56553437",
   "metadata": {},
   "outputs": [],
   "source": [
    "#drop unnecessary columns\n",
    "incidence_df = incidence_df.drop(columns=[\"CI*Rank\"])"
   ]
  },
  {
   "cell_type": "code",
   "execution_count": 5,
   "id": "c595ecea",
   "metadata": {},
   "outputs": [
    {
     "data": {
      "text/html": [
       "<div>\n",
       "<style scoped>\n",
       "    .dataframe tbody tr th:only-of-type {\n",
       "        vertical-align: middle;\n",
       "    }\n",
       "\n",
       "    .dataframe tbody tr th {\n",
       "        vertical-align: top;\n",
       "    }\n",
       "\n",
       "    .dataframe thead th {\n",
       "        text-align: right;\n",
       "    }\n",
       "</style>\n",
       "<table border=\"1\" class=\"dataframe\">\n",
       "  <thead>\n",
       "    <tr style=\"text-align: right;\">\n",
       "      <th></th>\n",
       "      <th>County</th>\n",
       "      <th>Average Annual Count</th>\n",
       "      <th>Recent Trend</th>\n",
       "      <th>State</th>\n",
       "      <th>Cancer</th>\n",
       "      <th>Race/Ethnicity</th>\n",
       "      <th>Sex</th>\n",
       "      <th>Age</th>\n",
       "      <th>Age-Adjusted Incidence Rate cases per 100,000</th>\n",
       "      <th>Recent 5-Year Trend in Incidence Rates</th>\n",
       "    </tr>\n",
       "  </thead>\n",
       "  <tbody>\n",
       "    <tr>\n",
       "      <th>0</th>\n",
       "      <td>Lowndes County  6</td>\n",
       "      <td>30</td>\n",
       "      <td>rising</td>\n",
       "      <td>Alabama</td>\n",
       "      <td>All Cancer Sites</td>\n",
       "      <td>White (includes Hispanic)</td>\n",
       "      <td>All Sexes</td>\n",
       "      <td>All Ages</td>\n",
       "      <td>681.2</td>\n",
       "      <td>11.7</td>\n",
       "    </tr>\n",
       "    <tr>\n",
       "      <th>1</th>\n",
       "      <td>Crenshaw County  6</td>\n",
       "      <td>80</td>\n",
       "      <td>rising</td>\n",
       "      <td>Alabama</td>\n",
       "      <td>All Cancer Sites</td>\n",
       "      <td>White (includes Hispanic)</td>\n",
       "      <td>All Sexes</td>\n",
       "      <td>All Ages</td>\n",
       "      <td>558.3</td>\n",
       "      <td>2.7</td>\n",
       "    </tr>\n",
       "    <tr>\n",
       "      <th>2</th>\n",
       "      <td>Greene County  6</td>\n",
       "      <td>15</td>\n",
       "      <td>stable</td>\n",
       "      <td>Alabama</td>\n",
       "      <td>All Cancer Sites</td>\n",
       "      <td>White (includes Hispanic)</td>\n",
       "      <td>All Sexes</td>\n",
       "      <td>All Ages</td>\n",
       "      <td>542.5</td>\n",
       "      <td>1.5</td>\n",
       "    </tr>\n",
       "    <tr>\n",
       "      <th>3</th>\n",
       "      <td>Chambers County  6</td>\n",
       "      <td>158</td>\n",
       "      <td>stable</td>\n",
       "      <td>Alabama</td>\n",
       "      <td>All Cancer Sites</td>\n",
       "      <td>White (includes Hispanic)</td>\n",
       "      <td>All Sexes</td>\n",
       "      <td>All Ages</td>\n",
       "      <td>519.5</td>\n",
       "      <td>0.3</td>\n",
       "    </tr>\n",
       "    <tr>\n",
       "      <th>4</th>\n",
       "      <td>Walker County  6</td>\n",
       "      <td>418</td>\n",
       "      <td>stable</td>\n",
       "      <td>Alabama</td>\n",
       "      <td>All Cancer Sites</td>\n",
       "      <td>White (includes Hispanic)</td>\n",
       "      <td>All Sexes</td>\n",
       "      <td>All Ages</td>\n",
       "      <td>509.3</td>\n",
       "      <td>0.4</td>\n",
       "    </tr>\n",
       "  </tbody>\n",
       "</table>\n",
       "</div>"
      ],
      "text/plain": [
       "               County Average Annual Count Recent Trend    State  \\\n",
       "0   Lowndes County  6                   30       rising  Alabama   \n",
       "1  Crenshaw County  6                   80       rising  Alabama   \n",
       "2    Greene County  6                   15       stable  Alabama   \n",
       "3  Chambers County  6                  158       stable  Alabama   \n",
       "4    Walker County  6                  418       stable  Alabama   \n",
       "\n",
       "             Cancer             Race/Ethnicity        Sex       Age  \\\n",
       "0  All Cancer Sites  White (includes Hispanic)  All Sexes  All Ages   \n",
       "1  All Cancer Sites  White (includes Hispanic)  All Sexes  All Ages   \n",
       "2  All Cancer Sites  White (includes Hispanic)  All Sexes  All Ages   \n",
       "3  All Cancer Sites  White (includes Hispanic)  All Sexes  All Ages   \n",
       "4  All Cancer Sites  White (includes Hispanic)  All Sexes  All Ages   \n",
       "\n",
       "  Age-Adjusted Incidence Rate cases per 100,000  \\\n",
       "0                                        681.2    \n",
       "1                                        558.3    \n",
       "2                                        542.5    \n",
       "3                                        519.5    \n",
       "4                                        509.3    \n",
       "\n",
       "  Recent 5-Year Trend in Incidence Rates  \n",
       "0                                  11.7   \n",
       "1                                   2.7   \n",
       "2                                   1.5   \n",
       "3                                   0.3   \n",
       "4                                   0.4   "
      ]
     },
     "execution_count": 5,
     "metadata": {},
     "output_type": "execute_result"
    }
   ],
   "source": [
    "#view updated dataframe\n",
    "incidence_df.head()"
   ]
  },
  {
   "cell_type": "code",
   "execution_count": 6,
   "id": "58f7632a",
   "metadata": {},
   "outputs": [
    {
     "data": {
      "text/plain": [
       "County                                           37803\n",
       "Average Annual Count                             37803\n",
       "Recent Trend                                     37803\n",
       "State                                            37803\n",
       "Cancer                                           37803\n",
       "Race/Ethnicity                                   37803\n",
       "Sex                                              37803\n",
       "Age                                              37803\n",
       "Age-Adjusted Incidence Rate cases per 100,000    37803\n",
       "Recent 5-Year Trend in Incidence Rates           37803\n",
       "dtype: int64"
      ]
     },
     "execution_count": 6,
     "metadata": {},
     "output_type": "execute_result"
    }
   ],
   "source": [
    "#get count of rows\n",
    "incidence_df.count()"
   ]
  },
  {
   "cell_type": "code",
   "execution_count": 7,
   "id": "cfc077b5",
   "metadata": {},
   "outputs": [
    {
     "data": {
      "text/plain": [
       "County                                           24545\n",
       "Average Annual Count                             24545\n",
       "Recent Trend                                     24545\n",
       "State                                            24545\n",
       "Cancer                                           24545\n",
       "Race/Ethnicity                                   24545\n",
       "Sex                                              24545\n",
       "Age                                              24545\n",
       "Age-Adjusted Incidence Rate cases per 100,000    24545\n",
       "Recent 5-Year Trend in Incidence Rates           24545\n",
       "dtype: int64"
      ]
     },
     "execution_count": 7,
     "metadata": {},
     "output_type": "execute_result"
    }
   ],
   "source": [
    "#drop rows that lack incidence data\n",
    "#NOTE: We may look for an alternative to dropping these rows in future segments\n",
    "incidence_df = incidence_df[incidence_df[\"Age-Adjusted Incidence Rate cases per 100,000\"] != \"*\"]\n",
    "incidence_df = incidence_df[incidence_df[\"Recent 5-Year Trend in Incidence Rates\"] != \"*\"]\n",
    "#count rows again\n",
    "incidence_df.count()"
   ]
  },
  {
   "cell_type": "code",
   "execution_count": 8,
   "id": "c24a2d9d",
   "metadata": {},
   "outputs": [
    {
     "name": "stderr",
     "output_type": "stream",
     "text": [
      "/Users/hankbowman/opt/anaconda3/envs/mlenv/lib/python3.7/site-packages/ipykernel_launcher.py:5: SettingWithCopyWarning: \n",
      "A value is trying to be set on a copy of a slice from a DataFrame.\n",
      "Try using .loc[row_indexer,col_indexer] = value instead\n",
      "\n",
      "See the caveats in the documentation: https://pandas.pydata.org/pandas-docs/stable/user_guide/indexing.html#returning-a-view-versus-a-copy\n",
      "  \"\"\"\n"
     ]
    },
    {
     "data": {
      "text/html": [
       "<div>\n",
       "<style scoped>\n",
       "    .dataframe tbody tr th:only-of-type {\n",
       "        vertical-align: middle;\n",
       "    }\n",
       "\n",
       "    .dataframe tbody tr th {\n",
       "        vertical-align: top;\n",
       "    }\n",
       "\n",
       "    .dataframe thead th {\n",
       "        text-align: right;\n",
       "    }\n",
       "</style>\n",
       "<table border=\"1\" class=\"dataframe\">\n",
       "  <thead>\n",
       "    <tr style=\"text-align: right;\">\n",
       "      <th></th>\n",
       "      <th>Age-Adjusted Incidence Rate cases per 100,000</th>\n",
       "    </tr>\n",
       "  </thead>\n",
       "  <tbody>\n",
       "    <tr>\n",
       "      <th>0</th>\n",
       "      <td>681.2</td>\n",
       "    </tr>\n",
       "    <tr>\n",
       "      <th>1</th>\n",
       "      <td>558.3</td>\n",
       "    </tr>\n",
       "    <tr>\n",
       "      <th>2</th>\n",
       "      <td>542.5</td>\n",
       "    </tr>\n",
       "    <tr>\n",
       "      <th>3</th>\n",
       "      <td>519.5</td>\n",
       "    </tr>\n",
       "    <tr>\n",
       "      <th>4</th>\n",
       "      <td>509.3</td>\n",
       "    </tr>\n",
       "  </tbody>\n",
       "</table>\n",
       "</div>"
      ],
      "text/plain": [
       "   Age-Adjusted Incidence Rate cases per 100,000\n",
       "0                                          681.2\n",
       "1                                          558.3\n",
       "2                                          542.5\n",
       "3                                          519.5\n",
       "4                                          509.3"
      ]
     },
     "execution_count": 8,
     "metadata": {},
     "output_type": "execute_result"
    }
   ],
   "source": [
    "#create target \n",
    "y = incidence_df[['Age-Adjusted Incidence Rate cases per 100,000']]\n",
    "\n",
    "#change dtype to numeric\n",
    "y['Age-Adjusted Incidence Rate cases per 100,000'] = y['Age-Adjusted Incidence Rate cases per 100,000'].astype(float)\n",
    "y.head()"
   ]
  },
  {
   "cell_type": "code",
   "execution_count": 1,
   "id": "89f77808",
   "metadata": {},
   "outputs": [
    {
     "ename": "NameError",
     "evalue": "name 'incidence_df' is not defined",
     "output_type": "error",
     "traceback": [
      "\u001b[0;31m---------------------------------------------------------------------------\u001b[0m",
      "\u001b[0;31mNameError\u001b[0m                                 Traceback (most recent call last)",
      "\u001b[0;32m/var/folders/z4/4wnpkq713k94nyc1nvnmgjl00000gn/T/ipykernel_72688/3870041220.py\u001b[0m in \u001b[0;36m<module>\u001b[0;34m\u001b[0m\n\u001b[1;32m      2\u001b[0m \u001b[0;31m#NOTE: Data gathering is not yet fully complete\u001b[0m\u001b[0;34m\u001b[0m\u001b[0;34m\u001b[0m\u001b[0;34m\u001b[0m\u001b[0m\n\u001b[1;32m      3\u001b[0m \u001b[0;31m##Final model features will also include gender, county statistics (population, MUA index, income metrics), and possibly type of cancer\u001b[0m\u001b[0;34m\u001b[0m\u001b[0;34m\u001b[0m\u001b[0;34m\u001b[0m\u001b[0m\n\u001b[0;32m----> 4\u001b[0;31m \u001b[0mX\u001b[0m \u001b[0;34m=\u001b[0m \u001b[0mincidence_df\u001b[0m\u001b[0;34m[\u001b[0m\u001b[0;34m[\u001b[0m\u001b[0;34m\"Age\"\u001b[0m\u001b[0;34m]\u001b[0m\u001b[0;34m]\u001b[0m\u001b[0;34m\u001b[0m\u001b[0;34m\u001b[0m\u001b[0m\n\u001b[0m\u001b[1;32m      5\u001b[0m \u001b[0mX\u001b[0m\u001b[0;34m.\u001b[0m\u001b[0mhead\u001b[0m\u001b[0;34m(\u001b[0m\u001b[0;34m)\u001b[0m\u001b[0;34m\u001b[0m\u001b[0;34m\u001b[0m\u001b[0m\n",
      "\u001b[0;31mNameError\u001b[0m: name 'incidence_df' is not defined"
     ]
    }
   ],
   "source": [
    "#create feautures variable\n",
    "#NOTE: Data gathering is not yet fully complete\n",
    "##Final model features will also include gender, county statistics (population, MUA index, income metrics), and possibly type of cancer\n",
    "X = incidence_df[[\"State\", \"Race/Ethnicity\", \"Recent 5-Year Trend in Incidence Rates\"]]\n",
    "X.head()"
   ]
  },
  {
   "cell_type": "code",
   "execution_count": 10,
   "id": "3deeb2cd",
   "metadata": {},
   "outputs": [
    {
     "name": "stderr",
     "output_type": "stream",
     "text": [
      "/Users/hankbowman/opt/anaconda3/envs/mlenv/lib/python3.7/site-packages/ipykernel_launcher.py:2: SettingWithCopyWarning: \n",
      "A value is trying to be set on a copy of a slice from a DataFrame.\n",
      "Try using .loc[row_indexer,col_indexer] = value instead\n",
      "\n",
      "See the caveats in the documentation: https://pandas.pydata.org/pandas-docs/stable/user_guide/indexing.html#returning-a-view-versus-a-copy\n",
      "  \n"
     ]
    },
    {
     "data": {
      "text/plain": [
       "State                                      object\n",
       "Race/Ethnicity                             object\n",
       "Recent 5-Year Trend in Incidence Rates    float64\n",
       "dtype: object"
      ]
     },
     "execution_count": 10,
     "metadata": {},
     "output_type": "execute_result"
    }
   ],
   "source": [
    "#change 5-year trend column to float\n",
    "X['Recent 5-Year Trend in Incidence Rates'] = pd.to_numeric(X['Recent 5-Year Trend in Incidence Rates'])\n",
    "X.dtypes"
   ]
  },
  {
   "cell_type": "code",
   "execution_count": 11,
   "id": "762b7a48",
   "metadata": {},
   "outputs": [
    {
     "data": {
      "text/html": [
       "<div>\n",
       "<style scoped>\n",
       "    .dataframe tbody tr th:only-of-type {\n",
       "        vertical-align: middle;\n",
       "    }\n",
       "\n",
       "    .dataframe tbody tr th {\n",
       "        vertical-align: top;\n",
       "    }\n",
       "\n",
       "    .dataframe thead th {\n",
       "        text-align: right;\n",
       "    }\n",
       "</style>\n",
       "<table border=\"1\" class=\"dataframe\">\n",
       "  <thead>\n",
       "    <tr style=\"text-align: right;\">\n",
       "      <th></th>\n",
       "      <th>Recent 5-Year Trend in Incidence Rates</th>\n",
       "      <th>State_Alabama</th>\n",
       "      <th>State_Arizona</th>\n",
       "      <th>State_Arkansas</th>\n",
       "      <th>State_California</th>\n",
       "      <th>State_Colorado</th>\n",
       "      <th>State_Connecticut</th>\n",
       "      <th>State_Delaware</th>\n",
       "      <th>State_District of Columbia</th>\n",
       "      <th>State_Florida</th>\n",
       "      <th>...</th>\n",
       "      <th>State_Wisconsin</th>\n",
       "      <th>State_Wyoming</th>\n",
       "      <th>Race/Ethnicity_All Races (includes Hispanic)</th>\n",
       "      <th>Race/Ethnicity_Amer. Indian / AK Native (includes Hispanic)</th>\n",
       "      <th>Race/Ethnicity_Asian / Pacific Islander (includes Hispanic)</th>\n",
       "      <th>Race/Ethnicity_Black (includes Hispanic)</th>\n",
       "      <th>Race/Ethnicity_Hispanic (any race)</th>\n",
       "      <th>Race/Ethnicity_White (includes Hispanic)</th>\n",
       "      <th>Race/Ethnicity_  White Hispanic</th>\n",
       "      <th>Race/Ethnicity_  White Non-Hispanic</th>\n",
       "    </tr>\n",
       "  </thead>\n",
       "  <tbody>\n",
       "    <tr>\n",
       "      <th>0</th>\n",
       "      <td>11.7</td>\n",
       "      <td>1</td>\n",
       "      <td>0</td>\n",
       "      <td>0</td>\n",
       "      <td>0</td>\n",
       "      <td>0</td>\n",
       "      <td>0</td>\n",
       "      <td>0</td>\n",
       "      <td>0</td>\n",
       "      <td>0</td>\n",
       "      <td>...</td>\n",
       "      <td>0</td>\n",
       "      <td>0</td>\n",
       "      <td>0</td>\n",
       "      <td>0</td>\n",
       "      <td>0</td>\n",
       "      <td>0</td>\n",
       "      <td>0</td>\n",
       "      <td>1</td>\n",
       "      <td>0</td>\n",
       "      <td>0</td>\n",
       "    </tr>\n",
       "    <tr>\n",
       "      <th>1</th>\n",
       "      <td>2.7</td>\n",
       "      <td>1</td>\n",
       "      <td>0</td>\n",
       "      <td>0</td>\n",
       "      <td>0</td>\n",
       "      <td>0</td>\n",
       "      <td>0</td>\n",
       "      <td>0</td>\n",
       "      <td>0</td>\n",
       "      <td>0</td>\n",
       "      <td>...</td>\n",
       "      <td>0</td>\n",
       "      <td>0</td>\n",
       "      <td>0</td>\n",
       "      <td>0</td>\n",
       "      <td>0</td>\n",
       "      <td>0</td>\n",
       "      <td>0</td>\n",
       "      <td>1</td>\n",
       "      <td>0</td>\n",
       "      <td>0</td>\n",
       "    </tr>\n",
       "    <tr>\n",
       "      <th>2</th>\n",
       "      <td>1.5</td>\n",
       "      <td>1</td>\n",
       "      <td>0</td>\n",
       "      <td>0</td>\n",
       "      <td>0</td>\n",
       "      <td>0</td>\n",
       "      <td>0</td>\n",
       "      <td>0</td>\n",
       "      <td>0</td>\n",
       "      <td>0</td>\n",
       "      <td>...</td>\n",
       "      <td>0</td>\n",
       "      <td>0</td>\n",
       "      <td>0</td>\n",
       "      <td>0</td>\n",
       "      <td>0</td>\n",
       "      <td>0</td>\n",
       "      <td>0</td>\n",
       "      <td>1</td>\n",
       "      <td>0</td>\n",
       "      <td>0</td>\n",
       "    </tr>\n",
       "    <tr>\n",
       "      <th>3</th>\n",
       "      <td>0.3</td>\n",
       "      <td>1</td>\n",
       "      <td>0</td>\n",
       "      <td>0</td>\n",
       "      <td>0</td>\n",
       "      <td>0</td>\n",
       "      <td>0</td>\n",
       "      <td>0</td>\n",
       "      <td>0</td>\n",
       "      <td>0</td>\n",
       "      <td>...</td>\n",
       "      <td>0</td>\n",
       "      <td>0</td>\n",
       "      <td>0</td>\n",
       "      <td>0</td>\n",
       "      <td>0</td>\n",
       "      <td>0</td>\n",
       "      <td>0</td>\n",
       "      <td>1</td>\n",
       "      <td>0</td>\n",
       "      <td>0</td>\n",
       "    </tr>\n",
       "    <tr>\n",
       "      <th>4</th>\n",
       "      <td>0.4</td>\n",
       "      <td>1</td>\n",
       "      <td>0</td>\n",
       "      <td>0</td>\n",
       "      <td>0</td>\n",
       "      <td>0</td>\n",
       "      <td>0</td>\n",
       "      <td>0</td>\n",
       "      <td>0</td>\n",
       "      <td>0</td>\n",
       "      <td>...</td>\n",
       "      <td>0</td>\n",
       "      <td>0</td>\n",
       "      <td>0</td>\n",
       "      <td>0</td>\n",
       "      <td>0</td>\n",
       "      <td>0</td>\n",
       "      <td>0</td>\n",
       "      <td>1</td>\n",
       "      <td>0</td>\n",
       "      <td>0</td>\n",
       "    </tr>\n",
       "  </tbody>\n",
       "</table>\n",
       "<p>5 rows × 54 columns</p>\n",
       "</div>"
      ],
      "text/plain": [
       "   Recent 5-Year Trend in Incidence Rates  State_Alabama  State_Arizona  \\\n",
       "0                                    11.7              1              0   \n",
       "1                                     2.7              1              0   \n",
       "2                                     1.5              1              0   \n",
       "3                                     0.3              1              0   \n",
       "4                                     0.4              1              0   \n",
       "\n",
       "   State_Arkansas  State_California  State_Colorado  State_Connecticut  \\\n",
       "0               0                 0               0                  0   \n",
       "1               0                 0               0                  0   \n",
       "2               0                 0               0                  0   \n",
       "3               0                 0               0                  0   \n",
       "4               0                 0               0                  0   \n",
       "\n",
       "   State_Delaware  State_District of Columbia  State_Florida  ...  \\\n",
       "0               0                           0              0  ...   \n",
       "1               0                           0              0  ...   \n",
       "2               0                           0              0  ...   \n",
       "3               0                           0              0  ...   \n",
       "4               0                           0              0  ...   \n",
       "\n",
       "   State_Wisconsin  State_Wyoming  \\\n",
       "0                0              0   \n",
       "1                0              0   \n",
       "2                0              0   \n",
       "3                0              0   \n",
       "4                0              0   \n",
       "\n",
       "   Race/Ethnicity_All Races (includes Hispanic)  \\\n",
       "0                                             0   \n",
       "1                                             0   \n",
       "2                                             0   \n",
       "3                                             0   \n",
       "4                                             0   \n",
       "\n",
       "   Race/Ethnicity_Amer. Indian / AK Native (includes Hispanic)  \\\n",
       "0                                                  0             \n",
       "1                                                  0             \n",
       "2                                                  0             \n",
       "3                                                  0             \n",
       "4                                                  0             \n",
       "\n",
       "   Race/Ethnicity_Asian / Pacific Islander (includes Hispanic)  \\\n",
       "0                                                  0             \n",
       "1                                                  0             \n",
       "2                                                  0             \n",
       "3                                                  0             \n",
       "4                                                  0             \n",
       "\n",
       "   Race/Ethnicity_Black (includes Hispanic)  \\\n",
       "0                                         0   \n",
       "1                                         0   \n",
       "2                                         0   \n",
       "3                                         0   \n",
       "4                                         0   \n",
       "\n",
       "   Race/Ethnicity_Hispanic (any race)  \\\n",
       "0                                   0   \n",
       "1                                   0   \n",
       "2                                   0   \n",
       "3                                   0   \n",
       "4                                   0   \n",
       "\n",
       "   Race/Ethnicity_White (includes Hispanic)  Race/Ethnicity_  White Hispanic  \\\n",
       "0                                         1                                0   \n",
       "1                                         1                                0   \n",
       "2                                         1                                0   \n",
       "3                                         1                                0   \n",
       "4                                         1                                0   \n",
       "\n",
       "   Race/Ethnicity_  White Non-Hispanic  \n",
       "0                                    0  \n",
       "1                                    0  \n",
       "2                                    0  \n",
       "3                                    0  \n",
       "4                                    0  \n",
       "\n",
       "[5 rows x 54 columns]"
      ]
     },
     "execution_count": 11,
     "metadata": {},
     "output_type": "execute_result"
    }
   ],
   "source": [
    "#create dummy variables for state and race\n",
    "X = pd.get_dummies(X, columns=['State','Race/Ethnicity'])\n",
    "X.head()"
   ]
  },
  {
   "cell_type": "code",
   "execution_count": 12,
   "id": "4b72e6c4",
   "metadata": {},
   "outputs": [
    {
     "data": {
      "text/plain": [
       "(24545, 1)"
      ]
     },
     "execution_count": 12,
     "metadata": {},
     "output_type": "execute_result"
    }
   ],
   "source": [
    "#get shape of target array\n",
    "y.shape"
   ]
  },
  {
   "cell_type": "code",
   "execution_count": 13,
   "id": "bf54667b",
   "metadata": {},
   "outputs": [
    {
     "data": {
      "text/plain": [
       "(24545, 54)"
      ]
     },
     "execution_count": 13,
     "metadata": {},
     "output_type": "execute_result"
    }
   ],
   "source": [
    "#get shape of feautures array\n",
    "X.shape"
   ]
  },
  {
   "cell_type": "code",
   "execution_count": 14,
   "id": "886fe14c",
   "metadata": {},
   "outputs": [
    {
     "data": {
      "text/plain": [
       "Index(['Recent 5-Year Trend in Incidence Rates', 'State_Alabama',\n",
       "       'State_Arizona', 'State_Arkansas', 'State_California', 'State_Colorado',\n",
       "       'State_Connecticut', 'State_Delaware', 'State_District of Columbia',\n",
       "       'State_Florida', 'State_Georgia', 'State_Hawaii', 'State_Idaho',\n",
       "       'State_Illinois', 'State_Indiana', 'State_Iowa', 'State_Kentucky',\n",
       "       'State_Maine', 'State_Maryland', 'State_Massachusetts',\n",
       "       'State_Michigan', 'State_Missouri', 'State_Montana', 'State_Nebraska',\n",
       "       'State_New Hampshire', 'State_New Jersey', 'State_New Mexico',\n",
       "       'State_New York', 'State_North Carolina', 'State_North Dakota',\n",
       "       'State_Ohio', 'State_Oklahoma', 'State_Oregon ', 'State_Pennsylvania',\n",
       "       'State_Rhode Island', 'State_South Carolina', 'State_South Dakota',\n",
       "       'State_Tennessee ', 'State_Texas', 'State_Utah', 'State_Vermont',\n",
       "       'State_Virginia', 'State_Washington', 'State_West Virginia',\n",
       "       'State_Wisconsin', 'State_Wyoming',\n",
       "       'Race/Ethnicity_All Races (includes Hispanic)',\n",
       "       'Race/Ethnicity_Amer. Indian / AK Native (includes Hispanic)',\n",
       "       'Race/Ethnicity_Asian / Pacific Islander (includes Hispanic)',\n",
       "       'Race/Ethnicity_Black (includes Hispanic)',\n",
       "       'Race/Ethnicity_Hispanic (any race)',\n",
       "       'Race/Ethnicity_White (includes Hispanic)',\n",
       "       'Race/Ethnicity_  White Hispanic',\n",
       "       'Race/Ethnicity_  White Non-Hispanic'],\n",
       "      dtype='object')"
      ]
     },
     "execution_count": 14,
     "metadata": {},
     "output_type": "execute_result"
    }
   ],
   "source": [
    "X.columns"
   ]
  },
  {
   "cell_type": "code",
   "execution_count": 15,
   "id": "2d9256bc",
   "metadata": {},
   "outputs": [],
   "source": [
    "#create model using sklearn\n",
    "model = LinearRegression()"
   ]
  },
  {
   "cell_type": "code",
   "execution_count": 16,
   "id": "ba4efa6f",
   "metadata": {},
   "outputs": [],
   "source": [
    "#fit the model\n",
    "regression_incidence = model.fit(X,y)"
   ]
  },
  {
   "cell_type": "code",
   "execution_count": 17,
   "id": "afcbddaa",
   "metadata": {},
   "outputs": [
    {
     "data": {
      "text/plain": [
       "array([[297.75331116],\n",
       "       [395.35047913],\n",
       "       [408.36366272],\n",
       "       ...,\n",
       "       [711.2000885 ],\n",
       "       [725.29774475],\n",
       "       [699.27186584]])"
      ]
     },
     "execution_count": 17,
     "metadata": {},
     "output_type": "execute_result"
    }
   ],
   "source": [
    "#Create predictions array\n",
    "y_pred = regression_incidence.predict(X)\n",
    "y_pred"
   ]
  },
  {
   "cell_type": "code",
   "execution_count": 18,
   "id": "f63915bb",
   "metadata": {},
   "outputs": [
    {
     "data": {
      "text/plain": [
       "0.09863299696641592"
      ]
     },
     "execution_count": 18,
     "metadata": {},
     "output_type": "execute_result"
    }
   ],
   "source": [
    "#get R2 value\n",
    "from sklearn.metrics import r2_score\n",
    "r2_score(y, y_pred)"
   ]
  },
  {
   "cell_type": "code",
   "execution_count": 19,
   "id": "7cb7044d",
   "metadata": {},
   "outputs": [
    {
     "name": "stderr",
     "output_type": "stream",
     "text": [
      "/Users/hankbowman/opt/anaconda3/envs/mlenv/lib/python3.7/site-packages/statsmodels/tsa/tsatools.py:142: FutureWarning: In a future version of pandas all arguments of concat except for the argument 'objs' will be keyword-only\n",
      "  x = pd.concat(x[::order], 1)\n"
     ]
    }
   ],
   "source": [
    "#run regression again with statsmodels\n",
    "#use statsmodels to add constant to X\n",
    "#add constant to X\n",
    "X1 = sm.add_constant(X)"
   ]
  },
  {
   "cell_type": "code",
   "execution_count": 20,
   "id": "bce9bd7a",
   "metadata": {},
   "outputs": [],
   "source": [
    "#fit linear regression model\n",
    "model = sm.OLS(y, X1).fit()"
   ]
  },
  {
   "cell_type": "code",
   "execution_count": 21,
   "id": "2ef493b9",
   "metadata": {},
   "outputs": [
    {
     "name": "stdout",
     "output_type": "stream",
     "text": [
      "                                          OLS Regression Results                                         \n",
      "=========================================================================================================\n",
      "Dep. Variable:     Age-Adjusted Incidence Rate cases per 100,000   R-squared:                       0.099\n",
      "Model:                                                       OLS   Adj. R-squared:                  0.097\n",
      "Method:                                            Least Squares   F-statistic:                     51.54\n",
      "Date:                                           Mon, 23 May 2022   Prob (F-statistic):               0.00\n",
      "Time:                                                   20:36:29   Log-Likelihood:            -1.8972e+05\n",
      "No. Observations:                                          24545   AIC:                         3.796e+05\n",
      "Df Residuals:                                              24492   BIC:                         3.800e+05\n",
      "Df Model:                                                     52                                         \n",
      "Covariance Type:                                       nonrobust                                         \n",
      "===============================================================================================================================\n",
      "                                                                  coef    std err          t      P>|t|      [0.025      0.975]\n",
      "-------------------------------------------------------------------------------------------------------------------------------\n",
      "const                                                         386.2769      7.615     50.726      0.000     371.351     401.203\n",
      "Recent 5-Year Trend in Incidence Rates                        -10.8440      1.279     -8.476      0.000     -13.352      -8.336\n",
      "State_Alabama                                                  -6.3767     22.375     -0.285      0.776     -50.233      37.479\n",
      "State_Arizona                                                -125.5870     40.971     -3.065      0.002    -205.893     -45.281\n",
      "State_Arkansas                                                 51.2995     22.020      2.330      0.020       8.139      94.460\n",
      "State_California                                              -57.8781     21.665     -2.672      0.008    -100.342     -15.414\n",
      "State_Colorado                                               -108.2117     23.715     -4.563      0.000    -154.694     -61.729\n",
      "State_Connecticut                                              16.2566     55.409      0.293      0.769     -92.348     124.861\n",
      "State_Delaware                                                 32.5402    110.223      0.295      0.768    -183.504     248.584\n",
      "State_District of Columbia                                    -62.0892    155.715     -0.399      0.690    -367.300     243.121\n",
      "State_Florida                                                   2.0606     20.929      0.098      0.922     -38.961      43.082\n",
      "State_Georgia                                                  34.0772     15.831      2.153      0.031       3.047      65.107\n",
      "State_Hawaii                                                    4.4290     77.290      0.057      0.954    -147.064     155.922\n",
      "State_Idaho                                                    -6.2116     28.749     -0.216      0.829     -62.561      50.138\n",
      "State_Illinois                                                 71.9801     20.901      3.444      0.001      31.012     112.948\n",
      "State_Indiana                                                   7.1580     20.166      0.355      0.723     -32.368      46.684\n",
      "State_Iowa                                                     72.1133     20.151      3.579      0.000      32.616     111.610\n",
      "State_Kentucky                                                109.8996     19.398      5.666      0.000      71.879     147.920\n",
      "State_Maine                                                    36.6443     46.328      0.791      0.429     -54.162     127.451\n",
      "State_Maryland                                                 16.3317     34.493      0.473      0.636     -51.276      83.939\n",
      "State_Massachusetts                                             6.4241     49.266      0.130      0.896     -90.140     102.988\n",
      "State_Michigan                                                -21.0479     20.367     -1.033      0.301     -60.968      18.872\n",
      "State_Missouri                                                 -8.8168     18.417     -0.479      0.632     -44.914      27.281\n",
      "State_Montana                                                  69.9030     26.800      2.608      0.009      17.374     122.432\n",
      "State_Nebraska                                                 53.0188     22.117      2.397      0.017       9.668      96.370\n",
      "State_New Hampshire                                            41.3976     57.485      0.720      0.471     -71.276     154.072\n",
      "State_New Jersey                                               67.4089     34.808      1.937      0.053      -0.816     135.634\n",
      "State_New Mexico                                              -99.0116     30.310     -3.267      0.001    -158.422     -39.601\n",
      "State_New York                                                 86.4991     22.397      3.862      0.000      42.599     130.399\n",
      "State_North Carolina                                            9.7859     18.351      0.533      0.594     -26.183      45.755\n",
      "State_North Dakota                                             52.2062     28.490      1.832      0.067      -3.637     108.049\n",
      "State_Ohio                                                     17.8539     19.954      0.895      0.371     -21.258      56.966\n",
      "State_Oklahoma                                                 11.8646     21.075      0.563      0.573     -29.444      53.173\n",
      "State_Oregon                                                  -31.1241     29.041     -1.072      0.284     -88.047      25.799\n",
      "State_Pennsylvania                                             28.2398     23.818      1.186      0.236     -18.444      74.924\n",
      "State_Rhode Island                                             23.2685     72.319      0.322      0.748    -118.482     165.019\n",
      "State_South Carolina                                          -12.5530     26.219     -0.479      0.632     -63.944      38.837\n",
      "State_South Dakota                                             89.8502     25.720      3.493      0.000      39.437     140.263\n",
      "State_Tennessee                                                40.2369     19.736      2.039      0.041       1.552      78.921\n",
      "State_Texas                                                   -30.9462     12.785     -2.420      0.016     -56.006      -5.886\n",
      "State_Utah                                                    -41.5166     35.601     -1.166      0.244    -111.296      28.263\n",
      "State_Vermont                                                  19.3746     51.576      0.376      0.707     -81.717     120.466\n",
      "State_Virginia                                                -11.3641     16.723     -0.680      0.497     -44.142      21.414\n",
      "State_Washington                                              -44.1428     28.031     -1.575      0.115     -99.085      10.800\n",
      "State_West Virginia                                            33.4816     26.134      1.281      0.200     -17.743      84.707\n",
      "State_Wisconsin                                                31.5036     22.275      1.414      0.157     -12.157      75.164\n",
      "State_Wyoming                                                 -83.9531     39.236     -2.140      0.032    -160.859      -7.048\n",
      "Race/Ethnicity_All Races (includes Hispanic)                  375.2572      7.381     50.843      0.000     360.791     389.724\n",
      "Race/Ethnicity_Amer. Indian / AK Native (includes Hispanic)    62.5851     28.150      2.223      0.026       7.409     117.761\n",
      "Race/Ethnicity_Asian / Pacific Islander (includes Hispanic)  -121.2886     24.556     -4.939      0.000    -169.420     -73.157\n",
      "Race/Ethnicity_Black (includes Hispanic)                       42.9707     15.357      2.798      0.005      12.870      73.071\n",
      "Race/Ethnicity_Hispanic (any race)                            -36.5604     18.059     -2.025      0.043     -71.956      -1.164\n",
      "Race/Ethnicity_White (includes Hispanic)                       44.7408     11.238      3.981      0.000      22.713      66.769\n",
      "Race/Ethnicity_  White Hispanic                               -35.6824     18.733     -1.905      0.057     -72.400       1.035\n",
      "Race/Ethnicity_  White Non-Hispanic                            54.2544     11.735      4.623      0.000      31.254      77.255\n",
      "==============================================================================\n",
      "Omnibus:                     3440.514   Durbin-Watson:                   0.078\n",
      "Prob(Omnibus):                  0.000   Jarque-Bera (JB):             5061.039\n",
      "Skew:                           1.074   Prob(JB):                         0.00\n",
      "Kurtosis:                       3.578   Cond. No.                     1.04e+16\n",
      "==============================================================================\n",
      "\n",
      "Notes:\n",
      "[1] Standard Errors assume that the covariance matrix of the errors is correctly specified.\n",
      "[2] The smallest eigenvalue is 1.81e-27. This might indicate that there are\n",
      "strong multicollinearity problems or that the design matrix is singular.\n"
     ]
    }
   ],
   "source": [
    "#view model summary with statsmodels\n",
    "print(model.summary())"
   ]
  }
 ],
 "metadata": {
  "kernelspec": {
   "display_name": "mlenv",
   "language": "python",
   "name": "mlenv"
  },
  "language_info": {
   "codemirror_mode": {
    "name": "ipython",
    "version": 3
   },
   "file_extension": ".py",
   "mimetype": "text/x-python",
   "name": "python",
   "nbconvert_exporter": "python",
   "pygments_lexer": "ipython3",
   "version": "3.7.11"
  }
 },
 "nbformat": 4,
 "nbformat_minor": 5
}
