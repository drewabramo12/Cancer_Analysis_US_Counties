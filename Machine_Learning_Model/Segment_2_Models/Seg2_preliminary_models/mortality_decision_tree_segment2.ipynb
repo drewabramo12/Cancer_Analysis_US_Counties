{
 "cells": [
  {
   "cell_type": "code",
   "execution_count": 2,
   "id": "76e6fb6e",
   "metadata": {},
   "outputs": [],
   "source": [
    "#initial imports\n",
    "import pandas as pd\n",
    "import matplotlib.pyplot as plt \n",
    "from sklearn.preprocessing import StandardScaler, LabelEncoder\n",
    "from sklearn.linear_model import LinearRegression\n",
    "import statsmodels.api as sm\n",
    "import numpy as np \n",
    "from sklearn.metrics import r2_score\n",
    "from sklearn.model_selection import train_test_split\n",
    "\n",
    "\n"
   ]
  },
  {
   "cell_type": "code",
   "execution_count": 3,
   "id": "86185b3e",
   "metadata": {},
   "outputs": [
    {
     "data": {
      "text/html": [
       "<div>\n",
       "<style scoped>\n",
       "    .dataframe tbody tr th:only-of-type {\n",
       "        vertical-align: middle;\n",
       "    }\n",
       "\n",
       "    .dataframe tbody tr th {\n",
       "        vertical-align: top;\n",
       "    }\n",
       "\n",
       "    .dataframe thead th {\n",
       "        text-align: right;\n",
       "    }\n",
       "</style>\n",
       "<table border=\"1\" class=\"dataframe\">\n",
       "  <thead>\n",
       "    <tr style=\"text-align: right;\">\n",
       "      <th></th>\n",
       "      <th>County</th>\n",
       "      <th>Average Annual Count</th>\n",
       "      <th>Recent Trend</th>\n",
       "      <th>State</th>\n",
       "      <th>Cancer</th>\n",
       "      <th>Race/Ethnicity</th>\n",
       "      <th>Sex</th>\n",
       "      <th>Age</th>\n",
       "      <th>Age-Adjusted Death Rate cases per 100,000</th>\n",
       "      <th>CI*Rank</th>\n",
       "      <th>Recent 5-Year Trend in Death Rates</th>\n",
       "    </tr>\n",
       "  </thead>\n",
       "  <tbody>\n",
       "    <tr>\n",
       "      <th>0</th>\n",
       "      <td>Walker County</td>\n",
       "      <td>181</td>\n",
       "      <td>stable</td>\n",
       "      <td>Alabama</td>\n",
       "      <td>All Cancer Sites</td>\n",
       "      <td>White (includes Hispanic)</td>\n",
       "      <td>All Sexes</td>\n",
       "      <td>All Ages</td>\n",
       "      <td>213.2</td>\n",
       "      <td>1</td>\n",
       "      <td>-0.3</td>\n",
       "    </tr>\n",
       "    <tr>\n",
       "      <th>1</th>\n",
       "      <td>Crenshaw County</td>\n",
       "      <td>32</td>\n",
       "      <td>stable</td>\n",
       "      <td>Alabama</td>\n",
       "      <td>All Cancer Sites</td>\n",
       "      <td>White (includes Hispanic)</td>\n",
       "      <td>All Sexes</td>\n",
       "      <td>All Ages</td>\n",
       "      <td>211.2</td>\n",
       "      <td>2</td>\n",
       "      <td>0.0</td>\n",
       "    </tr>\n",
       "    <tr>\n",
       "      <th>2</th>\n",
       "      <td>Russell County</td>\n",
       "      <td>78</td>\n",
       "      <td>falling</td>\n",
       "      <td>Alabama</td>\n",
       "      <td>All Cancer Sites</td>\n",
       "      <td>White (includes Hispanic)</td>\n",
       "      <td>All Sexes</td>\n",
       "      <td>All Ages</td>\n",
       "      <td>201.7</td>\n",
       "      <td>3</td>\n",
       "      <td>-0.6</td>\n",
       "    </tr>\n",
       "    <tr>\n",
       "      <th>3</th>\n",
       "      <td>Escambia County</td>\n",
       "      <td>71</td>\n",
       "      <td>falling</td>\n",
       "      <td>Alabama</td>\n",
       "      <td>All Cancer Sites</td>\n",
       "      <td>White (includes Hispanic)</td>\n",
       "      <td>All Sexes</td>\n",
       "      <td>All Ages</td>\n",
       "      <td>199.5</td>\n",
       "      <td>4</td>\n",
       "      <td>-0.5</td>\n",
       "    </tr>\n",
       "    <tr>\n",
       "      <th>4</th>\n",
       "      <td>Jackson County</td>\n",
       "      <td>139</td>\n",
       "      <td>falling</td>\n",
       "      <td>Alabama</td>\n",
       "      <td>All Cancer Sites</td>\n",
       "      <td>White (includes Hispanic)</td>\n",
       "      <td>All Sexes</td>\n",
       "      <td>All Ages</td>\n",
       "      <td>199.4</td>\n",
       "      <td>5</td>\n",
       "      <td>-0.5</td>\n",
       "    </tr>\n",
       "  </tbody>\n",
       "</table>\n",
       "</div>"
      ],
      "text/plain": [
       "            County Average Annual Count Recent Trend    State  \\\n",
       "0    Walker County                  181       stable  Alabama   \n",
       "1  Crenshaw County                   32       stable  Alabama   \n",
       "2   Russell County                   78      falling  Alabama   \n",
       "3  Escambia County                   71      falling  Alabama   \n",
       "4   Jackson County                  139      falling  Alabama   \n",
       "\n",
       "             Cancer             Race/Ethnicity        Sex       Age  \\\n",
       "0  All Cancer Sites  White (includes Hispanic)  All Sexes  All Ages   \n",
       "1  All Cancer Sites  White (includes Hispanic)  All Sexes  All Ages   \n",
       "2  All Cancer Sites  White (includes Hispanic)  All Sexes  All Ages   \n",
       "3  All Cancer Sites  White (includes Hispanic)  All Sexes  All Ages   \n",
       "4  All Cancer Sites  White (includes Hispanic)  All Sexes  All Ages   \n",
       "\n",
       "  Age-Adjusted Death Rate cases per 100,000 CI*Rank  \\\n",
       "0                                    213.2       1    \n",
       "1                                    211.2       2    \n",
       "2                                    201.7       3    \n",
       "3                                    199.5       4    \n",
       "4                                    199.4       5    \n",
       "\n",
       "  Recent 5-Year Trend in Death Rates  \n",
       "0                              -0.3   \n",
       "1                               0.0   \n",
       "2                              -0.6   \n",
       "3                              -0.5   \n",
       "4                              -0.5   "
      ]
     },
     "execution_count": 3,
     "metadata": {},
     "output_type": "execute_result"
    }
   ],
   "source": [
    "#read in mortality csv from github\n",
    "\n",
    "mortality_df = pd.read_csv(\"https://raw.githubusercontent.com/robyndook/Cancer_Treatment_Centers_California/abramo_data_analysis/Abramo_Web_Scraping/Mortality_data.csv\")                         \n",
    "#get rid of commas in trend columns\n",
    "mortality_df = mortality_df.replace(',','', regex=True)\n",
    "mortality_df.head()                            "
   ]
  },
  {
   "cell_type": "code",
   "execution_count": 4,
   "id": "43d2d248",
   "metadata": {},
   "outputs": [
    {
     "data": {
      "text/plain": [
       "Index(['County', 'Average Annual Count', 'Recent Trend', 'State', 'Cancer',\n",
       "       'Race/Ethnicity', 'Sex', 'Age',\n",
       "       'Age-Adjusted Death Rate cases per 100,000', 'CI*Rank',\n",
       "       'Recent 5-Year Trend in Death Rates'],\n",
       "      dtype='object')"
      ]
     },
     "execution_count": 4,
     "metadata": {},
     "output_type": "execute_result"
    }
   ],
   "source": [
    "#check column names\n",
    "mortality_df.columns"
   ]
  },
  {
   "cell_type": "code",
   "execution_count": 5,
   "id": "56553437",
   "metadata": {},
   "outputs": [],
   "source": [
    "#drop unnecessary columns\n",
    "mortality_df = mortality_df.drop(columns=[\"CI*Rank\"])"
   ]
  },
  {
   "cell_type": "code",
   "execution_count": 6,
   "id": "c595ecea",
   "metadata": {},
   "outputs": [
    {
     "data": {
      "text/html": [
       "<div>\n",
       "<style scoped>\n",
       "    .dataframe tbody tr th:only-of-type {\n",
       "        vertical-align: middle;\n",
       "    }\n",
       "\n",
       "    .dataframe tbody tr th {\n",
       "        vertical-align: top;\n",
       "    }\n",
       "\n",
       "    .dataframe thead th {\n",
       "        text-align: right;\n",
       "    }\n",
       "</style>\n",
       "<table border=\"1\" class=\"dataframe\">\n",
       "  <thead>\n",
       "    <tr style=\"text-align: right;\">\n",
       "      <th></th>\n",
       "      <th>County</th>\n",
       "      <th>Average Annual Count</th>\n",
       "      <th>Recent Trend</th>\n",
       "      <th>State</th>\n",
       "      <th>Cancer</th>\n",
       "      <th>Race/Ethnicity</th>\n",
       "      <th>Sex</th>\n",
       "      <th>Age</th>\n",
       "      <th>Age-Adjusted Death Rate cases per 100,000</th>\n",
       "      <th>Recent 5-Year Trend in Death Rates</th>\n",
       "    </tr>\n",
       "  </thead>\n",
       "  <tbody>\n",
       "    <tr>\n",
       "      <th>0</th>\n",
       "      <td>Walker County</td>\n",
       "      <td>181</td>\n",
       "      <td>stable</td>\n",
       "      <td>Alabama</td>\n",
       "      <td>All Cancer Sites</td>\n",
       "      <td>White (includes Hispanic)</td>\n",
       "      <td>All Sexes</td>\n",
       "      <td>All Ages</td>\n",
       "      <td>213.2</td>\n",
       "      <td>-0.3</td>\n",
       "    </tr>\n",
       "    <tr>\n",
       "      <th>1</th>\n",
       "      <td>Crenshaw County</td>\n",
       "      <td>32</td>\n",
       "      <td>stable</td>\n",
       "      <td>Alabama</td>\n",
       "      <td>All Cancer Sites</td>\n",
       "      <td>White (includes Hispanic)</td>\n",
       "      <td>All Sexes</td>\n",
       "      <td>All Ages</td>\n",
       "      <td>211.2</td>\n",
       "      <td>0.0</td>\n",
       "    </tr>\n",
       "    <tr>\n",
       "      <th>2</th>\n",
       "      <td>Russell County</td>\n",
       "      <td>78</td>\n",
       "      <td>falling</td>\n",
       "      <td>Alabama</td>\n",
       "      <td>All Cancer Sites</td>\n",
       "      <td>White (includes Hispanic)</td>\n",
       "      <td>All Sexes</td>\n",
       "      <td>All Ages</td>\n",
       "      <td>201.7</td>\n",
       "      <td>-0.6</td>\n",
       "    </tr>\n",
       "    <tr>\n",
       "      <th>3</th>\n",
       "      <td>Escambia County</td>\n",
       "      <td>71</td>\n",
       "      <td>falling</td>\n",
       "      <td>Alabama</td>\n",
       "      <td>All Cancer Sites</td>\n",
       "      <td>White (includes Hispanic)</td>\n",
       "      <td>All Sexes</td>\n",
       "      <td>All Ages</td>\n",
       "      <td>199.5</td>\n",
       "      <td>-0.5</td>\n",
       "    </tr>\n",
       "    <tr>\n",
       "      <th>4</th>\n",
       "      <td>Jackson County</td>\n",
       "      <td>139</td>\n",
       "      <td>falling</td>\n",
       "      <td>Alabama</td>\n",
       "      <td>All Cancer Sites</td>\n",
       "      <td>White (includes Hispanic)</td>\n",
       "      <td>All Sexes</td>\n",
       "      <td>All Ages</td>\n",
       "      <td>199.4</td>\n",
       "      <td>-0.5</td>\n",
       "    </tr>\n",
       "  </tbody>\n",
       "</table>\n",
       "</div>"
      ],
      "text/plain": [
       "            County Average Annual Count Recent Trend    State  \\\n",
       "0    Walker County                  181       stable  Alabama   \n",
       "1  Crenshaw County                   32       stable  Alabama   \n",
       "2   Russell County                   78      falling  Alabama   \n",
       "3  Escambia County                   71      falling  Alabama   \n",
       "4   Jackson County                  139      falling  Alabama   \n",
       "\n",
       "             Cancer             Race/Ethnicity        Sex       Age  \\\n",
       "0  All Cancer Sites  White (includes Hispanic)  All Sexes  All Ages   \n",
       "1  All Cancer Sites  White (includes Hispanic)  All Sexes  All Ages   \n",
       "2  All Cancer Sites  White (includes Hispanic)  All Sexes  All Ages   \n",
       "3  All Cancer Sites  White (includes Hispanic)  All Sexes  All Ages   \n",
       "4  All Cancer Sites  White (includes Hispanic)  All Sexes  All Ages   \n",
       "\n",
       "  Age-Adjusted Death Rate cases per 100,000 Recent 5-Year Trend in Death Rates  \n",
       "0                                    213.2                               -0.3   \n",
       "1                                    211.2                                0.0   \n",
       "2                                    201.7                               -0.6   \n",
       "3                                    199.5                               -0.5   \n",
       "4                                    199.4                               -0.5   "
      ]
     },
     "execution_count": 6,
     "metadata": {},
     "output_type": "execute_result"
    }
   ],
   "source": [
    "#view updated dataframe\n",
    "mortality_df.head()"
   ]
  },
  {
   "cell_type": "code",
   "execution_count": 7,
   "id": "58f7632a",
   "metadata": {},
   "outputs": [
    {
     "data": {
      "text/plain": [
       "County                                       39595\n",
       "Average Annual Count                         39595\n",
       "Recent Trend                                 39595\n",
       "State                                        39595\n",
       "Cancer                                       39595\n",
       "Race/Ethnicity                               39595\n",
       "Sex                                          39595\n",
       "Age                                          39595\n",
       "Age-Adjusted Death Rate cases per 100,000    39595\n",
       "Recent 5-Year Trend in Death Rates           39595\n",
       "dtype: int64"
      ]
     },
     "execution_count": 7,
     "metadata": {},
     "output_type": "execute_result"
    }
   ],
   "source": [
    "#get count of rows\n",
    "mortality_df.count()"
   ]
  },
  {
   "cell_type": "code",
   "execution_count": 8,
   "id": "cfc077b5",
   "metadata": {},
   "outputs": [
    {
     "data": {
      "text/plain": [
       "County                                       23282\n",
       "Average Annual Count                         23282\n",
       "Recent Trend                                 23282\n",
       "State                                        23282\n",
       "Cancer                                       23282\n",
       "Race/Ethnicity                               23282\n",
       "Sex                                          23282\n",
       "Age                                          23282\n",
       "Age-Adjusted Death Rate cases per 100,000    23282\n",
       "Recent 5-Year Trend in Death Rates           23282\n",
       "dtype: int64"
      ]
     },
     "execution_count": 8,
     "metadata": {},
     "output_type": "execute_result"
    }
   ],
   "source": [
    "#drop rows that lack mortality data\n",
    "#NOTE: We may look for an alternative to dropping these rows in future segments\n",
    "mortality_df = mortality_df[mortality_df[\"Age-Adjusted Death Rate cases per 100,000\"] != \"*\"]\n",
    "mortality_df = mortality_df[mortality_df[\"Recent 5-Year Trend in Death Rates\"] != \"*\"]\n",
    "#count rows again\n",
    "mortality_df.count()"
   ]
  },
  {
   "cell_type": "code",
   "execution_count": 9,
   "id": "c24a2d9d",
   "metadata": {},
   "outputs": [
    {
     "name": "stderr",
     "output_type": "stream",
     "text": [
      "/Users/hankbowman/opt/anaconda3/envs/mlenv/lib/python3.7/site-packages/ipykernel_launcher.py:5: SettingWithCopyWarning: \n",
      "A value is trying to be set on a copy of a slice from a DataFrame.\n",
      "Try using .loc[row_indexer,col_indexer] = value instead\n",
      "\n",
      "See the caveats in the documentation: https://pandas.pydata.org/pandas-docs/stable/user_guide/indexing.html#returning-a-view-versus-a-copy\n",
      "  \"\"\"\n"
     ]
    }
   ],
   "source": [
    "#create target \n",
    "y = mortality_df[[\"Age-Adjusted Death Rate cases per 100,000\"]]\n",
    "\n",
    "#change dtype to numeric\n",
    "y[\"Age-Adjusted Death Rate cases per 100,000\"] = y[\"Age-Adjusted Death Rate cases per 100,000\"].astype(float)\n",
    "y = y.values"
   ]
  },
  {
   "cell_type": "code",
   "execution_count": null,
   "id": "1dd248c0",
   "metadata": {},
   "outputs": [],
   "source": []
  },
  {
   "cell_type": "code",
   "execution_count": 10,
   "id": "89f77808",
   "metadata": {},
   "outputs": [],
   "source": [
    "#create feautures variable\n",
    "#NOTE: Data gathering is not yet fully complete\n",
    "##Final model features will also include gender, county statistics (population, MUA index, income metrics), and possibly type of cancer\n",
    "X = mortality_df[[\"State\", \"Race/Ethnicity\", \"Recent 5-Year Trend in Death Rates\"]]\n"
   ]
  },
  {
   "cell_type": "code",
   "execution_count": 11,
   "id": "3deeb2cd",
   "metadata": {},
   "outputs": [
    {
     "name": "stderr",
     "output_type": "stream",
     "text": [
      "/Users/hankbowman/opt/anaconda3/envs/mlenv/lib/python3.7/site-packages/ipykernel_launcher.py:2: SettingWithCopyWarning: \n",
      "A value is trying to be set on a copy of a slice from a DataFrame.\n",
      "Try using .loc[row_indexer,col_indexer] = value instead\n",
      "\n",
      "See the caveats in the documentation: https://pandas.pydata.org/pandas-docs/stable/user_guide/indexing.html#returning-a-view-versus-a-copy\n",
      "  \n"
     ]
    },
    {
     "data": {
      "text/plain": [
       "State                                  object\n",
       "Race/Ethnicity                         object\n",
       "Recent 5-Year Trend in Death Rates    float64\n",
       "dtype: object"
      ]
     },
     "execution_count": 11,
     "metadata": {},
     "output_type": "execute_result"
    }
   ],
   "source": [
    "#change 5-year trend column to float\n",
    "X['Recent 5-Year Trend in Death Rates'] = pd.to_numeric(X['Recent 5-Year Trend in Death Rates'])\n",
    "X.dtypes"
   ]
  },
  {
   "cell_type": "code",
   "execution_count": 12,
   "id": "762b7a48",
   "metadata": {},
   "outputs": [
    {
     "data": {
      "text/html": [
       "<div>\n",
       "<style scoped>\n",
       "    .dataframe tbody tr th:only-of-type {\n",
       "        vertical-align: middle;\n",
       "    }\n",
       "\n",
       "    .dataframe tbody tr th {\n",
       "        vertical-align: top;\n",
       "    }\n",
       "\n",
       "    .dataframe thead th {\n",
       "        text-align: right;\n",
       "    }\n",
       "</style>\n",
       "<table border=\"1\" class=\"dataframe\">\n",
       "  <thead>\n",
       "    <tr style=\"text-align: right;\">\n",
       "      <th></th>\n",
       "      <th>Recent 5-Year Trend in Death Rates</th>\n",
       "      <th>State_Alabama</th>\n",
       "      <th>State_Arizona</th>\n",
       "      <th>State_Arkansas</th>\n",
       "      <th>State_California</th>\n",
       "      <th>State_Colorado</th>\n",
       "      <th>State_Connecticut</th>\n",
       "      <th>State_Delaware</th>\n",
       "      <th>State_District of Columbia</th>\n",
       "      <th>State_Florida</th>\n",
       "      <th>...</th>\n",
       "      <th>State_Wisconsin</th>\n",
       "      <th>State_Wyoming</th>\n",
       "      <th>Race/Ethnicity_All Races (includes Hispanic)</th>\n",
       "      <th>Race/Ethnicity_Amer. Indian / AK Native (includes Hispanic)</th>\n",
       "      <th>Race/Ethnicity_Asian / Pacific Islander (includes Hispanic)</th>\n",
       "      <th>Race/Ethnicity_Black (includes Hispanic)</th>\n",
       "      <th>Race/Ethnicity_Hispanic (any race)</th>\n",
       "      <th>Race/Ethnicity_White (includes Hispanic)</th>\n",
       "      <th>Race/Ethnicity_  White Hispanic</th>\n",
       "      <th>Race/Ethnicity_  White Non-Hispanic</th>\n",
       "    </tr>\n",
       "  </thead>\n",
       "  <tbody>\n",
       "    <tr>\n",
       "      <th>0</th>\n",
       "      <td>-0.3</td>\n",
       "      <td>1</td>\n",
       "      <td>0</td>\n",
       "      <td>0</td>\n",
       "      <td>0</td>\n",
       "      <td>0</td>\n",
       "      <td>0</td>\n",
       "      <td>0</td>\n",
       "      <td>0</td>\n",
       "      <td>0</td>\n",
       "      <td>...</td>\n",
       "      <td>0</td>\n",
       "      <td>0</td>\n",
       "      <td>0</td>\n",
       "      <td>0</td>\n",
       "      <td>0</td>\n",
       "      <td>0</td>\n",
       "      <td>0</td>\n",
       "      <td>1</td>\n",
       "      <td>0</td>\n",
       "      <td>0</td>\n",
       "    </tr>\n",
       "    <tr>\n",
       "      <th>1</th>\n",
       "      <td>0.0</td>\n",
       "      <td>1</td>\n",
       "      <td>0</td>\n",
       "      <td>0</td>\n",
       "      <td>0</td>\n",
       "      <td>0</td>\n",
       "      <td>0</td>\n",
       "      <td>0</td>\n",
       "      <td>0</td>\n",
       "      <td>0</td>\n",
       "      <td>...</td>\n",
       "      <td>0</td>\n",
       "      <td>0</td>\n",
       "      <td>0</td>\n",
       "      <td>0</td>\n",
       "      <td>0</td>\n",
       "      <td>0</td>\n",
       "      <td>0</td>\n",
       "      <td>1</td>\n",
       "      <td>0</td>\n",
       "      <td>0</td>\n",
       "    </tr>\n",
       "    <tr>\n",
       "      <th>2</th>\n",
       "      <td>-0.6</td>\n",
       "      <td>1</td>\n",
       "      <td>0</td>\n",
       "      <td>0</td>\n",
       "      <td>0</td>\n",
       "      <td>0</td>\n",
       "      <td>0</td>\n",
       "      <td>0</td>\n",
       "      <td>0</td>\n",
       "      <td>0</td>\n",
       "      <td>...</td>\n",
       "      <td>0</td>\n",
       "      <td>0</td>\n",
       "      <td>0</td>\n",
       "      <td>0</td>\n",
       "      <td>0</td>\n",
       "      <td>0</td>\n",
       "      <td>0</td>\n",
       "      <td>1</td>\n",
       "      <td>0</td>\n",
       "      <td>0</td>\n",
       "    </tr>\n",
       "    <tr>\n",
       "      <th>3</th>\n",
       "      <td>-0.5</td>\n",
       "      <td>1</td>\n",
       "      <td>0</td>\n",
       "      <td>0</td>\n",
       "      <td>0</td>\n",
       "      <td>0</td>\n",
       "      <td>0</td>\n",
       "      <td>0</td>\n",
       "      <td>0</td>\n",
       "      <td>0</td>\n",
       "      <td>...</td>\n",
       "      <td>0</td>\n",
       "      <td>0</td>\n",
       "      <td>0</td>\n",
       "      <td>0</td>\n",
       "      <td>0</td>\n",
       "      <td>0</td>\n",
       "      <td>0</td>\n",
       "      <td>1</td>\n",
       "      <td>0</td>\n",
       "      <td>0</td>\n",
       "    </tr>\n",
       "    <tr>\n",
       "      <th>4</th>\n",
       "      <td>-0.5</td>\n",
       "      <td>1</td>\n",
       "      <td>0</td>\n",
       "      <td>0</td>\n",
       "      <td>0</td>\n",
       "      <td>0</td>\n",
       "      <td>0</td>\n",
       "      <td>0</td>\n",
       "      <td>0</td>\n",
       "      <td>0</td>\n",
       "      <td>...</td>\n",
       "      <td>0</td>\n",
       "      <td>0</td>\n",
       "      <td>0</td>\n",
       "      <td>0</td>\n",
       "      <td>0</td>\n",
       "      <td>0</td>\n",
       "      <td>0</td>\n",
       "      <td>1</td>\n",
       "      <td>0</td>\n",
       "      <td>0</td>\n",
       "    </tr>\n",
       "  </tbody>\n",
       "</table>\n",
       "<p>5 rows × 58 columns</p>\n",
       "</div>"
      ],
      "text/plain": [
       "   Recent 5-Year Trend in Death Rates  State_Alabama  State_Arizona  \\\n",
       "0                                -0.3              1              0   \n",
       "1                                 0.0              1              0   \n",
       "2                                -0.6              1              0   \n",
       "3                                -0.5              1              0   \n",
       "4                                -0.5              1              0   \n",
       "\n",
       "   State_Arkansas  State_California  State_Colorado  State_Connecticut  \\\n",
       "0               0                 0               0                  0   \n",
       "1               0                 0               0                  0   \n",
       "2               0                 0               0                  0   \n",
       "3               0                 0               0                  0   \n",
       "4               0                 0               0                  0   \n",
       "\n",
       "   State_Delaware  State_District of Columbia  State_Florida  ...  \\\n",
       "0               0                           0              0  ...   \n",
       "1               0                           0              0  ...   \n",
       "2               0                           0              0  ...   \n",
       "3               0                           0              0  ...   \n",
       "4               0                           0              0  ...   \n",
       "\n",
       "   State_Wisconsin  State_Wyoming  \\\n",
       "0                0              0   \n",
       "1                0              0   \n",
       "2                0              0   \n",
       "3                0              0   \n",
       "4                0              0   \n",
       "\n",
       "   Race/Ethnicity_All Races (includes Hispanic)  \\\n",
       "0                                             0   \n",
       "1                                             0   \n",
       "2                                             0   \n",
       "3                                             0   \n",
       "4                                             0   \n",
       "\n",
       "   Race/Ethnicity_Amer. Indian / AK Native (includes Hispanic)  \\\n",
       "0                                                  0             \n",
       "1                                                  0             \n",
       "2                                                  0             \n",
       "3                                                  0             \n",
       "4                                                  0             \n",
       "\n",
       "   Race/Ethnicity_Asian / Pacific Islander (includes Hispanic)  \\\n",
       "0                                                  0             \n",
       "1                                                  0             \n",
       "2                                                  0             \n",
       "3                                                  0             \n",
       "4                                                  0             \n",
       "\n",
       "   Race/Ethnicity_Black (includes Hispanic)  \\\n",
       "0                                         0   \n",
       "1                                         0   \n",
       "2                                         0   \n",
       "3                                         0   \n",
       "4                                         0   \n",
       "\n",
       "   Race/Ethnicity_Hispanic (any race)  \\\n",
       "0                                   0   \n",
       "1                                   0   \n",
       "2                                   0   \n",
       "3                                   0   \n",
       "4                                   0   \n",
       "\n",
       "   Race/Ethnicity_White (includes Hispanic)  Race/Ethnicity_  White Hispanic  \\\n",
       "0                                         1                                0   \n",
       "1                                         1                                0   \n",
       "2                                         1                                0   \n",
       "3                                         1                                0   \n",
       "4                                         1                                0   \n",
       "\n",
       "   Race/Ethnicity_  White Non-Hispanic  \n",
       "0                                    0  \n",
       "1                                    0  \n",
       "2                                    0  \n",
       "3                                    0  \n",
       "4                                    0  \n",
       "\n",
       "[5 rows x 58 columns]"
      ]
     },
     "execution_count": 12,
     "metadata": {},
     "output_type": "execute_result"
    }
   ],
   "source": [
    "#create dummy variables for state and race\n",
    "X = pd.get_dummies(X, columns=['State','Race/Ethnicity'])\n",
    "X.head()"
   ]
  },
  {
   "cell_type": "code",
   "execution_count": 13,
   "id": "4b72e6c4",
   "metadata": {},
   "outputs": [
    {
     "data": {
      "text/plain": [
       "(23282, 1)"
      ]
     },
     "execution_count": 13,
     "metadata": {},
     "output_type": "execute_result"
    }
   ],
   "source": [
    "#get shape of target array\n",
    "y.shape"
   ]
  },
  {
   "cell_type": "code",
   "execution_count": 14,
   "id": "bf54667b",
   "metadata": {},
   "outputs": [],
   "source": [
    "#get shape of feautures array\n",
    "X = X.values"
   ]
  },
  {
   "cell_type": "code",
   "execution_count": 15,
   "id": "2d9256bc",
   "metadata": {},
   "outputs": [
    {
     "data": {
      "text/plain": [
       "DecisionTreeRegressor()"
      ]
     },
     "execution_count": 15,
     "metadata": {},
     "output_type": "execute_result"
    }
   ],
   "source": [
    "# import the regressor\n",
    "from sklearn.tree import DecisionTreeRegressor \n",
    "regressor = DecisionTreeRegressor()\n",
    "regressor.fit(X, y)"
   ]
  },
  {
   "cell_type": "code",
   "execution_count": 16,
   "id": "ba4efa6f",
   "metadata": {},
   "outputs": [],
   "source": [
    "y_pred = regressor.predict(X)"
   ]
  },
  {
   "cell_type": "code",
   "execution_count": 17,
   "id": "f63915bb",
   "metadata": {},
   "outputs": [
    {
     "data": {
      "text/plain": [
       "0.2914609622429646"
      ]
     },
     "execution_count": 17,
     "metadata": {},
     "output_type": "execute_result"
    }
   ],
   "source": [
    "r2_score(y, y_pred)"
   ]
  },
  {
   "cell_type": "code",
   "execution_count": 18,
   "id": "7cb7044d",
   "metadata": {},
   "outputs": [],
   "source": [
    "#run again with split data\n",
    "X_train, X_test, y_train, y_test = train_test_split(X, y)"
   ]
  },
  {
   "cell_type": "code",
   "execution_count": 19,
   "id": "bce9bd7a",
   "metadata": {},
   "outputs": [
    {
     "data": {
      "text/plain": [
       "DecisionTreeRegressor()"
      ]
     },
     "execution_count": 19,
     "metadata": {},
     "output_type": "execute_result"
    }
   ],
   "source": [
    "#fit the model with trained data\n",
    "regressor2 = DecisionTreeRegressor()\n",
    "regressor2.fit(X_train, y_train)"
   ]
  },
  {
   "cell_type": "code",
   "execution_count": 20,
   "id": "2ef493b9",
   "metadata": {},
   "outputs": [],
   "source": [
    "#make pred with test data\n",
    "y_pred_2 = regressor.predict(X_test)"
   ]
  },
  {
   "cell_type": "code",
   "execution_count": 21,
   "id": "2e64132e",
   "metadata": {},
   "outputs": [
    {
     "data": {
      "text/plain": [
       "0.29004957749103966"
      ]
     },
     "execution_count": 21,
     "metadata": {},
     "output_type": "execute_result"
    }
   ],
   "source": [
    "\n",
    "#calculate r2 score\n",
    "r2_score(y_test, y_pred_2)"
   ]
  },
  {
   "cell_type": "code",
   "execution_count": null,
   "id": "77eed2d8",
   "metadata": {},
   "outputs": [],
   "source": []
  },
  {
   "cell_type": "code",
   "execution_count": null,
   "id": "c030789d",
   "metadata": {},
   "outputs": [],
   "source": []
  },
  {
   "cell_type": "code",
   "execution_count": null,
   "id": "e8973914",
   "metadata": {},
   "outputs": [],
   "source": []
  },
  {
   "cell_type": "code",
   "execution_count": null,
   "id": "31b1707f",
   "metadata": {},
   "outputs": [],
   "source": []
  },
  {
   "cell_type": "code",
   "execution_count": null,
   "id": "81eb615e",
   "metadata": {},
   "outputs": [],
   "source": []
  }
 ],
 "metadata": {
  "kernelspec": {
   "display_name": "mlenv",
   "language": "python",
   "name": "mlenv"
  },
  "language_info": {
   "codemirror_mode": {
    "name": "ipython",
    "version": 3
   },
   "file_extension": ".py",
   "mimetype": "text/x-python",
   "name": "python",
   "nbconvert_exporter": "python",
   "pygments_lexer": "ipython3",
   "version": "3.7.11"
  }
 },
 "nbformat": 4,
 "nbformat_minor": 5
}
