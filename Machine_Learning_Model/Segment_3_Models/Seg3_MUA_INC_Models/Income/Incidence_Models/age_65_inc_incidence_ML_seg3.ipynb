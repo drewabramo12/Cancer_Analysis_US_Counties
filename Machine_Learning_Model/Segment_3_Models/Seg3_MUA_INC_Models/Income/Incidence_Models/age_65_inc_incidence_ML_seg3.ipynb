{
 "cells": [
  {
   "cell_type": "code",
   "execution_count": 23,
   "id": "238a26ab",
   "metadata": {},
   "outputs": [],
   "source": [
    "#initial imports\n",
    "import pandas as pd\n",
    "import matplotlib.pyplot as plt \n",
    "from sklearn.preprocessing import StandardScaler, LabelEncoder\n",
    "from sklearn.linear_model import LinearRegression\n",
    "import statsmodels.api as sm\n",
    "import numpy as np \n",
    "from sklearn.metrics import r2_score\n",
    "from sklearn.model_selection import train_test_split\n",
    "from sklearn.tree import DecisionTreeRegressor \n",
    "import numpy as np"
   ]
  },
  {
   "cell_type": "code",
   "execution_count": 24,
   "id": "e78e7a47",
   "metadata": {},
   "outputs": [
    {
     "data": {
      "text/html": [
       "<div>\n",
       "<style scoped>\n",
       "    .dataframe tbody tr th:only-of-type {\n",
       "        vertical-align: middle;\n",
       "    }\n",
       "\n",
       "    .dataframe tbody tr th {\n",
       "        vertical-align: top;\n",
       "    }\n",
       "\n",
       "    .dataframe thead th {\n",
       "        text-align: right;\n",
       "    }\n",
       "</style>\n",
       "<table border=\"1\" class=\"dataframe\">\n",
       "  <thead>\n",
       "    <tr style=\"text-align: right;\">\n",
       "      <th></th>\n",
       "      <th>average_annual_count</th>\n",
       "      <th>recent_trend</th>\n",
       "      <th>primary_state_name</th>\n",
       "      <th>cancer</th>\n",
       "      <th>race_ethnicity</th>\n",
       "      <th>sex</th>\n",
       "      <th>age</th>\n",
       "      <th>age_adjusted_rate</th>\n",
       "      <th>five_year_trend_rates</th>\n",
       "      <th>county_state</th>\n",
       "      <th>...</th>\n",
       "      <th>popestimate2016</th>\n",
       "      <th>popestimate2017</th>\n",
       "      <th>popestimate2018</th>\n",
       "      <th>popestimate2019</th>\n",
       "      <th>abbrv</th>\n",
       "      <th>median_household_income_2015</th>\n",
       "      <th>median_household_income_2016</th>\n",
       "      <th>median_household_income_2017</th>\n",
       "      <th>median_household_income_2018</th>\n",
       "      <th>median_household_income_2019</th>\n",
       "    </tr>\n",
       "  </thead>\n",
       "  <tbody>\n",
       "    <tr>\n",
       "      <th>0</th>\n",
       "      <td>9</td>\n",
       "      <td>stable</td>\n",
       "      <td>Alabama</td>\n",
       "      <td>All Cancer Sites</td>\n",
       "      <td>All Races (includes Hispanic)</td>\n",
       "      <td>All Sexes</td>\n",
       "      <td>&lt;50</td>\n",
       "      <td>167.8</td>\n",
       "      <td>2.3</td>\n",
       "      <td>Lowndes County AL</td>\n",
       "      <td>...</td>\n",
       "      <td>10248</td>\n",
       "      <td>10097</td>\n",
       "      <td>9974</td>\n",
       "      <td>9726</td>\n",
       "      <td>AL</td>\n",
       "      <td>31117.0</td>\n",
       "      <td>32011.0</td>\n",
       "      <td>33130.0</td>\n",
       "      <td>33973.0</td>\n",
       "      <td>33930.0</td>\n",
       "    </tr>\n",
       "    <tr>\n",
       "      <th>1</th>\n",
       "      <td>72</td>\n",
       "      <td>rising</td>\n",
       "      <td>Alabama</td>\n",
       "      <td>All Cancer Sites</td>\n",
       "      <td>All Races (includes Hispanic)</td>\n",
       "      <td>All Sexes</td>\n",
       "      <td>50+</td>\n",
       "      <td>1738.4</td>\n",
       "      <td>2.0</td>\n",
       "      <td>Lowndes County AL</td>\n",
       "      <td>...</td>\n",
       "      <td>10248</td>\n",
       "      <td>10097</td>\n",
       "      <td>9974</td>\n",
       "      <td>9726</td>\n",
       "      <td>AL</td>\n",
       "      <td>31117.0</td>\n",
       "      <td>32011.0</td>\n",
       "      <td>33130.0</td>\n",
       "      <td>33973.0</td>\n",
       "      <td>33930.0</td>\n",
       "    </tr>\n",
       "    <tr>\n",
       "      <th>2</th>\n",
       "      <td>37</td>\n",
       "      <td>rising</td>\n",
       "      <td>Alabama</td>\n",
       "      <td>All Cancer Sites</td>\n",
       "      <td>All Races (includes Hispanic)</td>\n",
       "      <td>All Sexes</td>\n",
       "      <td>&lt;65</td>\n",
       "      <td>339.4</td>\n",
       "      <td>2.4</td>\n",
       "      <td>Lowndes County AL</td>\n",
       "      <td>...</td>\n",
       "      <td>10248</td>\n",
       "      <td>10097</td>\n",
       "      <td>9974</td>\n",
       "      <td>9726</td>\n",
       "      <td>AL</td>\n",
       "      <td>31117.0</td>\n",
       "      <td>32011.0</td>\n",
       "      <td>33130.0</td>\n",
       "      <td>33973.0</td>\n",
       "      <td>33930.0</td>\n",
       "    </tr>\n",
       "    <tr>\n",
       "      <th>3</th>\n",
       "      <td>44</td>\n",
       "      <td>stable</td>\n",
       "      <td>Alabama</td>\n",
       "      <td>All Cancer Sites</td>\n",
       "      <td>All Races (includes Hispanic)</td>\n",
       "      <td>All Sexes</td>\n",
       "      <td>65+</td>\n",
       "      <td>2416.0</td>\n",
       "      <td>1.8</td>\n",
       "      <td>Lowndes County AL</td>\n",
       "      <td>...</td>\n",
       "      <td>10248</td>\n",
       "      <td>10097</td>\n",
       "      <td>9974</td>\n",
       "      <td>9726</td>\n",
       "      <td>AL</td>\n",
       "      <td>31117.0</td>\n",
       "      <td>32011.0</td>\n",
       "      <td>33130.0</td>\n",
       "      <td>33973.0</td>\n",
       "      <td>33930.0</td>\n",
       "    </tr>\n",
       "    <tr>\n",
       "      <th>4</th>\n",
       "      <td>9</td>\n",
       "      <td>stable</td>\n",
       "      <td>Alabama</td>\n",
       "      <td>All Cancer Sites</td>\n",
       "      <td>All Races (includes Hispanic)</td>\n",
       "      <td>All Sexes</td>\n",
       "      <td>&lt;50</td>\n",
       "      <td>145.2</td>\n",
       "      <td>2.0</td>\n",
       "      <td>Conecuh County AL</td>\n",
       "      <td>...</td>\n",
       "      <td>12500</td>\n",
       "      <td>12431</td>\n",
       "      <td>12292</td>\n",
       "      <td>12067</td>\n",
       "      <td>AL</td>\n",
       "      <td>29981.0</td>\n",
       "      <td>29758.0</td>\n",
       "      <td>30796.0</td>\n",
       "      <td>32613.0</td>\n",
       "      <td>41539.0</td>\n",
       "    </tr>\n",
       "  </tbody>\n",
       "</table>\n",
       "<p>5 rows × 22 columns</p>\n",
       "</div>"
      ],
      "text/plain": [
       "   average_annual_count recent_trend primary_state_name            cancer  \\\n",
       "0                     9       stable            Alabama  All Cancer Sites   \n",
       "1                    72       rising            Alabama  All Cancer Sites   \n",
       "2                    37       rising            Alabama  All Cancer Sites   \n",
       "3                    44       stable            Alabama  All Cancer Sites   \n",
       "4                     9       stable            Alabama  All Cancer Sites   \n",
       "\n",
       "                  race_ethnicity        sex  age age_adjusted_rate  \\\n",
       "0  All Races (includes Hispanic)  All Sexes  <50            167.8    \n",
       "1  All Races (includes Hispanic)  All Sexes  50+           1738.4    \n",
       "2  All Races (includes Hispanic)  All Sexes  <65            339.4    \n",
       "3  All Races (includes Hispanic)  All Sexes  65+           2416.0    \n",
       "4  All Races (includes Hispanic)  All Sexes  <50            145.2    \n",
       "\n",
       "  five_year_trend_rates       county_state  ...  popestimate2016  \\\n",
       "0                  2.3   Lowndes County AL  ...            10248   \n",
       "1                  2.0   Lowndes County AL  ...            10248   \n",
       "2                  2.4   Lowndes County AL  ...            10248   \n",
       "3                  1.8   Lowndes County AL  ...            10248   \n",
       "4                  2.0   Conecuh County AL  ...            12500   \n",
       "\n",
       "   popestimate2017  popestimate2018  popestimate2019  abbrv  \\\n",
       "0            10097             9974             9726     AL   \n",
       "1            10097             9974             9726     AL   \n",
       "2            10097             9974             9726     AL   \n",
       "3            10097             9974             9726     AL   \n",
       "4            12431            12292            12067     AL   \n",
       "\n",
       "   median_household_income_2015 median_household_income_2016  \\\n",
       "0                       31117.0                      32011.0   \n",
       "1                       31117.0                      32011.0   \n",
       "2                       31117.0                      32011.0   \n",
       "3                       31117.0                      32011.0   \n",
       "4                       29981.0                      29758.0   \n",
       "\n",
       "   median_household_income_2017  median_household_income_2018  \\\n",
       "0                       33130.0                       33973.0   \n",
       "1                       33130.0                       33973.0   \n",
       "2                       33130.0                       33973.0   \n",
       "3                       33130.0                       33973.0   \n",
       "4                       30796.0                       32613.0   \n",
       "\n",
       "   median_household_income_2019  \n",
       "0                       33930.0  \n",
       "1                       33930.0  \n",
       "2                       33930.0  \n",
       "3                       33930.0  \n",
       "4                       41539.0  \n",
       "\n",
       "[5 rows x 22 columns]"
      ]
     },
     "execution_count": 24,
     "metadata": {},
     "output_type": "execute_result"
    }
   ],
   "source": [
    "#read in incidence csv from github\n",
    "\n",
    "incidence_df = pd.read_csv(\"https://raw.githubusercontent.com/robyndook/Cancer_Treatment_Centers_California/main/Resources/Age_Incidence_Cancer_DB.csv\")                         \n",
    "#get rid of commas in columns\n",
    "incidence_df = incidence_df.replace(',','', regex=True)\n",
    "incidence_df.head()     "
   ]
  },
  {
   "cell_type": "code",
   "execution_count": 27,
   "id": "ba920d6f",
   "metadata": {},
   "outputs": [
    {
     "data": {
      "text/plain": [
       "average_annual_count                     int64\n",
       "recent_trend                            object\n",
       "primary_state_name                      object\n",
       "cancer                                  object\n",
       "race_ethnicity                          object\n",
       "sex                                     object\n",
       "age                                     object\n",
       "age_adjusted_rate                       object\n",
       "five_year_trend_rates                   object\n",
       "county_state                            object\n",
       "index_of_medical_underservice_score    float64\n",
       "popestimate2015                          int64\n",
       "popestimate2016                          int64\n",
       "popestimate2017                          int64\n",
       "popestimate2018                          int64\n",
       "popestimate2019                          int64\n",
       "abbrv                                   object\n",
       "median_household_income_2015           float64\n",
       "median_household_income_2016           float64\n",
       "median_household_income_2017           float64\n",
       "median_household_income_2018           float64\n",
       "median_household_income_2019           float64\n",
       "dtype: object"
      ]
     },
     "execution_count": 27,
     "metadata": {},
     "output_type": "execute_result"
    }
   ],
   "source": [
    "#check dtypes\n",
    "incidence_df.dtypes"
   ]
  },
  {
   "cell_type": "code",
   "execution_count": 28,
   "id": "bb0ea0f7",
   "metadata": {},
   "outputs": [
    {
     "data": {
      "text/plain": [
       "average_annual_count                   10229\n",
       "recent_trend                           10229\n",
       "primary_state_name                     10229\n",
       "cancer                                 10229\n",
       "race_ethnicity                         10229\n",
       "sex                                    10229\n",
       "age                                    10229\n",
       "age_adjusted_rate                      10229\n",
       "five_year_trend_rates                  10229\n",
       "county_state                           10229\n",
       "index_of_medical_underservice_score     8793\n",
       "popestimate2015                        10229\n",
       "popestimate2016                        10229\n",
       "popestimate2017                        10229\n",
       "popestimate2018                        10229\n",
       "popestimate2019                        10229\n",
       "abbrv                                  10210\n",
       "median_household_income_2015           10210\n",
       "median_household_income_2016           10210\n",
       "median_household_income_2017           10210\n",
       "median_household_income_2018           10210\n",
       "median_household_income_2019           10210\n",
       "dtype: int64"
      ]
     },
     "execution_count": 28,
     "metadata": {},
     "output_type": "execute_result"
    }
   ],
   "source": [
    "#get count of rows\n",
    "incidence_df.count()"
   ]
  },
  {
   "cell_type": "code",
   "execution_count": 29,
   "id": "cf7b9e77",
   "metadata": {},
   "outputs": [
    {
     "data": {
      "text/plain": [
       "50+    2643\n",
       "65+    2628\n",
       "<65    2604\n",
       "<50    2354\n",
       "Name: age, dtype: int64"
      ]
     },
     "execution_count": 29,
     "metadata": {},
     "output_type": "execute_result"
    }
   ],
   "source": [
    "#get count of values for age\n",
    "incidence_df[\"age\"].value_counts()"
   ]
  },
  {
   "cell_type": "code",
   "execution_count": 30,
   "id": "a3ebf843",
   "metadata": {},
   "outputs": [
    {
     "data": {
      "text/html": [
       "<div>\n",
       "<style scoped>\n",
       "    .dataframe tbody tr th:only-of-type {\n",
       "        vertical-align: middle;\n",
       "    }\n",
       "\n",
       "    .dataframe tbody tr th {\n",
       "        vertical-align: top;\n",
       "    }\n",
       "\n",
       "    .dataframe thead th {\n",
       "        text-align: right;\n",
       "    }\n",
       "</style>\n",
       "<table border=\"1\" class=\"dataframe\">\n",
       "  <thead>\n",
       "    <tr style=\"text-align: right;\">\n",
       "      <th></th>\n",
       "      <th>average_annual_count</th>\n",
       "      <th>recent_trend</th>\n",
       "      <th>primary_state_name</th>\n",
       "      <th>cancer</th>\n",
       "      <th>race_ethnicity</th>\n",
       "      <th>sex</th>\n",
       "      <th>age</th>\n",
       "      <th>age_adjusted_rate</th>\n",
       "      <th>five_year_trend_rates</th>\n",
       "      <th>county_state</th>\n",
       "      <th>...</th>\n",
       "      <th>popestimate2017</th>\n",
       "      <th>popestimate2018</th>\n",
       "      <th>popestimate2019</th>\n",
       "      <th>abbrv</th>\n",
       "      <th>median_household_income_2015</th>\n",
       "      <th>median_household_income_2016</th>\n",
       "      <th>median_household_income_2017</th>\n",
       "      <th>median_household_income_2018</th>\n",
       "      <th>median_household_income_2019</th>\n",
       "      <th>5_year_avg_income</th>\n",
       "    </tr>\n",
       "  </thead>\n",
       "  <tbody>\n",
       "    <tr>\n",
       "      <th>0</th>\n",
       "      <td>9</td>\n",
       "      <td>stable</td>\n",
       "      <td>Alabama</td>\n",
       "      <td>All Cancer Sites</td>\n",
       "      <td>All Races (includes Hispanic)</td>\n",
       "      <td>All Sexes</td>\n",
       "      <td>&lt;50</td>\n",
       "      <td>167.8</td>\n",
       "      <td>2.3</td>\n",
       "      <td>Lowndes County AL</td>\n",
       "      <td>...</td>\n",
       "      <td>10097</td>\n",
       "      <td>9974</td>\n",
       "      <td>9726</td>\n",
       "      <td>AL</td>\n",
       "      <td>31117.0</td>\n",
       "      <td>32011.0</td>\n",
       "      <td>33130.0</td>\n",
       "      <td>33973.0</td>\n",
       "      <td>33930.0</td>\n",
       "      <td>32832.2</td>\n",
       "    </tr>\n",
       "    <tr>\n",
       "      <th>1</th>\n",
       "      <td>72</td>\n",
       "      <td>rising</td>\n",
       "      <td>Alabama</td>\n",
       "      <td>All Cancer Sites</td>\n",
       "      <td>All Races (includes Hispanic)</td>\n",
       "      <td>All Sexes</td>\n",
       "      <td>50+</td>\n",
       "      <td>1738.4</td>\n",
       "      <td>2.0</td>\n",
       "      <td>Lowndes County AL</td>\n",
       "      <td>...</td>\n",
       "      <td>10097</td>\n",
       "      <td>9974</td>\n",
       "      <td>9726</td>\n",
       "      <td>AL</td>\n",
       "      <td>31117.0</td>\n",
       "      <td>32011.0</td>\n",
       "      <td>33130.0</td>\n",
       "      <td>33973.0</td>\n",
       "      <td>33930.0</td>\n",
       "      <td>32832.2</td>\n",
       "    </tr>\n",
       "    <tr>\n",
       "      <th>2</th>\n",
       "      <td>37</td>\n",
       "      <td>rising</td>\n",
       "      <td>Alabama</td>\n",
       "      <td>All Cancer Sites</td>\n",
       "      <td>All Races (includes Hispanic)</td>\n",
       "      <td>All Sexes</td>\n",
       "      <td>&lt;65</td>\n",
       "      <td>339.4</td>\n",
       "      <td>2.4</td>\n",
       "      <td>Lowndes County AL</td>\n",
       "      <td>...</td>\n",
       "      <td>10097</td>\n",
       "      <td>9974</td>\n",
       "      <td>9726</td>\n",
       "      <td>AL</td>\n",
       "      <td>31117.0</td>\n",
       "      <td>32011.0</td>\n",
       "      <td>33130.0</td>\n",
       "      <td>33973.0</td>\n",
       "      <td>33930.0</td>\n",
       "      <td>32832.2</td>\n",
       "    </tr>\n",
       "    <tr>\n",
       "      <th>3</th>\n",
       "      <td>44</td>\n",
       "      <td>stable</td>\n",
       "      <td>Alabama</td>\n",
       "      <td>All Cancer Sites</td>\n",
       "      <td>All Races (includes Hispanic)</td>\n",
       "      <td>All Sexes</td>\n",
       "      <td>65+</td>\n",
       "      <td>2416.0</td>\n",
       "      <td>1.8</td>\n",
       "      <td>Lowndes County AL</td>\n",
       "      <td>...</td>\n",
       "      <td>10097</td>\n",
       "      <td>9974</td>\n",
       "      <td>9726</td>\n",
       "      <td>AL</td>\n",
       "      <td>31117.0</td>\n",
       "      <td>32011.0</td>\n",
       "      <td>33130.0</td>\n",
       "      <td>33973.0</td>\n",
       "      <td>33930.0</td>\n",
       "      <td>32832.2</td>\n",
       "    </tr>\n",
       "    <tr>\n",
       "      <th>4</th>\n",
       "      <td>9</td>\n",
       "      <td>stable</td>\n",
       "      <td>Alabama</td>\n",
       "      <td>All Cancer Sites</td>\n",
       "      <td>All Races (includes Hispanic)</td>\n",
       "      <td>All Sexes</td>\n",
       "      <td>&lt;50</td>\n",
       "      <td>145.2</td>\n",
       "      <td>2.0</td>\n",
       "      <td>Conecuh County AL</td>\n",
       "      <td>...</td>\n",
       "      <td>12431</td>\n",
       "      <td>12292</td>\n",
       "      <td>12067</td>\n",
       "      <td>AL</td>\n",
       "      <td>29981.0</td>\n",
       "      <td>29758.0</td>\n",
       "      <td>30796.0</td>\n",
       "      <td>32613.0</td>\n",
       "      <td>41539.0</td>\n",
       "      <td>32937.4</td>\n",
       "    </tr>\n",
       "  </tbody>\n",
       "</table>\n",
       "<p>5 rows × 23 columns</p>\n",
       "</div>"
      ],
      "text/plain": [
       "   average_annual_count recent_trend primary_state_name            cancer  \\\n",
       "0                     9       stable            Alabama  All Cancer Sites   \n",
       "1                    72       rising            Alabama  All Cancer Sites   \n",
       "2                    37       rising            Alabama  All Cancer Sites   \n",
       "3                    44       stable            Alabama  All Cancer Sites   \n",
       "4                     9       stable            Alabama  All Cancer Sites   \n",
       "\n",
       "                  race_ethnicity        sex  age age_adjusted_rate  \\\n",
       "0  All Races (includes Hispanic)  All Sexes  <50            167.8    \n",
       "1  All Races (includes Hispanic)  All Sexes  50+           1738.4    \n",
       "2  All Races (includes Hispanic)  All Sexes  <65            339.4    \n",
       "3  All Races (includes Hispanic)  All Sexes  65+           2416.0    \n",
       "4  All Races (includes Hispanic)  All Sexes  <50            145.2    \n",
       "\n",
       "  five_year_trend_rates       county_state  ...  popestimate2017  \\\n",
       "0                  2.3   Lowndes County AL  ...            10097   \n",
       "1                  2.0   Lowndes County AL  ...            10097   \n",
       "2                  2.4   Lowndes County AL  ...            10097   \n",
       "3                  1.8   Lowndes County AL  ...            10097   \n",
       "4                  2.0   Conecuh County AL  ...            12431   \n",
       "\n",
       "   popestimate2018  popestimate2019  abbrv  median_household_income_2015  \\\n",
       "0             9974             9726     AL                       31117.0   \n",
       "1             9974             9726     AL                       31117.0   \n",
       "2             9974             9726     AL                       31117.0   \n",
       "3             9974             9726     AL                       31117.0   \n",
       "4            12292            12067     AL                       29981.0   \n",
       "\n",
       "   median_household_income_2016 median_household_income_2017  \\\n",
       "0                       32011.0                      33130.0   \n",
       "1                       32011.0                      33130.0   \n",
       "2                       32011.0                      33130.0   \n",
       "3                       32011.0                      33130.0   \n",
       "4                       29758.0                      30796.0   \n",
       "\n",
       "   median_household_income_2018  median_household_income_2019  \\\n",
       "0                       33973.0                       33930.0   \n",
       "1                       33973.0                       33930.0   \n",
       "2                       33973.0                       33930.0   \n",
       "3                       33973.0                       33930.0   \n",
       "4                       32613.0                       41539.0   \n",
       "\n",
       "   5_year_avg_income  \n",
       "0            32832.2  \n",
       "1            32832.2  \n",
       "2            32832.2  \n",
       "3            32832.2  \n",
       "4            32937.4  \n",
       "\n",
       "[5 rows x 23 columns]"
      ]
     },
     "execution_count": 30,
     "metadata": {},
     "output_type": "execute_result"
    }
   ],
   "source": [
    "#create column for 5-year average median income \n",
    "incidence_df[\"5_year_avg_income\"] = (incidence_df[\"median_household_income_2015\"]+incidence_df[\"median_household_income_2016\"]+incidence_df[\"median_household_income_2017\"]+incidence_df[\"median_household_income_2018\"]+incidence_df[\"median_household_income_2019\"])/5\n",
    "incidence_df.head()"
   ]
  },
  {
   "cell_type": "code",
   "execution_count": 31,
   "id": "c147e828",
   "metadata": {},
   "outputs": [
    {
     "data": {
      "text/plain": [
       "19"
      ]
     },
     "execution_count": 31,
     "metadata": {},
     "output_type": "execute_result"
    }
   ],
   "source": [
    "#get count of NA values for avg income\n",
    "incidence_df[\"5_year_avg_income\"].isna().sum()"
   ]
  },
  {
   "cell_type": "code",
   "execution_count": 32,
   "id": "ec619f4b",
   "metadata": {},
   "outputs": [],
   "source": [
    "#drop rows where avg income is null\n",
    "incidence_df = incidence_df[incidence_df[\"5_year_avg_income\"].isna() == False]"
   ]
  },
  {
   "cell_type": "code",
   "execution_count": 33,
   "id": "9b7b971a",
   "metadata": {},
   "outputs": [
    {
     "data": {
      "text/plain": [
       "average_annual_count                   10210\n",
       "recent_trend                           10210\n",
       "primary_state_name                     10210\n",
       "cancer                                 10210\n",
       "race_ethnicity                         10210\n",
       "sex                                    10210\n",
       "age                                    10210\n",
       "age_adjusted_rate                      10210\n",
       "five_year_trend_rates                  10210\n",
       "county_state                           10210\n",
       "index_of_medical_underservice_score     8786\n",
       "popestimate2015                        10210\n",
       "popestimate2016                        10210\n",
       "popestimate2017                        10210\n",
       "popestimate2018                        10210\n",
       "popestimate2019                        10210\n",
       "abbrv                                  10210\n",
       "median_household_income_2015           10210\n",
       "median_household_income_2016           10210\n",
       "median_household_income_2017           10210\n",
       "median_household_income_2018           10210\n",
       "median_household_income_2019           10210\n",
       "5_year_avg_income                      10210\n",
       "dtype: int64"
      ]
     },
     "execution_count": 33,
     "metadata": {},
     "output_type": "execute_result"
    }
   ],
   "source": [
    "#get count of rows\n",
    "incidence_df.count()"
   ]
  },
  {
   "cell_type": "code",
   "execution_count": 34,
   "id": "735ed515",
   "metadata": {},
   "outputs": [
    {
     "data": {
      "text/plain": [
       "65+    2623\n",
       "<65    2599\n",
       "Name: age, dtype: int64"
      ]
     },
     "execution_count": 34,
     "metadata": {},
     "output_type": "execute_result"
    }
   ],
   "source": [
    "#keep only columns with 65+ and <65\n",
    "incidence_df_65 = incidence_df[incidence_df[\"age\"] != \"50+\"] \n",
    "incidence_df_65 = incidence_df_65[incidence_df_65[\"age\"] != \"<50\"] \n",
    "incidence_df_65[\"age\"].value_counts()"
   ]
  },
  {
   "cell_type": "code",
   "execution_count": 35,
   "id": "33d53b4a",
   "metadata": {},
   "outputs": [
    {
     "data": {
      "text/plain": [
       "average_annual_count                   5222\n",
       "recent_trend                           5222\n",
       "primary_state_name                     5222\n",
       "cancer                                 5222\n",
       "race_ethnicity                         5222\n",
       "sex                                    5222\n",
       "age                                    5222\n",
       "age_adjusted_rate                      5222\n",
       "five_year_trend_rates                  5222\n",
       "county_state                           5222\n",
       "index_of_medical_underservice_score    4498\n",
       "popestimate2015                        5222\n",
       "popestimate2016                        5222\n",
       "popestimate2017                        5222\n",
       "popestimate2018                        5222\n",
       "popestimate2019                        5222\n",
       "abbrv                                  5222\n",
       "median_household_income_2015           5222\n",
       "median_household_income_2016           5222\n",
       "median_household_income_2017           5222\n",
       "median_household_income_2018           5222\n",
       "median_household_income_2019           5222\n",
       "5_year_avg_income                      5222\n",
       "dtype: int64"
      ]
     },
     "execution_count": 35,
     "metadata": {},
     "output_type": "execute_result"
    }
   ],
   "source": [
    "incidence_df_65.count()"
   ]
  },
  {
   "cell_type": "code",
   "execution_count": 36,
   "id": "04937a74",
   "metadata": {},
   "outputs": [
    {
     "name": "stderr",
     "output_type": "stream",
     "text": [
      "/Users/hankbowman/opt/anaconda3/envs/mlenv/lib/python3.7/site-packages/ipykernel_launcher.py:5: SettingWithCopyWarning: \n",
      "A value is trying to be set on a copy of a slice from a DataFrame.\n",
      "Try using .loc[row_indexer,col_indexer] = value instead\n",
      "\n",
      "See the caveats in the documentation: https://pandas.pydata.org/pandas-docs/stable/user_guide/indexing.html#returning-a-view-versus-a-copy\n",
      "  \"\"\"\n"
     ]
    },
    {
     "data": {
      "text/html": [
       "<div>\n",
       "<style scoped>\n",
       "    .dataframe tbody tr th:only-of-type {\n",
       "        vertical-align: middle;\n",
       "    }\n",
       "\n",
       "    .dataframe tbody tr th {\n",
       "        vertical-align: top;\n",
       "    }\n",
       "\n",
       "    .dataframe thead th {\n",
       "        text-align: right;\n",
       "    }\n",
       "</style>\n",
       "<table border=\"1\" class=\"dataframe\">\n",
       "  <thead>\n",
       "    <tr style=\"text-align: right;\">\n",
       "      <th></th>\n",
       "      <th>age_adjusted_rate</th>\n",
       "    </tr>\n",
       "  </thead>\n",
       "  <tbody>\n",
       "    <tr>\n",
       "      <th>2</th>\n",
       "      <td>339.4</td>\n",
       "    </tr>\n",
       "    <tr>\n",
       "      <th>3</th>\n",
       "      <td>2416.0</td>\n",
       "    </tr>\n",
       "    <tr>\n",
       "      <th>6</th>\n",
       "      <td>276.9</td>\n",
       "    </tr>\n",
       "    <tr>\n",
       "      <th>7</th>\n",
       "      <td>1659.8</td>\n",
       "    </tr>\n",
       "    <tr>\n",
       "      <th>10</th>\n",
       "      <td>270.3</td>\n",
       "    </tr>\n",
       "  </tbody>\n",
       "</table>\n",
       "</div>"
      ],
      "text/plain": [
       "    age_adjusted_rate\n",
       "2               339.4\n",
       "3              2416.0\n",
       "6               276.9\n",
       "7              1659.8\n",
       "10              270.3"
      ]
     },
     "execution_count": 36,
     "metadata": {},
     "output_type": "execute_result"
    }
   ],
   "source": [
    "#create target \n",
    "y = incidence_df_65[['age_adjusted_rate']]\n",
    "\n",
    "#change dtype to numeric\n",
    "y['age_adjusted_rate'] = y['age_adjusted_rate'].astype(float)\n",
    "y.head()"
   ]
  },
  {
   "cell_type": "code",
   "execution_count": 46,
   "id": "6450707a",
   "metadata": {},
   "outputs": [
    {
     "data": {
      "text/html": [
       "<div>\n",
       "<style scoped>\n",
       "    .dataframe tbody tr th:only-of-type {\n",
       "        vertical-align: middle;\n",
       "    }\n",
       "\n",
       "    .dataframe tbody tr th {\n",
       "        vertical-align: top;\n",
       "    }\n",
       "\n",
       "    .dataframe thead th {\n",
       "        text-align: right;\n",
       "    }\n",
       "</style>\n",
       "<table border=\"1\" class=\"dataframe\">\n",
       "  <thead>\n",
       "    <tr style=\"text-align: right;\">\n",
       "      <th></th>\n",
       "      <th>age</th>\n",
       "      <th>5_year_avg_income</th>\n",
       "    </tr>\n",
       "  </thead>\n",
       "  <tbody>\n",
       "    <tr>\n",
       "      <th>2</th>\n",
       "      <td>&lt;65</td>\n",
       "      <td>32832.2</td>\n",
       "    </tr>\n",
       "    <tr>\n",
       "      <th>3</th>\n",
       "      <td>65+</td>\n",
       "      <td>32832.2</td>\n",
       "    </tr>\n",
       "    <tr>\n",
       "      <th>6</th>\n",
       "      <td>&lt;65</td>\n",
       "      <td>32937.4</td>\n",
       "    </tr>\n",
       "    <tr>\n",
       "      <th>7</th>\n",
       "      <td>65+</td>\n",
       "      <td>32937.4</td>\n",
       "    </tr>\n",
       "    <tr>\n",
       "      <th>10</th>\n",
       "      <td>&lt;65</td>\n",
       "      <td>27457.6</td>\n",
       "    </tr>\n",
       "  </tbody>\n",
       "</table>\n",
       "</div>"
      ],
      "text/plain": [
       "    age  5_year_avg_income\n",
       "2   <65            32832.2\n",
       "3   65+            32832.2\n",
       "6   <65            32937.4\n",
       "7   65+            32937.4\n",
       "10  <65            27457.6"
      ]
     },
     "execution_count": 46,
     "metadata": {},
     "output_type": "execute_result"
    }
   ],
   "source": [
    "#create feautures variable holding ages and income \n",
    "X = incidence_df_65[[\"age\", \"5_year_avg_income\"]]\n",
    "X.head()"
   ]
  },
  {
   "cell_type": "code",
   "execution_count": 47,
   "id": "81967ef9",
   "metadata": {},
   "outputs": [
    {
     "data": {
      "text/html": [
       "<div>\n",
       "<style scoped>\n",
       "    .dataframe tbody tr th:only-of-type {\n",
       "        vertical-align: middle;\n",
       "    }\n",
       "\n",
       "    .dataframe tbody tr th {\n",
       "        vertical-align: top;\n",
       "    }\n",
       "\n",
       "    .dataframe thead th {\n",
       "        text-align: right;\n",
       "    }\n",
       "</style>\n",
       "<table border=\"1\" class=\"dataframe\">\n",
       "  <thead>\n",
       "    <tr style=\"text-align: right;\">\n",
       "      <th></th>\n",
       "      <th>5_year_avg_income</th>\n",
       "      <th>age_65+</th>\n",
       "      <th>age_&lt;65</th>\n",
       "    </tr>\n",
       "  </thead>\n",
       "  <tbody>\n",
       "    <tr>\n",
       "      <th>2</th>\n",
       "      <td>32832.2</td>\n",
       "      <td>0</td>\n",
       "      <td>1</td>\n",
       "    </tr>\n",
       "    <tr>\n",
       "      <th>3</th>\n",
       "      <td>32832.2</td>\n",
       "      <td>1</td>\n",
       "      <td>0</td>\n",
       "    </tr>\n",
       "    <tr>\n",
       "      <th>6</th>\n",
       "      <td>32937.4</td>\n",
       "      <td>0</td>\n",
       "      <td>1</td>\n",
       "    </tr>\n",
       "    <tr>\n",
       "      <th>7</th>\n",
       "      <td>32937.4</td>\n",
       "      <td>1</td>\n",
       "      <td>0</td>\n",
       "    </tr>\n",
       "    <tr>\n",
       "      <th>10</th>\n",
       "      <td>27457.6</td>\n",
       "      <td>0</td>\n",
       "      <td>1</td>\n",
       "    </tr>\n",
       "  </tbody>\n",
       "</table>\n",
       "</div>"
      ],
      "text/plain": [
       "    5_year_avg_income  age_65+  age_<65\n",
       "2             32832.2        0        1\n",
       "3             32832.2        1        0\n",
       "6             32937.4        0        1\n",
       "7             32937.4        1        0\n",
       "10            27457.6        0        1"
      ]
     },
     "execution_count": 47,
     "metadata": {},
     "output_type": "execute_result"
    }
   ],
   "source": [
    "#create dummy variables for age\n",
    "X = pd.get_dummies(X, columns=[\"age\"])\n",
    "X.head()"
   ]
  },
  {
   "cell_type": "code",
   "execution_count": 48,
   "id": "2aa76633",
   "metadata": {},
   "outputs": [
    {
     "data": {
      "text/plain": [
       "(5222, 1)"
      ]
     },
     "execution_count": 48,
     "metadata": {},
     "output_type": "execute_result"
    }
   ],
   "source": [
    "#get shape of target array\n",
    "y.shape"
   ]
  },
  {
   "cell_type": "code",
   "execution_count": 49,
   "id": "1280b889",
   "metadata": {},
   "outputs": [
    {
     "data": {
      "text/plain": [
       "(5222, 3)"
      ]
     },
     "execution_count": 49,
     "metadata": {},
     "output_type": "execute_result"
    }
   ],
   "source": [
    "#get shape of feautures array\n",
    "X.shape"
   ]
  },
  {
   "cell_type": "code",
   "execution_count": 50,
   "id": "5f1347b8",
   "metadata": {},
   "outputs": [],
   "source": [
    "#split data\n",
    "X_train, X_test, y_train, y_test = train_test_split(X, y)"
   ]
  },
  {
   "cell_type": "code",
   "execution_count": 51,
   "id": "d2527940",
   "metadata": {},
   "outputs": [],
   "source": [
    "#create linear regression model using sklearn\n",
    "model = LinearRegression()"
   ]
  },
  {
   "cell_type": "code",
   "execution_count": 52,
   "id": "f8ddaed7",
   "metadata": {},
   "outputs": [],
   "source": [
    "#fit the model with training data\n",
    "regression_age_inc_incidence = model.fit(X_train, y_train)"
   ]
  },
  {
   "cell_type": "code",
   "execution_count": 53,
   "id": "c7765a0d",
   "metadata": {},
   "outputs": [
    {
     "data": {
      "text/plain": [
       "array([[1972.26562244],\n",
       "       [ 250.10359769],\n",
       "       [ 245.62819454],\n",
       "       ...,\n",
       "       [ 260.71867008],\n",
       "       [ 241.83195265],\n",
       "       [1966.33368155]])"
      ]
     },
     "execution_count": 53,
     "metadata": {},
     "output_type": "execute_result"
    }
   ],
   "source": [
    "#Create predictions array using linear regression\n",
    "y_pred = regression_age_inc_incidence.predict(X_test)\n",
    "y_pred"
   ]
  },
  {
   "cell_type": "code",
   "execution_count": 54,
   "id": "d80f5562",
   "metadata": {},
   "outputs": [
    {
     "data": {
      "text/plain": [
       "0.9532117568969551"
      ]
     },
     "execution_count": 54,
     "metadata": {},
     "output_type": "execute_result"
    }
   ],
   "source": [
    "#get R2 value from linear regression\n",
    "from sklearn.metrics import r2_score\n",
    "r2_score(y_test, y_pred)"
   ]
  },
  {
   "cell_type": "code",
   "execution_count": 55,
   "id": "d168955c",
   "metadata": {},
   "outputs": [
    {
     "name": "stderr",
     "output_type": "stream",
     "text": [
      "/Users/hankbowman/opt/anaconda3/envs/mlenv/lib/python3.7/site-packages/statsmodels/tsa/tsatools.py:142: FutureWarning: In a future version of pandas all arguments of concat except for the argument 'objs' will be keyword-only\n",
      "  x = pd.concat(x[::order], 1)\n"
     ]
    }
   ],
   "source": [
    "#run regression again with statsmodels\n",
    "#use statsmodels to add constant to X\n",
    "#add constant to X\n",
    "X1 = sm.add_constant(X)"
   ]
  },
  {
   "cell_type": "code",
   "execution_count": 56,
   "id": "5ebb7adf",
   "metadata": {},
   "outputs": [],
   "source": [
    "#fit linear regression model\n",
    "model = sm.OLS(y, X1).fit()"
   ]
  },
  {
   "cell_type": "code",
   "execution_count": 58,
   "id": "9695608b",
   "metadata": {},
   "outputs": [
    {
     "name": "stdout",
     "output_type": "stream",
     "text": [
      "                            OLS Regression Results                            \n",
      "==============================================================================\n",
      "Dep. Variable:      age_adjusted_rate   R-squared:                       0.955\n",
      "Model:                            OLS   Adj. R-squared:                  0.955\n",
      "Method:                 Least Squares   F-statistic:                 5.512e+04\n",
      "Date:                Thu, 02 Jun 2022   Prob (F-statistic):               0.00\n",
      "Time:                        11:39:33   Log-Likelihood:                -34765.\n",
      "No. Observations:                5222   AIC:                         6.954e+04\n",
      "Df Residuals:                    5219   BIC:                         6.956e+04\n",
      "Df Model:                           2                                         \n",
      "Covariance Type:            nonrobust                                         \n",
      "=====================================================================================\n",
      "                        coef    std err          t      P>|t|      [0.025      0.975]\n",
      "-------------------------------------------------------------------------------------\n",
      "const               710.1237      6.909    102.779      0.000     696.579     723.669\n",
      "5_year_avg_income     0.0007      0.000      3.412      0.001       0.000       0.001\n",
      "age_65+            1220.8529      4.322    282.469      0.000    1212.380    1229.326\n",
      "age_<65            -510.7292      4.335   -117.828      0.000    -519.227    -502.232\n",
      "==============================================================================\n",
      "Omnibus:                      859.336   Durbin-Watson:                   1.672\n",
      "Prob(Omnibus):                  0.000   Jarque-Bera (JB):             5960.961\n",
      "Skew:                          -0.602   Prob(JB):                         0.00\n",
      "Kurtosis:                       8.094   Cond. No.                     2.03e+20\n",
      "==============================================================================\n",
      "\n",
      "Notes:\n",
      "[1] Standard Errors assume that the covariance matrix of the errors is correctly specified.\n",
      "[2] The smallest eigenvalue is 3.56e-28. This might indicate that there are\n",
      "strong multicollinearity problems or that the design matrix is singular.\n"
     ]
    }
   ],
   "source": [
    "#view model summary with statsmodels\n",
    "print(model.summary())"
   ]
  },
  {
   "cell_type": "code",
   "execution_count": 59,
   "id": "e657087d",
   "metadata": {},
   "outputs": [
    {
     "data": {
      "text/plain": [
       "DecisionTreeRegressor()"
      ]
     },
     "execution_count": 59,
     "metadata": {},
     "output_type": "execute_result"
    }
   ],
   "source": [
    "#fit the model with training data\n",
    "#decision tree regression\n",
    "regressor_DT = DecisionTreeRegressor()\n",
    "regressor_DT.fit(X_train, y_train)"
   ]
  },
  {
   "cell_type": "code",
   "execution_count": 60,
   "id": "18e6ac94",
   "metadata": {},
   "outputs": [
    {
     "data": {
      "text/plain": [
       "array([1883.5,  229.1,  197.8, ...,  221.3,  238.8, 2185.9])"
      ]
     },
     "execution_count": 60,
     "metadata": {},
     "output_type": "execute_result"
    }
   ],
   "source": [
    "#predict\n",
    "y_pred = regressor_DT.predict(X_test)\n",
    "y_pred"
   ]
  },
  {
   "cell_type": "code",
   "execution_count": 61,
   "id": "74325c04",
   "metadata": {},
   "outputs": [
    {
     "data": {
      "text/plain": [
       "0.9137466146317845"
      ]
     },
     "execution_count": 61,
     "metadata": {},
     "output_type": "execute_result"
    }
   ],
   "source": [
    "#calculate r2 score\n",
    "r2_score(y_test, y_pred)"
   ]
  },
  {
   "cell_type": "code",
   "execution_count": null,
   "id": "884ff4f9",
   "metadata": {},
   "outputs": [],
   "source": []
  }
 ],
 "metadata": {
  "kernelspec": {
   "display_name": "mlenv",
   "language": "python",
   "name": "mlenv"
  },
  "language_info": {
   "codemirror_mode": {
    "name": "ipython",
    "version": 3
   },
   "file_extension": ".py",
   "mimetype": "text/x-python",
   "name": "python",
   "nbconvert_exporter": "python",
   "pygments_lexer": "ipython3",
   "version": "3.7.11"
  }
 },
 "nbformat": 4,
 "nbformat_minor": 5
}
