{
 "cells": [
  {
   "cell_type": "code",
   "execution_count": 1,
   "id": "238a26ab",
   "metadata": {},
   "outputs": [],
   "source": [
    "#initial imports\n",
    "import pandas as pd\n",
    "import matplotlib.pyplot as plt \n",
    "from sklearn.preprocessing import StandardScaler, LabelEncoder\n",
    "from sklearn.linear_model import LinearRegression\n",
    "import statsmodels.api as sm\n",
    "import numpy as np \n",
    "from sklearn.metrics import r2_score\n",
    "from sklearn.model_selection import train_test_split\n",
    "from sklearn.tree import DecisionTreeRegressor \n",
    "import numpy as np"
   ]
  },
  {
   "cell_type": "code",
   "execution_count": 2,
   "id": "e78e7a47",
   "metadata": {},
   "outputs": [
    {
     "data": {
      "text/html": [
       "<div>\n",
       "<style scoped>\n",
       "    .dataframe tbody tr th:only-of-type {\n",
       "        vertical-align: middle;\n",
       "    }\n",
       "\n",
       "    .dataframe tbody tr th {\n",
       "        vertical-align: top;\n",
       "    }\n",
       "\n",
       "    .dataframe thead th {\n",
       "        text-align: right;\n",
       "    }\n",
       "</style>\n",
       "<table border=\"1\" class=\"dataframe\">\n",
       "  <thead>\n",
       "    <tr style=\"text-align: right;\">\n",
       "      <th></th>\n",
       "      <th>average_annual_count</th>\n",
       "      <th>primary_state_name</th>\n",
       "      <th>cancer</th>\n",
       "      <th>race_ethnicity</th>\n",
       "      <th>sex</th>\n",
       "      <th>age</th>\n",
       "      <th>age_adjusted_rate</th>\n",
       "      <th>county_state</th>\n",
       "      <th>index_of_medical_underservice_score</th>\n",
       "      <th>popestimate2015</th>\n",
       "      <th>popestimate2016</th>\n",
       "      <th>popestimate2017</th>\n",
       "      <th>popestimate2018</th>\n",
       "      <th>popestimate2019</th>\n",
       "      <th>abbrv</th>\n",
       "      <th>median_household_income_2015</th>\n",
       "      <th>median_household_income_2016</th>\n",
       "      <th>median_household_income_2017</th>\n",
       "      <th>median_household_income_2018</th>\n",
       "      <th>median_household_income_2019</th>\n",
       "    </tr>\n",
       "  </thead>\n",
       "  <tbody>\n",
       "    <tr>\n",
       "      <th>0</th>\n",
       "      <td>30</td>\n",
       "      <td>Alabama</td>\n",
       "      <td>All Cancer Sites</td>\n",
       "      <td>White (includes Hispanic)</td>\n",
       "      <td>All Sexes</td>\n",
       "      <td>All Ages</td>\n",
       "      <td>681.2</td>\n",
       "      <td>Lowndes County AL</td>\n",
       "      <td>54.0</td>\n",
       "      <td>10350</td>\n",
       "      <td>10248</td>\n",
       "      <td>10097</td>\n",
       "      <td>9974</td>\n",
       "      <td>9726</td>\n",
       "      <td>AL</td>\n",
       "      <td>31117.0</td>\n",
       "      <td>32011.0</td>\n",
       "      <td>33130.0</td>\n",
       "      <td>33973.0</td>\n",
       "      <td>33930.0</td>\n",
       "    </tr>\n",
       "    <tr>\n",
       "      <th>1</th>\n",
       "      <td>30</td>\n",
       "      <td>Alabama</td>\n",
       "      <td>All Cancer Sites</td>\n",
       "      <td>White Non-Hispanic</td>\n",
       "      <td>All Sexes</td>\n",
       "      <td>All Ages</td>\n",
       "      <td>694.0</td>\n",
       "      <td>Lowndes County AL</td>\n",
       "      <td>54.0</td>\n",
       "      <td>10350</td>\n",
       "      <td>10248</td>\n",
       "      <td>10097</td>\n",
       "      <td>9974</td>\n",
       "      <td>9726</td>\n",
       "      <td>AL</td>\n",
       "      <td>31117.0</td>\n",
       "      <td>32011.0</td>\n",
       "      <td>33130.0</td>\n",
       "      <td>33973.0</td>\n",
       "      <td>33930.0</td>\n",
       "    </tr>\n",
       "    <tr>\n",
       "      <th>2</th>\n",
       "      <td>51</td>\n",
       "      <td>Alabama</td>\n",
       "      <td>All Cancer Sites</td>\n",
       "      <td>Black (includes Hispanic)</td>\n",
       "      <td>All Sexes</td>\n",
       "      <td>All Ages</td>\n",
       "      <td>570.1</td>\n",
       "      <td>Lowndes County AL</td>\n",
       "      <td>54.0</td>\n",
       "      <td>10350</td>\n",
       "      <td>10248</td>\n",
       "      <td>10097</td>\n",
       "      <td>9974</td>\n",
       "      <td>9726</td>\n",
       "      <td>AL</td>\n",
       "      <td>31117.0</td>\n",
       "      <td>32011.0</td>\n",
       "      <td>33130.0</td>\n",
       "      <td>33973.0</td>\n",
       "      <td>33930.0</td>\n",
       "    </tr>\n",
       "    <tr>\n",
       "      <th>3</th>\n",
       "      <td>80</td>\n",
       "      <td>Alabama</td>\n",
       "      <td>All Cancer Sites</td>\n",
       "      <td>White (includes Hispanic)</td>\n",
       "      <td>All Sexes</td>\n",
       "      <td>All Ages</td>\n",
       "      <td>558.3</td>\n",
       "      <td>Crenshaw County AL</td>\n",
       "      <td>58.0</td>\n",
       "      <td>13850</td>\n",
       "      <td>13916</td>\n",
       "      <td>13858</td>\n",
       "      <td>13825</td>\n",
       "      <td>13772</td>\n",
       "      <td>AL</td>\n",
       "      <td>36759.0</td>\n",
       "      <td>37374.0</td>\n",
       "      <td>38419.0</td>\n",
       "      <td>39057.0</td>\n",
       "      <td>43309.0</td>\n",
       "    </tr>\n",
       "    <tr>\n",
       "      <th>4</th>\n",
       "      <td>80</td>\n",
       "      <td>Alabama</td>\n",
       "      <td>All Cancer Sites</td>\n",
       "      <td>White Non-Hispanic</td>\n",
       "      <td>All Sexes</td>\n",
       "      <td>All Ages</td>\n",
       "      <td>565.3</td>\n",
       "      <td>Crenshaw County AL</td>\n",
       "      <td>58.0</td>\n",
       "      <td>13850</td>\n",
       "      <td>13916</td>\n",
       "      <td>13858</td>\n",
       "      <td>13825</td>\n",
       "      <td>13772</td>\n",
       "      <td>AL</td>\n",
       "      <td>36759.0</td>\n",
       "      <td>37374.0</td>\n",
       "      <td>38419.0</td>\n",
       "      <td>39057.0</td>\n",
       "      <td>43309.0</td>\n",
       "    </tr>\n",
       "  </tbody>\n",
       "</table>\n",
       "</div>"
      ],
      "text/plain": [
       "   average_annual_count primary_state_name            cancer  \\\n",
       "0                    30            Alabama  All Cancer Sites   \n",
       "1                    30            Alabama  All Cancer Sites   \n",
       "2                    51            Alabama  All Cancer Sites   \n",
       "3                    80            Alabama  All Cancer Sites   \n",
       "4                    80            Alabama  All Cancer Sites   \n",
       "\n",
       "              race_ethnicity        sex       age age_adjusted_rate  \\\n",
       "0  White (includes Hispanic)  All Sexes  All Ages            681.2    \n",
       "1         White Non-Hispanic  All Sexes  All Ages            694.0    \n",
       "2  Black (includes Hispanic)  All Sexes  All Ages            570.1    \n",
       "3  White (includes Hispanic)  All Sexes  All Ages            558.3    \n",
       "4         White Non-Hispanic  All Sexes  All Ages            565.3    \n",
       "\n",
       "         county_state  index_of_medical_underservice_score  popestimate2015  \\\n",
       "0   Lowndes County AL                                 54.0            10350   \n",
       "1   Lowndes County AL                                 54.0            10350   \n",
       "2   Lowndes County AL                                 54.0            10350   \n",
       "3  Crenshaw County AL                                 58.0            13850   \n",
       "4  Crenshaw County AL                                 58.0            13850   \n",
       "\n",
       "   popestimate2016  popestimate2017  popestimate2018  popestimate2019 abbrv  \\\n",
       "0            10248            10097             9974             9726    AL   \n",
       "1            10248            10097             9974             9726    AL   \n",
       "2            10248            10097             9974             9726    AL   \n",
       "3            13916            13858            13825            13772    AL   \n",
       "4            13916            13858            13825            13772    AL   \n",
       "\n",
       "   median_household_income_2015  median_household_income_2016  \\\n",
       "0                       31117.0                       32011.0   \n",
       "1                       31117.0                       32011.0   \n",
       "2                       31117.0                       32011.0   \n",
       "3                       36759.0                       37374.0   \n",
       "4                       36759.0                       37374.0   \n",
       "\n",
       "   median_household_income_2017  median_household_income_2018  \\\n",
       "0                       33130.0                       33973.0   \n",
       "1                       33130.0                       33973.0   \n",
       "2                       33130.0                       33973.0   \n",
       "3                       38419.0                       39057.0   \n",
       "4                       38419.0                       39057.0   \n",
       "\n",
       "   median_household_income_2019  \n",
       "0                       33930.0  \n",
       "1                       33930.0  \n",
       "2                       33930.0  \n",
       "3                       43309.0  \n",
       "4                       43309.0  "
      ]
     },
     "execution_count": 2,
     "metadata": {},
     "output_type": "execute_result"
    }
   ],
   "source": [
    "#read in race incidence csv from github\n",
    "\n",
    "incidence_df = pd.read_csv(\"https://raw.githubusercontent.com/robyndook/Cancer_Treatment_Centers_California/main/Resources/Race_Incidence_Cancer_DB.csv\")                         \n",
    "#get rid of commas in columns\n",
    "incidence_df = incidence_df.replace(',','', regex=True)\n",
    "incidence_df.head()     "
   ]
  },
  {
   "cell_type": "code",
   "execution_count": 3,
   "id": "bb0ea0f7",
   "metadata": {},
   "outputs": [
    {
     "data": {
      "text/plain": [
       "average_annual_count                   9160\n",
       "primary_state_name                     9160\n",
       "cancer                                 9160\n",
       "race_ethnicity                         9160\n",
       "sex                                    9160\n",
       "age                                    9160\n",
       "age_adjusted_rate                      9160\n",
       "county_state                           9160\n",
       "index_of_medical_underservice_score    7931\n",
       "popestimate2015                        9160\n",
       "popestimate2016                        9160\n",
       "popestimate2017                        9160\n",
       "popestimate2018                        9160\n",
       "popestimate2019                        9160\n",
       "abbrv                                  9146\n",
       "median_household_income_2015           9146\n",
       "median_household_income_2016           9146\n",
       "median_household_income_2017           9146\n",
       "median_household_income_2018           9146\n",
       "median_household_income_2019           9146\n",
       "dtype: int64"
      ]
     },
     "execution_count": 3,
     "metadata": {},
     "output_type": "execute_result"
    }
   ],
   "source": [
    "#get count of rows\n",
    "incidence_df.count()"
   ]
  },
  {
   "cell_type": "code",
   "execution_count": 4,
   "id": "cf7b9e77",
   "metadata": {},
   "outputs": [
    {
     "data": {
      "text/plain": [
       "White (includes Hispanic)                       2643\n",
       "  White Non-Hispanic                            2335\n",
       "Black (includes Hispanic)                       1308\n",
       "Hispanic (any race)                             1009\n",
       "  White Hispanic                                 912\n",
       "Asian / Pacific Islander (includes Hispanic)     525\n",
       "Amer. Indian / AK Native (includes Hispanic)     428\n",
       "Name: race_ethnicity, dtype: int64"
      ]
     },
     "execution_count": 4,
     "metadata": {},
     "output_type": "execute_result"
    }
   ],
   "source": [
    "#get count of values for race\n",
    "incidence_df[\"race_ethnicity\"].value_counts()"
   ]
  },
  {
   "cell_type": "code",
   "execution_count": 5,
   "id": "59d29f76",
   "metadata": {},
   "outputs": [],
   "source": [
    "#clean race values\n",
    "incidence_df['race_ethnicity'] = incidence_df['race_ethnicity'].str.strip()"
   ]
  },
  {
   "cell_type": "code",
   "execution_count": 6,
   "id": "193fce4a",
   "metadata": {},
   "outputs": [
    {
     "data": {
      "text/plain": [
       "White (includes Hispanic)                       2643\n",
       "White Non-Hispanic                              2335\n",
       "Black (includes Hispanic)                       1308\n",
       "Hispanic (any race)                             1009\n",
       "White Hispanic                                   912\n",
       "Asian / Pacific Islander (includes Hispanic)     525\n",
       "Amer. Indian / AK Native (includes Hispanic)     428\n",
       "Name: race_ethnicity, dtype: int64"
      ]
     },
     "execution_count": 6,
     "metadata": {},
     "output_type": "execute_result"
    }
   ],
   "source": [
    "#get count of values for race\n",
    "incidence_df[\"race_ethnicity\"].value_counts()"
   ]
  },
  {
   "cell_type": "code",
   "execution_count": 7,
   "id": "caaf339b",
   "metadata": {},
   "outputs": [],
   "source": [
    "#drop rows where race equals white non-hispanic and race equals white hispanic to avoid overlap\n",
    "incidence_df = incidence_df[incidence_df[\"race_ethnicity\"] != \"White Non-Hispanic\"]\n",
    "incidence_df = incidence_df[incidence_df[\"race_ethnicity\"] != \"White Hispanic\"]"
   ]
  },
  {
   "cell_type": "code",
   "execution_count": 8,
   "id": "b7caf801",
   "metadata": {},
   "outputs": [
    {
     "data": {
      "text/plain": [
       "White (includes Hispanic)                       2643\n",
       "Black (includes Hispanic)                       1308\n",
       "Hispanic (any race)                             1009\n",
       "Asian / Pacific Islander (includes Hispanic)     525\n",
       "Amer. Indian / AK Native (includes Hispanic)     428\n",
       "Name: race_ethnicity, dtype: int64"
      ]
     },
     "execution_count": 8,
     "metadata": {},
     "output_type": "execute_result"
    }
   ],
   "source": [
    "#get count of values for race\n",
    "incidence_df[\"race_ethnicity\"].value_counts()"
   ]
  },
  {
   "cell_type": "code",
   "execution_count": 9,
   "id": "7885000f",
   "metadata": {},
   "outputs": [
    {
     "data": {
      "text/html": [
       "<div>\n",
       "<style scoped>\n",
       "    .dataframe tbody tr th:only-of-type {\n",
       "        vertical-align: middle;\n",
       "    }\n",
       "\n",
       "    .dataframe tbody tr th {\n",
       "        vertical-align: top;\n",
       "    }\n",
       "\n",
       "    .dataframe thead th {\n",
       "        text-align: right;\n",
       "    }\n",
       "</style>\n",
       "<table border=\"1\" class=\"dataframe\">\n",
       "  <thead>\n",
       "    <tr style=\"text-align: right;\">\n",
       "      <th></th>\n",
       "      <th>average_annual_count</th>\n",
       "      <th>primary_state_name</th>\n",
       "      <th>cancer</th>\n",
       "      <th>race_ethnicity</th>\n",
       "      <th>sex</th>\n",
       "      <th>age</th>\n",
       "      <th>age_adjusted_rate</th>\n",
       "      <th>county_state</th>\n",
       "      <th>index_of_medical_underservice_score</th>\n",
       "      <th>popestimate2015</th>\n",
       "      <th>...</th>\n",
       "      <th>popestimate2017</th>\n",
       "      <th>popestimate2018</th>\n",
       "      <th>popestimate2019</th>\n",
       "      <th>abbrv</th>\n",
       "      <th>median_household_income_2015</th>\n",
       "      <th>median_household_income_2016</th>\n",
       "      <th>median_household_income_2017</th>\n",
       "      <th>median_household_income_2018</th>\n",
       "      <th>median_household_income_2019</th>\n",
       "      <th>5_year_avg_income</th>\n",
       "    </tr>\n",
       "  </thead>\n",
       "  <tbody>\n",
       "    <tr>\n",
       "      <th>0</th>\n",
       "      <td>30</td>\n",
       "      <td>Alabama</td>\n",
       "      <td>All Cancer Sites</td>\n",
       "      <td>White (includes Hispanic)</td>\n",
       "      <td>All Sexes</td>\n",
       "      <td>All Ages</td>\n",
       "      <td>681.2</td>\n",
       "      <td>Lowndes County AL</td>\n",
       "      <td>54.0</td>\n",
       "      <td>10350</td>\n",
       "      <td>...</td>\n",
       "      <td>10097</td>\n",
       "      <td>9974</td>\n",
       "      <td>9726</td>\n",
       "      <td>AL</td>\n",
       "      <td>31117.0</td>\n",
       "      <td>32011.0</td>\n",
       "      <td>33130.0</td>\n",
       "      <td>33973.0</td>\n",
       "      <td>33930.0</td>\n",
       "      <td>32832.2</td>\n",
       "    </tr>\n",
       "    <tr>\n",
       "      <th>2</th>\n",
       "      <td>51</td>\n",
       "      <td>Alabama</td>\n",
       "      <td>All Cancer Sites</td>\n",
       "      <td>Black (includes Hispanic)</td>\n",
       "      <td>All Sexes</td>\n",
       "      <td>All Ages</td>\n",
       "      <td>570.1</td>\n",
       "      <td>Lowndes County AL</td>\n",
       "      <td>54.0</td>\n",
       "      <td>10350</td>\n",
       "      <td>...</td>\n",
       "      <td>10097</td>\n",
       "      <td>9974</td>\n",
       "      <td>9726</td>\n",
       "      <td>AL</td>\n",
       "      <td>31117.0</td>\n",
       "      <td>32011.0</td>\n",
       "      <td>33130.0</td>\n",
       "      <td>33973.0</td>\n",
       "      <td>33930.0</td>\n",
       "      <td>32832.2</td>\n",
       "    </tr>\n",
       "    <tr>\n",
       "      <th>3</th>\n",
       "      <td>80</td>\n",
       "      <td>Alabama</td>\n",
       "      <td>All Cancer Sites</td>\n",
       "      <td>White (includes Hispanic)</td>\n",
       "      <td>All Sexes</td>\n",
       "      <td>All Ages</td>\n",
       "      <td>558.3</td>\n",
       "      <td>Crenshaw County AL</td>\n",
       "      <td>58.0</td>\n",
       "      <td>13850</td>\n",
       "      <td>...</td>\n",
       "      <td>13858</td>\n",
       "      <td>13825</td>\n",
       "      <td>13772</td>\n",
       "      <td>AL</td>\n",
       "      <td>36759.0</td>\n",
       "      <td>37374.0</td>\n",
       "      <td>38419.0</td>\n",
       "      <td>39057.0</td>\n",
       "      <td>43309.0</td>\n",
       "      <td>38983.6</td>\n",
       "    </tr>\n",
       "    <tr>\n",
       "      <th>5</th>\n",
       "      <td>18</td>\n",
       "      <td>Alabama</td>\n",
       "      <td>All Cancer Sites</td>\n",
       "      <td>Black (includes Hispanic)</td>\n",
       "      <td>All Sexes</td>\n",
       "      <td>All Ages</td>\n",
       "      <td>442.0</td>\n",
       "      <td>Crenshaw County AL</td>\n",
       "      <td>58.0</td>\n",
       "      <td>13850</td>\n",
       "      <td>...</td>\n",
       "      <td>13858</td>\n",
       "      <td>13825</td>\n",
       "      <td>13772</td>\n",
       "      <td>AL</td>\n",
       "      <td>36759.0</td>\n",
       "      <td>37374.0</td>\n",
       "      <td>38419.0</td>\n",
       "      <td>39057.0</td>\n",
       "      <td>43309.0</td>\n",
       "      <td>38983.6</td>\n",
       "    </tr>\n",
       "    <tr>\n",
       "      <th>6</th>\n",
       "      <td>15</td>\n",
       "      <td>Alabama</td>\n",
       "      <td>All Cancer Sites</td>\n",
       "      <td>White (includes Hispanic)</td>\n",
       "      <td>All Sexes</td>\n",
       "      <td>All Ages</td>\n",
       "      <td>542.5</td>\n",
       "      <td>Greene County AL</td>\n",
       "      <td>56.0</td>\n",
       "      <td>8508</td>\n",
       "      <td>...</td>\n",
       "      <td>8310</td>\n",
       "      <td>8209</td>\n",
       "      <td>8111</td>\n",
       "      <td>AL</td>\n",
       "      <td>25398.0</td>\n",
       "      <td>26559.0</td>\n",
       "      <td>28108.0</td>\n",
       "      <td>28524.0</td>\n",
       "      <td>28699.0</td>\n",
       "      <td>27457.6</td>\n",
       "    </tr>\n",
       "  </tbody>\n",
       "</table>\n",
       "<p>5 rows × 21 columns</p>\n",
       "</div>"
      ],
      "text/plain": [
       "   average_annual_count primary_state_name            cancer  \\\n",
       "0                    30            Alabama  All Cancer Sites   \n",
       "2                    51            Alabama  All Cancer Sites   \n",
       "3                    80            Alabama  All Cancer Sites   \n",
       "5                    18            Alabama  All Cancer Sites   \n",
       "6                    15            Alabama  All Cancer Sites   \n",
       "\n",
       "              race_ethnicity        sex       age age_adjusted_rate  \\\n",
       "0  White (includes Hispanic)  All Sexes  All Ages            681.2    \n",
       "2  Black (includes Hispanic)  All Sexes  All Ages            570.1    \n",
       "3  White (includes Hispanic)  All Sexes  All Ages            558.3    \n",
       "5  Black (includes Hispanic)  All Sexes  All Ages            442.0    \n",
       "6  White (includes Hispanic)  All Sexes  All Ages            542.5    \n",
       "\n",
       "         county_state  index_of_medical_underservice_score  popestimate2015  \\\n",
       "0   Lowndes County AL                                 54.0            10350   \n",
       "2   Lowndes County AL                                 54.0            10350   \n",
       "3  Crenshaw County AL                                 58.0            13850   \n",
       "5  Crenshaw County AL                                 58.0            13850   \n",
       "6    Greene County AL                                 56.0             8508   \n",
       "\n",
       "   ...  popestimate2017  popestimate2018  popestimate2019  abbrv  \\\n",
       "0  ...            10097             9974             9726     AL   \n",
       "2  ...            10097             9974             9726     AL   \n",
       "3  ...            13858            13825            13772     AL   \n",
       "5  ...            13858            13825            13772     AL   \n",
       "6  ...             8310             8209             8111     AL   \n",
       "\n",
       "  median_household_income_2015  median_household_income_2016  \\\n",
       "0                      31117.0                       32011.0   \n",
       "2                      31117.0                       32011.0   \n",
       "3                      36759.0                       37374.0   \n",
       "5                      36759.0                       37374.0   \n",
       "6                      25398.0                       26559.0   \n",
       "\n",
       "   median_household_income_2017  median_household_income_2018  \\\n",
       "0                       33130.0                       33973.0   \n",
       "2                       33130.0                       33973.0   \n",
       "3                       38419.0                       39057.0   \n",
       "5                       38419.0                       39057.0   \n",
       "6                       28108.0                       28524.0   \n",
       "\n",
       "   median_household_income_2019  5_year_avg_income  \n",
       "0                       33930.0            32832.2  \n",
       "2                       33930.0            32832.2  \n",
       "3                       43309.0            38983.6  \n",
       "5                       43309.0            38983.6  \n",
       "6                       28699.0            27457.6  \n",
       "\n",
       "[5 rows x 21 columns]"
      ]
     },
     "execution_count": 9,
     "metadata": {},
     "output_type": "execute_result"
    }
   ],
   "source": [
    "#create column for 5-year average median income \n",
    "incidence_df[\"5_year_avg_income\"] = (incidence_df[\"median_household_income_2015\"]+incidence_df[\"median_household_income_2016\"]+incidence_df[\"median_household_income_2017\"]+incidence_df[\"median_household_income_2018\"]+incidence_df[\"median_household_income_2019\"])/5\n",
    "incidence_df.head()"
   ]
  },
  {
   "cell_type": "code",
   "execution_count": 10,
   "id": "c796afad",
   "metadata": {},
   "outputs": [
    {
     "data": {
      "text/plain": [
       "8"
      ]
     },
     "execution_count": 10,
     "metadata": {},
     "output_type": "execute_result"
    }
   ],
   "source": [
    "#get count of NA values for avg income\n",
    "incidence_df[\"5_year_avg_income\"].isna().sum()"
   ]
  },
  {
   "cell_type": "code",
   "execution_count": 11,
   "id": "adde1845",
   "metadata": {},
   "outputs": [],
   "source": [
    "#drop rows where avg income is null\n",
    "incidence_df = incidence_df[incidence_df[\"5_year_avg_income\"].isna() == False]"
   ]
  },
  {
   "cell_type": "code",
   "execution_count": 12,
   "id": "86163b7a",
   "metadata": {},
   "outputs": [
    {
     "data": {
      "text/plain": [
       "average_annual_count                   5905\n",
       "primary_state_name                     5905\n",
       "cancer                                 5905\n",
       "race_ethnicity                         5905\n",
       "sex                                    5905\n",
       "age                                    5905\n",
       "age_adjusted_rate                      5905\n",
       "county_state                           5905\n",
       "index_of_medical_underservice_score    5162\n",
       "popestimate2015                        5905\n",
       "popestimate2016                        5905\n",
       "popestimate2017                        5905\n",
       "popestimate2018                        5905\n",
       "popestimate2019                        5905\n",
       "abbrv                                  5905\n",
       "median_household_income_2015           5905\n",
       "median_household_income_2016           5905\n",
       "median_household_income_2017           5905\n",
       "median_household_income_2018           5905\n",
       "median_household_income_2019           5905\n",
       "5_year_avg_income                      5905\n",
       "dtype: int64"
      ]
     },
     "execution_count": 12,
     "metadata": {},
     "output_type": "execute_result"
    }
   ],
   "source": [
    "#get count of rows\n",
    "incidence_df.count()"
   ]
  },
  {
   "cell_type": "code",
   "execution_count": 13,
   "id": "04937a74",
   "metadata": {},
   "outputs": [
    {
     "name": "stderr",
     "output_type": "stream",
     "text": [
      "/Users/hankbowman/opt/anaconda3/envs/mlenv/lib/python3.7/site-packages/ipykernel_launcher.py:5: SettingWithCopyWarning: \n",
      "A value is trying to be set on a copy of a slice from a DataFrame.\n",
      "Try using .loc[row_indexer,col_indexer] = value instead\n",
      "\n",
      "See the caveats in the documentation: https://pandas.pydata.org/pandas-docs/stable/user_guide/indexing.html#returning-a-view-versus-a-copy\n",
      "  \"\"\"\n"
     ]
    },
    {
     "data": {
      "text/html": [
       "<div>\n",
       "<style scoped>\n",
       "    .dataframe tbody tr th:only-of-type {\n",
       "        vertical-align: middle;\n",
       "    }\n",
       "\n",
       "    .dataframe tbody tr th {\n",
       "        vertical-align: top;\n",
       "    }\n",
       "\n",
       "    .dataframe thead th {\n",
       "        text-align: right;\n",
       "    }\n",
       "</style>\n",
       "<table border=\"1\" class=\"dataframe\">\n",
       "  <thead>\n",
       "    <tr style=\"text-align: right;\">\n",
       "      <th></th>\n",
       "      <th>age_adjusted_rate</th>\n",
       "    </tr>\n",
       "  </thead>\n",
       "  <tbody>\n",
       "    <tr>\n",
       "      <th>0</th>\n",
       "      <td>681.2</td>\n",
       "    </tr>\n",
       "    <tr>\n",
       "      <th>2</th>\n",
       "      <td>570.1</td>\n",
       "    </tr>\n",
       "    <tr>\n",
       "      <th>3</th>\n",
       "      <td>558.3</td>\n",
       "    </tr>\n",
       "    <tr>\n",
       "      <th>5</th>\n",
       "      <td>442.0</td>\n",
       "    </tr>\n",
       "    <tr>\n",
       "      <th>6</th>\n",
       "      <td>542.5</td>\n",
       "    </tr>\n",
       "  </tbody>\n",
       "</table>\n",
       "</div>"
      ],
      "text/plain": [
       "   age_adjusted_rate\n",
       "0              681.2\n",
       "2              570.1\n",
       "3              558.3\n",
       "5              442.0\n",
       "6              542.5"
      ]
     },
     "execution_count": 13,
     "metadata": {},
     "output_type": "execute_result"
    }
   ],
   "source": [
    "#create target \n",
    "y = incidence_df[['age_adjusted_rate']]\n",
    "\n",
    "#change dtype to numeric\n",
    "y['age_adjusted_rate'] = y['age_adjusted_rate'].astype(float)\n",
    "y.head()"
   ]
  },
  {
   "cell_type": "code",
   "execution_count": 14,
   "id": "6450707a",
   "metadata": {},
   "outputs": [
    {
     "data": {
      "text/html": [
       "<div>\n",
       "<style scoped>\n",
       "    .dataframe tbody tr th:only-of-type {\n",
       "        vertical-align: middle;\n",
       "    }\n",
       "\n",
       "    .dataframe tbody tr th {\n",
       "        vertical-align: top;\n",
       "    }\n",
       "\n",
       "    .dataframe thead th {\n",
       "        text-align: right;\n",
       "    }\n",
       "</style>\n",
       "<table border=\"1\" class=\"dataframe\">\n",
       "  <thead>\n",
       "    <tr style=\"text-align: right;\">\n",
       "      <th></th>\n",
       "      <th>race_ethnicity</th>\n",
       "      <th>5_year_avg_income</th>\n",
       "    </tr>\n",
       "  </thead>\n",
       "  <tbody>\n",
       "    <tr>\n",
       "      <th>0</th>\n",
       "      <td>White (includes Hispanic)</td>\n",
       "      <td>32832.2</td>\n",
       "    </tr>\n",
       "    <tr>\n",
       "      <th>2</th>\n",
       "      <td>Black (includes Hispanic)</td>\n",
       "      <td>32832.2</td>\n",
       "    </tr>\n",
       "    <tr>\n",
       "      <th>3</th>\n",
       "      <td>White (includes Hispanic)</td>\n",
       "      <td>38983.6</td>\n",
       "    </tr>\n",
       "    <tr>\n",
       "      <th>5</th>\n",
       "      <td>Black (includes Hispanic)</td>\n",
       "      <td>38983.6</td>\n",
       "    </tr>\n",
       "    <tr>\n",
       "      <th>6</th>\n",
       "      <td>White (includes Hispanic)</td>\n",
       "      <td>27457.6</td>\n",
       "    </tr>\n",
       "  </tbody>\n",
       "</table>\n",
       "</div>"
      ],
      "text/plain": [
       "              race_ethnicity  5_year_avg_income\n",
       "0  White (includes Hispanic)            32832.2\n",
       "2  Black (includes Hispanic)            32832.2\n",
       "3  White (includes Hispanic)            38983.6\n",
       "5  Black (includes Hispanic)            38983.6\n",
       "6  White (includes Hispanic)            27457.6"
      ]
     },
     "execution_count": 14,
     "metadata": {},
     "output_type": "execute_result"
    }
   ],
   "source": [
    "#create feautures variable holding ages\n",
    "X = incidence_df[[\"race_ethnicity\", \"5_year_avg_income\"]]\n",
    "X.head()"
   ]
  },
  {
   "cell_type": "code",
   "execution_count": 15,
   "id": "81967ef9",
   "metadata": {},
   "outputs": [
    {
     "data": {
      "text/html": [
       "<div>\n",
       "<style scoped>\n",
       "    .dataframe tbody tr th:only-of-type {\n",
       "        vertical-align: middle;\n",
       "    }\n",
       "\n",
       "    .dataframe tbody tr th {\n",
       "        vertical-align: top;\n",
       "    }\n",
       "\n",
       "    .dataframe thead th {\n",
       "        text-align: right;\n",
       "    }\n",
       "</style>\n",
       "<table border=\"1\" class=\"dataframe\">\n",
       "  <thead>\n",
       "    <tr style=\"text-align: right;\">\n",
       "      <th></th>\n",
       "      <th>5_year_avg_income</th>\n",
       "      <th>race_ethnicity_Amer. Indian / AK Native (includes Hispanic)</th>\n",
       "      <th>race_ethnicity_Asian / Pacific Islander (includes Hispanic)</th>\n",
       "      <th>race_ethnicity_Black (includes Hispanic)</th>\n",
       "      <th>race_ethnicity_Hispanic (any race)</th>\n",
       "      <th>race_ethnicity_White (includes Hispanic)</th>\n",
       "    </tr>\n",
       "  </thead>\n",
       "  <tbody>\n",
       "    <tr>\n",
       "      <th>0</th>\n",
       "      <td>32832.2</td>\n",
       "      <td>0</td>\n",
       "      <td>0</td>\n",
       "      <td>0</td>\n",
       "      <td>0</td>\n",
       "      <td>1</td>\n",
       "    </tr>\n",
       "    <tr>\n",
       "      <th>2</th>\n",
       "      <td>32832.2</td>\n",
       "      <td>0</td>\n",
       "      <td>0</td>\n",
       "      <td>1</td>\n",
       "      <td>0</td>\n",
       "      <td>0</td>\n",
       "    </tr>\n",
       "    <tr>\n",
       "      <th>3</th>\n",
       "      <td>38983.6</td>\n",
       "      <td>0</td>\n",
       "      <td>0</td>\n",
       "      <td>0</td>\n",
       "      <td>0</td>\n",
       "      <td>1</td>\n",
       "    </tr>\n",
       "    <tr>\n",
       "      <th>5</th>\n",
       "      <td>38983.6</td>\n",
       "      <td>0</td>\n",
       "      <td>0</td>\n",
       "      <td>1</td>\n",
       "      <td>0</td>\n",
       "      <td>0</td>\n",
       "    </tr>\n",
       "    <tr>\n",
       "      <th>6</th>\n",
       "      <td>27457.6</td>\n",
       "      <td>0</td>\n",
       "      <td>0</td>\n",
       "      <td>0</td>\n",
       "      <td>0</td>\n",
       "      <td>1</td>\n",
       "    </tr>\n",
       "  </tbody>\n",
       "</table>\n",
       "</div>"
      ],
      "text/plain": [
       "   5_year_avg_income  \\\n",
       "0            32832.2   \n",
       "2            32832.2   \n",
       "3            38983.6   \n",
       "5            38983.6   \n",
       "6            27457.6   \n",
       "\n",
       "   race_ethnicity_Amer. Indian / AK Native (includes Hispanic)  \\\n",
       "0                                                  0             \n",
       "2                                                  0             \n",
       "3                                                  0             \n",
       "5                                                  0             \n",
       "6                                                  0             \n",
       "\n",
       "   race_ethnicity_Asian / Pacific Islander (includes Hispanic)  \\\n",
       "0                                                  0             \n",
       "2                                                  0             \n",
       "3                                                  0             \n",
       "5                                                  0             \n",
       "6                                                  0             \n",
       "\n",
       "   race_ethnicity_Black (includes Hispanic)  \\\n",
       "0                                         0   \n",
       "2                                         1   \n",
       "3                                         0   \n",
       "5                                         1   \n",
       "6                                         0   \n",
       "\n",
       "   race_ethnicity_Hispanic (any race)  \\\n",
       "0                                   0   \n",
       "2                                   0   \n",
       "3                                   0   \n",
       "5                                   0   \n",
       "6                                   0   \n",
       "\n",
       "   race_ethnicity_White (includes Hispanic)  \n",
       "0                                         1  \n",
       "2                                         0  \n",
       "3                                         1  \n",
       "5                                         0  \n",
       "6                                         1  "
      ]
     },
     "execution_count": 15,
     "metadata": {},
     "output_type": "execute_result"
    }
   ],
   "source": [
    "#create dummy variables for age\n",
    "X = pd.get_dummies(X, columns=[\"race_ethnicity\"])\n",
    "X.head()"
   ]
  },
  {
   "cell_type": "code",
   "execution_count": 16,
   "id": "2aa76633",
   "metadata": {},
   "outputs": [
    {
     "data": {
      "text/plain": [
       "(5905, 1)"
      ]
     },
     "execution_count": 16,
     "metadata": {},
     "output_type": "execute_result"
    }
   ],
   "source": [
    "#get shape of target array\n",
    "y.shape"
   ]
  },
  {
   "cell_type": "code",
   "execution_count": 17,
   "id": "1280b889",
   "metadata": {},
   "outputs": [
    {
     "data": {
      "text/plain": [
       "(5905, 6)"
      ]
     },
     "execution_count": 17,
     "metadata": {},
     "output_type": "execute_result"
    }
   ],
   "source": [
    "#get shape of feautures array\n",
    "X.shape"
   ]
  },
  {
   "cell_type": "code",
   "execution_count": 18,
   "id": "481444e9",
   "metadata": {},
   "outputs": [],
   "source": [
    "#split data\n",
    "X_train, X_test, y_train, y_test = train_test_split(X, y)"
   ]
  },
  {
   "cell_type": "code",
   "execution_count": 19,
   "id": "d2527940",
   "metadata": {},
   "outputs": [],
   "source": [
    "#create linear regression model using sklearn\n",
    "model = LinearRegression()"
   ]
  },
  {
   "cell_type": "code",
   "execution_count": 20,
   "id": "f8ddaed7",
   "metadata": {},
   "outputs": [],
   "source": [
    "#fit the model\n",
    "regression_race_inc_incidence = model.fit(X_train ,y_train)"
   ]
  },
  {
   "cell_type": "code",
   "execution_count": 21,
   "id": "c7765a0d",
   "metadata": {},
   "outputs": [
    {
     "data": {
      "text/plain": [
       "array([[442.47074568],\n",
       "       [452.85833815],\n",
       "       [448.7110197 ],\n",
       "       ...,\n",
       "       [448.85233471],\n",
       "       [453.88593974],\n",
       "       [275.71217102]])"
      ]
     },
     "execution_count": 21,
     "metadata": {},
     "output_type": "execute_result"
    }
   ],
   "source": [
    "#Create predictions array using linear regression\n",
    "y_pred = regression_race_inc_incidence.predict(X_test)\n",
    "y_pred"
   ]
  },
  {
   "cell_type": "code",
   "execution_count": 22,
   "id": "d80f5562",
   "metadata": {},
   "outputs": [
    {
     "data": {
      "text/plain": [
       "0.2525197916534646"
      ]
     },
     "execution_count": 22,
     "metadata": {},
     "output_type": "execute_result"
    }
   ],
   "source": [
    "#get R2 value from linear regression\n",
    "from sklearn.metrics import r2_score\n",
    "r2_score(y_test, y_pred)"
   ]
  },
  {
   "cell_type": "code",
   "execution_count": 23,
   "id": "d168955c",
   "metadata": {},
   "outputs": [
    {
     "name": "stderr",
     "output_type": "stream",
     "text": [
      "/Users/hankbowman/opt/anaconda3/envs/mlenv/lib/python3.7/site-packages/statsmodels/tsa/tsatools.py:142: FutureWarning: In a future version of pandas all arguments of concat except for the argument 'objs' will be keyword-only\n",
      "  x = pd.concat(x[::order], 1)\n"
     ]
    }
   ],
   "source": [
    "#run regression again with statsmodels\n",
    "#use statsmodels to add constant to X\n",
    "#add constant to X\n",
    "X1 = sm.add_constant(X)"
   ]
  },
  {
   "cell_type": "code",
   "execution_count": 24,
   "id": "5ebb7adf",
   "metadata": {},
   "outputs": [],
   "source": [
    "#fit linear regression model\n",
    "model = sm.OLS(y, X1).fit()"
   ]
  },
  {
   "cell_type": "code",
   "execution_count": 25,
   "id": "9695608b",
   "metadata": {},
   "outputs": [
    {
     "name": "stdout",
     "output_type": "stream",
     "text": [
      "                            OLS Regression Results                            \n",
      "==============================================================================\n",
      "Dep. Variable:      age_adjusted_rate   R-squared:                       0.214\n",
      "Model:                            OLS   Adj. R-squared:                  0.213\n",
      "Method:                 Least Squares   F-statistic:                     321.3\n",
      "Date:                Thu, 02 Jun 2022   Prob (F-statistic):          3.29e-305\n",
      "Time:                        18:26:55   Log-Likelihood:                -36186.\n",
      "No. Observations:                5905   AIC:                         7.238e+04\n",
      "Df Residuals:                    5899   BIC:                         7.242e+04\n",
      "Df Model:                           5                                         \n",
      "Covariance Type:            nonrobust                                         \n",
      "===============================================================================================================================\n",
      "                                                                  coef    std err          t      P>|t|      [0.025      0.975]\n",
      "-------------------------------------------------------------------------------------------------------------------------------\n",
      "const                                                         353.1996      4.826     73.181      0.000     343.738     362.661\n",
      "5_year_avg_income                                              -0.0005   9.81e-05     -5.233      0.000      -0.001      -0.000\n",
      "race_ethnicity_Amer. Indian / AK Native (includes Hispanic)   110.8523      4.714     23.516      0.000     101.611     120.093\n",
      "race_ethnicity_Asian / Pacific Islander (includes Hispanic)   -36.7728      4.533     -8.113      0.000     -45.659     -27.887\n",
      "race_ethnicity_Black (includes Hispanic)                      131.9785      2.973     44.396      0.000     126.151     137.806\n",
      "race_ethnicity_Hispanic (any race)                             23.4283      3.359      6.975      0.000      16.844      30.013\n",
      "race_ethnicity_White (includes Hispanic)                      123.7134      2.346     52.742      0.000     119.115     128.312\n",
      "==============================================================================\n",
      "Omnibus:                     6456.205   Durbin-Watson:                   1.548\n",
      "Prob(Omnibus):                  0.000   Jarque-Bera (JB):          1812005.429\n",
      "Skew:                           5.070   Prob(JB):                         0.00\n",
      "Kurtosis:                      88.216   Cond. No.                     1.03e+21\n",
      "==============================================================================\n",
      "\n",
      "Notes:\n",
      "[1] Standard Errors assume that the covariance matrix of the errors is correctly specified.\n",
      "[2] The smallest eigenvalue is 1.77e-29. This might indicate that there are\n",
      "strong multicollinearity problems or that the design matrix is singular.\n"
     ]
    }
   ],
   "source": [
    "#view model summary with statsmodels\n",
    "print(model.summary())"
   ]
  },
  {
   "cell_type": "code",
   "execution_count": 26,
   "id": "27fb6f89",
   "metadata": {},
   "outputs": [],
   "source": [
    "##decision tree model\n",
    "#split data\n",
    "X_train, X_test, y_train, y_test = train_test_split(X, y)"
   ]
  },
  {
   "cell_type": "code",
   "execution_count": 27,
   "id": "e657087d",
   "metadata": {},
   "outputs": [
    {
     "data": {
      "text/plain": [
       "DecisionTreeRegressor()"
      ]
     },
     "execution_count": 27,
     "metadata": {},
     "output_type": "execute_result"
    }
   ],
   "source": [
    "#fit the model with training data\n",
    "regressor_DT = DecisionTreeRegressor()\n",
    "regressor_DT.fit(X_train, y_train)"
   ]
  },
  {
   "cell_type": "code",
   "execution_count": 28,
   "id": "18e6ac94",
   "metadata": {},
   "outputs": [
    {
     "data": {
      "text/plain": [
       "array([623.3, 570.1, 558.3, ..., 381.9, 300.9, 269.1])"
      ]
     },
     "execution_count": 28,
     "metadata": {},
     "output_type": "execute_result"
    }
   ],
   "source": [
    "#predict\n",
    "y_pred = regressor_DT.predict(X)\n",
    "y_pred"
   ]
  },
  {
   "cell_type": "code",
   "execution_count": 29,
   "id": "74325c04",
   "metadata": {},
   "outputs": [
    {
     "data": {
      "text/plain": [
       "0.5294418592527776"
      ]
     },
     "execution_count": 29,
     "metadata": {},
     "output_type": "execute_result"
    }
   ],
   "source": [
    "\n",
    "#calculate r2 score\n",
    "r2_score(y, y_pred)"
   ]
  },
  {
   "cell_type": "code",
   "execution_count": null,
   "id": "79d03a32",
   "metadata": {},
   "outputs": [],
   "source": []
  }
 ],
 "metadata": {
  "kernelspec": {
   "display_name": "mlenv",
   "language": "python",
   "name": "mlenv"
  },
  "language_info": {
   "codemirror_mode": {
    "name": "ipython",
    "version": 3
   },
   "file_extension": ".py",
   "mimetype": "text/x-python",
   "name": "python",
   "nbconvert_exporter": "python",
   "pygments_lexer": "ipython3",
   "version": "3.7.11"
  }
 },
 "nbformat": 4,
 "nbformat_minor": 5
}
