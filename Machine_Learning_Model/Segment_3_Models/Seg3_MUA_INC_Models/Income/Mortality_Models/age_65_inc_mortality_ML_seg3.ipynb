{
 "cells": [
  {
   "cell_type": "code",
   "execution_count": 1,
   "id": "238a26ab",
   "metadata": {},
   "outputs": [],
   "source": [
    "#initial imports\n",
    "import pandas as pd\n",
    "import matplotlib.pyplot as plt \n",
    "from sklearn.preprocessing import StandardScaler, LabelEncoder\n",
    "from sklearn.linear_model import LinearRegression\n",
    "import statsmodels.api as sm\n",
    "import numpy as np \n",
    "from sklearn.metrics import r2_score\n",
    "from sklearn.model_selection import train_test_split\n",
    "from sklearn.tree import DecisionTreeRegressor \n",
    "import numpy as np"
   ]
  },
  {
   "cell_type": "code",
   "execution_count": 2,
   "id": "e78e7a47",
   "metadata": {},
   "outputs": [
    {
     "data": {
      "text/html": [
       "<div>\n",
       "<style scoped>\n",
       "    .dataframe tbody tr th:only-of-type {\n",
       "        vertical-align: middle;\n",
       "    }\n",
       "\n",
       "    .dataframe tbody tr th {\n",
       "        vertical-align: top;\n",
       "    }\n",
       "\n",
       "    .dataframe thead th {\n",
       "        text-align: right;\n",
       "    }\n",
       "</style>\n",
       "<table border=\"1\" class=\"dataframe\">\n",
       "  <thead>\n",
       "    <tr style=\"text-align: right;\">\n",
       "      <th></th>\n",
       "      <th>average_annual_count</th>\n",
       "      <th>primary_state_name</th>\n",
       "      <th>cancer</th>\n",
       "      <th>race_ethnicity</th>\n",
       "      <th>sex</th>\n",
       "      <th>age</th>\n",
       "      <th>age_adjusted_rate</th>\n",
       "      <th>county_state</th>\n",
       "      <th>index_of_medical_underservice_score</th>\n",
       "      <th>popestimate2015</th>\n",
       "      <th>popestimate2016</th>\n",
       "      <th>popestimate2017</th>\n",
       "      <th>popestimate2018</th>\n",
       "      <th>popestimate2019</th>\n",
       "      <th>abbrv</th>\n",
       "      <th>median_household_income_2015</th>\n",
       "      <th>median_household_income_2016</th>\n",
       "      <th>median_household_income_2017</th>\n",
       "      <th>median_household_income_2018</th>\n",
       "      <th>median_household_income_2019</th>\n",
       "    </tr>\n",
       "  </thead>\n",
       "  <tbody>\n",
       "    <tr>\n",
       "      <th>0</th>\n",
       "      <td>4</td>\n",
       "      <td>Alabama</td>\n",
       "      <td>All Cancer Sites</td>\n",
       "      <td>All Races (includes Hispanic)</td>\n",
       "      <td>All Sexes</td>\n",
       "      <td>&lt;50</td>\n",
       "      <td>38.8</td>\n",
       "      <td>Marengo County AL</td>\n",
       "      <td>54.0</td>\n",
       "      <td>19766</td>\n",
       "      <td>19525</td>\n",
       "      <td>19396</td>\n",
       "      <td>19056</td>\n",
       "      <td>18863</td>\n",
       "      <td>AL</td>\n",
       "      <td>35389.0</td>\n",
       "      <td>34794.0</td>\n",
       "      <td>37469.0</td>\n",
       "      <td>37733.0</td>\n",
       "      <td>38838.0</td>\n",
       "    </tr>\n",
       "    <tr>\n",
       "      <th>1</th>\n",
       "      <td>48</td>\n",
       "      <td>Alabama</td>\n",
       "      <td>All Cancer Sites</td>\n",
       "      <td>All Races (includes Hispanic)</td>\n",
       "      <td>All Sexes</td>\n",
       "      <td>50+</td>\n",
       "      <td>606.5</td>\n",
       "      <td>Marengo County AL</td>\n",
       "      <td>54.0</td>\n",
       "      <td>19766</td>\n",
       "      <td>19525</td>\n",
       "      <td>19396</td>\n",
       "      <td>19056</td>\n",
       "      <td>18863</td>\n",
       "      <td>AL</td>\n",
       "      <td>35389.0</td>\n",
       "      <td>34794.0</td>\n",
       "      <td>37469.0</td>\n",
       "      <td>37733.0</td>\n",
       "      <td>38838.0</td>\n",
       "    </tr>\n",
       "    <tr>\n",
       "      <th>2</th>\n",
       "      <td>18</td>\n",
       "      <td>Alabama</td>\n",
       "      <td>All Cancer Sites</td>\n",
       "      <td>All Races (includes Hispanic)</td>\n",
       "      <td>All Sexes</td>\n",
       "      <td>&lt;65</td>\n",
       "      <td>84.7</td>\n",
       "      <td>Marengo County AL</td>\n",
       "      <td>54.0</td>\n",
       "      <td>19766</td>\n",
       "      <td>19525</td>\n",
       "      <td>19396</td>\n",
       "      <td>19056</td>\n",
       "      <td>18863</td>\n",
       "      <td>AL</td>\n",
       "      <td>35389.0</td>\n",
       "      <td>34794.0</td>\n",
       "      <td>37469.0</td>\n",
       "      <td>37733.0</td>\n",
       "      <td>38838.0</td>\n",
       "    </tr>\n",
       "    <tr>\n",
       "      <th>3</th>\n",
       "      <td>35</td>\n",
       "      <td>Alabama</td>\n",
       "      <td>All Cancer Sites</td>\n",
       "      <td>All Races (includes Hispanic)</td>\n",
       "      <td>All Sexes</td>\n",
       "      <td>65+</td>\n",
       "      <td>963.0</td>\n",
       "      <td>Marengo County AL</td>\n",
       "      <td>54.0</td>\n",
       "      <td>19766</td>\n",
       "      <td>19525</td>\n",
       "      <td>19396</td>\n",
       "      <td>19056</td>\n",
       "      <td>18863</td>\n",
       "      <td>AL</td>\n",
       "      <td>35389.0</td>\n",
       "      <td>34794.0</td>\n",
       "      <td>37469.0</td>\n",
       "      <td>37733.0</td>\n",
       "      <td>38838.0</td>\n",
       "    </tr>\n",
       "    <tr>\n",
       "      <th>4</th>\n",
       "      <td>9</td>\n",
       "      <td>Alabama</td>\n",
       "      <td>All Cancer Sites</td>\n",
       "      <td>All Races (includes Hispanic)</td>\n",
       "      <td>All Sexes</td>\n",
       "      <td>&lt;50</td>\n",
       "      <td>30.2</td>\n",
       "      <td>Jackson County AL</td>\n",
       "      <td>53.0</td>\n",
       "      <td>52195</td>\n",
       "      <td>51988</td>\n",
       "      <td>51828</td>\n",
       "      <td>51621</td>\n",
       "      <td>51626</td>\n",
       "      <td>AL</td>\n",
       "      <td>40201.0</td>\n",
       "      <td>41407.0</td>\n",
       "      <td>42658.0</td>\n",
       "      <td>41929.0</td>\n",
       "      <td>44322.0</td>\n",
       "    </tr>\n",
       "  </tbody>\n",
       "</table>\n",
       "</div>"
      ],
      "text/plain": [
       "   average_annual_count primary_state_name            cancer  \\\n",
       "0                     4            Alabama  All Cancer Sites   \n",
       "1                    48            Alabama  All Cancer Sites   \n",
       "2                    18            Alabama  All Cancer Sites   \n",
       "3                    35            Alabama  All Cancer Sites   \n",
       "4                     9            Alabama  All Cancer Sites   \n",
       "\n",
       "                  race_ethnicity        sex  age age_adjusted_rate  \\\n",
       "0  All Races (includes Hispanic)  All Sexes  <50             38.8    \n",
       "1  All Races (includes Hispanic)  All Sexes  50+            606.5    \n",
       "2  All Races (includes Hispanic)  All Sexes  <65             84.7    \n",
       "3  All Races (includes Hispanic)  All Sexes  65+            963.0    \n",
       "4  All Races (includes Hispanic)  All Sexes  <50             30.2    \n",
       "\n",
       "        county_state  index_of_medical_underservice_score  popestimate2015  \\\n",
       "0  Marengo County AL                                 54.0            19766   \n",
       "1  Marengo County AL                                 54.0            19766   \n",
       "2  Marengo County AL                                 54.0            19766   \n",
       "3  Marengo County AL                                 54.0            19766   \n",
       "4  Jackson County AL                                 53.0            52195   \n",
       "\n",
       "   popestimate2016  popestimate2017  popestimate2018  popestimate2019 abbrv  \\\n",
       "0            19525            19396            19056            18863    AL   \n",
       "1            19525            19396            19056            18863    AL   \n",
       "2            19525            19396            19056            18863    AL   \n",
       "3            19525            19396            19056            18863    AL   \n",
       "4            51988            51828            51621            51626    AL   \n",
       "\n",
       "   median_household_income_2015  median_household_income_2016  \\\n",
       "0                       35389.0                       34794.0   \n",
       "1                       35389.0                       34794.0   \n",
       "2                       35389.0                       34794.0   \n",
       "3                       35389.0                       34794.0   \n",
       "4                       40201.0                       41407.0   \n",
       "\n",
       "   median_household_income_2017  median_household_income_2018  \\\n",
       "0                       37469.0                       37733.0   \n",
       "1                       37469.0                       37733.0   \n",
       "2                       37469.0                       37733.0   \n",
       "3                       37469.0                       37733.0   \n",
       "4                       42658.0                       41929.0   \n",
       "\n",
       "   median_household_income_2019  \n",
       "0                       38838.0  \n",
       "1                       38838.0  \n",
       "2                       38838.0  \n",
       "3                       38838.0  \n",
       "4                       44322.0  "
      ]
     },
     "execution_count": 2,
     "metadata": {},
     "output_type": "execute_result"
    }
   ],
   "source": [
    "#read in incidence csv from github\n",
    "\n",
    "mortality_df = pd.read_csv(\"https://raw.githubusercontent.com/robyndook/Cancer_Treatment_Centers_California/main/Resources/Age_Mortality_Cancer_DB.csv\")                         \n",
    "#get rid of commas in columns\n",
    "mortality_df = mortality_df.replace(',','', regex=True)\n",
    "mortality_df.head()     "
   ]
  },
  {
   "cell_type": "code",
   "execution_count": 3,
   "id": "ba920d6f",
   "metadata": {},
   "outputs": [
    {
     "data": {
      "text/plain": [
       "average_annual_count                     int64\n",
       "primary_state_name                      object\n",
       "cancer                                  object\n",
       "race_ethnicity                          object\n",
       "sex                                     object\n",
       "age                                     object\n",
       "age_adjusted_rate                       object\n",
       "county_state                            object\n",
       "index_of_medical_underservice_score    float64\n",
       "popestimate2015                          int64\n",
       "popestimate2016                          int64\n",
       "popestimate2017                          int64\n",
       "popestimate2018                          int64\n",
       "popestimate2019                          int64\n",
       "abbrv                                   object\n",
       "median_household_income_2015           float64\n",
       "median_household_income_2016           float64\n",
       "median_household_income_2017           float64\n",
       "median_household_income_2018           float64\n",
       "median_household_income_2019           float64\n",
       "dtype: object"
      ]
     },
     "execution_count": 3,
     "metadata": {},
     "output_type": "execute_result"
    }
   ],
   "source": [
    "#check dtypes\n",
    "mortality_df.dtypes"
   ]
  },
  {
   "cell_type": "code",
   "execution_count": 4,
   "id": "bb0ea0f7",
   "metadata": {},
   "outputs": [
    {
     "data": {
      "text/plain": [
       "average_annual_count                   8170\n",
       "primary_state_name                     8170\n",
       "cancer                                 8170\n",
       "race_ethnicity                         8170\n",
       "sex                                    8170\n",
       "age                                    8170\n",
       "age_adjusted_rate                      8170\n",
       "county_state                           8170\n",
       "index_of_medical_underservice_score    7091\n",
       "popestimate2015                        8170\n",
       "popestimate2016                        8170\n",
       "popestimate2017                        8170\n",
       "popestimate2018                        8170\n",
       "popestimate2019                        8170\n",
       "abbrv                                  8152\n",
       "median_household_income_2015           8152\n",
       "median_household_income_2016           8152\n",
       "median_household_income_2017           8152\n",
       "median_household_income_2018           8152\n",
       "median_household_income_2019           8152\n",
       "dtype: int64"
      ]
     },
     "execution_count": 4,
     "metadata": {},
     "output_type": "execute_result"
    }
   ],
   "source": [
    "#get count of rows\n",
    "mortality_df.count()"
   ]
  },
  {
   "cell_type": "code",
   "execution_count": 5,
   "id": "cf7b9e77",
   "metadata": {},
   "outputs": [
    {
     "data": {
      "text/plain": [
       "50+    2420\n",
       "65+    2406\n",
       "<65    2198\n",
       "<50    1146\n",
       "Name: age, dtype: int64"
      ]
     },
     "execution_count": 5,
     "metadata": {},
     "output_type": "execute_result"
    }
   ],
   "source": [
    "#get count of values for age\n",
    "mortality_df[\"age\"].value_counts()"
   ]
  },
  {
   "cell_type": "code",
   "execution_count": 6,
   "id": "c147e828",
   "metadata": {},
   "outputs": [
    {
     "data": {
      "text/html": [
       "<div>\n",
       "<style scoped>\n",
       "    .dataframe tbody tr th:only-of-type {\n",
       "        vertical-align: middle;\n",
       "    }\n",
       "\n",
       "    .dataframe tbody tr th {\n",
       "        vertical-align: top;\n",
       "    }\n",
       "\n",
       "    .dataframe thead th {\n",
       "        text-align: right;\n",
       "    }\n",
       "</style>\n",
       "<table border=\"1\" class=\"dataframe\">\n",
       "  <thead>\n",
       "    <tr style=\"text-align: right;\">\n",
       "      <th></th>\n",
       "      <th>average_annual_count</th>\n",
       "      <th>primary_state_name</th>\n",
       "      <th>cancer</th>\n",
       "      <th>race_ethnicity</th>\n",
       "      <th>sex</th>\n",
       "      <th>age</th>\n",
       "      <th>age_adjusted_rate</th>\n",
       "      <th>county_state</th>\n",
       "      <th>index_of_medical_underservice_score</th>\n",
       "      <th>popestimate2015</th>\n",
       "      <th>...</th>\n",
       "      <th>popestimate2017</th>\n",
       "      <th>popestimate2018</th>\n",
       "      <th>popestimate2019</th>\n",
       "      <th>abbrv</th>\n",
       "      <th>median_household_income_2015</th>\n",
       "      <th>median_household_income_2016</th>\n",
       "      <th>median_household_income_2017</th>\n",
       "      <th>median_household_income_2018</th>\n",
       "      <th>median_household_income_2019</th>\n",
       "      <th>5_year_avg_income</th>\n",
       "    </tr>\n",
       "  </thead>\n",
       "  <tbody>\n",
       "    <tr>\n",
       "      <th>0</th>\n",
       "      <td>4</td>\n",
       "      <td>Alabama</td>\n",
       "      <td>All Cancer Sites</td>\n",
       "      <td>All Races (includes Hispanic)</td>\n",
       "      <td>All Sexes</td>\n",
       "      <td>&lt;50</td>\n",
       "      <td>38.8</td>\n",
       "      <td>Marengo County AL</td>\n",
       "      <td>54.0</td>\n",
       "      <td>19766</td>\n",
       "      <td>...</td>\n",
       "      <td>19396</td>\n",
       "      <td>19056</td>\n",
       "      <td>18863</td>\n",
       "      <td>AL</td>\n",
       "      <td>35389.0</td>\n",
       "      <td>34794.0</td>\n",
       "      <td>37469.0</td>\n",
       "      <td>37733.0</td>\n",
       "      <td>38838.0</td>\n",
       "      <td>36844.6</td>\n",
       "    </tr>\n",
       "    <tr>\n",
       "      <th>1</th>\n",
       "      <td>48</td>\n",
       "      <td>Alabama</td>\n",
       "      <td>All Cancer Sites</td>\n",
       "      <td>All Races (includes Hispanic)</td>\n",
       "      <td>All Sexes</td>\n",
       "      <td>50+</td>\n",
       "      <td>606.5</td>\n",
       "      <td>Marengo County AL</td>\n",
       "      <td>54.0</td>\n",
       "      <td>19766</td>\n",
       "      <td>...</td>\n",
       "      <td>19396</td>\n",
       "      <td>19056</td>\n",
       "      <td>18863</td>\n",
       "      <td>AL</td>\n",
       "      <td>35389.0</td>\n",
       "      <td>34794.0</td>\n",
       "      <td>37469.0</td>\n",
       "      <td>37733.0</td>\n",
       "      <td>38838.0</td>\n",
       "      <td>36844.6</td>\n",
       "    </tr>\n",
       "    <tr>\n",
       "      <th>2</th>\n",
       "      <td>18</td>\n",
       "      <td>Alabama</td>\n",
       "      <td>All Cancer Sites</td>\n",
       "      <td>All Races (includes Hispanic)</td>\n",
       "      <td>All Sexes</td>\n",
       "      <td>&lt;65</td>\n",
       "      <td>84.7</td>\n",
       "      <td>Marengo County AL</td>\n",
       "      <td>54.0</td>\n",
       "      <td>19766</td>\n",
       "      <td>...</td>\n",
       "      <td>19396</td>\n",
       "      <td>19056</td>\n",
       "      <td>18863</td>\n",
       "      <td>AL</td>\n",
       "      <td>35389.0</td>\n",
       "      <td>34794.0</td>\n",
       "      <td>37469.0</td>\n",
       "      <td>37733.0</td>\n",
       "      <td>38838.0</td>\n",
       "      <td>36844.6</td>\n",
       "    </tr>\n",
       "    <tr>\n",
       "      <th>3</th>\n",
       "      <td>35</td>\n",
       "      <td>Alabama</td>\n",
       "      <td>All Cancer Sites</td>\n",
       "      <td>All Races (includes Hispanic)</td>\n",
       "      <td>All Sexes</td>\n",
       "      <td>65+</td>\n",
       "      <td>963.0</td>\n",
       "      <td>Marengo County AL</td>\n",
       "      <td>54.0</td>\n",
       "      <td>19766</td>\n",
       "      <td>...</td>\n",
       "      <td>19396</td>\n",
       "      <td>19056</td>\n",
       "      <td>18863</td>\n",
       "      <td>AL</td>\n",
       "      <td>35389.0</td>\n",
       "      <td>34794.0</td>\n",
       "      <td>37469.0</td>\n",
       "      <td>37733.0</td>\n",
       "      <td>38838.0</td>\n",
       "      <td>36844.6</td>\n",
       "    </tr>\n",
       "    <tr>\n",
       "      <th>4</th>\n",
       "      <td>9</td>\n",
       "      <td>Alabama</td>\n",
       "      <td>All Cancer Sites</td>\n",
       "      <td>All Races (includes Hispanic)</td>\n",
       "      <td>All Sexes</td>\n",
       "      <td>&lt;50</td>\n",
       "      <td>30.2</td>\n",
       "      <td>Jackson County AL</td>\n",
       "      <td>53.0</td>\n",
       "      <td>52195</td>\n",
       "      <td>...</td>\n",
       "      <td>51828</td>\n",
       "      <td>51621</td>\n",
       "      <td>51626</td>\n",
       "      <td>AL</td>\n",
       "      <td>40201.0</td>\n",
       "      <td>41407.0</td>\n",
       "      <td>42658.0</td>\n",
       "      <td>41929.0</td>\n",
       "      <td>44322.0</td>\n",
       "      <td>42103.4</td>\n",
       "    </tr>\n",
       "  </tbody>\n",
       "</table>\n",
       "<p>5 rows × 21 columns</p>\n",
       "</div>"
      ],
      "text/plain": [
       "   average_annual_count primary_state_name            cancer  \\\n",
       "0                     4            Alabama  All Cancer Sites   \n",
       "1                    48            Alabama  All Cancer Sites   \n",
       "2                    18            Alabama  All Cancer Sites   \n",
       "3                    35            Alabama  All Cancer Sites   \n",
       "4                     9            Alabama  All Cancer Sites   \n",
       "\n",
       "                  race_ethnicity        sex  age age_adjusted_rate  \\\n",
       "0  All Races (includes Hispanic)  All Sexes  <50             38.8    \n",
       "1  All Races (includes Hispanic)  All Sexes  50+            606.5    \n",
       "2  All Races (includes Hispanic)  All Sexes  <65             84.7    \n",
       "3  All Races (includes Hispanic)  All Sexes  65+            963.0    \n",
       "4  All Races (includes Hispanic)  All Sexes  <50             30.2    \n",
       "\n",
       "        county_state  index_of_medical_underservice_score  popestimate2015  \\\n",
       "0  Marengo County AL                                 54.0            19766   \n",
       "1  Marengo County AL                                 54.0            19766   \n",
       "2  Marengo County AL                                 54.0            19766   \n",
       "3  Marengo County AL                                 54.0            19766   \n",
       "4  Jackson County AL                                 53.0            52195   \n",
       "\n",
       "   ...  popestimate2017  popestimate2018  popestimate2019  abbrv  \\\n",
       "0  ...            19396            19056            18863     AL   \n",
       "1  ...            19396            19056            18863     AL   \n",
       "2  ...            19396            19056            18863     AL   \n",
       "3  ...            19396            19056            18863     AL   \n",
       "4  ...            51828            51621            51626     AL   \n",
       "\n",
       "  median_household_income_2015  median_household_income_2016  \\\n",
       "0                      35389.0                       34794.0   \n",
       "1                      35389.0                       34794.0   \n",
       "2                      35389.0                       34794.0   \n",
       "3                      35389.0                       34794.0   \n",
       "4                      40201.0                       41407.0   \n",
       "\n",
       "   median_household_income_2017  median_household_income_2018  \\\n",
       "0                       37469.0                       37733.0   \n",
       "1                       37469.0                       37733.0   \n",
       "2                       37469.0                       37733.0   \n",
       "3                       37469.0                       37733.0   \n",
       "4                       42658.0                       41929.0   \n",
       "\n",
       "   median_household_income_2019  5_year_avg_income  \n",
       "0                       38838.0            36844.6  \n",
       "1                       38838.0            36844.6  \n",
       "2                       38838.0            36844.6  \n",
       "3                       38838.0            36844.6  \n",
       "4                       44322.0            42103.4  \n",
       "\n",
       "[5 rows x 21 columns]"
      ]
     },
     "execution_count": 6,
     "metadata": {},
     "output_type": "execute_result"
    }
   ],
   "source": [
    "#create column for 5-year average median income \n",
    "mortality_df[\"5_year_avg_income\"] = (mortality_df[\"median_household_income_2015\"]+mortality_df[\"median_household_income_2016\"]+mortality_df[\"median_household_income_2017\"]+mortality_df[\"median_household_income_2018\"]+mortality_df[\"median_household_income_2019\"])/5\n",
    "mortality_df.head()"
   ]
  },
  {
   "cell_type": "code",
   "execution_count": 7,
   "id": "ec619f4b",
   "metadata": {},
   "outputs": [],
   "source": [
    "#drop rows where avg income is null\n",
    "mortality_df = mortality_df[mortality_df[\"5_year_avg_income\"].isna() == False]"
   ]
  },
  {
   "cell_type": "code",
   "execution_count": 8,
   "id": "9b7b971a",
   "metadata": {},
   "outputs": [
    {
     "data": {
      "text/plain": [
       "average_annual_count                   8152\n",
       "primary_state_name                     8152\n",
       "cancer                                 8152\n",
       "race_ethnicity                         8152\n",
       "sex                                    8152\n",
       "age                                    8152\n",
       "age_adjusted_rate                      8152\n",
       "county_state                           8152\n",
       "index_of_medical_underservice_score    7085\n",
       "popestimate2015                        8152\n",
       "popestimate2016                        8152\n",
       "popestimate2017                        8152\n",
       "popestimate2018                        8152\n",
       "popestimate2019                        8152\n",
       "abbrv                                  8152\n",
       "median_household_income_2015           8152\n",
       "median_household_income_2016           8152\n",
       "median_household_income_2017           8152\n",
       "median_household_income_2018           8152\n",
       "median_household_income_2019           8152\n",
       "5_year_avg_income                      8152\n",
       "dtype: int64"
      ]
     },
     "execution_count": 8,
     "metadata": {},
     "output_type": "execute_result"
    }
   ],
   "source": [
    "#get count of rows\n",
    "mortality_df.count()"
   ]
  },
  {
   "cell_type": "code",
   "execution_count": 9,
   "id": "a53cee0b",
   "metadata": {},
   "outputs": [
    {
     "data": {
      "text/plain": [
       "65+    2401\n",
       "<65    2194\n",
       "Name: age, dtype: int64"
      ]
     },
     "execution_count": 9,
     "metadata": {},
     "output_type": "execute_result"
    }
   ],
   "source": [
    "#keep only columns with 65+ and <65\n",
    "mortality_df_65 = mortality_df[mortality_df[\"age\"] != \"50+\"] \n",
    "mortality_df_65 = mortality_df_65[mortality_df_65[\"age\"] != \"<50\"] \n",
    "mortality_df_65[\"age\"].value_counts()"
   ]
  },
  {
   "cell_type": "code",
   "execution_count": 10,
   "id": "58ac602a",
   "metadata": {},
   "outputs": [
    {
     "data": {
      "text/plain": [
       "average_annual_count                   4595\n",
       "primary_state_name                     4595\n",
       "cancer                                 4595\n",
       "race_ethnicity                         4595\n",
       "sex                                    4595\n",
       "age                                    4595\n",
       "age_adjusted_rate                      4595\n",
       "county_state                           4595\n",
       "index_of_medical_underservice_score    3995\n",
       "popestimate2015                        4595\n",
       "popestimate2016                        4595\n",
       "popestimate2017                        4595\n",
       "popestimate2018                        4595\n",
       "popestimate2019                        4595\n",
       "abbrv                                  4595\n",
       "median_household_income_2015           4595\n",
       "median_household_income_2016           4595\n",
       "median_household_income_2017           4595\n",
       "median_household_income_2018           4595\n",
       "median_household_income_2019           4595\n",
       "5_year_avg_income                      4595\n",
       "dtype: int64"
      ]
     },
     "execution_count": 10,
     "metadata": {},
     "output_type": "execute_result"
    }
   ],
   "source": [
    "mortality_df_65.count()"
   ]
  },
  {
   "cell_type": "code",
   "execution_count": 11,
   "id": "04937a74",
   "metadata": {},
   "outputs": [
    {
     "name": "stderr",
     "output_type": "stream",
     "text": [
      "/Users/hankbowman/opt/anaconda3/envs/mlenv/lib/python3.7/site-packages/ipykernel_launcher.py:5: SettingWithCopyWarning: \n",
      "A value is trying to be set on a copy of a slice from a DataFrame.\n",
      "Try using .loc[row_indexer,col_indexer] = value instead\n",
      "\n",
      "See the caveats in the documentation: https://pandas.pydata.org/pandas-docs/stable/user_guide/indexing.html#returning-a-view-versus-a-copy\n",
      "  \"\"\"\n"
     ]
    },
    {
     "data": {
      "text/html": [
       "<div>\n",
       "<style scoped>\n",
       "    .dataframe tbody tr th:only-of-type {\n",
       "        vertical-align: middle;\n",
       "    }\n",
       "\n",
       "    .dataframe tbody tr th {\n",
       "        vertical-align: top;\n",
       "    }\n",
       "\n",
       "    .dataframe thead th {\n",
       "        text-align: right;\n",
       "    }\n",
       "</style>\n",
       "<table border=\"1\" class=\"dataframe\">\n",
       "  <thead>\n",
       "    <tr style=\"text-align: right;\">\n",
       "      <th></th>\n",
       "      <th>age_adjusted_rate</th>\n",
       "    </tr>\n",
       "  </thead>\n",
       "  <tbody>\n",
       "    <tr>\n",
       "      <th>2</th>\n",
       "      <td>84.7</td>\n",
       "    </tr>\n",
       "    <tr>\n",
       "      <th>3</th>\n",
       "      <td>963.0</td>\n",
       "    </tr>\n",
       "    <tr>\n",
       "      <th>6</th>\n",
       "      <td>80.3</td>\n",
       "    </tr>\n",
       "    <tr>\n",
       "      <th>7</th>\n",
       "      <td>986.9</td>\n",
       "    </tr>\n",
       "    <tr>\n",
       "      <th>10</th>\n",
       "      <td>69.2</td>\n",
       "    </tr>\n",
       "  </tbody>\n",
       "</table>\n",
       "</div>"
      ],
      "text/plain": [
       "    age_adjusted_rate\n",
       "2                84.7\n",
       "3               963.0\n",
       "6                80.3\n",
       "7               986.9\n",
       "10               69.2"
      ]
     },
     "execution_count": 11,
     "metadata": {},
     "output_type": "execute_result"
    }
   ],
   "source": [
    "#create target \n",
    "y = mortality_df_65[['age_adjusted_rate']]\n",
    "\n",
    "#change dtype to numeric\n",
    "y['age_adjusted_rate'] = y['age_adjusted_rate'].astype(float)\n",
    "y.head()"
   ]
  },
  {
   "cell_type": "code",
   "execution_count": 14,
   "id": "6450707a",
   "metadata": {},
   "outputs": [
    {
     "data": {
      "text/html": [
       "<div>\n",
       "<style scoped>\n",
       "    .dataframe tbody tr th:only-of-type {\n",
       "        vertical-align: middle;\n",
       "    }\n",
       "\n",
       "    .dataframe tbody tr th {\n",
       "        vertical-align: top;\n",
       "    }\n",
       "\n",
       "    .dataframe thead th {\n",
       "        text-align: right;\n",
       "    }\n",
       "</style>\n",
       "<table border=\"1\" class=\"dataframe\">\n",
       "  <thead>\n",
       "    <tr style=\"text-align: right;\">\n",
       "      <th></th>\n",
       "      <th>age</th>\n",
       "      <th>5_year_avg_income</th>\n",
       "    </tr>\n",
       "  </thead>\n",
       "  <tbody>\n",
       "    <tr>\n",
       "      <th>2</th>\n",
       "      <td>&lt;65</td>\n",
       "      <td>36844.6</td>\n",
       "    </tr>\n",
       "    <tr>\n",
       "      <th>3</th>\n",
       "      <td>65+</td>\n",
       "      <td>36844.6</td>\n",
       "    </tr>\n",
       "    <tr>\n",
       "      <th>6</th>\n",
       "      <td>&lt;65</td>\n",
       "      <td>42103.4</td>\n",
       "    </tr>\n",
       "    <tr>\n",
       "      <th>7</th>\n",
       "      <td>65+</td>\n",
       "      <td>42103.4</td>\n",
       "    </tr>\n",
       "    <tr>\n",
       "      <th>10</th>\n",
       "      <td>&lt;65</td>\n",
       "      <td>40439.2</td>\n",
       "    </tr>\n",
       "  </tbody>\n",
       "</table>\n",
       "</div>"
      ],
      "text/plain": [
       "    age  5_year_avg_income\n",
       "2   <65            36844.6\n",
       "3   65+            36844.6\n",
       "6   <65            42103.4\n",
       "7   65+            42103.4\n",
       "10  <65            40439.2"
      ]
     },
     "execution_count": 14,
     "metadata": {},
     "output_type": "execute_result"
    }
   ],
   "source": [
    "#create feautures variable holding ages and income\n",
    "X = mortality_df_65[[\"age\", \"5_year_avg_income\"]]\n",
    "X.head()"
   ]
  },
  {
   "cell_type": "code",
   "execution_count": 15,
   "id": "81967ef9",
   "metadata": {},
   "outputs": [
    {
     "data": {
      "text/html": [
       "<div>\n",
       "<style scoped>\n",
       "    .dataframe tbody tr th:only-of-type {\n",
       "        vertical-align: middle;\n",
       "    }\n",
       "\n",
       "    .dataframe tbody tr th {\n",
       "        vertical-align: top;\n",
       "    }\n",
       "\n",
       "    .dataframe thead th {\n",
       "        text-align: right;\n",
       "    }\n",
       "</style>\n",
       "<table border=\"1\" class=\"dataframe\">\n",
       "  <thead>\n",
       "    <tr style=\"text-align: right;\">\n",
       "      <th></th>\n",
       "      <th>5_year_avg_income</th>\n",
       "      <th>age_65+</th>\n",
       "      <th>age_&lt;65</th>\n",
       "    </tr>\n",
       "  </thead>\n",
       "  <tbody>\n",
       "    <tr>\n",
       "      <th>2</th>\n",
       "      <td>36844.6</td>\n",
       "      <td>0</td>\n",
       "      <td>1</td>\n",
       "    </tr>\n",
       "    <tr>\n",
       "      <th>3</th>\n",
       "      <td>36844.6</td>\n",
       "      <td>1</td>\n",
       "      <td>0</td>\n",
       "    </tr>\n",
       "    <tr>\n",
       "      <th>6</th>\n",
       "      <td>42103.4</td>\n",
       "      <td>0</td>\n",
       "      <td>1</td>\n",
       "    </tr>\n",
       "    <tr>\n",
       "      <th>7</th>\n",
       "      <td>42103.4</td>\n",
       "      <td>1</td>\n",
       "      <td>0</td>\n",
       "    </tr>\n",
       "    <tr>\n",
       "      <th>10</th>\n",
       "      <td>40439.2</td>\n",
       "      <td>0</td>\n",
       "      <td>1</td>\n",
       "    </tr>\n",
       "  </tbody>\n",
       "</table>\n",
       "</div>"
      ],
      "text/plain": [
       "    5_year_avg_income  age_65+  age_<65\n",
       "2             36844.6        0        1\n",
       "3             36844.6        1        0\n",
       "6             42103.4        0        1\n",
       "7             42103.4        1        0\n",
       "10            40439.2        0        1"
      ]
     },
     "execution_count": 15,
     "metadata": {},
     "output_type": "execute_result"
    }
   ],
   "source": [
    "#create dummy variables for age\n",
    "X = pd.get_dummies(X, columns=[\"age\"])\n",
    "X.head()"
   ]
  },
  {
   "cell_type": "code",
   "execution_count": 16,
   "id": "2aa76633",
   "metadata": {},
   "outputs": [
    {
     "data": {
      "text/plain": [
       "(4595, 1)"
      ]
     },
     "execution_count": 16,
     "metadata": {},
     "output_type": "execute_result"
    }
   ],
   "source": [
    "#get shape of target array\n",
    "y.shape"
   ]
  },
  {
   "cell_type": "code",
   "execution_count": 17,
   "id": "1280b889",
   "metadata": {},
   "outputs": [
    {
     "data": {
      "text/plain": [
       "(4595, 3)"
      ]
     },
     "execution_count": 17,
     "metadata": {},
     "output_type": "execute_result"
    }
   ],
   "source": [
    "#get shape of feautures array\n",
    "X.shape"
   ]
  },
  {
   "cell_type": "code",
   "execution_count": 18,
   "id": "5f1347b8",
   "metadata": {},
   "outputs": [],
   "source": [
    "#split data\n",
    "X_train, X_test, y_train, y_test = train_test_split(X, y)"
   ]
  },
  {
   "cell_type": "code",
   "execution_count": 19,
   "id": "d2527940",
   "metadata": {},
   "outputs": [],
   "source": [
    "#create linear regression model using sklearn\n",
    "model = LinearRegression()"
   ]
  },
  {
   "cell_type": "code",
   "execution_count": 20,
   "id": "f8ddaed7",
   "metadata": {},
   "outputs": [],
   "source": [
    "#fit the model with training data\n",
    "regression_age_inc_mortality = model.fit(X_train, y_train)"
   ]
  },
  {
   "cell_type": "code",
   "execution_count": 21,
   "id": "c7765a0d",
   "metadata": {},
   "outputs": [
    {
     "data": {
      "text/plain": [
       "array([[ 67.92969255],\n",
       "       [ 74.62703382],\n",
       "       [ 42.27370499],\n",
       "       ...,\n",
       "       [940.77845331],\n",
       "       [ 69.21259323],\n",
       "       [ 65.32093874]])"
      ]
     },
     "execution_count": 21,
     "metadata": {},
     "output_type": "execute_result"
    }
   ],
   "source": [
    "#Create predictions array using linear regression\n",
    "y_pred = regression_age_inc_mortality.predict(X_test)\n",
    "y_pred"
   ]
  },
  {
   "cell_type": "code",
   "execution_count": 22,
   "id": "d80f5562",
   "metadata": {},
   "outputs": [
    {
     "data": {
      "text/plain": [
       "0.9474688588621424"
      ]
     },
     "execution_count": 22,
     "metadata": {},
     "output_type": "execute_result"
    }
   ],
   "source": [
    "#get R2 value from linear regression\n",
    "from sklearn.metrics import r2_score\n",
    "r2_score(y_test, y_pred)"
   ]
  },
  {
   "cell_type": "code",
   "execution_count": 23,
   "id": "d168955c",
   "metadata": {},
   "outputs": [
    {
     "name": "stderr",
     "output_type": "stream",
     "text": [
      "/Users/hankbowman/opt/anaconda3/envs/mlenv/lib/python3.7/site-packages/statsmodels/tsa/tsatools.py:142: FutureWarning: In a future version of pandas all arguments of concat except for the argument 'objs' will be keyword-only\n",
      "  x = pd.concat(x[::order], 1)\n"
     ]
    }
   ],
   "source": [
    "#run regression again with statsmodels\n",
    "#use statsmodels to add constant to X\n",
    "#add constant to X\n",
    "X1 = sm.add_constant(X)"
   ]
  },
  {
   "cell_type": "code",
   "execution_count": 24,
   "id": "5ebb7adf",
   "metadata": {},
   "outputs": [],
   "source": [
    "#fit linear regression model\n",
    "model = sm.OLS(y, X1).fit()"
   ]
  },
  {
   "cell_type": "code",
   "execution_count": 25,
   "id": "9695608b",
   "metadata": {},
   "outputs": [
    {
     "name": "stdout",
     "output_type": "stream",
     "text": [
      "                            OLS Regression Results                            \n",
      "==============================================================================\n",
      "Dep. Variable:      age_adjusted_rate   R-squared:                       0.951\n",
      "Model:                            OLS   Adj. R-squared:                  0.951\n",
      "Method:                 Least Squares   F-statistic:                 4.425e+04\n",
      "Date:                Thu, 02 Jun 2022   Prob (F-statistic):               0.00\n",
      "Time:                        18:20:18   Log-Likelihood:                -27627.\n",
      "No. Observations:                4595   AIC:                         5.526e+04\n",
      "Df Residuals:                    4592   BIC:                         5.528e+04\n",
      "Df Model:                           2                                         \n",
      "Covariance Type:            nonrobust                                         \n",
      "=====================================================================================\n",
      "                        coef    std err          t      P>|t|      [0.025      0.975]\n",
      "-------------------------------------------------------------------------------------\n",
      "const               393.9597      3.747    105.142      0.000     386.614     401.306\n",
      "5_year_avg_income    -0.0020      0.000    -18.501      0.000      -0.002      -0.002\n",
      "age_65+             630.2390      2.352    267.933      0.000     625.628     634.850\n",
      "age_<65            -236.2793      2.398    -98.530      0.000    -240.981    -231.578\n",
      "==============================================================================\n",
      "Omnibus:                      853.715   Durbin-Watson:                   1.697\n",
      "Prob(Omnibus):                  0.000   Jarque-Bera (JB):            13750.149\n",
      "Skew:                           0.413   Prob(JB):                         0.00\n",
      "Kurtosis:                      11.434   Cond. No.                     7.69e+20\n",
      "==============================================================================\n",
      "\n",
      "Notes:\n",
      "[1] Standard Errors assume that the covariance matrix of the errors is correctly specified.\n",
      "[2] The smallest eigenvalue is 2.18e-29. This might indicate that there are\n",
      "strong multicollinearity problems or that the design matrix is singular.\n"
     ]
    }
   ],
   "source": [
    "#view model summary with statsmodels\n",
    "print(model.summary())"
   ]
  },
  {
   "cell_type": "code",
   "execution_count": 26,
   "id": "e657087d",
   "metadata": {},
   "outputs": [
    {
     "data": {
      "text/plain": [
       "DecisionTreeRegressor()"
      ]
     },
     "execution_count": 26,
     "metadata": {},
     "output_type": "execute_result"
    }
   ],
   "source": [
    "#fit the model with training data\n",
    "#decision tree regression\n",
    "regressor_DT = DecisionTreeRegressor()\n",
    "regressor_DT.fit(X_train, y_train)"
   ]
  },
  {
   "cell_type": "code",
   "execution_count": 27,
   "id": "18e6ac94",
   "metadata": {},
   "outputs": [
    {
     "data": {
      "text/plain": [
       "array([  64.7,   55. ,   48.6, ..., 1102.1,   72.8,   55.2])"
      ]
     },
     "execution_count": 27,
     "metadata": {},
     "output_type": "execute_result"
    }
   ],
   "source": [
    "#predict\n",
    "y_pred = regressor_DT.predict(X_test)\n",
    "y_pred"
   ]
  },
  {
   "cell_type": "code",
   "execution_count": 28,
   "id": "74325c04",
   "metadata": {},
   "outputs": [
    {
     "data": {
      "text/plain": [
       "0.9043118597247441"
      ]
     },
     "execution_count": 28,
     "metadata": {},
     "output_type": "execute_result"
    }
   ],
   "source": [
    "#calculate r2 score\n",
    "r2_score(y_test, y_pred)"
   ]
  },
  {
   "cell_type": "code",
   "execution_count": null,
   "id": "f35e81c9",
   "metadata": {},
   "outputs": [],
   "source": []
  }
 ],
 "metadata": {
  "kernelspec": {
   "display_name": "mlenv",
   "language": "python",
   "name": "mlenv"
  },
  "language_info": {
   "codemirror_mode": {
    "name": "ipython",
    "version": 3
   },
   "file_extension": ".py",
   "mimetype": "text/x-python",
   "name": "python",
   "nbconvert_exporter": "python",
   "pygments_lexer": "ipython3",
   "version": "3.7.11"
  }
 },
 "nbformat": 4,
 "nbformat_minor": 5
}
