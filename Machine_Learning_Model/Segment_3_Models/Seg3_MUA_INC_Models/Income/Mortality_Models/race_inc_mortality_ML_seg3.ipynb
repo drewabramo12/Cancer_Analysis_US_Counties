{
 "cells": [
  {
   "cell_type": "code",
   "execution_count": 1,
   "id": "238a26ab",
   "metadata": {},
   "outputs": [],
   "source": [
    "#initial imports\n",
    "import pandas as pd\n",
    "import matplotlib.pyplot as plt \n",
    "from sklearn.preprocessing import StandardScaler, LabelEncoder\n",
    "from sklearn.linear_model import LinearRegression\n",
    "import statsmodels.api as sm\n",
    "import numpy as np \n",
    "from sklearn.metrics import r2_score\n",
    "from sklearn.model_selection import train_test_split\n",
    "from sklearn.tree import DecisionTreeRegressor \n",
    "import numpy as np"
   ]
  },
  {
   "cell_type": "code",
   "execution_count": 2,
   "id": "e78e7a47",
   "metadata": {},
   "outputs": [
    {
     "data": {
      "text/html": [
       "<div>\n",
       "<style scoped>\n",
       "    .dataframe tbody tr th:only-of-type {\n",
       "        vertical-align: middle;\n",
       "    }\n",
       "\n",
       "    .dataframe tbody tr th {\n",
       "        vertical-align: top;\n",
       "    }\n",
       "\n",
       "    .dataframe thead th {\n",
       "        text-align: right;\n",
       "    }\n",
       "</style>\n",
       "<table border=\"1\" class=\"dataframe\">\n",
       "  <thead>\n",
       "    <tr style=\"text-align: right;\">\n",
       "      <th></th>\n",
       "      <th>average_annual_count</th>\n",
       "      <th>recent_trend</th>\n",
       "      <th>primary_state_name</th>\n",
       "      <th>cancer</th>\n",
       "      <th>race_ethnicity</th>\n",
       "      <th>sex</th>\n",
       "      <th>age</th>\n",
       "      <th>age_adjusted_rate</th>\n",
       "      <th>five_year_trend_rates</th>\n",
       "      <th>county_state</th>\n",
       "      <th>...</th>\n",
       "      <th>popestimate2015</th>\n",
       "      <th>popestimate2016</th>\n",
       "      <th>popestimate2017</th>\n",
       "      <th>popestimate2018</th>\n",
       "      <th>popestimate2019</th>\n",
       "      <th>median_household_income_2015</th>\n",
       "      <th>median_household_income_2016</th>\n",
       "      <th>median_household_income_2017</th>\n",
       "      <th>median_household_income_2018</th>\n",
       "      <th>median_household_income_2019</th>\n",
       "    </tr>\n",
       "  </thead>\n",
       "  <tbody>\n",
       "    <tr>\n",
       "      <th>0</th>\n",
       "      <td>181</td>\n",
       "      <td>stable</td>\n",
       "      <td>Alabama</td>\n",
       "      <td>All Cancer Sites</td>\n",
       "      <td>White (includes Hispanic)</td>\n",
       "      <td>All Sexes</td>\n",
       "      <td>All Ages</td>\n",
       "      <td>213.2</td>\n",
       "      <td>213.2</td>\n",
       "      <td>Walker County AL</td>\n",
       "      <td>...</td>\n",
       "      <td>64931</td>\n",
       "      <td>64533</td>\n",
       "      <td>63895</td>\n",
       "      <td>63669</td>\n",
       "      <td>63521</td>\n",
       "      <td>37305.0</td>\n",
       "      <td>39511.0</td>\n",
       "      <td>41925.0</td>\n",
       "      <td>45434.0</td>\n",
       "      <td>45991.0</td>\n",
       "    </tr>\n",
       "    <tr>\n",
       "      <th>1</th>\n",
       "      <td>180</td>\n",
       "      <td>stable</td>\n",
       "      <td>Alabama</td>\n",
       "      <td>All Cancer Sites</td>\n",
       "      <td>White Non-Hispanic</td>\n",
       "      <td>All Sexes</td>\n",
       "      <td>All Ages</td>\n",
       "      <td>213.9</td>\n",
       "      <td>213.9</td>\n",
       "      <td>Walker County AL</td>\n",
       "      <td>...</td>\n",
       "      <td>64931</td>\n",
       "      <td>64533</td>\n",
       "      <td>63895</td>\n",
       "      <td>63669</td>\n",
       "      <td>63521</td>\n",
       "      <td>37305.0</td>\n",
       "      <td>39511.0</td>\n",
       "      <td>41925.0</td>\n",
       "      <td>45434.0</td>\n",
       "      <td>45991.0</td>\n",
       "    </tr>\n",
       "    <tr>\n",
       "      <th>2</th>\n",
       "      <td>10</td>\n",
       "      <td>stable</td>\n",
       "      <td>Alabama</td>\n",
       "      <td>All Cancer Sites</td>\n",
       "      <td>Black (includes Hispanic)</td>\n",
       "      <td>All Sexes</td>\n",
       "      <td>All Ages</td>\n",
       "      <td>281.1</td>\n",
       "      <td>281.1</td>\n",
       "      <td>Walker County AL</td>\n",
       "      <td>...</td>\n",
       "      <td>64931</td>\n",
       "      <td>64533</td>\n",
       "      <td>63895</td>\n",
       "      <td>63669</td>\n",
       "      <td>63521</td>\n",
       "      <td>37305.0</td>\n",
       "      <td>39511.0</td>\n",
       "      <td>41925.0</td>\n",
       "      <td>45434.0</td>\n",
       "      <td>45991.0</td>\n",
       "    </tr>\n",
       "    <tr>\n",
       "      <th>3</th>\n",
       "      <td>32</td>\n",
       "      <td>stable</td>\n",
       "      <td>Alabama</td>\n",
       "      <td>All Cancer Sites</td>\n",
       "      <td>White (includes Hispanic)</td>\n",
       "      <td>All Sexes</td>\n",
       "      <td>All Ages</td>\n",
       "      <td>211.2</td>\n",
       "      <td>211.2</td>\n",
       "      <td>Crenshaw County AL</td>\n",
       "      <td>...</td>\n",
       "      <td>13850</td>\n",
       "      <td>13916</td>\n",
       "      <td>13858</td>\n",
       "      <td>13825</td>\n",
       "      <td>13772</td>\n",
       "      <td>36759.0</td>\n",
       "      <td>37374.0</td>\n",
       "      <td>38419.0</td>\n",
       "      <td>39057.0</td>\n",
       "      <td>43309.0</td>\n",
       "    </tr>\n",
       "    <tr>\n",
       "      <th>4</th>\n",
       "      <td>32</td>\n",
       "      <td>stable</td>\n",
       "      <td>Alabama</td>\n",
       "      <td>All Cancer Sites</td>\n",
       "      <td>White Non-Hispanic</td>\n",
       "      <td>All Sexes</td>\n",
       "      <td>All Ages</td>\n",
       "      <td>214.0</td>\n",
       "      <td>214.0</td>\n",
       "      <td>Crenshaw County AL</td>\n",
       "      <td>...</td>\n",
       "      <td>13850</td>\n",
       "      <td>13916</td>\n",
       "      <td>13858</td>\n",
       "      <td>13825</td>\n",
       "      <td>13772</td>\n",
       "      <td>36759.0</td>\n",
       "      <td>37374.0</td>\n",
       "      <td>38419.0</td>\n",
       "      <td>39057.0</td>\n",
       "      <td>43309.0</td>\n",
       "    </tr>\n",
       "  </tbody>\n",
       "</table>\n",
       "<p>5 rows × 21 columns</p>\n",
       "</div>"
      ],
      "text/plain": [
       "   average_annual_count recent_trend primary_state_name            cancer  \\\n",
       "0                   181       stable            Alabama  All Cancer Sites   \n",
       "1                   180       stable            Alabama  All Cancer Sites   \n",
       "2                    10       stable            Alabama  All Cancer Sites   \n",
       "3                    32       stable            Alabama  All Cancer Sites   \n",
       "4                    32       stable            Alabama  All Cancer Sites   \n",
       "\n",
       "              race_ethnicity        sex       age age_adjusted_rate  \\\n",
       "0  White (includes Hispanic)  All Sexes  All Ages            213.2    \n",
       "1         White Non-Hispanic  All Sexes  All Ages            213.9    \n",
       "2  Black (includes Hispanic)  All Sexes  All Ages            281.1    \n",
       "3  White (includes Hispanic)  All Sexes  All Ages            211.2    \n",
       "4         White Non-Hispanic  All Sexes  All Ages            214.0    \n",
       "\n",
       "  five_year_trend_rates        county_state  ...  popestimate2015  \\\n",
       "0                213.2     Walker County AL  ...            64931   \n",
       "1                213.9     Walker County AL  ...            64931   \n",
       "2                281.1     Walker County AL  ...            64931   \n",
       "3                211.2   Crenshaw County AL  ...            13850   \n",
       "4                214.0   Crenshaw County AL  ...            13850   \n",
       "\n",
       "   popestimate2016  popestimate2017  popestimate2018  popestimate2019  \\\n",
       "0            64533            63895            63669            63521   \n",
       "1            64533            63895            63669            63521   \n",
       "2            64533            63895            63669            63521   \n",
       "3            13916            13858            13825            13772   \n",
       "4            13916            13858            13825            13772   \n",
       "\n",
       "   median_household_income_2015  median_household_income_2016  \\\n",
       "0                       37305.0                       39511.0   \n",
       "1                       37305.0                       39511.0   \n",
       "2                       37305.0                       39511.0   \n",
       "3                       36759.0                       37374.0   \n",
       "4                       36759.0                       37374.0   \n",
       "\n",
       "   median_household_income_2017  median_household_income_2018  \\\n",
       "0                       41925.0                       45434.0   \n",
       "1                       41925.0                       45434.0   \n",
       "2                       41925.0                       45434.0   \n",
       "3                       38419.0                       39057.0   \n",
       "4                       38419.0                       39057.0   \n",
       "\n",
       "   median_household_income_2019  \n",
       "0                       45991.0  \n",
       "1                       45991.0  \n",
       "2                       45991.0  \n",
       "3                       43309.0  \n",
       "4                       43309.0  \n",
       "\n",
       "[5 rows x 21 columns]"
      ]
     },
     "execution_count": 2,
     "metadata": {},
     "output_type": "execute_result"
    }
   ],
   "source": [
    "#read in incidence csv from github\n",
    "\n",
    "mortality_df = pd.read_csv(\"https://raw.githubusercontent.com/robyndook/Cancer_Treatment_Centers_California/main/Resources/Race_Mortality_Cancer_DB.csv\")                         \n",
    "#get rid of commas in columns\n",
    "mortality_df = mortality_df.replace(',','', regex=True)\n",
    "mortality_df.head()     "
   ]
  },
  {
   "cell_type": "code",
   "execution_count": 3,
   "id": "ba920d6f",
   "metadata": {},
   "outputs": [
    {
     "data": {
      "text/plain": [
       "average_annual_count                     int64\n",
       "recent_trend                            object\n",
       "primary_state_name                      object\n",
       "cancer                                  object\n",
       "race_ethnicity                          object\n",
       "sex                                     object\n",
       "age                                     object\n",
       "age_adjusted_rate                       object\n",
       "five_year_trend_rates                   object\n",
       "county_state                            object\n",
       "index_of_medical_underservice_score    float64\n",
       "popestimate2015                          int64\n",
       "popestimate2016                          int64\n",
       "popestimate2017                          int64\n",
       "popestimate2018                          int64\n",
       "popestimate2019                          int64\n",
       "median_household_income_2015           float64\n",
       "median_household_income_2016           float64\n",
       "median_household_income_2017           float64\n",
       "median_household_income_2018           float64\n",
       "median_household_income_2019           float64\n",
       "dtype: object"
      ]
     },
     "execution_count": 3,
     "metadata": {},
     "output_type": "execute_result"
    }
   ],
   "source": [
    "#check dtypes\n",
    "mortality_df.dtypes"
   ]
  },
  {
   "cell_type": "code",
   "execution_count": 4,
   "id": "bb0ea0f7",
   "metadata": {},
   "outputs": [
    {
     "data": {
      "text/plain": [
       "average_annual_count                   7341\n",
       "recent_trend                           7341\n",
       "primary_state_name                     7341\n",
       "cancer                                 7341\n",
       "race_ethnicity                         7341\n",
       "sex                                    7341\n",
       "age                                    7341\n",
       "age_adjusted_rate                      7341\n",
       "five_year_trend_rates                  7341\n",
       "county_state                           7341\n",
       "index_of_medical_underservice_score    6439\n",
       "popestimate2015                        7341\n",
       "popestimate2016                        7341\n",
       "popestimate2017                        7341\n",
       "popestimate2018                        7341\n",
       "popestimate2019                        7341\n",
       "median_household_income_2015           7328\n",
       "median_household_income_2016           7328\n",
       "median_household_income_2017           7328\n",
       "median_household_income_2018           7328\n",
       "median_household_income_2019           7328\n",
       "dtype: int64"
      ]
     },
     "execution_count": 4,
     "metadata": {},
     "output_type": "execute_result"
    }
   ],
   "source": [
    "#get count of rows\n",
    "mortality_df.count()"
   ]
  },
  {
   "cell_type": "code",
   "execution_count": 5,
   "id": "cf7b9e77",
   "metadata": {},
   "outputs": [
    {
     "data": {
      "text/plain": [
       "White (includes Hispanic)                       2414\n",
       "  White Non-Hispanic                            2311\n",
       "Black (includes Hispanic)                       1012\n",
       "Hispanic (any race)                              572\n",
       "  White Hispanic                                 560\n",
       "Asian / Pacific Islander (includes Hispanic)     286\n",
       "Amer. Indian / AK Native (includes Hispanic)     186\n",
       "Name: race_ethnicity, dtype: int64"
      ]
     },
     "execution_count": 5,
     "metadata": {},
     "output_type": "execute_result"
    }
   ],
   "source": [
    "#get count of values for race\n",
    "mortality_df[\"race_ethnicity\"].value_counts()"
   ]
  },
  {
   "cell_type": "code",
   "execution_count": 6,
   "id": "3bc35423",
   "metadata": {},
   "outputs": [],
   "source": [
    "#clean race values\n",
    "mortality_df['race_ethnicity'] = mortality_df['race_ethnicity'].str.strip()"
   ]
  },
  {
   "cell_type": "code",
   "execution_count": 7,
   "id": "c4e87e2a",
   "metadata": {},
   "outputs": [
    {
     "data": {
      "text/plain": [
       "White (includes Hispanic)                       2414\n",
       "White Non-Hispanic                              2311\n",
       "Black (includes Hispanic)                       1012\n",
       "Hispanic (any race)                              572\n",
       "White Hispanic                                   560\n",
       "Asian / Pacific Islander (includes Hispanic)     286\n",
       "Amer. Indian / AK Native (includes Hispanic)     186\n",
       "Name: race_ethnicity, dtype: int64"
      ]
     },
     "execution_count": 7,
     "metadata": {},
     "output_type": "execute_result"
    }
   ],
   "source": [
    "#get count of values for race\n",
    "mortality_df[\"race_ethnicity\"].value_counts()"
   ]
  },
  {
   "cell_type": "code",
   "execution_count": 8,
   "id": "3b9709aa",
   "metadata": {},
   "outputs": [],
   "source": [
    "#drop rows where race equals white non-hispanic and race equals white hispanic to avoid overlap\n",
    "mortality_df = mortality_df[mortality_df[\"race_ethnicity\"] != \"White Non-Hispanic\"]\n",
    "mortality_df = mortality_df[mortality_df[\"race_ethnicity\"] != \"White Hispanic\"]"
   ]
  },
  {
   "cell_type": "code",
   "execution_count": 9,
   "id": "20218ccb",
   "metadata": {},
   "outputs": [
    {
     "data": {
      "text/plain": [
       "White (includes Hispanic)                       2414\n",
       "Black (includes Hispanic)                       1012\n",
       "Hispanic (any race)                              572\n",
       "Asian / Pacific Islander (includes Hispanic)     286\n",
       "Amer. Indian / AK Native (includes Hispanic)     186\n",
       "Name: race_ethnicity, dtype: int64"
      ]
     },
     "execution_count": 9,
     "metadata": {},
     "output_type": "execute_result"
    }
   ],
   "source": [
    "#get count of values for race\n",
    "mortality_df[\"race_ethnicity\"].value_counts()"
   ]
  },
  {
   "cell_type": "code",
   "execution_count": 10,
   "id": "c147e828",
   "metadata": {},
   "outputs": [
    {
     "data": {
      "text/html": [
       "<div>\n",
       "<style scoped>\n",
       "    .dataframe tbody tr th:only-of-type {\n",
       "        vertical-align: middle;\n",
       "    }\n",
       "\n",
       "    .dataframe tbody tr th {\n",
       "        vertical-align: top;\n",
       "    }\n",
       "\n",
       "    .dataframe thead th {\n",
       "        text-align: right;\n",
       "    }\n",
       "</style>\n",
       "<table border=\"1\" class=\"dataframe\">\n",
       "  <thead>\n",
       "    <tr style=\"text-align: right;\">\n",
       "      <th></th>\n",
       "      <th>average_annual_count</th>\n",
       "      <th>recent_trend</th>\n",
       "      <th>primary_state_name</th>\n",
       "      <th>cancer</th>\n",
       "      <th>race_ethnicity</th>\n",
       "      <th>sex</th>\n",
       "      <th>age</th>\n",
       "      <th>age_adjusted_rate</th>\n",
       "      <th>five_year_trend_rates</th>\n",
       "      <th>county_state</th>\n",
       "      <th>...</th>\n",
       "      <th>popestimate2016</th>\n",
       "      <th>popestimate2017</th>\n",
       "      <th>popestimate2018</th>\n",
       "      <th>popestimate2019</th>\n",
       "      <th>median_household_income_2015</th>\n",
       "      <th>median_household_income_2016</th>\n",
       "      <th>median_household_income_2017</th>\n",
       "      <th>median_household_income_2018</th>\n",
       "      <th>median_household_income_2019</th>\n",
       "      <th>5_year_avg_income</th>\n",
       "    </tr>\n",
       "  </thead>\n",
       "  <tbody>\n",
       "    <tr>\n",
       "      <th>0</th>\n",
       "      <td>181</td>\n",
       "      <td>stable</td>\n",
       "      <td>Alabama</td>\n",
       "      <td>All Cancer Sites</td>\n",
       "      <td>White (includes Hispanic)</td>\n",
       "      <td>All Sexes</td>\n",
       "      <td>All Ages</td>\n",
       "      <td>213.2</td>\n",
       "      <td>213.2</td>\n",
       "      <td>Walker County AL</td>\n",
       "      <td>...</td>\n",
       "      <td>64533</td>\n",
       "      <td>63895</td>\n",
       "      <td>63669</td>\n",
       "      <td>63521</td>\n",
       "      <td>37305.0</td>\n",
       "      <td>39511.0</td>\n",
       "      <td>41925.0</td>\n",
       "      <td>45434.0</td>\n",
       "      <td>45991.0</td>\n",
       "      <td>42033.2</td>\n",
       "    </tr>\n",
       "    <tr>\n",
       "      <th>2</th>\n",
       "      <td>10</td>\n",
       "      <td>stable</td>\n",
       "      <td>Alabama</td>\n",
       "      <td>All Cancer Sites</td>\n",
       "      <td>Black (includes Hispanic)</td>\n",
       "      <td>All Sexes</td>\n",
       "      <td>All Ages</td>\n",
       "      <td>281.1</td>\n",
       "      <td>281.1</td>\n",
       "      <td>Walker County AL</td>\n",
       "      <td>...</td>\n",
       "      <td>64533</td>\n",
       "      <td>63895</td>\n",
       "      <td>63669</td>\n",
       "      <td>63521</td>\n",
       "      <td>37305.0</td>\n",
       "      <td>39511.0</td>\n",
       "      <td>41925.0</td>\n",
       "      <td>45434.0</td>\n",
       "      <td>45991.0</td>\n",
       "      <td>42033.2</td>\n",
       "    </tr>\n",
       "    <tr>\n",
       "      <th>3</th>\n",
       "      <td>32</td>\n",
       "      <td>stable</td>\n",
       "      <td>Alabama</td>\n",
       "      <td>All Cancer Sites</td>\n",
       "      <td>White (includes Hispanic)</td>\n",
       "      <td>All Sexes</td>\n",
       "      <td>All Ages</td>\n",
       "      <td>211.2</td>\n",
       "      <td>211.2</td>\n",
       "      <td>Crenshaw County AL</td>\n",
       "      <td>...</td>\n",
       "      <td>13916</td>\n",
       "      <td>13858</td>\n",
       "      <td>13825</td>\n",
       "      <td>13772</td>\n",
       "      <td>36759.0</td>\n",
       "      <td>37374.0</td>\n",
       "      <td>38419.0</td>\n",
       "      <td>39057.0</td>\n",
       "      <td>43309.0</td>\n",
       "      <td>38983.6</td>\n",
       "    </tr>\n",
       "    <tr>\n",
       "      <th>5</th>\n",
       "      <td>7</td>\n",
       "      <td>stable</td>\n",
       "      <td>Alabama</td>\n",
       "      <td>All Cancer Sites</td>\n",
       "      <td>Black (includes Hispanic)</td>\n",
       "      <td>All Sexes</td>\n",
       "      <td>All Ages</td>\n",
       "      <td>175.2</td>\n",
       "      <td>175.2</td>\n",
       "      <td>Crenshaw County AL</td>\n",
       "      <td>...</td>\n",
       "      <td>13916</td>\n",
       "      <td>13858</td>\n",
       "      <td>13825</td>\n",
       "      <td>13772</td>\n",
       "      <td>36759.0</td>\n",
       "      <td>37374.0</td>\n",
       "      <td>38419.0</td>\n",
       "      <td>39057.0</td>\n",
       "      <td>43309.0</td>\n",
       "      <td>38983.6</td>\n",
       "    </tr>\n",
       "    <tr>\n",
       "      <th>6</th>\n",
       "      <td>78</td>\n",
       "      <td>falling</td>\n",
       "      <td>Alabama</td>\n",
       "      <td>All Cancer Sites</td>\n",
       "      <td>White (includes Hispanic)</td>\n",
       "      <td>All Sexes</td>\n",
       "      <td>All Ages</td>\n",
       "      <td>201.7</td>\n",
       "      <td>201.7</td>\n",
       "      <td>Russell County AL</td>\n",
       "      <td>...</td>\n",
       "      <td>58185</td>\n",
       "      <td>56985</td>\n",
       "      <td>57784</td>\n",
       "      <td>57961</td>\n",
       "      <td>36124.0</td>\n",
       "      <td>38617.0</td>\n",
       "      <td>36186.0</td>\n",
       "      <td>39104.0</td>\n",
       "      <td>43670.0</td>\n",
       "      <td>38740.2</td>\n",
       "    </tr>\n",
       "  </tbody>\n",
       "</table>\n",
       "<p>5 rows × 22 columns</p>\n",
       "</div>"
      ],
      "text/plain": [
       "   average_annual_count recent_trend primary_state_name            cancer  \\\n",
       "0                   181       stable            Alabama  All Cancer Sites   \n",
       "2                    10       stable            Alabama  All Cancer Sites   \n",
       "3                    32       stable            Alabama  All Cancer Sites   \n",
       "5                     7       stable            Alabama  All Cancer Sites   \n",
       "6                    78      falling            Alabama  All Cancer Sites   \n",
       "\n",
       "              race_ethnicity        sex       age age_adjusted_rate  \\\n",
       "0  White (includes Hispanic)  All Sexes  All Ages            213.2    \n",
       "2  Black (includes Hispanic)  All Sexes  All Ages            281.1    \n",
       "3  White (includes Hispanic)  All Sexes  All Ages            211.2    \n",
       "5  Black (includes Hispanic)  All Sexes  All Ages            175.2    \n",
       "6  White (includes Hispanic)  All Sexes  All Ages            201.7    \n",
       "\n",
       "  five_year_trend_rates        county_state  ...  popestimate2016  \\\n",
       "0                213.2     Walker County AL  ...            64533   \n",
       "2                281.1     Walker County AL  ...            64533   \n",
       "3                211.2   Crenshaw County AL  ...            13916   \n",
       "5                175.2   Crenshaw County AL  ...            13916   \n",
       "6                201.7    Russell County AL  ...            58185   \n",
       "\n",
       "   popestimate2017  popestimate2018  popestimate2019  \\\n",
       "0            63895            63669            63521   \n",
       "2            63895            63669            63521   \n",
       "3            13858            13825            13772   \n",
       "5            13858            13825            13772   \n",
       "6            56985            57784            57961   \n",
       "\n",
       "   median_household_income_2015  median_household_income_2016  \\\n",
       "0                       37305.0                       39511.0   \n",
       "2                       37305.0                       39511.0   \n",
       "3                       36759.0                       37374.0   \n",
       "5                       36759.0                       37374.0   \n",
       "6                       36124.0                       38617.0   \n",
       "\n",
       "   median_household_income_2017  median_household_income_2018  \\\n",
       "0                       41925.0                       45434.0   \n",
       "2                       41925.0                       45434.0   \n",
       "3                       38419.0                       39057.0   \n",
       "5                       38419.0                       39057.0   \n",
       "6                       36186.0                       39104.0   \n",
       "\n",
       "   median_household_income_2019  5_year_avg_income  \n",
       "0                       45991.0            42033.2  \n",
       "2                       45991.0            42033.2  \n",
       "3                       43309.0            38983.6  \n",
       "5                       43309.0            38983.6  \n",
       "6                       43670.0            38740.2  \n",
       "\n",
       "[5 rows x 22 columns]"
      ]
     },
     "execution_count": 10,
     "metadata": {},
     "output_type": "execute_result"
    }
   ],
   "source": [
    "#create column for 5-year average median income \n",
    "mortality_df[\"5_year_avg_income\"] = (mortality_df[\"median_household_income_2015\"]+mortality_df[\"median_household_income_2016\"]+mortality_df[\"median_household_income_2017\"]+mortality_df[\"median_household_income_2018\"]+mortality_df[\"median_household_income_2019\"])/5\n",
    "mortality_df.head()"
   ]
  },
  {
   "cell_type": "code",
   "execution_count": 12,
   "id": "ec619f4b",
   "metadata": {},
   "outputs": [],
   "source": [
    "#drop rows where avg income is null\n",
    "mortality_df = mortality_df[mortality_df[\"5_year_avg_income\"].isna() == False]"
   ]
  },
  {
   "cell_type": "code",
   "execution_count": 13,
   "id": "9b7b971a",
   "metadata": {},
   "outputs": [
    {
     "data": {
      "text/plain": [
       "average_annual_count                   4463\n",
       "recent_trend                           4463\n",
       "primary_state_name                     4463\n",
       "cancer                                 4463\n",
       "race_ethnicity                         4463\n",
       "sex                                    4463\n",
       "age                                    4463\n",
       "age_adjusted_rate                      4463\n",
       "five_year_trend_rates                  4463\n",
       "county_state                           4463\n",
       "index_of_medical_underservice_score    3962\n",
       "popestimate2015                        4463\n",
       "popestimate2016                        4463\n",
       "popestimate2017                        4463\n",
       "popestimate2018                        4463\n",
       "popestimate2019                        4463\n",
       "median_household_income_2015           4463\n",
       "median_household_income_2016           4463\n",
       "median_household_income_2017           4463\n",
       "median_household_income_2018           4463\n",
       "median_household_income_2019           4463\n",
       "5_year_avg_income                      4463\n",
       "dtype: int64"
      ]
     },
     "execution_count": 13,
     "metadata": {},
     "output_type": "execute_result"
    }
   ],
   "source": [
    "#get count of rows\n",
    "mortality_df.count()"
   ]
  },
  {
   "cell_type": "code",
   "execution_count": 14,
   "id": "04937a74",
   "metadata": {},
   "outputs": [
    {
     "name": "stderr",
     "output_type": "stream",
     "text": [
      "/Users/hankbowman/opt/anaconda3/envs/mlenv/lib/python3.7/site-packages/ipykernel_launcher.py:5: SettingWithCopyWarning: \n",
      "A value is trying to be set on a copy of a slice from a DataFrame.\n",
      "Try using .loc[row_indexer,col_indexer] = value instead\n",
      "\n",
      "See the caveats in the documentation: https://pandas.pydata.org/pandas-docs/stable/user_guide/indexing.html#returning-a-view-versus-a-copy\n",
      "  \"\"\"\n"
     ]
    },
    {
     "data": {
      "text/html": [
       "<div>\n",
       "<style scoped>\n",
       "    .dataframe tbody tr th:only-of-type {\n",
       "        vertical-align: middle;\n",
       "    }\n",
       "\n",
       "    .dataframe tbody tr th {\n",
       "        vertical-align: top;\n",
       "    }\n",
       "\n",
       "    .dataframe thead th {\n",
       "        text-align: right;\n",
       "    }\n",
       "</style>\n",
       "<table border=\"1\" class=\"dataframe\">\n",
       "  <thead>\n",
       "    <tr style=\"text-align: right;\">\n",
       "      <th></th>\n",
       "      <th>age_adjusted_rate</th>\n",
       "    </tr>\n",
       "  </thead>\n",
       "  <tbody>\n",
       "    <tr>\n",
       "      <th>0</th>\n",
       "      <td>213.2</td>\n",
       "    </tr>\n",
       "    <tr>\n",
       "      <th>2</th>\n",
       "      <td>281.1</td>\n",
       "    </tr>\n",
       "    <tr>\n",
       "      <th>3</th>\n",
       "      <td>211.2</td>\n",
       "    </tr>\n",
       "    <tr>\n",
       "      <th>5</th>\n",
       "      <td>175.2</td>\n",
       "    </tr>\n",
       "    <tr>\n",
       "      <th>6</th>\n",
       "      <td>201.7</td>\n",
       "    </tr>\n",
       "  </tbody>\n",
       "</table>\n",
       "</div>"
      ],
      "text/plain": [
       "   age_adjusted_rate\n",
       "0              213.2\n",
       "2              281.1\n",
       "3              211.2\n",
       "5              175.2\n",
       "6              201.7"
      ]
     },
     "execution_count": 14,
     "metadata": {},
     "output_type": "execute_result"
    }
   ],
   "source": [
    "#create target \n",
    "y = mortality_df[['age_adjusted_rate']]\n",
    "\n",
    "#change dtype to numeric\n",
    "y['age_adjusted_rate'] = y['age_adjusted_rate'].astype(float)\n",
    "y.head()"
   ]
  },
  {
   "cell_type": "code",
   "execution_count": 15,
   "id": "6450707a",
   "metadata": {},
   "outputs": [
    {
     "data": {
      "text/html": [
       "<div>\n",
       "<style scoped>\n",
       "    .dataframe tbody tr th:only-of-type {\n",
       "        vertical-align: middle;\n",
       "    }\n",
       "\n",
       "    .dataframe tbody tr th {\n",
       "        vertical-align: top;\n",
       "    }\n",
       "\n",
       "    .dataframe thead th {\n",
       "        text-align: right;\n",
       "    }\n",
       "</style>\n",
       "<table border=\"1\" class=\"dataframe\">\n",
       "  <thead>\n",
       "    <tr style=\"text-align: right;\">\n",
       "      <th></th>\n",
       "      <th>race_ethnicity</th>\n",
       "      <th>5_year_avg_income</th>\n",
       "    </tr>\n",
       "  </thead>\n",
       "  <tbody>\n",
       "    <tr>\n",
       "      <th>0</th>\n",
       "      <td>White (includes Hispanic)</td>\n",
       "      <td>42033.2</td>\n",
       "    </tr>\n",
       "    <tr>\n",
       "      <th>2</th>\n",
       "      <td>Black (includes Hispanic)</td>\n",
       "      <td>42033.2</td>\n",
       "    </tr>\n",
       "    <tr>\n",
       "      <th>3</th>\n",
       "      <td>White (includes Hispanic)</td>\n",
       "      <td>38983.6</td>\n",
       "    </tr>\n",
       "    <tr>\n",
       "      <th>5</th>\n",
       "      <td>Black (includes Hispanic)</td>\n",
       "      <td>38983.6</td>\n",
       "    </tr>\n",
       "    <tr>\n",
       "      <th>6</th>\n",
       "      <td>White (includes Hispanic)</td>\n",
       "      <td>38740.2</td>\n",
       "    </tr>\n",
       "  </tbody>\n",
       "</table>\n",
       "</div>"
      ],
      "text/plain": [
       "              race_ethnicity  5_year_avg_income\n",
       "0  White (includes Hispanic)            42033.2\n",
       "2  Black (includes Hispanic)            42033.2\n",
       "3  White (includes Hispanic)            38983.6\n",
       "5  Black (includes Hispanic)            38983.6\n",
       "6  White (includes Hispanic)            38740.2"
      ]
     },
     "execution_count": 15,
     "metadata": {},
     "output_type": "execute_result"
    }
   ],
   "source": [
    "#create feautures variable holding ages and income\n",
    "X = mortality_df[[\"race_ethnicity\", \"5_year_avg_income\"]]\n",
    "X.head()"
   ]
  },
  {
   "cell_type": "code",
   "execution_count": 16,
   "id": "81967ef9",
   "metadata": {},
   "outputs": [
    {
     "data": {
      "text/html": [
       "<div>\n",
       "<style scoped>\n",
       "    .dataframe tbody tr th:only-of-type {\n",
       "        vertical-align: middle;\n",
       "    }\n",
       "\n",
       "    .dataframe tbody tr th {\n",
       "        vertical-align: top;\n",
       "    }\n",
       "\n",
       "    .dataframe thead th {\n",
       "        text-align: right;\n",
       "    }\n",
       "</style>\n",
       "<table border=\"1\" class=\"dataframe\">\n",
       "  <thead>\n",
       "    <tr style=\"text-align: right;\">\n",
       "      <th></th>\n",
       "      <th>5_year_avg_income</th>\n",
       "      <th>race_ethnicity_Amer. Indian / AK Native (includes Hispanic)</th>\n",
       "      <th>race_ethnicity_Asian / Pacific Islander (includes Hispanic)</th>\n",
       "      <th>race_ethnicity_Black (includes Hispanic)</th>\n",
       "      <th>race_ethnicity_Hispanic (any race)</th>\n",
       "      <th>race_ethnicity_White (includes Hispanic)</th>\n",
       "    </tr>\n",
       "  </thead>\n",
       "  <tbody>\n",
       "    <tr>\n",
       "      <th>0</th>\n",
       "      <td>42033.2</td>\n",
       "      <td>0</td>\n",
       "      <td>0</td>\n",
       "      <td>0</td>\n",
       "      <td>0</td>\n",
       "      <td>1</td>\n",
       "    </tr>\n",
       "    <tr>\n",
       "      <th>2</th>\n",
       "      <td>42033.2</td>\n",
       "      <td>0</td>\n",
       "      <td>0</td>\n",
       "      <td>1</td>\n",
       "      <td>0</td>\n",
       "      <td>0</td>\n",
       "    </tr>\n",
       "    <tr>\n",
       "      <th>3</th>\n",
       "      <td>38983.6</td>\n",
       "      <td>0</td>\n",
       "      <td>0</td>\n",
       "      <td>0</td>\n",
       "      <td>0</td>\n",
       "      <td>1</td>\n",
       "    </tr>\n",
       "    <tr>\n",
       "      <th>5</th>\n",
       "      <td>38983.6</td>\n",
       "      <td>0</td>\n",
       "      <td>0</td>\n",
       "      <td>1</td>\n",
       "      <td>0</td>\n",
       "      <td>0</td>\n",
       "    </tr>\n",
       "    <tr>\n",
       "      <th>6</th>\n",
       "      <td>38740.2</td>\n",
       "      <td>0</td>\n",
       "      <td>0</td>\n",
       "      <td>0</td>\n",
       "      <td>0</td>\n",
       "      <td>1</td>\n",
       "    </tr>\n",
       "  </tbody>\n",
       "</table>\n",
       "</div>"
      ],
      "text/plain": [
       "   5_year_avg_income  \\\n",
       "0            42033.2   \n",
       "2            42033.2   \n",
       "3            38983.6   \n",
       "5            38983.6   \n",
       "6            38740.2   \n",
       "\n",
       "   race_ethnicity_Amer. Indian / AK Native (includes Hispanic)  \\\n",
       "0                                                  0             \n",
       "2                                                  0             \n",
       "3                                                  0             \n",
       "5                                                  0             \n",
       "6                                                  0             \n",
       "\n",
       "   race_ethnicity_Asian / Pacific Islander (includes Hispanic)  \\\n",
       "0                                                  0             \n",
       "2                                                  0             \n",
       "3                                                  0             \n",
       "5                                                  0             \n",
       "6                                                  0             \n",
       "\n",
       "   race_ethnicity_Black (includes Hispanic)  \\\n",
       "0                                         0   \n",
       "2                                         1   \n",
       "3                                         0   \n",
       "5                                         1   \n",
       "6                                         0   \n",
       "\n",
       "   race_ethnicity_Hispanic (any race)  \\\n",
       "0                                   0   \n",
       "2                                   0   \n",
       "3                                   0   \n",
       "5                                   0   \n",
       "6                                   0   \n",
       "\n",
       "   race_ethnicity_White (includes Hispanic)  \n",
       "0                                         1  \n",
       "2                                         0  \n",
       "3                                         1  \n",
       "5                                         0  \n",
       "6                                         1  "
      ]
     },
     "execution_count": 16,
     "metadata": {},
     "output_type": "execute_result"
    }
   ],
   "source": [
    "#create dummy variables for race\n",
    "X = pd.get_dummies(X, columns=[\"race_ethnicity\"])\n",
    "X.head()"
   ]
  },
  {
   "cell_type": "code",
   "execution_count": 17,
   "id": "2aa76633",
   "metadata": {},
   "outputs": [
    {
     "data": {
      "text/plain": [
       "(4463, 1)"
      ]
     },
     "execution_count": 17,
     "metadata": {},
     "output_type": "execute_result"
    }
   ],
   "source": [
    "#get shape of target array\n",
    "y.shape"
   ]
  },
  {
   "cell_type": "code",
   "execution_count": 18,
   "id": "1280b889",
   "metadata": {},
   "outputs": [
    {
     "data": {
      "text/plain": [
       "(4463, 6)"
      ]
     },
     "execution_count": 18,
     "metadata": {},
     "output_type": "execute_result"
    }
   ],
   "source": [
    "#get shape of feautures array\n",
    "X.shape"
   ]
  },
  {
   "cell_type": "code",
   "execution_count": 19,
   "id": "5f1347b8",
   "metadata": {},
   "outputs": [],
   "source": [
    "#split data\n",
    "X_train, X_test, y_train, y_test = train_test_split(X, y)"
   ]
  },
  {
   "cell_type": "code",
   "execution_count": 20,
   "id": "d2527940",
   "metadata": {},
   "outputs": [],
   "source": [
    "#create linear regression model using sklearn\n",
    "model = LinearRegression()"
   ]
  },
  {
   "cell_type": "code",
   "execution_count": 21,
   "id": "f8ddaed7",
   "metadata": {},
   "outputs": [],
   "source": [
    "#fit the model with training data\n",
    "regression_race_inc_mortality = model.fit(X_train, y_train)"
   ]
  },
  {
   "cell_type": "code",
   "execution_count": 22,
   "id": "c7765a0d",
   "metadata": {},
   "outputs": [
    {
     "data": {
      "text/plain": [
       "array([[185.58018681],\n",
       "       [ 89.21252181],\n",
       "       [165.58331991],\n",
       "       ...,\n",
       "       [158.01460378],\n",
       "       [167.11977567],\n",
       "       [176.2058012 ]])"
      ]
     },
     "execution_count": 22,
     "metadata": {},
     "output_type": "execute_result"
    }
   ],
   "source": [
    "#Create predictions array using linear regression\n",
    "y_pred = regression_race_inc_mortality.predict(X_test)\n",
    "y_pred"
   ]
  },
  {
   "cell_type": "code",
   "execution_count": 23,
   "id": "d80f5562",
   "metadata": {},
   "outputs": [
    {
     "data": {
      "text/plain": [
       "0.4843753483955803"
      ]
     },
     "execution_count": 23,
     "metadata": {},
     "output_type": "execute_result"
    }
   ],
   "source": [
    "#get R2 value from linear regression\n",
    "from sklearn.metrics import r2_score\n",
    "r2_score(y_test, y_pred)"
   ]
  },
  {
   "cell_type": "code",
   "execution_count": 24,
   "id": "d168955c",
   "metadata": {},
   "outputs": [
    {
     "name": "stderr",
     "output_type": "stream",
     "text": [
      "/Users/hankbowman/opt/anaconda3/envs/mlenv/lib/python3.7/site-packages/statsmodels/tsa/tsatools.py:142: FutureWarning: In a future version of pandas all arguments of concat except for the argument 'objs' will be keyword-only\n",
      "  x = pd.concat(x[::order], 1)\n"
     ]
    }
   ],
   "source": [
    "#run regression again with statsmodels\n",
    "#use statsmodels to add constant to X\n",
    "#add constant to X\n",
    "X1 = sm.add_constant(X)"
   ]
  },
  {
   "cell_type": "code",
   "execution_count": 25,
   "id": "5ebb7adf",
   "metadata": {},
   "outputs": [],
   "source": [
    "#fit linear regression model\n",
    "model = sm.OLS(y, X1).fit()"
   ]
  },
  {
   "cell_type": "code",
   "execution_count": 26,
   "id": "9695608b",
   "metadata": {},
   "outputs": [
    {
     "name": "stdout",
     "output_type": "stream",
     "text": [
      "                            OLS Regression Results                            \n",
      "==============================================================================\n",
      "Dep. Variable:      age_adjusted_rate   R-squared:                       0.452\n",
      "Model:                            OLS   Adj. R-squared:                  0.451\n",
      "Method:                 Least Squares   F-statistic:                     735.2\n",
      "Date:                Thu, 02 Jun 2022   Prob (F-statistic):               0.00\n",
      "Time:                        18:25:47   Log-Likelihood:                -21937.\n",
      "No. Observations:                4463   AIC:                         4.389e+04\n",
      "Df Residuals:                    4457   BIC:                         4.392e+04\n",
      "Df Model:                           5                                         \n",
      "Covariance Type:            nonrobust                                         \n",
      "===============================================================================================================================\n",
      "                                                                  coef    std err          t      P>|t|      [0.025      0.975]\n",
      "-------------------------------------------------------------------------------------------------------------------------------\n",
      "const                                                         159.2036      1.655     96.207      0.000     155.959     162.448\n",
      "5_year_avg_income                                              -0.0008   3.26e-05    -25.379      0.000      -0.001      -0.001\n",
      "race_ethnicity_Amer. Indian / AK Native (includes Hispanic)    50.4437      2.075     24.306      0.000      46.375      54.512\n",
      "race_ethnicity_Asian / Pacific Islander (includes Hispanic)   -11.8443      1.826     -6.486      0.000     -15.425      -8.264\n",
      "race_ethnicity_Black (includes Hispanic)                       69.1460      1.056     65.491      0.000      67.076      71.216\n",
      "race_ethnicity_Hispanic (any race)                              2.5819      1.338      1.930      0.054      -0.041       5.205\n",
      "race_ethnicity_White (includes Hispanic)                       48.8763      0.826     59.169      0.000      47.257      50.496\n",
      "==============================================================================\n",
      "Omnibus:                     2982.493   Durbin-Watson:                   1.317\n",
      "Prob(Omnibus):                  0.000   Jarque-Bera (JB):           240759.068\n",
      "Skew:                           2.416   Prob(JB):                         0.00\n",
      "Kurtosis:                      38.656   Cond. No.                     5.92e+20\n",
      "==============================================================================\n",
      "\n",
      "Notes:\n",
      "[1] Standard Errors assume that the covariance matrix of the errors is correctly specified.\n",
      "[2] The smallest eigenvalue is 3.98e-29. This might indicate that there are\n",
      "strong multicollinearity problems or that the design matrix is singular.\n"
     ]
    }
   ],
   "source": [
    "#view model summary with statsmodels\n",
    "print(model.summary())"
   ]
  },
  {
   "cell_type": "code",
   "execution_count": 27,
   "id": "e657087d",
   "metadata": {},
   "outputs": [
    {
     "data": {
      "text/plain": [
       "DecisionTreeRegressor()"
      ]
     },
     "execution_count": 27,
     "metadata": {},
     "output_type": "execute_result"
    }
   ],
   "source": [
    "#fit the model with training data\n",
    "#decision tree regression\n",
    "regressor_DT = DecisionTreeRegressor()\n",
    "regressor_DT.fit(X_train, y_train)"
   ]
  },
  {
   "cell_type": "code",
   "execution_count": 28,
   "id": "18e6ac94",
   "metadata": {},
   "outputs": [
    {
     "data": {
      "text/plain": [
       "array([198.6,  68.3, 181.6, ..., 113.3, 174.4, 162.6])"
      ]
     },
     "execution_count": 28,
     "metadata": {},
     "output_type": "execute_result"
    }
   ],
   "source": [
    "#predict\n",
    "y_pred = regressor_DT.predict(X_test)\n",
    "y_pred"
   ]
  },
  {
   "cell_type": "code",
   "execution_count": 29,
   "id": "74325c04",
   "metadata": {},
   "outputs": [
    {
     "data": {
      "text/plain": [
       "-0.14304790198314454"
      ]
     },
     "execution_count": 29,
     "metadata": {},
     "output_type": "execute_result"
    }
   ],
   "source": [
    "#calculate r2 score\n",
    "r2_score(y_test, y_pred)"
   ]
  },
  {
   "cell_type": "code",
   "execution_count": null,
   "id": "c4ec424e",
   "metadata": {},
   "outputs": [],
   "source": []
  },
  {
   "cell_type": "code",
   "execution_count": null,
   "id": "f311e050",
   "metadata": {},
   "outputs": [],
   "source": []
  },
  {
   "cell_type": "code",
   "execution_count": null,
   "id": "c59ace49",
   "metadata": {},
   "outputs": [],
   "source": []
  }
 ],
 "metadata": {
  "kernelspec": {
   "display_name": "mlenv",
   "language": "python",
   "name": "mlenv"
  },
  "language_info": {
   "codemirror_mode": {
    "name": "ipython",
    "version": 3
   },
   "file_extension": ".py",
   "mimetype": "text/x-python",
   "name": "python",
   "nbconvert_exporter": "python",
   "pygments_lexer": "ipython3",
   "version": "3.7.11"
  }
 },
 "nbformat": 4,
 "nbformat_minor": 5
}
