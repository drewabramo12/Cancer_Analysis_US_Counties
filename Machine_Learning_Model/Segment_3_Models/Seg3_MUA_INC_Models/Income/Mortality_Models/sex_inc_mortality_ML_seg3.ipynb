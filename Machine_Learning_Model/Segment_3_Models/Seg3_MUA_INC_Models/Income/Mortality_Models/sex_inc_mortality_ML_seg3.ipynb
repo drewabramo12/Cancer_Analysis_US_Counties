{
 "cells": [
  {
   "cell_type": "code",
   "execution_count": 7,
   "id": "238a26ab",
   "metadata": {},
   "outputs": [],
   "source": [
    "#initial imports\n",
    "import pandas as pd\n",
    "import matplotlib.pyplot as plt \n",
    "from sklearn.preprocessing import StandardScaler, LabelEncoder\n",
    "from sklearn.linear_model import LinearRegression\n",
    "import statsmodels.api as sm\n",
    "import numpy as np \n",
    "from sklearn.metrics import r2_score\n",
    "from sklearn.model_selection import train_test_split\n",
    "from sklearn.tree import DecisionTreeRegressor \n",
    "import numpy as np"
   ]
  },
  {
   "cell_type": "code",
   "execution_count": 8,
   "id": "e78e7a47",
   "metadata": {},
   "outputs": [
    {
     "data": {
      "text/html": [
       "<div>\n",
       "<style scoped>\n",
       "    .dataframe tbody tr th:only-of-type {\n",
       "        vertical-align: middle;\n",
       "    }\n",
       "\n",
       "    .dataframe tbody tr th {\n",
       "        vertical-align: top;\n",
       "    }\n",
       "\n",
       "    .dataframe thead th {\n",
       "        text-align: right;\n",
       "    }\n",
       "</style>\n",
       "<table border=\"1\" class=\"dataframe\">\n",
       "  <thead>\n",
       "    <tr style=\"text-align: right;\">\n",
       "      <th></th>\n",
       "      <th>average_annual_count</th>\n",
       "      <th>primary_state_name</th>\n",
       "      <th>cancer</th>\n",
       "      <th>race_ethnicity</th>\n",
       "      <th>sex</th>\n",
       "      <th>age</th>\n",
       "      <th>age_adjusted_rate</th>\n",
       "      <th>county_state</th>\n",
       "      <th>index_of_medical_underservice_score</th>\n",
       "      <th>popestimate2015</th>\n",
       "      <th>popestimate2016</th>\n",
       "      <th>popestimate2017</th>\n",
       "      <th>popestimate2018</th>\n",
       "      <th>popestimate2019</th>\n",
       "      <th>median_household_income_2015</th>\n",
       "      <th>median_household_income_2016</th>\n",
       "      <th>median_household_income_2017</th>\n",
       "      <th>median_household_income_2018</th>\n",
       "      <th>median_household_income_2019</th>\n",
       "    </tr>\n",
       "  </thead>\n",
       "  <tbody>\n",
       "    <tr>\n",
       "      <th>0</th>\n",
       "      <td>18</td>\n",
       "      <td>Alabama</td>\n",
       "      <td>All Cancer Sites</td>\n",
       "      <td>All Races (includes Hispanic)</td>\n",
       "      <td>Males</td>\n",
       "      <td>All Ages</td>\n",
       "      <td>296.3</td>\n",
       "      <td>Wilcox County AL</td>\n",
       "      <td>51.0</td>\n",
       "      <td>10896</td>\n",
       "      <td>10844</td>\n",
       "      <td>10691</td>\n",
       "      <td>10599</td>\n",
       "      <td>10373</td>\n",
       "      <td>23014.0</td>\n",
       "      <td>24216.0</td>\n",
       "      <td>25700.0</td>\n",
       "      <td>25385.0</td>\n",
       "      <td>30998.0</td>\n",
       "    </tr>\n",
       "    <tr>\n",
       "      <th>1</th>\n",
       "      <td>13</td>\n",
       "      <td>Alabama</td>\n",
       "      <td>All Cancer Sites</td>\n",
       "      <td>All Races (includes Hispanic)</td>\n",
       "      <td>Females</td>\n",
       "      <td>All Ages</td>\n",
       "      <td>153.2</td>\n",
       "      <td>Wilcox County AL</td>\n",
       "      <td>51.0</td>\n",
       "      <td>10896</td>\n",
       "      <td>10844</td>\n",
       "      <td>10691</td>\n",
       "      <td>10599</td>\n",
       "      <td>10373</td>\n",
       "      <td>23014.0</td>\n",
       "      <td>24216.0</td>\n",
       "      <td>25700.0</td>\n",
       "      <td>25385.0</td>\n",
       "      <td>30998.0</td>\n",
       "    </tr>\n",
       "    <tr>\n",
       "      <th>2</th>\n",
       "      <td>32</td>\n",
       "      <td>Alabama</td>\n",
       "      <td>All Cancer Sites</td>\n",
       "      <td>All Races (includes Hispanic)</td>\n",
       "      <td>Males</td>\n",
       "      <td>All Ages</td>\n",
       "      <td>290.7</td>\n",
       "      <td>Macon County AL</td>\n",
       "      <td>28.0</td>\n",
       "      <td>19296</td>\n",
       "      <td>19060</td>\n",
       "      <td>18793</td>\n",
       "      <td>18321</td>\n",
       "      <td>18068</td>\n",
       "      <td>29522.0</td>\n",
       "      <td>30681.0</td>\n",
       "      <td>30849.0</td>\n",
       "      <td>32495.0</td>\n",
       "      <td>34281.0</td>\n",
       "    </tr>\n",
       "    <tr>\n",
       "      <th>3</th>\n",
       "      <td>22</td>\n",
       "      <td>Alabama</td>\n",
       "      <td>All Cancer Sites</td>\n",
       "      <td>All Races (includes Hispanic)</td>\n",
       "      <td>Females</td>\n",
       "      <td>All Ages</td>\n",
       "      <td>146.1</td>\n",
       "      <td>Macon County AL</td>\n",
       "      <td>28.0</td>\n",
       "      <td>19296</td>\n",
       "      <td>19060</td>\n",
       "      <td>18793</td>\n",
       "      <td>18321</td>\n",
       "      <td>18068</td>\n",
       "      <td>29522.0</td>\n",
       "      <td>30681.0</td>\n",
       "      <td>30849.0</td>\n",
       "      <td>32495.0</td>\n",
       "      <td>34281.0</td>\n",
       "    </tr>\n",
       "    <tr>\n",
       "      <th>4</th>\n",
       "      <td>17</td>\n",
       "      <td>Alabama</td>\n",
       "      <td>All Cancer Sites</td>\n",
       "      <td>All Races (includes Hispanic)</td>\n",
       "      <td>Males</td>\n",
       "      <td>All Ages</td>\n",
       "      <td>283.8</td>\n",
       "      <td>Lowndes County AL</td>\n",
       "      <td>54.0</td>\n",
       "      <td>10350</td>\n",
       "      <td>10248</td>\n",
       "      <td>10097</td>\n",
       "      <td>9974</td>\n",
       "      <td>9726</td>\n",
       "      <td>31117.0</td>\n",
       "      <td>32011.0</td>\n",
       "      <td>33130.0</td>\n",
       "      <td>33973.0</td>\n",
       "      <td>33930.0</td>\n",
       "    </tr>\n",
       "  </tbody>\n",
       "</table>\n",
       "</div>"
      ],
      "text/plain": [
       "   average_annual_count primary_state_name            cancer  \\\n",
       "0                    18            Alabama  All Cancer Sites   \n",
       "1                    13            Alabama  All Cancer Sites   \n",
       "2                    32            Alabama  All Cancer Sites   \n",
       "3                    22            Alabama  All Cancer Sites   \n",
       "4                    17            Alabama  All Cancer Sites   \n",
       "\n",
       "                  race_ethnicity      sex       age  age_adjusted_rate  \\\n",
       "0  All Races (includes Hispanic)    Males  All Ages              296.3   \n",
       "1  All Races (includes Hispanic)  Females  All Ages              153.2   \n",
       "2  All Races (includes Hispanic)    Males  All Ages              290.7   \n",
       "3  All Races (includes Hispanic)  Females  All Ages              146.1   \n",
       "4  All Races (includes Hispanic)    Males  All Ages              283.8   \n",
       "\n",
       "        county_state  index_of_medical_underservice_score  popestimate2015  \\\n",
       "0   Wilcox County AL                                 51.0            10896   \n",
       "1   Wilcox County AL                                 51.0            10896   \n",
       "2    Macon County AL                                 28.0            19296   \n",
       "3    Macon County AL                                 28.0            19296   \n",
       "4  Lowndes County AL                                 54.0            10350   \n",
       "\n",
       "   popestimate2016  popestimate2017  popestimate2018  popestimate2019  \\\n",
       "0            10844            10691            10599            10373   \n",
       "1            10844            10691            10599            10373   \n",
       "2            19060            18793            18321            18068   \n",
       "3            19060            18793            18321            18068   \n",
       "4            10248            10097             9974             9726   \n",
       "\n",
       "   median_household_income_2015  median_household_income_2016  \\\n",
       "0                       23014.0                       24216.0   \n",
       "1                       23014.0                       24216.0   \n",
       "2                       29522.0                       30681.0   \n",
       "3                       29522.0                       30681.0   \n",
       "4                       31117.0                       32011.0   \n",
       "\n",
       "   median_household_income_2017  median_household_income_2018  \\\n",
       "0                       25700.0                       25385.0   \n",
       "1                       25700.0                       25385.0   \n",
       "2                       30849.0                       32495.0   \n",
       "3                       30849.0                       32495.0   \n",
       "4                       33130.0                       33973.0   \n",
       "\n",
       "   median_household_income_2019  \n",
       "0                       30998.0  \n",
       "1                       30998.0  \n",
       "2                       34281.0  \n",
       "3                       34281.0  \n",
       "4                       33930.0  "
      ]
     },
     "execution_count": 8,
     "metadata": {},
     "output_type": "execute_result"
    }
   ],
   "source": [
    "#read in incidence csv from github\n",
    "\n",
    "mortality_df = pd.read_csv(\"https://raw.githubusercontent.com/robyndook/Cancer_Treatment_Centers_California/main/Resources/Sex_Mortality_Cancer_DB.csv\")                         \n",
    "#get rid of commas in columns\n",
    "mortality_df = mortality_df.replace(',','', regex=True)\n",
    "mortality_df.head()     "
   ]
  },
  {
   "cell_type": "code",
   "execution_count": 9,
   "id": "ba920d6f",
   "metadata": {},
   "outputs": [
    {
     "data": {
      "text/plain": [
       "average_annual_count                     int64\n",
       "primary_state_name                      object\n",
       "cancer                                  object\n",
       "race_ethnicity                          object\n",
       "sex                                     object\n",
       "age                                     object\n",
       "age_adjusted_rate                      float64\n",
       "county_state                            object\n",
       "index_of_medical_underservice_score    float64\n",
       "popestimate2015                          int64\n",
       "popestimate2016                          int64\n",
       "popestimate2017                          int64\n",
       "popestimate2018                          int64\n",
       "popestimate2019                          int64\n",
       "median_household_income_2015           float64\n",
       "median_household_income_2016           float64\n",
       "median_household_income_2017           float64\n",
       "median_household_income_2018           float64\n",
       "median_household_income_2019           float64\n",
       "dtype: object"
      ]
     },
     "execution_count": 9,
     "metadata": {},
     "output_type": "execute_result"
    }
   ],
   "source": [
    "#check dtypes\n",
    "mortality_df.dtypes"
   ]
  },
  {
   "cell_type": "code",
   "execution_count": 10,
   "id": "bb0ea0f7",
   "metadata": {},
   "outputs": [
    {
     "data": {
      "text/plain": [
       "average_annual_count                   4691\n",
       "primary_state_name                     4691\n",
       "cancer                                 4691\n",
       "race_ethnicity                         4691\n",
       "sex                                    4691\n",
       "age                                    4691\n",
       "age_adjusted_rate                      4691\n",
       "county_state                           4691\n",
       "index_of_medical_underservice_score    4069\n",
       "popestimate2015                        4691\n",
       "popestimate2016                        4691\n",
       "popestimate2017                        4691\n",
       "popestimate2018                        4691\n",
       "popestimate2019                        4691\n",
       "median_household_income_2015           4682\n",
       "median_household_income_2016           4682\n",
       "median_household_income_2017           4682\n",
       "median_household_income_2018           4682\n",
       "median_household_income_2019           4682\n",
       "dtype: int64"
      ]
     },
     "execution_count": 10,
     "metadata": {},
     "output_type": "execute_result"
    }
   ],
   "source": [
    "#get count of rows\n",
    "mortality_df.count()"
   ]
  },
  {
   "cell_type": "code",
   "execution_count": 11,
   "id": "cf7b9e77",
   "metadata": {},
   "outputs": [
    {
     "data": {
      "text/plain": [
       "Males      2368\n",
       "Females    2323\n",
       "Name: sex, dtype: int64"
      ]
     },
     "execution_count": 11,
     "metadata": {},
     "output_type": "execute_result"
    }
   ],
   "source": [
    "#get count of values for sex\n",
    "mortality_df[\"sex\"].value_counts()"
   ]
  },
  {
   "cell_type": "code",
   "execution_count": 13,
   "id": "c147e828",
   "metadata": {},
   "outputs": [
    {
     "data": {
      "text/html": [
       "<div>\n",
       "<style scoped>\n",
       "    .dataframe tbody tr th:only-of-type {\n",
       "        vertical-align: middle;\n",
       "    }\n",
       "\n",
       "    .dataframe tbody tr th {\n",
       "        vertical-align: top;\n",
       "    }\n",
       "\n",
       "    .dataframe thead th {\n",
       "        text-align: right;\n",
       "    }\n",
       "</style>\n",
       "<table border=\"1\" class=\"dataframe\">\n",
       "  <thead>\n",
       "    <tr style=\"text-align: right;\">\n",
       "      <th></th>\n",
       "      <th>average_annual_count</th>\n",
       "      <th>primary_state_name</th>\n",
       "      <th>cancer</th>\n",
       "      <th>race_ethnicity</th>\n",
       "      <th>sex</th>\n",
       "      <th>age</th>\n",
       "      <th>age_adjusted_rate</th>\n",
       "      <th>county_state</th>\n",
       "      <th>index_of_medical_underservice_score</th>\n",
       "      <th>popestimate2015</th>\n",
       "      <th>popestimate2016</th>\n",
       "      <th>popestimate2017</th>\n",
       "      <th>popestimate2018</th>\n",
       "      <th>popestimate2019</th>\n",
       "      <th>median_household_income_2015</th>\n",
       "      <th>median_household_income_2016</th>\n",
       "      <th>median_household_income_2017</th>\n",
       "      <th>median_household_income_2018</th>\n",
       "      <th>median_household_income_2019</th>\n",
       "      <th>5_year_avg_income</th>\n",
       "    </tr>\n",
       "  </thead>\n",
       "  <tbody>\n",
       "    <tr>\n",
       "      <th>0</th>\n",
       "      <td>18</td>\n",
       "      <td>Alabama</td>\n",
       "      <td>All Cancer Sites</td>\n",
       "      <td>All Races (includes Hispanic)</td>\n",
       "      <td>Males</td>\n",
       "      <td>All Ages</td>\n",
       "      <td>296.3</td>\n",
       "      <td>Wilcox County AL</td>\n",
       "      <td>51.0</td>\n",
       "      <td>10896</td>\n",
       "      <td>10844</td>\n",
       "      <td>10691</td>\n",
       "      <td>10599</td>\n",
       "      <td>10373</td>\n",
       "      <td>23014.0</td>\n",
       "      <td>24216.0</td>\n",
       "      <td>25700.0</td>\n",
       "      <td>25385.0</td>\n",
       "      <td>30998.0</td>\n",
       "      <td>25862.6</td>\n",
       "    </tr>\n",
       "    <tr>\n",
       "      <th>1</th>\n",
       "      <td>13</td>\n",
       "      <td>Alabama</td>\n",
       "      <td>All Cancer Sites</td>\n",
       "      <td>All Races (includes Hispanic)</td>\n",
       "      <td>Females</td>\n",
       "      <td>All Ages</td>\n",
       "      <td>153.2</td>\n",
       "      <td>Wilcox County AL</td>\n",
       "      <td>51.0</td>\n",
       "      <td>10896</td>\n",
       "      <td>10844</td>\n",
       "      <td>10691</td>\n",
       "      <td>10599</td>\n",
       "      <td>10373</td>\n",
       "      <td>23014.0</td>\n",
       "      <td>24216.0</td>\n",
       "      <td>25700.0</td>\n",
       "      <td>25385.0</td>\n",
       "      <td>30998.0</td>\n",
       "      <td>25862.6</td>\n",
       "    </tr>\n",
       "    <tr>\n",
       "      <th>2</th>\n",
       "      <td>32</td>\n",
       "      <td>Alabama</td>\n",
       "      <td>All Cancer Sites</td>\n",
       "      <td>All Races (includes Hispanic)</td>\n",
       "      <td>Males</td>\n",
       "      <td>All Ages</td>\n",
       "      <td>290.7</td>\n",
       "      <td>Macon County AL</td>\n",
       "      <td>28.0</td>\n",
       "      <td>19296</td>\n",
       "      <td>19060</td>\n",
       "      <td>18793</td>\n",
       "      <td>18321</td>\n",
       "      <td>18068</td>\n",
       "      <td>29522.0</td>\n",
       "      <td>30681.0</td>\n",
       "      <td>30849.0</td>\n",
       "      <td>32495.0</td>\n",
       "      <td>34281.0</td>\n",
       "      <td>31565.6</td>\n",
       "    </tr>\n",
       "    <tr>\n",
       "      <th>3</th>\n",
       "      <td>22</td>\n",
       "      <td>Alabama</td>\n",
       "      <td>All Cancer Sites</td>\n",
       "      <td>All Races (includes Hispanic)</td>\n",
       "      <td>Females</td>\n",
       "      <td>All Ages</td>\n",
       "      <td>146.1</td>\n",
       "      <td>Macon County AL</td>\n",
       "      <td>28.0</td>\n",
       "      <td>19296</td>\n",
       "      <td>19060</td>\n",
       "      <td>18793</td>\n",
       "      <td>18321</td>\n",
       "      <td>18068</td>\n",
       "      <td>29522.0</td>\n",
       "      <td>30681.0</td>\n",
       "      <td>30849.0</td>\n",
       "      <td>32495.0</td>\n",
       "      <td>34281.0</td>\n",
       "      <td>31565.6</td>\n",
       "    </tr>\n",
       "    <tr>\n",
       "      <th>4</th>\n",
       "      <td>17</td>\n",
       "      <td>Alabama</td>\n",
       "      <td>All Cancer Sites</td>\n",
       "      <td>All Races (includes Hispanic)</td>\n",
       "      <td>Males</td>\n",
       "      <td>All Ages</td>\n",
       "      <td>283.8</td>\n",
       "      <td>Lowndes County AL</td>\n",
       "      <td>54.0</td>\n",
       "      <td>10350</td>\n",
       "      <td>10248</td>\n",
       "      <td>10097</td>\n",
       "      <td>9974</td>\n",
       "      <td>9726</td>\n",
       "      <td>31117.0</td>\n",
       "      <td>32011.0</td>\n",
       "      <td>33130.0</td>\n",
       "      <td>33973.0</td>\n",
       "      <td>33930.0</td>\n",
       "      <td>32832.2</td>\n",
       "    </tr>\n",
       "  </tbody>\n",
       "</table>\n",
       "</div>"
      ],
      "text/plain": [
       "   average_annual_count primary_state_name            cancer  \\\n",
       "0                    18            Alabama  All Cancer Sites   \n",
       "1                    13            Alabama  All Cancer Sites   \n",
       "2                    32            Alabama  All Cancer Sites   \n",
       "3                    22            Alabama  All Cancer Sites   \n",
       "4                    17            Alabama  All Cancer Sites   \n",
       "\n",
       "                  race_ethnicity      sex       age  age_adjusted_rate  \\\n",
       "0  All Races (includes Hispanic)    Males  All Ages              296.3   \n",
       "1  All Races (includes Hispanic)  Females  All Ages              153.2   \n",
       "2  All Races (includes Hispanic)    Males  All Ages              290.7   \n",
       "3  All Races (includes Hispanic)  Females  All Ages              146.1   \n",
       "4  All Races (includes Hispanic)    Males  All Ages              283.8   \n",
       "\n",
       "        county_state  index_of_medical_underservice_score  popestimate2015  \\\n",
       "0   Wilcox County AL                                 51.0            10896   \n",
       "1   Wilcox County AL                                 51.0            10896   \n",
       "2    Macon County AL                                 28.0            19296   \n",
       "3    Macon County AL                                 28.0            19296   \n",
       "4  Lowndes County AL                                 54.0            10350   \n",
       "\n",
       "   popestimate2016  popestimate2017  popestimate2018  popestimate2019  \\\n",
       "0            10844            10691            10599            10373   \n",
       "1            10844            10691            10599            10373   \n",
       "2            19060            18793            18321            18068   \n",
       "3            19060            18793            18321            18068   \n",
       "4            10248            10097             9974             9726   \n",
       "\n",
       "   median_household_income_2015  median_household_income_2016  \\\n",
       "0                       23014.0                       24216.0   \n",
       "1                       23014.0                       24216.0   \n",
       "2                       29522.0                       30681.0   \n",
       "3                       29522.0                       30681.0   \n",
       "4                       31117.0                       32011.0   \n",
       "\n",
       "   median_household_income_2017  median_household_income_2018  \\\n",
       "0                       25700.0                       25385.0   \n",
       "1                       25700.0                       25385.0   \n",
       "2                       30849.0                       32495.0   \n",
       "3                       30849.0                       32495.0   \n",
       "4                       33130.0                       33973.0   \n",
       "\n",
       "   median_household_income_2019  5_year_avg_income  \n",
       "0                       30998.0            25862.6  \n",
       "1                       30998.0            25862.6  \n",
       "2                       34281.0            31565.6  \n",
       "3                       34281.0            31565.6  \n",
       "4                       33930.0            32832.2  "
      ]
     },
     "execution_count": 13,
     "metadata": {},
     "output_type": "execute_result"
    }
   ],
   "source": [
    "#create column for 5-year average median income \n",
    "mortality_df[\"5_year_avg_income\"] = (mortality_df[\"median_household_income_2015\"]+mortality_df[\"median_household_income_2016\"]+mortality_df[\"median_household_income_2017\"]+mortality_df[\"median_household_income_2018\"]+mortality_df[\"median_household_income_2019\"])/5\n",
    "mortality_df.head()"
   ]
  },
  {
   "cell_type": "code",
   "execution_count": 14,
   "id": "ec619f4b",
   "metadata": {},
   "outputs": [],
   "source": [
    "#drop rows where avg income is null\n",
    "mortality_df = mortality_df[mortality_df[\"5_year_avg_income\"].isna() == False]"
   ]
  },
  {
   "cell_type": "code",
   "execution_count": 15,
   "id": "9b7b971a",
   "metadata": {},
   "outputs": [
    {
     "data": {
      "text/plain": [
       "average_annual_count                   4682\n",
       "primary_state_name                     4682\n",
       "cancer                                 4682\n",
       "race_ethnicity                         4682\n",
       "sex                                    4682\n",
       "age                                    4682\n",
       "age_adjusted_rate                      4682\n",
       "county_state                           4682\n",
       "index_of_medical_underservice_score    4066\n",
       "popestimate2015                        4682\n",
       "popestimate2016                        4682\n",
       "popestimate2017                        4682\n",
       "popestimate2018                        4682\n",
       "popestimate2019                        4682\n",
       "median_household_income_2015           4682\n",
       "median_household_income_2016           4682\n",
       "median_household_income_2017           4682\n",
       "median_household_income_2018           4682\n",
       "median_household_income_2019           4682\n",
       "5_year_avg_income                      4682\n",
       "dtype: int64"
      ]
     },
     "execution_count": 15,
     "metadata": {},
     "output_type": "execute_result"
    }
   ],
   "source": [
    "#get count of rows\n",
    "mortality_df.count()"
   ]
  },
  {
   "cell_type": "code",
   "execution_count": 16,
   "id": "04937a74",
   "metadata": {},
   "outputs": [
    {
     "name": "stderr",
     "output_type": "stream",
     "text": [
      "/Users/hankbowman/opt/anaconda3/envs/mlenv/lib/python3.7/site-packages/ipykernel_launcher.py:5: SettingWithCopyWarning: \n",
      "A value is trying to be set on a copy of a slice from a DataFrame.\n",
      "Try using .loc[row_indexer,col_indexer] = value instead\n",
      "\n",
      "See the caveats in the documentation: https://pandas.pydata.org/pandas-docs/stable/user_guide/indexing.html#returning-a-view-versus-a-copy\n",
      "  \"\"\"\n"
     ]
    },
    {
     "data": {
      "text/html": [
       "<div>\n",
       "<style scoped>\n",
       "    .dataframe tbody tr th:only-of-type {\n",
       "        vertical-align: middle;\n",
       "    }\n",
       "\n",
       "    .dataframe tbody tr th {\n",
       "        vertical-align: top;\n",
       "    }\n",
       "\n",
       "    .dataframe thead th {\n",
       "        text-align: right;\n",
       "    }\n",
       "</style>\n",
       "<table border=\"1\" class=\"dataframe\">\n",
       "  <thead>\n",
       "    <tr style=\"text-align: right;\">\n",
       "      <th></th>\n",
       "      <th>age_adjusted_rate</th>\n",
       "    </tr>\n",
       "  </thead>\n",
       "  <tbody>\n",
       "    <tr>\n",
       "      <th>0</th>\n",
       "      <td>296.3</td>\n",
       "    </tr>\n",
       "    <tr>\n",
       "      <th>1</th>\n",
       "      <td>153.2</td>\n",
       "    </tr>\n",
       "    <tr>\n",
       "      <th>2</th>\n",
       "      <td>290.7</td>\n",
       "    </tr>\n",
       "    <tr>\n",
       "      <th>3</th>\n",
       "      <td>146.1</td>\n",
       "    </tr>\n",
       "    <tr>\n",
       "      <th>4</th>\n",
       "      <td>283.8</td>\n",
       "    </tr>\n",
       "  </tbody>\n",
       "</table>\n",
       "</div>"
      ],
      "text/plain": [
       "   age_adjusted_rate\n",
       "0              296.3\n",
       "1              153.2\n",
       "2              290.7\n",
       "3              146.1\n",
       "4              283.8"
      ]
     },
     "execution_count": 16,
     "metadata": {},
     "output_type": "execute_result"
    }
   ],
   "source": [
    "#create target \n",
    "y = mortality_df[['age_adjusted_rate']]\n",
    "\n",
    "#change dtype to numeric\n",
    "y['age_adjusted_rate'] = y['age_adjusted_rate'].astype(float)\n",
    "y.head()"
   ]
  },
  {
   "cell_type": "code",
   "execution_count": 17,
   "id": "6450707a",
   "metadata": {},
   "outputs": [
    {
     "data": {
      "text/html": [
       "<div>\n",
       "<style scoped>\n",
       "    .dataframe tbody tr th:only-of-type {\n",
       "        vertical-align: middle;\n",
       "    }\n",
       "\n",
       "    .dataframe tbody tr th {\n",
       "        vertical-align: top;\n",
       "    }\n",
       "\n",
       "    .dataframe thead th {\n",
       "        text-align: right;\n",
       "    }\n",
       "</style>\n",
       "<table border=\"1\" class=\"dataframe\">\n",
       "  <thead>\n",
       "    <tr style=\"text-align: right;\">\n",
       "      <th></th>\n",
       "      <th>sex</th>\n",
       "      <th>5_year_avg_income</th>\n",
       "    </tr>\n",
       "  </thead>\n",
       "  <tbody>\n",
       "    <tr>\n",
       "      <th>0</th>\n",
       "      <td>Males</td>\n",
       "      <td>25862.6</td>\n",
       "    </tr>\n",
       "    <tr>\n",
       "      <th>1</th>\n",
       "      <td>Females</td>\n",
       "      <td>25862.6</td>\n",
       "    </tr>\n",
       "    <tr>\n",
       "      <th>2</th>\n",
       "      <td>Males</td>\n",
       "      <td>31565.6</td>\n",
       "    </tr>\n",
       "    <tr>\n",
       "      <th>3</th>\n",
       "      <td>Females</td>\n",
       "      <td>31565.6</td>\n",
       "    </tr>\n",
       "    <tr>\n",
       "      <th>4</th>\n",
       "      <td>Males</td>\n",
       "      <td>32832.2</td>\n",
       "    </tr>\n",
       "  </tbody>\n",
       "</table>\n",
       "</div>"
      ],
      "text/plain": [
       "       sex  5_year_avg_income\n",
       "0    Males            25862.6\n",
       "1  Females            25862.6\n",
       "2    Males            31565.6\n",
       "3  Females            31565.6\n",
       "4    Males            32832.2"
      ]
     },
     "execution_count": 17,
     "metadata": {},
     "output_type": "execute_result"
    }
   ],
   "source": [
    "#create feautures variable holding sexes and mua score\n",
    "X = mortality_df[[\"sex\", \"5_year_avg_income\"]]\n",
    "X.head()"
   ]
  },
  {
   "cell_type": "code",
   "execution_count": 18,
   "id": "81967ef9",
   "metadata": {},
   "outputs": [
    {
     "data": {
      "text/html": [
       "<div>\n",
       "<style scoped>\n",
       "    .dataframe tbody tr th:only-of-type {\n",
       "        vertical-align: middle;\n",
       "    }\n",
       "\n",
       "    .dataframe tbody tr th {\n",
       "        vertical-align: top;\n",
       "    }\n",
       "\n",
       "    .dataframe thead th {\n",
       "        text-align: right;\n",
       "    }\n",
       "</style>\n",
       "<table border=\"1\" class=\"dataframe\">\n",
       "  <thead>\n",
       "    <tr style=\"text-align: right;\">\n",
       "      <th></th>\n",
       "      <th>5_year_avg_income</th>\n",
       "      <th>sex_Females</th>\n",
       "      <th>sex_Males</th>\n",
       "    </tr>\n",
       "  </thead>\n",
       "  <tbody>\n",
       "    <tr>\n",
       "      <th>0</th>\n",
       "      <td>25862.6</td>\n",
       "      <td>0</td>\n",
       "      <td>1</td>\n",
       "    </tr>\n",
       "    <tr>\n",
       "      <th>1</th>\n",
       "      <td>25862.6</td>\n",
       "      <td>1</td>\n",
       "      <td>0</td>\n",
       "    </tr>\n",
       "    <tr>\n",
       "      <th>2</th>\n",
       "      <td>31565.6</td>\n",
       "      <td>0</td>\n",
       "      <td>1</td>\n",
       "    </tr>\n",
       "    <tr>\n",
       "      <th>3</th>\n",
       "      <td>31565.6</td>\n",
       "      <td>1</td>\n",
       "      <td>0</td>\n",
       "    </tr>\n",
       "    <tr>\n",
       "      <th>4</th>\n",
       "      <td>32832.2</td>\n",
       "      <td>0</td>\n",
       "      <td>1</td>\n",
       "    </tr>\n",
       "  </tbody>\n",
       "</table>\n",
       "</div>"
      ],
      "text/plain": [
       "   5_year_avg_income  sex_Females  sex_Males\n",
       "0            25862.6            0          1\n",
       "1            25862.6            1          0\n",
       "2            31565.6            0          1\n",
       "3            31565.6            1          0\n",
       "4            32832.2            0          1"
      ]
     },
     "execution_count": 18,
     "metadata": {},
     "output_type": "execute_result"
    }
   ],
   "source": [
    "#create dummy variables for sex\n",
    "X = pd.get_dummies(X, columns=[\"sex\"])\n",
    "X.head()"
   ]
  },
  {
   "cell_type": "code",
   "execution_count": 19,
   "id": "2aa76633",
   "metadata": {},
   "outputs": [
    {
     "data": {
      "text/plain": [
       "(4682, 1)"
      ]
     },
     "execution_count": 19,
     "metadata": {},
     "output_type": "execute_result"
    }
   ],
   "source": [
    "#get shape of target array\n",
    "y.shape"
   ]
  },
  {
   "cell_type": "code",
   "execution_count": 20,
   "id": "1280b889",
   "metadata": {},
   "outputs": [
    {
     "data": {
      "text/plain": [
       "(4682, 3)"
      ]
     },
     "execution_count": 20,
     "metadata": {},
     "output_type": "execute_result"
    }
   ],
   "source": [
    "#get shape of feautures array\n",
    "X.shape"
   ]
  },
  {
   "cell_type": "code",
   "execution_count": 21,
   "id": "5f1347b8",
   "metadata": {},
   "outputs": [],
   "source": [
    "#split data\n",
    "X_train, X_test, y_train, y_test = train_test_split(X, y)"
   ]
  },
  {
   "cell_type": "code",
   "execution_count": 22,
   "id": "d2527940",
   "metadata": {},
   "outputs": [],
   "source": [
    "#create linear regression model using sklearn\n",
    "model = LinearRegression()"
   ]
  },
  {
   "cell_type": "code",
   "execution_count": 23,
   "id": "f8ddaed7",
   "metadata": {},
   "outputs": [],
   "source": [
    "#fit the model with training data\n",
    "regression_sex_inc_mortality = model.fit(X_train, y_train)"
   ]
  },
  {
   "cell_type": "code",
   "execution_count": 24,
   "id": "c7765a0d",
   "metadata": {},
   "outputs": [
    {
     "data": {
      "text/plain": [
       "array([[201.79073008],\n",
       "       [201.04000531],\n",
       "       [205.9373269 ],\n",
       "       ...,\n",
       "       [161.42632202],\n",
       "       [140.57857244],\n",
       "       [191.5310887 ]])"
      ]
     },
     "execution_count": 24,
     "metadata": {},
     "output_type": "execute_result"
    }
   ],
   "source": [
    "#Create predictions array using linear regression\n",
    "y_pred = regression_sex_inc_mortality.predict(X_test)\n",
    "y_pred"
   ]
  },
  {
   "cell_type": "code",
   "execution_count": 25,
   "id": "d80f5562",
   "metadata": {},
   "outputs": [
    {
     "data": {
      "text/plain": [
       "0.5508560481967166"
      ]
     },
     "execution_count": 25,
     "metadata": {},
     "output_type": "execute_result"
    }
   ],
   "source": [
    "#get R2 value from linear regression\n",
    "from sklearn.metrics import r2_score\n",
    "r2_score(y_test, y_pred)"
   ]
  },
  {
   "cell_type": "code",
   "execution_count": 26,
   "id": "d168955c",
   "metadata": {},
   "outputs": [
    {
     "name": "stderr",
     "output_type": "stream",
     "text": [
      "/Users/hankbowman/opt/anaconda3/envs/mlenv/lib/python3.7/site-packages/statsmodels/tsa/tsatools.py:142: FutureWarning: In a future version of pandas all arguments of concat except for the argument 'objs' will be keyword-only\n",
      "  x = pd.concat(x[::order], 1)\n"
     ]
    }
   ],
   "source": [
    "#run regression again with statsmodels\n",
    "#use statsmodels to add constant to X\n",
    "#add constant to X\n",
    "X1 = sm.add_constant(X)"
   ]
  },
  {
   "cell_type": "code",
   "execution_count": 27,
   "id": "5ebb7adf",
   "metadata": {},
   "outputs": [],
   "source": [
    "#fit linear regression model\n",
    "model = sm.OLS(y, X1).fit()"
   ]
  },
  {
   "cell_type": "code",
   "execution_count": 28,
   "id": "9695608b",
   "metadata": {},
   "outputs": [
    {
     "name": "stdout",
     "output_type": "stream",
     "text": [
      "                            OLS Regression Results                            \n",
      "==============================================================================\n",
      "Dep. Variable:      age_adjusted_rate   R-squared:                       0.560\n",
      "Model:                            OLS   Adj. R-squared:                  0.559\n",
      "Method:                 Least Squares   F-statistic:                     2972.\n",
      "Date:                Thu, 02 Jun 2022   Prob (F-statistic):               0.00\n",
      "Time:                        18:29:34   Log-Likelihood:                -22437.\n",
      "No. Observations:                4682   AIC:                         4.488e+04\n",
      "Df Residuals:                    4679   BIC:                         4.490e+04\n",
      "Df Model:                           2                                         \n",
      "Covariance Type:            nonrobust                                         \n",
      "=====================================================================================\n",
      "                        coef    std err          t      P>|t|      [0.025      0.975]\n",
      "-------------------------------------------------------------------------------------\n",
      "const               148.5960      1.099    135.151      0.000     146.440     150.751\n",
      "5_year_avg_income    -0.0010   3.11e-05    -32.785      0.000      -0.001      -0.001\n",
      "sex_Females          44.5646      0.697     63.914      0.000      43.198      45.932\n",
      "sex_Males           104.0314      0.694    149.837      0.000     102.670     105.393\n",
      "==============================================================================\n",
      "Omnibus:                     1050.096   Durbin-Watson:                   1.263\n",
      "Prob(Omnibus):                  0.000   Jarque-Bera (JB):            15253.010\n",
      "Skew:                           0.663   Prob(JB):                         0.00\n",
      "Kurtosis:                      11.742   Cond. No.                     5.58e+20\n",
      "==============================================================================\n",
      "\n",
      "Notes:\n",
      "[1] Standard Errors assume that the covariance matrix of the errors is correctly specified.\n",
      "[2] The smallest eigenvalue is 4.22e-29. This might indicate that there are\n",
      "strong multicollinearity problems or that the design matrix is singular.\n"
     ]
    }
   ],
   "source": [
    "#view model summary with statsmodels\n",
    "print(model.summary())"
   ]
  },
  {
   "cell_type": "code",
   "execution_count": 29,
   "id": "e657087d",
   "metadata": {},
   "outputs": [
    {
     "data": {
      "text/plain": [
       "DecisionTreeRegressor()"
      ]
     },
     "execution_count": 29,
     "metadata": {},
     "output_type": "execute_result"
    }
   ],
   "source": [
    "#fit the model with training data\n",
    "#decision tree regression\n",
    "regressor_DT = DecisionTreeRegressor()\n",
    "regressor_DT.fit(X_train, y_train)"
   ]
  },
  {
   "cell_type": "code",
   "execution_count": 30,
   "id": "18e6ac94",
   "metadata": {},
   "outputs": [
    {
     "data": {
      "text/plain": [
       "array([225.4, 152.3, 340.3, ..., 170.9, 156.9, 188.1])"
      ]
     },
     "execution_count": 30,
     "metadata": {},
     "output_type": "execute_result"
    }
   ],
   "source": [
    "#predict\n",
    "y_pred = regressor_DT.predict(X_test)\n",
    "y_pred"
   ]
  },
  {
   "cell_type": "code",
   "execution_count": 31,
   "id": "74325c04",
   "metadata": {},
   "outputs": [
    {
     "data": {
      "text/plain": [
       "0.2000404441066257"
      ]
     },
     "execution_count": 31,
     "metadata": {},
     "output_type": "execute_result"
    }
   ],
   "source": [
    "#calculate r2 score\n",
    "r2_score(y_test, y_pred)"
   ]
  },
  {
   "cell_type": "code",
   "execution_count": null,
   "id": "f7eeff98",
   "metadata": {},
   "outputs": [],
   "source": []
  }
 ],
 "metadata": {
  "kernelspec": {
   "display_name": "mlenv",
   "language": "python",
   "name": "mlenv"
  },
  "language_info": {
   "codemirror_mode": {
    "name": "ipython",
    "version": 3
   },
   "file_extension": ".py",
   "mimetype": "text/x-python",
   "name": "python",
   "nbconvert_exporter": "python",
   "pygments_lexer": "ipython3",
   "version": "3.7.11"
  }
 },
 "nbformat": 4,
 "nbformat_minor": 5
}
