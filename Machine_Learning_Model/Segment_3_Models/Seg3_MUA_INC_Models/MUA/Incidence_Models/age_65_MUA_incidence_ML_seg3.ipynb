{
 "cells": [
  {
   "cell_type": "code",
   "execution_count": 1,
   "id": "238a26ab",
   "metadata": {},
   "outputs": [],
   "source": [
    "#initial imports\n",
    "import pandas as pd\n",
    "import matplotlib.pyplot as plt \n",
    "from sklearn.preprocessing import StandardScaler, LabelEncoder\n",
    "from sklearn.linear_model import LinearRegression\n",
    "import statsmodels.api as sm\n",
    "import numpy as np \n",
    "from sklearn.metrics import r2_score\n",
    "from sklearn.model_selection import train_test_split\n",
    "from sklearn.tree import DecisionTreeRegressor \n",
    "import numpy as np"
   ]
  },
  {
   "cell_type": "code",
   "execution_count": 2,
   "id": "e78e7a47",
   "metadata": {},
   "outputs": [
    {
     "data": {
      "text/html": [
       "<div>\n",
       "<style scoped>\n",
       "    .dataframe tbody tr th:only-of-type {\n",
       "        vertical-align: middle;\n",
       "    }\n",
       "\n",
       "    .dataframe tbody tr th {\n",
       "        vertical-align: top;\n",
       "    }\n",
       "\n",
       "    .dataframe thead th {\n",
       "        text-align: right;\n",
       "    }\n",
       "</style>\n",
       "<table border=\"1\" class=\"dataframe\">\n",
       "  <thead>\n",
       "    <tr style=\"text-align: right;\">\n",
       "      <th></th>\n",
       "      <th>average_annual_count</th>\n",
       "      <th>recent_trend</th>\n",
       "      <th>primary_state_name</th>\n",
       "      <th>cancer</th>\n",
       "      <th>race_ethnicity</th>\n",
       "      <th>sex</th>\n",
       "      <th>age</th>\n",
       "      <th>age_adjusted_rate</th>\n",
       "      <th>five_year_trend_rates</th>\n",
       "      <th>county_state</th>\n",
       "      <th>...</th>\n",
       "      <th>popestimate2016</th>\n",
       "      <th>popestimate2017</th>\n",
       "      <th>popestimate2018</th>\n",
       "      <th>popestimate2019</th>\n",
       "      <th>abbrv</th>\n",
       "      <th>median_household_income_2015</th>\n",
       "      <th>median_household_income_2016</th>\n",
       "      <th>median_household_income_2017</th>\n",
       "      <th>median_household_income_2018</th>\n",
       "      <th>median_household_income_2019</th>\n",
       "    </tr>\n",
       "  </thead>\n",
       "  <tbody>\n",
       "    <tr>\n",
       "      <th>0</th>\n",
       "      <td>9</td>\n",
       "      <td>stable</td>\n",
       "      <td>Alabama</td>\n",
       "      <td>All Cancer Sites</td>\n",
       "      <td>All Races (includes Hispanic)</td>\n",
       "      <td>All Sexes</td>\n",
       "      <td>&lt;50</td>\n",
       "      <td>167.8</td>\n",
       "      <td>2.3</td>\n",
       "      <td>Lowndes County AL</td>\n",
       "      <td>...</td>\n",
       "      <td>10248</td>\n",
       "      <td>10097</td>\n",
       "      <td>9974</td>\n",
       "      <td>9726</td>\n",
       "      <td>AL</td>\n",
       "      <td>31117.0</td>\n",
       "      <td>32011.0</td>\n",
       "      <td>33130.0</td>\n",
       "      <td>33973.0</td>\n",
       "      <td>33930.0</td>\n",
       "    </tr>\n",
       "    <tr>\n",
       "      <th>1</th>\n",
       "      <td>72</td>\n",
       "      <td>rising</td>\n",
       "      <td>Alabama</td>\n",
       "      <td>All Cancer Sites</td>\n",
       "      <td>All Races (includes Hispanic)</td>\n",
       "      <td>All Sexes</td>\n",
       "      <td>50+</td>\n",
       "      <td>1738.4</td>\n",
       "      <td>2.0</td>\n",
       "      <td>Lowndes County AL</td>\n",
       "      <td>...</td>\n",
       "      <td>10248</td>\n",
       "      <td>10097</td>\n",
       "      <td>9974</td>\n",
       "      <td>9726</td>\n",
       "      <td>AL</td>\n",
       "      <td>31117.0</td>\n",
       "      <td>32011.0</td>\n",
       "      <td>33130.0</td>\n",
       "      <td>33973.0</td>\n",
       "      <td>33930.0</td>\n",
       "    </tr>\n",
       "    <tr>\n",
       "      <th>2</th>\n",
       "      <td>37</td>\n",
       "      <td>rising</td>\n",
       "      <td>Alabama</td>\n",
       "      <td>All Cancer Sites</td>\n",
       "      <td>All Races (includes Hispanic)</td>\n",
       "      <td>All Sexes</td>\n",
       "      <td>&lt;65</td>\n",
       "      <td>339.4</td>\n",
       "      <td>2.4</td>\n",
       "      <td>Lowndes County AL</td>\n",
       "      <td>...</td>\n",
       "      <td>10248</td>\n",
       "      <td>10097</td>\n",
       "      <td>9974</td>\n",
       "      <td>9726</td>\n",
       "      <td>AL</td>\n",
       "      <td>31117.0</td>\n",
       "      <td>32011.0</td>\n",
       "      <td>33130.0</td>\n",
       "      <td>33973.0</td>\n",
       "      <td>33930.0</td>\n",
       "    </tr>\n",
       "    <tr>\n",
       "      <th>3</th>\n",
       "      <td>44</td>\n",
       "      <td>stable</td>\n",
       "      <td>Alabama</td>\n",
       "      <td>All Cancer Sites</td>\n",
       "      <td>All Races (includes Hispanic)</td>\n",
       "      <td>All Sexes</td>\n",
       "      <td>65+</td>\n",
       "      <td>2416.0</td>\n",
       "      <td>1.8</td>\n",
       "      <td>Lowndes County AL</td>\n",
       "      <td>...</td>\n",
       "      <td>10248</td>\n",
       "      <td>10097</td>\n",
       "      <td>9974</td>\n",
       "      <td>9726</td>\n",
       "      <td>AL</td>\n",
       "      <td>31117.0</td>\n",
       "      <td>32011.0</td>\n",
       "      <td>33130.0</td>\n",
       "      <td>33973.0</td>\n",
       "      <td>33930.0</td>\n",
       "    </tr>\n",
       "    <tr>\n",
       "      <th>4</th>\n",
       "      <td>9</td>\n",
       "      <td>stable</td>\n",
       "      <td>Alabama</td>\n",
       "      <td>All Cancer Sites</td>\n",
       "      <td>All Races (includes Hispanic)</td>\n",
       "      <td>All Sexes</td>\n",
       "      <td>&lt;50</td>\n",
       "      <td>145.2</td>\n",
       "      <td>2.0</td>\n",
       "      <td>Conecuh County AL</td>\n",
       "      <td>...</td>\n",
       "      <td>12500</td>\n",
       "      <td>12431</td>\n",
       "      <td>12292</td>\n",
       "      <td>12067</td>\n",
       "      <td>AL</td>\n",
       "      <td>29981.0</td>\n",
       "      <td>29758.0</td>\n",
       "      <td>30796.0</td>\n",
       "      <td>32613.0</td>\n",
       "      <td>41539.0</td>\n",
       "    </tr>\n",
       "  </tbody>\n",
       "</table>\n",
       "<p>5 rows × 22 columns</p>\n",
       "</div>"
      ],
      "text/plain": [
       "   average_annual_count recent_trend primary_state_name            cancer  \\\n",
       "0                     9       stable            Alabama  All Cancer Sites   \n",
       "1                    72       rising            Alabama  All Cancer Sites   \n",
       "2                    37       rising            Alabama  All Cancer Sites   \n",
       "3                    44       stable            Alabama  All Cancer Sites   \n",
       "4                     9       stable            Alabama  All Cancer Sites   \n",
       "\n",
       "                  race_ethnicity        sex  age age_adjusted_rate  \\\n",
       "0  All Races (includes Hispanic)  All Sexes  <50            167.8    \n",
       "1  All Races (includes Hispanic)  All Sexes  50+           1738.4    \n",
       "2  All Races (includes Hispanic)  All Sexes  <65            339.4    \n",
       "3  All Races (includes Hispanic)  All Sexes  65+           2416.0    \n",
       "4  All Races (includes Hispanic)  All Sexes  <50            145.2    \n",
       "\n",
       "  five_year_trend_rates       county_state  ...  popestimate2016  \\\n",
       "0                  2.3   Lowndes County AL  ...            10248   \n",
       "1                  2.0   Lowndes County AL  ...            10248   \n",
       "2                  2.4   Lowndes County AL  ...            10248   \n",
       "3                  1.8   Lowndes County AL  ...            10248   \n",
       "4                  2.0   Conecuh County AL  ...            12500   \n",
       "\n",
       "   popestimate2017  popestimate2018  popestimate2019  abbrv  \\\n",
       "0            10097             9974             9726     AL   \n",
       "1            10097             9974             9726     AL   \n",
       "2            10097             9974             9726     AL   \n",
       "3            10097             9974             9726     AL   \n",
       "4            12431            12292            12067     AL   \n",
       "\n",
       "   median_household_income_2015 median_household_income_2016  \\\n",
       "0                       31117.0                      32011.0   \n",
       "1                       31117.0                      32011.0   \n",
       "2                       31117.0                      32011.0   \n",
       "3                       31117.0                      32011.0   \n",
       "4                       29981.0                      29758.0   \n",
       "\n",
       "   median_household_income_2017  median_household_income_2018  \\\n",
       "0                       33130.0                       33973.0   \n",
       "1                       33130.0                       33973.0   \n",
       "2                       33130.0                       33973.0   \n",
       "3                       33130.0                       33973.0   \n",
       "4                       30796.0                       32613.0   \n",
       "\n",
       "   median_household_income_2019  \n",
       "0                       33930.0  \n",
       "1                       33930.0  \n",
       "2                       33930.0  \n",
       "3                       33930.0  \n",
       "4                       41539.0  \n",
       "\n",
       "[5 rows x 22 columns]"
      ]
     },
     "execution_count": 2,
     "metadata": {},
     "output_type": "execute_result"
    }
   ],
   "source": [
    "#read in incidence csv from github\n",
    "\n",
    "incidence_df = pd.read_csv(\"https://raw.githubusercontent.com/robyndook/Cancer_Treatment_Centers_California/main/Resources/Age_Incidence_Cancer_DB.csv\")                         \n",
    "#get rid of commas in columns\n",
    "incidence_df = incidence_df.replace(',','', regex=True)\n",
    "incidence_df.head()     "
   ]
  },
  {
   "cell_type": "code",
   "execution_count": 3,
   "id": "ba920d6f",
   "metadata": {},
   "outputs": [
    {
     "data": {
      "text/plain": [
       "average_annual_count                     int64\n",
       "recent_trend                            object\n",
       "primary_state_name                      object\n",
       "cancer                                  object\n",
       "race_ethnicity                          object\n",
       "sex                                     object\n",
       "age                                     object\n",
       "age_adjusted_rate                       object\n",
       "five_year_trend_rates                   object\n",
       "county_state                            object\n",
       "index_of_medical_underservice_score    float64\n",
       "popestimate2015                          int64\n",
       "popestimate2016                          int64\n",
       "popestimate2017                          int64\n",
       "popestimate2018                          int64\n",
       "popestimate2019                          int64\n",
       "abbrv                                   object\n",
       "median_household_income_2015           float64\n",
       "median_household_income_2016           float64\n",
       "median_household_income_2017           float64\n",
       "median_household_income_2018           float64\n",
       "median_household_income_2019           float64\n",
       "dtype: object"
      ]
     },
     "execution_count": 3,
     "metadata": {},
     "output_type": "execute_result"
    }
   ],
   "source": [
    "#check dtypes\n",
    "incidence_df.dtypes"
   ]
  },
  {
   "cell_type": "code",
   "execution_count": 4,
   "id": "bb0ea0f7",
   "metadata": {},
   "outputs": [
    {
     "data": {
      "text/plain": [
       "average_annual_count                   10229\n",
       "recent_trend                           10229\n",
       "primary_state_name                     10229\n",
       "cancer                                 10229\n",
       "race_ethnicity                         10229\n",
       "sex                                    10229\n",
       "age                                    10229\n",
       "age_adjusted_rate                      10229\n",
       "five_year_trend_rates                  10229\n",
       "county_state                           10229\n",
       "index_of_medical_underservice_score     8793\n",
       "popestimate2015                        10229\n",
       "popestimate2016                        10229\n",
       "popestimate2017                        10229\n",
       "popestimate2018                        10229\n",
       "popestimate2019                        10229\n",
       "abbrv                                  10210\n",
       "median_household_income_2015           10210\n",
       "median_household_income_2016           10210\n",
       "median_household_income_2017           10210\n",
       "median_household_income_2018           10210\n",
       "median_household_income_2019           10210\n",
       "dtype: int64"
      ]
     },
     "execution_count": 4,
     "metadata": {},
     "output_type": "execute_result"
    }
   ],
   "source": [
    "#get count of rows\n",
    "incidence_df.count()"
   ]
  },
  {
   "cell_type": "code",
   "execution_count": 5,
   "id": "cf7b9e77",
   "metadata": {},
   "outputs": [
    {
     "data": {
      "text/plain": [
       "50+    2643\n",
       "65+    2628\n",
       "<65    2604\n",
       "<50    2354\n",
       "Name: age, dtype: int64"
      ]
     },
     "execution_count": 5,
     "metadata": {},
     "output_type": "execute_result"
    }
   ],
   "source": [
    "#get count of values for age\n",
    "incidence_df[\"age\"].value_counts()"
   ]
  },
  {
   "cell_type": "code",
   "execution_count": 6,
   "id": "c147e828",
   "metadata": {},
   "outputs": [
    {
     "data": {
      "text/plain": [
       "1436"
      ]
     },
     "execution_count": 6,
     "metadata": {},
     "output_type": "execute_result"
    }
   ],
   "source": [
    "#get count of NA values for MUA\n",
    "incidence_df[\"index_of_medical_underservice_score\"].isna().sum()"
   ]
  },
  {
   "cell_type": "code",
   "execution_count": 7,
   "id": "ec619f4b",
   "metadata": {},
   "outputs": [],
   "source": [
    "#drop rows where MUA index is null\n",
    "incidence_df = incidence_df[incidence_df[\"index_of_medical_underservice_score\"].isna() == False]"
   ]
  },
  {
   "cell_type": "code",
   "execution_count": 8,
   "id": "9b7b971a",
   "metadata": {},
   "outputs": [
    {
     "data": {
      "text/plain": [
       "average_annual_count                   8793\n",
       "recent_trend                           8793\n",
       "primary_state_name                     8793\n",
       "cancer                                 8793\n",
       "race_ethnicity                         8793\n",
       "sex                                    8793\n",
       "age                                    8793\n",
       "age_adjusted_rate                      8793\n",
       "five_year_trend_rates                  8793\n",
       "county_state                           8793\n",
       "index_of_medical_underservice_score    8793\n",
       "popestimate2015                        8793\n",
       "popestimate2016                        8793\n",
       "popestimate2017                        8793\n",
       "popestimate2018                        8793\n",
       "popestimate2019                        8793\n",
       "abbrv                                  8786\n",
       "median_household_income_2015           8786\n",
       "median_household_income_2016           8786\n",
       "median_household_income_2017           8786\n",
       "median_household_income_2018           8786\n",
       "median_household_income_2019           8786\n",
       "dtype: int64"
      ]
     },
     "execution_count": 8,
     "metadata": {},
     "output_type": "execute_result"
    }
   ],
   "source": [
    "#get count of rows\n",
    "incidence_df.count()"
   ]
  },
  {
   "cell_type": "code",
   "execution_count": 9,
   "id": "735ed515",
   "metadata": {},
   "outputs": [
    {
     "data": {
      "text/plain": [
       "65+    2262\n",
       "<65    2240\n",
       "Name: age, dtype: int64"
      ]
     },
     "execution_count": 9,
     "metadata": {},
     "output_type": "execute_result"
    }
   ],
   "source": [
    "#keep only columns with 65+ and <65\n",
    "incidence_df_65 = incidence_df[incidence_df[\"age\"] != \"50+\"] \n",
    "incidence_df_65 = incidence_df_65[incidence_df_65[\"age\"] != \"<50\"] \n",
    "incidence_df_65[\"age\"].value_counts()"
   ]
  },
  {
   "cell_type": "code",
   "execution_count": 10,
   "id": "33d53b4a",
   "metadata": {},
   "outputs": [
    {
     "data": {
      "text/plain": [
       "average_annual_count                   4502\n",
       "recent_trend                           4502\n",
       "primary_state_name                     4502\n",
       "cancer                                 4502\n",
       "race_ethnicity                         4502\n",
       "sex                                    4502\n",
       "age                                    4502\n",
       "age_adjusted_rate                      4502\n",
       "five_year_trend_rates                  4502\n",
       "county_state                           4502\n",
       "index_of_medical_underservice_score    4502\n",
       "popestimate2015                        4502\n",
       "popestimate2016                        4502\n",
       "popestimate2017                        4502\n",
       "popestimate2018                        4502\n",
       "popestimate2019                        4502\n",
       "abbrv                                  4498\n",
       "median_household_income_2015           4498\n",
       "median_household_income_2016           4498\n",
       "median_household_income_2017           4498\n",
       "median_household_income_2018           4498\n",
       "median_household_income_2019           4498\n",
       "dtype: int64"
      ]
     },
     "execution_count": 10,
     "metadata": {},
     "output_type": "execute_result"
    }
   ],
   "source": [
    "incidence_df_65.count()"
   ]
  },
  {
   "cell_type": "code",
   "execution_count": 11,
   "id": "04937a74",
   "metadata": {},
   "outputs": [
    {
     "name": "stderr",
     "output_type": "stream",
     "text": [
      "/Users/hankbowman/opt/anaconda3/envs/mlenv/lib/python3.7/site-packages/ipykernel_launcher.py:5: SettingWithCopyWarning: \n",
      "A value is trying to be set on a copy of a slice from a DataFrame.\n",
      "Try using .loc[row_indexer,col_indexer] = value instead\n",
      "\n",
      "See the caveats in the documentation: https://pandas.pydata.org/pandas-docs/stable/user_guide/indexing.html#returning-a-view-versus-a-copy\n",
      "  \"\"\"\n"
     ]
    },
    {
     "data": {
      "text/html": [
       "<div>\n",
       "<style scoped>\n",
       "    .dataframe tbody tr th:only-of-type {\n",
       "        vertical-align: middle;\n",
       "    }\n",
       "\n",
       "    .dataframe tbody tr th {\n",
       "        vertical-align: top;\n",
       "    }\n",
       "\n",
       "    .dataframe thead th {\n",
       "        text-align: right;\n",
       "    }\n",
       "</style>\n",
       "<table border=\"1\" class=\"dataframe\">\n",
       "  <thead>\n",
       "    <tr style=\"text-align: right;\">\n",
       "      <th></th>\n",
       "      <th>age_adjusted_rate</th>\n",
       "    </tr>\n",
       "  </thead>\n",
       "  <tbody>\n",
       "    <tr>\n",
       "      <th>2</th>\n",
       "      <td>339.4</td>\n",
       "    </tr>\n",
       "    <tr>\n",
       "      <th>3</th>\n",
       "      <td>2416.0</td>\n",
       "    </tr>\n",
       "    <tr>\n",
       "      <th>6</th>\n",
       "      <td>276.9</td>\n",
       "    </tr>\n",
       "    <tr>\n",
       "      <th>7</th>\n",
       "      <td>1659.8</td>\n",
       "    </tr>\n",
       "    <tr>\n",
       "      <th>10</th>\n",
       "      <td>270.3</td>\n",
       "    </tr>\n",
       "  </tbody>\n",
       "</table>\n",
       "</div>"
      ],
      "text/plain": [
       "    age_adjusted_rate\n",
       "2               339.4\n",
       "3              2416.0\n",
       "6               276.9\n",
       "7              1659.8\n",
       "10              270.3"
      ]
     },
     "execution_count": 11,
     "metadata": {},
     "output_type": "execute_result"
    }
   ],
   "source": [
    "#create target \n",
    "y = incidence_df_65[['age_adjusted_rate']]\n",
    "\n",
    "#change dtype to numeric\n",
    "y['age_adjusted_rate'] = y['age_adjusted_rate'].astype(float)\n",
    "y.head()"
   ]
  },
  {
   "cell_type": "code",
   "execution_count": 12,
   "id": "6450707a",
   "metadata": {},
   "outputs": [
    {
     "data": {
      "text/html": [
       "<div>\n",
       "<style scoped>\n",
       "    .dataframe tbody tr th:only-of-type {\n",
       "        vertical-align: middle;\n",
       "    }\n",
       "\n",
       "    .dataframe tbody tr th {\n",
       "        vertical-align: top;\n",
       "    }\n",
       "\n",
       "    .dataframe thead th {\n",
       "        text-align: right;\n",
       "    }\n",
       "</style>\n",
       "<table border=\"1\" class=\"dataframe\">\n",
       "  <thead>\n",
       "    <tr style=\"text-align: right;\">\n",
       "      <th></th>\n",
       "      <th>age</th>\n",
       "      <th>index_of_medical_underservice_score</th>\n",
       "    </tr>\n",
       "  </thead>\n",
       "  <tbody>\n",
       "    <tr>\n",
       "      <th>2</th>\n",
       "      <td>&lt;65</td>\n",
       "      <td>54.0</td>\n",
       "    </tr>\n",
       "    <tr>\n",
       "      <th>3</th>\n",
       "      <td>65+</td>\n",
       "      <td>54.0</td>\n",
       "    </tr>\n",
       "    <tr>\n",
       "      <th>6</th>\n",
       "      <td>&lt;65</td>\n",
       "      <td>51.0</td>\n",
       "    </tr>\n",
       "    <tr>\n",
       "      <th>7</th>\n",
       "      <td>65+</td>\n",
       "      <td>51.0</td>\n",
       "    </tr>\n",
       "    <tr>\n",
       "      <th>10</th>\n",
       "      <td>&lt;65</td>\n",
       "      <td>56.0</td>\n",
       "    </tr>\n",
       "  </tbody>\n",
       "</table>\n",
       "</div>"
      ],
      "text/plain": [
       "    age  index_of_medical_underservice_score\n",
       "2   <65                                 54.0\n",
       "3   65+                                 54.0\n",
       "6   <65                                 51.0\n",
       "7   65+                                 51.0\n",
       "10  <65                                 56.0"
      ]
     },
     "execution_count": 12,
     "metadata": {},
     "output_type": "execute_result"
    }
   ],
   "source": [
    "#create feautures variable holding ages a d mua score\n",
    "X = incidence_df_65[[\"age\", \"index_of_medical_underservice_score\"]]\n",
    "X.head()"
   ]
  },
  {
   "cell_type": "code",
   "execution_count": 13,
   "id": "81967ef9",
   "metadata": {},
   "outputs": [
    {
     "data": {
      "text/html": [
       "<div>\n",
       "<style scoped>\n",
       "    .dataframe tbody tr th:only-of-type {\n",
       "        vertical-align: middle;\n",
       "    }\n",
       "\n",
       "    .dataframe tbody tr th {\n",
       "        vertical-align: top;\n",
       "    }\n",
       "\n",
       "    .dataframe thead th {\n",
       "        text-align: right;\n",
       "    }\n",
       "</style>\n",
       "<table border=\"1\" class=\"dataframe\">\n",
       "  <thead>\n",
       "    <tr style=\"text-align: right;\">\n",
       "      <th></th>\n",
       "      <th>index_of_medical_underservice_score</th>\n",
       "      <th>age_65+</th>\n",
       "      <th>age_&lt;65</th>\n",
       "    </tr>\n",
       "  </thead>\n",
       "  <tbody>\n",
       "    <tr>\n",
       "      <th>2</th>\n",
       "      <td>54.0</td>\n",
       "      <td>0</td>\n",
       "      <td>1</td>\n",
       "    </tr>\n",
       "    <tr>\n",
       "      <th>3</th>\n",
       "      <td>54.0</td>\n",
       "      <td>1</td>\n",
       "      <td>0</td>\n",
       "    </tr>\n",
       "    <tr>\n",
       "      <th>6</th>\n",
       "      <td>51.0</td>\n",
       "      <td>0</td>\n",
       "      <td>1</td>\n",
       "    </tr>\n",
       "    <tr>\n",
       "      <th>7</th>\n",
       "      <td>51.0</td>\n",
       "      <td>1</td>\n",
       "      <td>0</td>\n",
       "    </tr>\n",
       "    <tr>\n",
       "      <th>10</th>\n",
       "      <td>56.0</td>\n",
       "      <td>0</td>\n",
       "      <td>1</td>\n",
       "    </tr>\n",
       "  </tbody>\n",
       "</table>\n",
       "</div>"
      ],
      "text/plain": [
       "    index_of_medical_underservice_score  age_65+  age_<65\n",
       "2                                  54.0        0        1\n",
       "3                                  54.0        1        0\n",
       "6                                  51.0        0        1\n",
       "7                                  51.0        1        0\n",
       "10                                 56.0        0        1"
      ]
     },
     "execution_count": 13,
     "metadata": {},
     "output_type": "execute_result"
    }
   ],
   "source": [
    "#create dummy variables for age\n",
    "X = pd.get_dummies(X, columns=[\"age\"])\n",
    "X.head()"
   ]
  },
  {
   "cell_type": "code",
   "execution_count": 14,
   "id": "2aa76633",
   "metadata": {},
   "outputs": [
    {
     "data": {
      "text/plain": [
       "(4502, 1)"
      ]
     },
     "execution_count": 14,
     "metadata": {},
     "output_type": "execute_result"
    }
   ],
   "source": [
    "#get shape of target array\n",
    "y.shape"
   ]
  },
  {
   "cell_type": "code",
   "execution_count": 15,
   "id": "1280b889",
   "metadata": {},
   "outputs": [
    {
     "data": {
      "text/plain": [
       "(4502, 3)"
      ]
     },
     "execution_count": 15,
     "metadata": {},
     "output_type": "execute_result"
    }
   ],
   "source": [
    "#get shape of feautures array\n",
    "X.shape"
   ]
  },
  {
   "cell_type": "code",
   "execution_count": 16,
   "id": "5f1347b8",
   "metadata": {},
   "outputs": [],
   "source": [
    "#split data\n",
    "X_train, X_test, y_train, y_test = train_test_split(X, y)"
   ]
  },
  {
   "cell_type": "code",
   "execution_count": 17,
   "id": "d2527940",
   "metadata": {},
   "outputs": [],
   "source": [
    "#create linear regression model using sklearn\n",
    "model = LinearRegression()"
   ]
  },
  {
   "cell_type": "code",
   "execution_count": 18,
   "id": "f8ddaed7",
   "metadata": {},
   "outputs": [],
   "source": [
    "#fit the model with training data\n",
    "regression_age_MUA_incidence = model.fit(X_train, y_train)"
   ]
  },
  {
   "cell_type": "code",
   "execution_count": 19,
   "id": "c7765a0d",
   "metadata": {},
   "outputs": [
    {
     "data": {
      "text/plain": [
       "array([[1964.98069715],\n",
       "       [1966.3149148 ],\n",
       "       [1965.27718996],\n",
       "       ...,\n",
       "       [ 236.23188927],\n",
       "       [ 233.47874173],\n",
       "       [1965.27718996]])"
      ]
     },
     "execution_count": 19,
     "metadata": {},
     "output_type": "execute_result"
    }
   ],
   "source": [
    "#Create predictions array using linear regression\n",
    "y_pred = regression_age_MUA_incidence.predict(X_test)\n",
    "y_pred"
   ]
  },
  {
   "cell_type": "code",
   "execution_count": 20,
   "id": "d80f5562",
   "metadata": {},
   "outputs": [
    {
     "data": {
      "text/plain": [
       "0.9530721601297586"
      ]
     },
     "execution_count": 20,
     "metadata": {},
     "output_type": "execute_result"
    }
   ],
   "source": [
    "#get R2 value from linear regression\n",
    "from sklearn.metrics import r2_score\n",
    "r2_score(y_test, y_pred)"
   ]
  },
  {
   "cell_type": "code",
   "execution_count": 21,
   "id": "d168955c",
   "metadata": {},
   "outputs": [
    {
     "name": "stderr",
     "output_type": "stream",
     "text": [
      "/Users/hankbowman/opt/anaconda3/envs/mlenv/lib/python3.7/site-packages/statsmodels/tsa/tsatools.py:142: FutureWarning: In a future version of pandas all arguments of concat except for the argument 'objs' will be keyword-only\n",
      "  x = pd.concat(x[::order], 1)\n"
     ]
    }
   ],
   "source": [
    "#run regression again with statsmodels\n",
    "#use statsmodels to add constant to X\n",
    "#add constant to X\n",
    "X1 = sm.add_constant(X)"
   ]
  },
  {
   "cell_type": "code",
   "execution_count": 22,
   "id": "5ebb7adf",
   "metadata": {},
   "outputs": [],
   "source": [
    "#fit linear regression model\n",
    "model = sm.OLS(y, X1).fit()"
   ]
  },
  {
   "cell_type": "code",
   "execution_count": 23,
   "id": "9695608b",
   "metadata": {},
   "outputs": [
    {
     "name": "stdout",
     "output_type": "stream",
     "text": [
      "                            OLS Regression Results                            \n",
      "==============================================================================\n",
      "Dep. Variable:      age_adjusted_rate   R-squared:                       0.954\n",
      "Model:                            OLS   Adj. R-squared:                  0.954\n",
      "Method:                 Least Squares   F-statistic:                 4.648e+04\n",
      "Date:                Wed, 01 Jun 2022   Prob (F-statistic):               0.00\n",
      "Time:                        20:42:29   Log-Likelihood:                -30019.\n",
      "No. Observations:                4502   AIC:                         6.004e+04\n",
      "Df Residuals:                    4499   BIC:                         6.006e+04\n",
      "Df Model:                           2                                         \n",
      "Covariance Type:            nonrobust                                         \n",
      "=======================================================================================================\n",
      "                                          coef    std err          t      P>|t|      [0.025      0.975]\n",
      "-------------------------------------------------------------------------------------------------------\n",
      "const                                 727.9748      8.097     89.901      0.000     712.100     743.850\n",
      "index_of_medical_underservice_score     0.1548      0.227      0.683      0.495      -0.290       0.600\n",
      "age_65+                              1229.3217      4.940    248.855      0.000    1219.637    1239.006\n",
      "age_<65                              -501.3469      4.949   -101.302      0.000    -511.049    -491.644\n",
      "==============================================================================\n",
      "Omnibus:                      781.061   Durbin-Watson:                   1.669\n",
      "Prob(Omnibus):                  0.000   Jarque-Bera (JB):             5658.894\n",
      "Skew:                          -0.631   Prob(JB):                         0.00\n",
      "Kurtosis:                       8.345   Cond. No.                     6.09e+17\n",
      "==============================================================================\n",
      "\n",
      "Notes:\n",
      "[1] Standard Errors assume that the covariance matrix of the errors is correctly specified.\n",
      "[2] The smallest eigenvalue is 3.49e-29. This might indicate that there are\n",
      "strong multicollinearity problems or that the design matrix is singular.\n"
     ]
    }
   ],
   "source": [
    "#view model summary with statsmodels\n",
    "print(model.summary())"
   ]
  },
  {
   "cell_type": "code",
   "execution_count": 24,
   "id": "e657087d",
   "metadata": {},
   "outputs": [
    {
     "data": {
      "text/plain": [
       "DecisionTreeRegressor()"
      ]
     },
     "execution_count": 24,
     "metadata": {},
     "output_type": "execute_result"
    }
   ],
   "source": [
    "#fit the model with training data\n",
    "#decision tree regression\n",
    "regressor_DT = DecisionTreeRegressor()\n",
    "regressor_DT.fit(X_train, y_train)"
   ]
  },
  {
   "cell_type": "code",
   "execution_count": 25,
   "id": "18e6ac94",
   "metadata": {},
   "outputs": [
    {
     "data": {
      "text/plain": [
       "array([1894.91538462, 1933.97559055, 2002.63559322, ...,  228.1       ,\n",
       "        253.94285714, 2002.63559322])"
      ]
     },
     "execution_count": 25,
     "metadata": {},
     "output_type": "execute_result"
    }
   ],
   "source": [
    "#predict\n",
    "y_pred = regressor_DT.predict(X_test)\n",
    "y_pred"
   ]
  },
  {
   "cell_type": "code",
   "execution_count": 26,
   "id": "74325c04",
   "metadata": {},
   "outputs": [
    {
     "data": {
      "text/plain": [
       "0.9465096266470179"
      ]
     },
     "execution_count": 26,
     "metadata": {},
     "output_type": "execute_result"
    }
   ],
   "source": [
    "#calculate r2 score\n",
    "r2_score(y_test, y_pred)"
   ]
  },
  {
   "cell_type": "code",
   "execution_count": null,
   "id": "884ff4f9",
   "metadata": {},
   "outputs": [],
   "source": []
  }
 ],
 "metadata": {
  "kernelspec": {
   "display_name": "mlenv",
   "language": "python",
   "name": "mlenv"
  },
  "language_info": {
   "codemirror_mode": {
    "name": "ipython",
    "version": 3
   },
   "file_extension": ".py",
   "mimetype": "text/x-python",
   "name": "python",
   "nbconvert_exporter": "python",
   "pygments_lexer": "ipython3",
   "version": "3.7.11"
  }
 },
 "nbformat": 4,
 "nbformat_minor": 5
}
