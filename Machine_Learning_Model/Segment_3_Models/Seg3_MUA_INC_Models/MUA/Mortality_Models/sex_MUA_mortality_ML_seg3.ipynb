{
 "cells": [
  {
   "cell_type": "code",
   "execution_count": 1,
   "id": "238a26ab",
   "metadata": {},
   "outputs": [],
   "source": [
    "#initial imports\n",
    "import pandas as pd\n",
    "import matplotlib.pyplot as plt \n",
    "from sklearn.preprocessing import StandardScaler, LabelEncoder\n",
    "from sklearn.linear_model import LinearRegression\n",
    "import statsmodels.api as sm\n",
    "import numpy as np \n",
    "from sklearn.metrics import r2_score\n",
    "from sklearn.model_selection import train_test_split\n",
    "from sklearn.tree import DecisionTreeRegressor \n",
    "import numpy as np"
   ]
  },
  {
   "cell_type": "code",
   "execution_count": 2,
   "id": "e78e7a47",
   "metadata": {},
   "outputs": [
    {
     "data": {
      "text/html": [
       "<div>\n",
       "<style scoped>\n",
       "    .dataframe tbody tr th:only-of-type {\n",
       "        vertical-align: middle;\n",
       "    }\n",
       "\n",
       "    .dataframe tbody tr th {\n",
       "        vertical-align: top;\n",
       "    }\n",
       "\n",
       "    .dataframe thead th {\n",
       "        text-align: right;\n",
       "    }\n",
       "</style>\n",
       "<table border=\"1\" class=\"dataframe\">\n",
       "  <thead>\n",
       "    <tr style=\"text-align: right;\">\n",
       "      <th></th>\n",
       "      <th>average_annual_count</th>\n",
       "      <th>primary_state_name</th>\n",
       "      <th>cancer</th>\n",
       "      <th>race_ethnicity</th>\n",
       "      <th>sex</th>\n",
       "      <th>age</th>\n",
       "      <th>age_adjusted_rate</th>\n",
       "      <th>county_state</th>\n",
       "      <th>index_of_medical_underservice_score</th>\n",
       "      <th>popestimate2015</th>\n",
       "      <th>popestimate2016</th>\n",
       "      <th>popestimate2017</th>\n",
       "      <th>popestimate2018</th>\n",
       "      <th>popestimate2019</th>\n",
       "    </tr>\n",
       "  </thead>\n",
       "  <tbody>\n",
       "    <tr>\n",
       "      <th>0</th>\n",
       "      <td>18</td>\n",
       "      <td>Alabama</td>\n",
       "      <td>All Cancer Sites</td>\n",
       "      <td>All Races (includes Hispanic)</td>\n",
       "      <td>Males</td>\n",
       "      <td>All Ages</td>\n",
       "      <td>296.3</td>\n",
       "      <td>Wilcox County AL</td>\n",
       "      <td>51.0</td>\n",
       "      <td>10896</td>\n",
       "      <td>10844</td>\n",
       "      <td>10691</td>\n",
       "      <td>10599</td>\n",
       "      <td>10373</td>\n",
       "    </tr>\n",
       "    <tr>\n",
       "      <th>1</th>\n",
       "      <td>13</td>\n",
       "      <td>Alabama</td>\n",
       "      <td>All Cancer Sites</td>\n",
       "      <td>All Races (includes Hispanic)</td>\n",
       "      <td>Females</td>\n",
       "      <td>All Ages</td>\n",
       "      <td>153.2</td>\n",
       "      <td>Wilcox County AL</td>\n",
       "      <td>51.0</td>\n",
       "      <td>10896</td>\n",
       "      <td>10844</td>\n",
       "      <td>10691</td>\n",
       "      <td>10599</td>\n",
       "      <td>10373</td>\n",
       "    </tr>\n",
       "    <tr>\n",
       "      <th>2</th>\n",
       "      <td>32</td>\n",
       "      <td>Alabama</td>\n",
       "      <td>All Cancer Sites</td>\n",
       "      <td>All Races (includes Hispanic)</td>\n",
       "      <td>Males</td>\n",
       "      <td>All Ages</td>\n",
       "      <td>290.7</td>\n",
       "      <td>Macon County AL</td>\n",
       "      <td>28.0</td>\n",
       "      <td>19296</td>\n",
       "      <td>19060</td>\n",
       "      <td>18793</td>\n",
       "      <td>18321</td>\n",
       "      <td>18068</td>\n",
       "    </tr>\n",
       "    <tr>\n",
       "      <th>3</th>\n",
       "      <td>22</td>\n",
       "      <td>Alabama</td>\n",
       "      <td>All Cancer Sites</td>\n",
       "      <td>All Races (includes Hispanic)</td>\n",
       "      <td>Females</td>\n",
       "      <td>All Ages</td>\n",
       "      <td>146.1</td>\n",
       "      <td>Macon County AL</td>\n",
       "      <td>28.0</td>\n",
       "      <td>19296</td>\n",
       "      <td>19060</td>\n",
       "      <td>18793</td>\n",
       "      <td>18321</td>\n",
       "      <td>18068</td>\n",
       "    </tr>\n",
       "    <tr>\n",
       "      <th>4</th>\n",
       "      <td>17</td>\n",
       "      <td>Alabama</td>\n",
       "      <td>All Cancer Sites</td>\n",
       "      <td>All Races (includes Hispanic)</td>\n",
       "      <td>Males</td>\n",
       "      <td>All Ages</td>\n",
       "      <td>283.8</td>\n",
       "      <td>Lowndes County AL</td>\n",
       "      <td>54.0</td>\n",
       "      <td>10350</td>\n",
       "      <td>10248</td>\n",
       "      <td>10097</td>\n",
       "      <td>9974</td>\n",
       "      <td>9726</td>\n",
       "    </tr>\n",
       "  </tbody>\n",
       "</table>\n",
       "</div>"
      ],
      "text/plain": [
       "   average_annual_count primary_state_name            cancer  \\\n",
       "0                    18            Alabama  All Cancer Sites   \n",
       "1                    13            Alabama  All Cancer Sites   \n",
       "2                    32            Alabama  All Cancer Sites   \n",
       "3                    22            Alabama  All Cancer Sites   \n",
       "4                    17            Alabama  All Cancer Sites   \n",
       "\n",
       "                  race_ethnicity      sex       age  age_adjusted_rate  \\\n",
       "0  All Races (includes Hispanic)    Males  All Ages              296.3   \n",
       "1  All Races (includes Hispanic)  Females  All Ages              153.2   \n",
       "2  All Races (includes Hispanic)    Males  All Ages              290.7   \n",
       "3  All Races (includes Hispanic)  Females  All Ages              146.1   \n",
       "4  All Races (includes Hispanic)    Males  All Ages              283.8   \n",
       "\n",
       "        county_state  index_of_medical_underservice_score  popestimate2015  \\\n",
       "0   Wilcox County AL                                 51.0            10896   \n",
       "1   Wilcox County AL                                 51.0            10896   \n",
       "2    Macon County AL                                 28.0            19296   \n",
       "3    Macon County AL                                 28.0            19296   \n",
       "4  Lowndes County AL                                 54.0            10350   \n",
       "\n",
       "   popestimate2016  popestimate2017  popestimate2018  popestimate2019  \n",
       "0            10844            10691            10599            10373  \n",
       "1            10844            10691            10599            10373  \n",
       "2            19060            18793            18321            18068  \n",
       "3            19060            18793            18321            18068  \n",
       "4            10248            10097             9974             9726  "
      ]
     },
     "execution_count": 2,
     "metadata": {},
     "output_type": "execute_result"
    }
   ],
   "source": [
    "#read in incidence csv from github\n",
    "\n",
    "mortality_df = pd.read_csv(\"https://raw.githubusercontent.com/robyndook/Cancer_Treatment_Centers_California/main/Resources/Sex_Mortality_Cancer_DB.csv\")                         \n",
    "#get rid of commas in columns\n",
    "mortality_df = mortality_df.replace(',','', regex=True)\n",
    "mortality_df.head()     "
   ]
  },
  {
   "cell_type": "code",
   "execution_count": 3,
   "id": "ba920d6f",
   "metadata": {},
   "outputs": [
    {
     "data": {
      "text/plain": [
       "average_annual_count                     int64\n",
       "primary_state_name                      object\n",
       "cancer                                  object\n",
       "race_ethnicity                          object\n",
       "sex                                     object\n",
       "age                                     object\n",
       "age_adjusted_rate                      float64\n",
       "county_state                            object\n",
       "index_of_medical_underservice_score    float64\n",
       "popestimate2015                          int64\n",
       "popestimate2016                          int64\n",
       "popestimate2017                          int64\n",
       "popestimate2018                          int64\n",
       "popestimate2019                          int64\n",
       "dtype: object"
      ]
     },
     "execution_count": 3,
     "metadata": {},
     "output_type": "execute_result"
    }
   ],
   "source": [
    "#check dtypes\n",
    "mortality_df.dtypes"
   ]
  },
  {
   "cell_type": "code",
   "execution_count": 4,
   "id": "bb0ea0f7",
   "metadata": {},
   "outputs": [
    {
     "data": {
      "text/plain": [
       "average_annual_count                   4691\n",
       "primary_state_name                     4691\n",
       "cancer                                 4691\n",
       "race_ethnicity                         4691\n",
       "sex                                    4691\n",
       "age                                    4691\n",
       "age_adjusted_rate                      4691\n",
       "county_state                           4691\n",
       "index_of_medical_underservice_score    4069\n",
       "popestimate2015                        4691\n",
       "popestimate2016                        4691\n",
       "popestimate2017                        4691\n",
       "popestimate2018                        4691\n",
       "popestimate2019                        4691\n",
       "dtype: int64"
      ]
     },
     "execution_count": 4,
     "metadata": {},
     "output_type": "execute_result"
    }
   ],
   "source": [
    "#get count of rows\n",
    "mortality_df.count()"
   ]
  },
  {
   "cell_type": "code",
   "execution_count": 5,
   "id": "cf7b9e77",
   "metadata": {},
   "outputs": [
    {
     "data": {
      "text/plain": [
       "Males      2368\n",
       "Females    2323\n",
       "Name: sex, dtype: int64"
      ]
     },
     "execution_count": 5,
     "metadata": {},
     "output_type": "execute_result"
    }
   ],
   "source": [
    "#get count of values for sex\n",
    "mortality_df[\"sex\"].value_counts()"
   ]
  },
  {
   "cell_type": "code",
   "execution_count": 6,
   "id": "c147e828",
   "metadata": {},
   "outputs": [
    {
     "data": {
      "text/plain": [
       "622"
      ]
     },
     "execution_count": 6,
     "metadata": {},
     "output_type": "execute_result"
    }
   ],
   "source": [
    "#get count of NA values for MUA\n",
    "mortality_df[\"index_of_medical_underservice_score\"].isna().sum()"
   ]
  },
  {
   "cell_type": "code",
   "execution_count": 7,
   "id": "ec619f4b",
   "metadata": {},
   "outputs": [],
   "source": [
    "#drop rows where MUA index is null\n",
    "mortality_df = mortality_df[mortality_df[\"index_of_medical_underservice_score\"].isna() == False]"
   ]
  },
  {
   "cell_type": "code",
   "execution_count": 8,
   "id": "9b7b971a",
   "metadata": {},
   "outputs": [
    {
     "data": {
      "text/plain": [
       "average_annual_count                   4069\n",
       "primary_state_name                     4069\n",
       "cancer                                 4069\n",
       "race_ethnicity                         4069\n",
       "sex                                    4069\n",
       "age                                    4069\n",
       "age_adjusted_rate                      4069\n",
       "county_state                           4069\n",
       "index_of_medical_underservice_score    4069\n",
       "popestimate2015                        4069\n",
       "popestimate2016                        4069\n",
       "popestimate2017                        4069\n",
       "popestimate2018                        4069\n",
       "popestimate2019                        4069\n",
       "dtype: int64"
      ]
     },
     "execution_count": 8,
     "metadata": {},
     "output_type": "execute_result"
    }
   ],
   "source": [
    "#get count of rows\n",
    "mortality_df.count()"
   ]
  },
  {
   "cell_type": "code",
   "execution_count": 9,
   "id": "04937a74",
   "metadata": {},
   "outputs": [
    {
     "name": "stderr",
     "output_type": "stream",
     "text": [
      "/Users/hankbowman/opt/anaconda3/envs/mlenv/lib/python3.7/site-packages/ipykernel_launcher.py:5: SettingWithCopyWarning: \n",
      "A value is trying to be set on a copy of a slice from a DataFrame.\n",
      "Try using .loc[row_indexer,col_indexer] = value instead\n",
      "\n",
      "See the caveats in the documentation: https://pandas.pydata.org/pandas-docs/stable/user_guide/indexing.html#returning-a-view-versus-a-copy\n",
      "  \"\"\"\n"
     ]
    },
    {
     "data": {
      "text/html": [
       "<div>\n",
       "<style scoped>\n",
       "    .dataframe tbody tr th:only-of-type {\n",
       "        vertical-align: middle;\n",
       "    }\n",
       "\n",
       "    .dataframe tbody tr th {\n",
       "        vertical-align: top;\n",
       "    }\n",
       "\n",
       "    .dataframe thead th {\n",
       "        text-align: right;\n",
       "    }\n",
       "</style>\n",
       "<table border=\"1\" class=\"dataframe\">\n",
       "  <thead>\n",
       "    <tr style=\"text-align: right;\">\n",
       "      <th></th>\n",
       "      <th>age_adjusted_rate</th>\n",
       "    </tr>\n",
       "  </thead>\n",
       "  <tbody>\n",
       "    <tr>\n",
       "      <th>0</th>\n",
       "      <td>296.3</td>\n",
       "    </tr>\n",
       "    <tr>\n",
       "      <th>1</th>\n",
       "      <td>153.2</td>\n",
       "    </tr>\n",
       "    <tr>\n",
       "      <th>2</th>\n",
       "      <td>290.7</td>\n",
       "    </tr>\n",
       "    <tr>\n",
       "      <th>3</th>\n",
       "      <td>146.1</td>\n",
       "    </tr>\n",
       "    <tr>\n",
       "      <th>4</th>\n",
       "      <td>283.8</td>\n",
       "    </tr>\n",
       "  </tbody>\n",
       "</table>\n",
       "</div>"
      ],
      "text/plain": [
       "   age_adjusted_rate\n",
       "0              296.3\n",
       "1              153.2\n",
       "2              290.7\n",
       "3              146.1\n",
       "4              283.8"
      ]
     },
     "execution_count": 9,
     "metadata": {},
     "output_type": "execute_result"
    }
   ],
   "source": [
    "#create target \n",
    "y = mortality_df[['age_adjusted_rate']]\n",
    "\n",
    "#change dtype to numeric\n",
    "y['age_adjusted_rate'] = y['age_adjusted_rate'].astype(float)\n",
    "y.head()"
   ]
  },
  {
   "cell_type": "code",
   "execution_count": 10,
   "id": "6450707a",
   "metadata": {},
   "outputs": [
    {
     "data": {
      "text/html": [
       "<div>\n",
       "<style scoped>\n",
       "    .dataframe tbody tr th:only-of-type {\n",
       "        vertical-align: middle;\n",
       "    }\n",
       "\n",
       "    .dataframe tbody tr th {\n",
       "        vertical-align: top;\n",
       "    }\n",
       "\n",
       "    .dataframe thead th {\n",
       "        text-align: right;\n",
       "    }\n",
       "</style>\n",
       "<table border=\"1\" class=\"dataframe\">\n",
       "  <thead>\n",
       "    <tr style=\"text-align: right;\">\n",
       "      <th></th>\n",
       "      <th>sex</th>\n",
       "      <th>index_of_medical_underservice_score</th>\n",
       "    </tr>\n",
       "  </thead>\n",
       "  <tbody>\n",
       "    <tr>\n",
       "      <th>0</th>\n",
       "      <td>Males</td>\n",
       "      <td>51.0</td>\n",
       "    </tr>\n",
       "    <tr>\n",
       "      <th>1</th>\n",
       "      <td>Females</td>\n",
       "      <td>51.0</td>\n",
       "    </tr>\n",
       "    <tr>\n",
       "      <th>2</th>\n",
       "      <td>Males</td>\n",
       "      <td>28.0</td>\n",
       "    </tr>\n",
       "    <tr>\n",
       "      <th>3</th>\n",
       "      <td>Females</td>\n",
       "      <td>28.0</td>\n",
       "    </tr>\n",
       "    <tr>\n",
       "      <th>4</th>\n",
       "      <td>Males</td>\n",
       "      <td>54.0</td>\n",
       "    </tr>\n",
       "  </tbody>\n",
       "</table>\n",
       "</div>"
      ],
      "text/plain": [
       "       sex  index_of_medical_underservice_score\n",
       "0    Males                                 51.0\n",
       "1  Females                                 51.0\n",
       "2    Males                                 28.0\n",
       "3  Females                                 28.0\n",
       "4    Males                                 54.0"
      ]
     },
     "execution_count": 10,
     "metadata": {},
     "output_type": "execute_result"
    }
   ],
   "source": [
    "#create feautures variable holding sexes and mua score\n",
    "X = mortality_df[[\"sex\", \"index_of_medical_underservice_score\"]]\n",
    "X.head()"
   ]
  },
  {
   "cell_type": "code",
   "execution_count": 11,
   "id": "81967ef9",
   "metadata": {},
   "outputs": [
    {
     "data": {
      "text/html": [
       "<div>\n",
       "<style scoped>\n",
       "    .dataframe tbody tr th:only-of-type {\n",
       "        vertical-align: middle;\n",
       "    }\n",
       "\n",
       "    .dataframe tbody tr th {\n",
       "        vertical-align: top;\n",
       "    }\n",
       "\n",
       "    .dataframe thead th {\n",
       "        text-align: right;\n",
       "    }\n",
       "</style>\n",
       "<table border=\"1\" class=\"dataframe\">\n",
       "  <thead>\n",
       "    <tr style=\"text-align: right;\">\n",
       "      <th></th>\n",
       "      <th>index_of_medical_underservice_score</th>\n",
       "      <th>sex_Females</th>\n",
       "      <th>sex_Males</th>\n",
       "    </tr>\n",
       "  </thead>\n",
       "  <tbody>\n",
       "    <tr>\n",
       "      <th>0</th>\n",
       "      <td>51.0</td>\n",
       "      <td>0</td>\n",
       "      <td>1</td>\n",
       "    </tr>\n",
       "    <tr>\n",
       "      <th>1</th>\n",
       "      <td>51.0</td>\n",
       "      <td>1</td>\n",
       "      <td>0</td>\n",
       "    </tr>\n",
       "    <tr>\n",
       "      <th>2</th>\n",
       "      <td>28.0</td>\n",
       "      <td>0</td>\n",
       "      <td>1</td>\n",
       "    </tr>\n",
       "    <tr>\n",
       "      <th>3</th>\n",
       "      <td>28.0</td>\n",
       "      <td>1</td>\n",
       "      <td>0</td>\n",
       "    </tr>\n",
       "    <tr>\n",
       "      <th>4</th>\n",
       "      <td>54.0</td>\n",
       "      <td>0</td>\n",
       "      <td>1</td>\n",
       "    </tr>\n",
       "  </tbody>\n",
       "</table>\n",
       "</div>"
      ],
      "text/plain": [
       "   index_of_medical_underservice_score  sex_Females  sex_Males\n",
       "0                                 51.0            0          1\n",
       "1                                 51.0            1          0\n",
       "2                                 28.0            0          1\n",
       "3                                 28.0            1          0\n",
       "4                                 54.0            0          1"
      ]
     },
     "execution_count": 11,
     "metadata": {},
     "output_type": "execute_result"
    }
   ],
   "source": [
    "#create dummy variables for sex\n",
    "X = pd.get_dummies(X, columns=[\"sex\"])\n",
    "X.head()"
   ]
  },
  {
   "cell_type": "code",
   "execution_count": 12,
   "id": "2aa76633",
   "metadata": {},
   "outputs": [
    {
     "data": {
      "text/plain": [
       "(4069, 1)"
      ]
     },
     "execution_count": 12,
     "metadata": {},
     "output_type": "execute_result"
    }
   ],
   "source": [
    "#get shape of target array\n",
    "y.shape"
   ]
  },
  {
   "cell_type": "code",
   "execution_count": 13,
   "id": "1280b889",
   "metadata": {},
   "outputs": [
    {
     "data": {
      "text/plain": [
       "(4069, 3)"
      ]
     },
     "execution_count": 13,
     "metadata": {},
     "output_type": "execute_result"
    }
   ],
   "source": [
    "#get shape of feautures array\n",
    "X.shape"
   ]
  },
  {
   "cell_type": "code",
   "execution_count": 14,
   "id": "5f1347b8",
   "metadata": {},
   "outputs": [],
   "source": [
    "#split data\n",
    "X_train, X_test, y_train, y_test = train_test_split(X, y)"
   ]
  },
  {
   "cell_type": "code",
   "execution_count": 15,
   "id": "d2527940",
   "metadata": {},
   "outputs": [],
   "source": [
    "#create linear regression model using sklearn\n",
    "model = LinearRegression()"
   ]
  },
  {
   "cell_type": "code",
   "execution_count": 16,
   "id": "f8ddaed7",
   "metadata": {},
   "outputs": [],
   "source": [
    "#fit the model with training data\n",
    "regression_sex_MUA_mortality = model.fit(X_train, y_train)"
   ]
  },
  {
   "cell_type": "code",
   "execution_count": 17,
   "id": "c7765a0d",
   "metadata": {},
   "outputs": [
    {
     "data": {
      "text/plain": [
       "array([[201.67554289],\n",
       "       [202.30892301],\n",
       "       [141.00868813],\n",
       "       ...,\n",
       "       [141.24620568],\n",
       "       [141.1274469 ],\n",
       "       [141.56289574]])"
      ]
     },
     "execution_count": 17,
     "metadata": {},
     "output_type": "execute_result"
    }
   ],
   "source": [
    "#Create predictions array using linear regression\n",
    "y_pred = regression_sex_MUA_mortality.predict(X_test)\n",
    "y_pred"
   ]
  },
  {
   "cell_type": "code",
   "execution_count": 18,
   "id": "d80f5562",
   "metadata": {},
   "outputs": [
    {
     "data": {
      "text/plain": [
       "0.4171174237346946"
      ]
     },
     "execution_count": 18,
     "metadata": {},
     "output_type": "execute_result"
    }
   ],
   "source": [
    "#get R2 value from linear regression\n",
    "from sklearn.metrics import r2_score\n",
    "r2_score(y_test, y_pred)"
   ]
  },
  {
   "cell_type": "code",
   "execution_count": 19,
   "id": "d168955c",
   "metadata": {},
   "outputs": [
    {
     "name": "stderr",
     "output_type": "stream",
     "text": [
      "/Users/hankbowman/opt/anaconda3/envs/mlenv/lib/python3.7/site-packages/statsmodels/tsa/tsatools.py:142: FutureWarning: In a future version of pandas all arguments of concat except for the argument 'objs' will be keyword-only\n",
      "  x = pd.concat(x[::order], 1)\n"
     ]
    }
   ],
   "source": [
    "#run regression again with statsmodels\n",
    "#use statsmodels to add constant to X\n",
    "#add constant to X\n",
    "X1 = sm.add_constant(X)"
   ]
  },
  {
   "cell_type": "code",
   "execution_count": 20,
   "id": "5ebb7adf",
   "metadata": {},
   "outputs": [],
   "source": [
    "#fit linear regression model\n",
    "model = sm.OLS(y, X1).fit()"
   ]
  },
  {
   "cell_type": "code",
   "execution_count": 21,
   "id": "9695608b",
   "metadata": {},
   "outputs": [
    {
     "name": "stdout",
     "output_type": "stream",
     "text": [
      "                            OLS Regression Results                            \n",
      "==============================================================================\n",
      "Dep. Variable:      age_adjusted_rate   R-squared:                       0.463\n",
      "Model:                            OLS   Adj. R-squared:                  0.463\n",
      "Method:                 Least Squares   F-statistic:                     1756.\n",
      "Date:                Sun, 29 May 2022   Prob (F-statistic):               0.00\n",
      "Time:                        22:15:08   Log-Likelihood:                -19945.\n",
      "No. Observations:                4069   AIC:                         3.990e+04\n",
      "Df Residuals:                    4066   BIC:                         3.991e+04\n",
      "Df Model:                           2                                         \n",
      "Covariance Type:            nonrobust                                         \n",
      "=======================================================================================================\n",
      "                                          coef    std err          t      P>|t|      [0.025      0.975]\n",
      "-------------------------------------------------------------------------------------------------------\n",
      "const                                 115.9605      1.462     79.339      0.000     113.095     118.826\n",
      "index_of_medical_underservice_score    -0.0412      0.041     -1.003      0.316      -0.122       0.039\n",
      "sex_Females                            27.7345      0.893     31.055      0.000      25.984      29.485\n",
      "sex_Males                              88.2260      0.890     99.157      0.000      86.482      89.970\n",
      "==============================================================================\n",
      "Omnibus:                      907.991   Durbin-Watson:                   0.983\n",
      "Prob(Omnibus):                  0.000   Jarque-Bera (JB):             8530.349\n",
      "Skew:                           0.791   Prob(JB):                         0.00\n",
      "Kurtosis:                       9.914   Cond. No.                     2.78e+17\n",
      "==============================================================================\n",
      "\n",
      "Notes:\n",
      "[1] Standard Errors assume that the covariance matrix of the errors is correctly specified.\n",
      "[2] The smallest eigenvalue is 1.49e-28. This might indicate that there are\n",
      "strong multicollinearity problems or that the design matrix is singular.\n"
     ]
    }
   ],
   "source": [
    "#view model summary with statsmodels\n",
    "print(model.summary())"
   ]
  },
  {
   "cell_type": "code",
   "execution_count": 22,
   "id": "e657087d",
   "metadata": {},
   "outputs": [
    {
     "data": {
      "text/plain": [
       "DecisionTreeRegressor()"
      ]
     },
     "execution_count": 22,
     "metadata": {},
     "output_type": "execute_result"
    }
   ],
   "source": [
    "#fit the model with training data\n",
    "#decision tree regression\n",
    "regressor_DT = DecisionTreeRegressor()\n",
    "regressor_DT.fit(X_train, y_train)"
   ]
  },
  {
   "cell_type": "code",
   "execution_count": 23,
   "id": "18e6ac94",
   "metadata": {},
   "outputs": [
    {
     "data": {
      "text/plain": [
       "array([201.15140187, 194.72926829, 145.68531469, ..., 139.83603604,\n",
       "       132.83      , 140.29074074])"
      ]
     },
     "execution_count": 23,
     "metadata": {},
     "output_type": "execute_result"
    }
   ],
   "source": [
    "#predict\n",
    "y_pred = regressor_DT.predict(X_test)\n",
    "y_pred"
   ]
  },
  {
   "cell_type": "code",
   "execution_count": 24,
   "id": "74325c04",
   "metadata": {},
   "outputs": [
    {
     "data": {
      "text/plain": [
       "0.40630627592980884"
      ]
     },
     "execution_count": 24,
     "metadata": {},
     "output_type": "execute_result"
    }
   ],
   "source": [
    "#calculate r2 score\n",
    "r2_score(y_test, y_pred)"
   ]
  },
  {
   "cell_type": "code",
   "execution_count": null,
   "id": "f7eeff98",
   "metadata": {},
   "outputs": [],
   "source": []
  }
 ],
 "metadata": {
  "kernelspec": {
   "display_name": "mlenv",
   "language": "python",
   "name": "mlenv"
  },
  "language_info": {
   "codemirror_mode": {
    "name": "ipython",
    "version": 3
   },
   "file_extension": ".py",
   "mimetype": "text/x-python",
   "name": "python",
   "nbconvert_exporter": "python",
   "pygments_lexer": "ipython3",
   "version": "3.7.11"
  }
 },
 "nbformat": 4,
 "nbformat_minor": 5
}
