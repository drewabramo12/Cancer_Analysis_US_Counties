{
 "cells": [
  {
   "cell_type": "code",
   "execution_count": 1,
   "id": "238a26ab",
   "metadata": {},
   "outputs": [],
   "source": [
    "#initial imports\n",
    "import pandas as pd\n",
    "import matplotlib.pyplot as plt \n",
    "from sklearn.preprocessing import StandardScaler, LabelEncoder\n",
    "from sklearn.linear_model import LinearRegression\n",
    "import statsmodels.api as sm\n",
    "import numpy as np \n",
    "from sklearn.metrics import r2_score\n",
    "from sklearn.model_selection import train_test_split\n",
    "from sklearn.tree import DecisionTreeRegressor \n",
    "import numpy as np"
   ]
  },
  {
   "cell_type": "code",
   "execution_count": 2,
   "id": "e78e7a47",
   "metadata": {},
   "outputs": [
    {
     "data": {
      "text/html": [
       "<div>\n",
       "<style scoped>\n",
       "    .dataframe tbody tr th:only-of-type {\n",
       "        vertical-align: middle;\n",
       "    }\n",
       "\n",
       "    .dataframe tbody tr th {\n",
       "        vertical-align: top;\n",
       "    }\n",
       "\n",
       "    .dataframe thead th {\n",
       "        text-align: right;\n",
       "    }\n",
       "</style>\n",
       "<table border=\"1\" class=\"dataframe\">\n",
       "  <thead>\n",
       "    <tr style=\"text-align: right;\">\n",
       "      <th></th>\n",
       "      <th>average_annual_count</th>\n",
       "      <th>primary_state_name</th>\n",
       "      <th>cancer</th>\n",
       "      <th>race_ethnicity</th>\n",
       "      <th>sex</th>\n",
       "      <th>age</th>\n",
       "      <th>age_adjusted_rate</th>\n",
       "      <th>county_state</th>\n",
       "      <th>index_of_medical_underservice_score</th>\n",
       "      <th>popestimate2015</th>\n",
       "      <th>popestimate2016</th>\n",
       "      <th>popestimate2017</th>\n",
       "      <th>popestimate2018</th>\n",
       "      <th>popestimate2019</th>\n",
       "      <th>abbrv</th>\n",
       "      <th>median_household_income_2015</th>\n",
       "      <th>median_household_income_2016</th>\n",
       "      <th>median_household_income_2017</th>\n",
       "      <th>median_household_income_2018</th>\n",
       "      <th>median_household_income_2019</th>\n",
       "    </tr>\n",
       "  </thead>\n",
       "  <tbody>\n",
       "    <tr>\n",
       "      <th>0</th>\n",
       "      <td>30</td>\n",
       "      <td>Alabama</td>\n",
       "      <td>All Cancer Sites</td>\n",
       "      <td>White (includes Hispanic)</td>\n",
       "      <td>All Sexes</td>\n",
       "      <td>All Ages</td>\n",
       "      <td>681.2</td>\n",
       "      <td>Lowndes County AL</td>\n",
       "      <td>54.0</td>\n",
       "      <td>10350</td>\n",
       "      <td>10248</td>\n",
       "      <td>10097</td>\n",
       "      <td>9974</td>\n",
       "      <td>9726</td>\n",
       "      <td>AL</td>\n",
       "      <td>31117.0</td>\n",
       "      <td>32011.0</td>\n",
       "      <td>33130.0</td>\n",
       "      <td>33973.0</td>\n",
       "      <td>33930.0</td>\n",
       "    </tr>\n",
       "    <tr>\n",
       "      <th>1</th>\n",
       "      <td>30</td>\n",
       "      <td>Alabama</td>\n",
       "      <td>All Cancer Sites</td>\n",
       "      <td>White Non-Hispanic</td>\n",
       "      <td>All Sexes</td>\n",
       "      <td>All Ages</td>\n",
       "      <td>694.0</td>\n",
       "      <td>Lowndes County AL</td>\n",
       "      <td>54.0</td>\n",
       "      <td>10350</td>\n",
       "      <td>10248</td>\n",
       "      <td>10097</td>\n",
       "      <td>9974</td>\n",
       "      <td>9726</td>\n",
       "      <td>AL</td>\n",
       "      <td>31117.0</td>\n",
       "      <td>32011.0</td>\n",
       "      <td>33130.0</td>\n",
       "      <td>33973.0</td>\n",
       "      <td>33930.0</td>\n",
       "    </tr>\n",
       "    <tr>\n",
       "      <th>2</th>\n",
       "      <td>51</td>\n",
       "      <td>Alabama</td>\n",
       "      <td>All Cancer Sites</td>\n",
       "      <td>Black (includes Hispanic)</td>\n",
       "      <td>All Sexes</td>\n",
       "      <td>All Ages</td>\n",
       "      <td>570.1</td>\n",
       "      <td>Lowndes County AL</td>\n",
       "      <td>54.0</td>\n",
       "      <td>10350</td>\n",
       "      <td>10248</td>\n",
       "      <td>10097</td>\n",
       "      <td>9974</td>\n",
       "      <td>9726</td>\n",
       "      <td>AL</td>\n",
       "      <td>31117.0</td>\n",
       "      <td>32011.0</td>\n",
       "      <td>33130.0</td>\n",
       "      <td>33973.0</td>\n",
       "      <td>33930.0</td>\n",
       "    </tr>\n",
       "    <tr>\n",
       "      <th>3</th>\n",
       "      <td>80</td>\n",
       "      <td>Alabama</td>\n",
       "      <td>All Cancer Sites</td>\n",
       "      <td>White (includes Hispanic)</td>\n",
       "      <td>All Sexes</td>\n",
       "      <td>All Ages</td>\n",
       "      <td>558.3</td>\n",
       "      <td>Crenshaw County AL</td>\n",
       "      <td>58.0</td>\n",
       "      <td>13850</td>\n",
       "      <td>13916</td>\n",
       "      <td>13858</td>\n",
       "      <td>13825</td>\n",
       "      <td>13772</td>\n",
       "      <td>AL</td>\n",
       "      <td>36759.0</td>\n",
       "      <td>37374.0</td>\n",
       "      <td>38419.0</td>\n",
       "      <td>39057.0</td>\n",
       "      <td>43309.0</td>\n",
       "    </tr>\n",
       "    <tr>\n",
       "      <th>4</th>\n",
       "      <td>80</td>\n",
       "      <td>Alabama</td>\n",
       "      <td>All Cancer Sites</td>\n",
       "      <td>White Non-Hispanic</td>\n",
       "      <td>All Sexes</td>\n",
       "      <td>All Ages</td>\n",
       "      <td>565.3</td>\n",
       "      <td>Crenshaw County AL</td>\n",
       "      <td>58.0</td>\n",
       "      <td>13850</td>\n",
       "      <td>13916</td>\n",
       "      <td>13858</td>\n",
       "      <td>13825</td>\n",
       "      <td>13772</td>\n",
       "      <td>AL</td>\n",
       "      <td>36759.0</td>\n",
       "      <td>37374.0</td>\n",
       "      <td>38419.0</td>\n",
       "      <td>39057.0</td>\n",
       "      <td>43309.0</td>\n",
       "    </tr>\n",
       "  </tbody>\n",
       "</table>\n",
       "</div>"
      ],
      "text/plain": [
       "   average_annual_count primary_state_name            cancer  \\\n",
       "0                    30            Alabama  All Cancer Sites   \n",
       "1                    30            Alabama  All Cancer Sites   \n",
       "2                    51            Alabama  All Cancer Sites   \n",
       "3                    80            Alabama  All Cancer Sites   \n",
       "4                    80            Alabama  All Cancer Sites   \n",
       "\n",
       "              race_ethnicity        sex       age age_adjusted_rate  \\\n",
       "0  White (includes Hispanic)  All Sexes  All Ages            681.2    \n",
       "1         White Non-Hispanic  All Sexes  All Ages            694.0    \n",
       "2  Black (includes Hispanic)  All Sexes  All Ages            570.1    \n",
       "3  White (includes Hispanic)  All Sexes  All Ages            558.3    \n",
       "4         White Non-Hispanic  All Sexes  All Ages            565.3    \n",
       "\n",
       "         county_state  index_of_medical_underservice_score  popestimate2015  \\\n",
       "0   Lowndes County AL                                 54.0            10350   \n",
       "1   Lowndes County AL                                 54.0            10350   \n",
       "2   Lowndes County AL                                 54.0            10350   \n",
       "3  Crenshaw County AL                                 58.0            13850   \n",
       "4  Crenshaw County AL                                 58.0            13850   \n",
       "\n",
       "   popestimate2016  popestimate2017  popestimate2018  popestimate2019 abbrv  \\\n",
       "0            10248            10097             9974             9726    AL   \n",
       "1            10248            10097             9974             9726    AL   \n",
       "2            10248            10097             9974             9726    AL   \n",
       "3            13916            13858            13825            13772    AL   \n",
       "4            13916            13858            13825            13772    AL   \n",
       "\n",
       "   median_household_income_2015  median_household_income_2016  \\\n",
       "0                       31117.0                       32011.0   \n",
       "1                       31117.0                       32011.0   \n",
       "2                       31117.0                       32011.0   \n",
       "3                       36759.0                       37374.0   \n",
       "4                       36759.0                       37374.0   \n",
       "\n",
       "   median_household_income_2017  median_household_income_2018  \\\n",
       "0                       33130.0                       33973.0   \n",
       "1                       33130.0                       33973.0   \n",
       "2                       33130.0                       33973.0   \n",
       "3                       38419.0                       39057.0   \n",
       "4                       38419.0                       39057.0   \n",
       "\n",
       "   median_household_income_2019  \n",
       "0                       33930.0  \n",
       "1                       33930.0  \n",
       "2                       33930.0  \n",
       "3                       43309.0  \n",
       "4                       43309.0  "
      ]
     },
     "execution_count": 2,
     "metadata": {},
     "output_type": "execute_result"
    }
   ],
   "source": [
    "#read in race incidence csv from github\n",
    "\n",
    "incidence_df = pd.read_csv(\"https://raw.githubusercontent.com/robyndook/Cancer_Treatment_Centers_California/main/Resources/Race_Incidence_Cancer_DB.csv\")                         \n",
    "#get rid of commas in columns\n",
    "incidence_df = incidence_df.replace(',','', regex=True)\n",
    "incidence_df.head()     "
   ]
  },
  {
   "cell_type": "code",
   "execution_count": 3,
   "id": "bb0ea0f7",
   "metadata": {},
   "outputs": [
    {
     "data": {
      "text/plain": [
       "average_annual_count                   9160\n",
       "primary_state_name                     9160\n",
       "cancer                                 9160\n",
       "race_ethnicity                         9160\n",
       "sex                                    9160\n",
       "age                                    9160\n",
       "age_adjusted_rate                      9160\n",
       "county_state                           9160\n",
       "index_of_medical_underservice_score    7931\n",
       "popestimate2015                        9160\n",
       "popestimate2016                        9160\n",
       "popestimate2017                        9160\n",
       "popestimate2018                        9160\n",
       "popestimate2019                        9160\n",
       "abbrv                                  9146\n",
       "median_household_income_2015           9146\n",
       "median_household_income_2016           9146\n",
       "median_household_income_2017           9146\n",
       "median_household_income_2018           9146\n",
       "median_household_income_2019           9146\n",
       "dtype: int64"
      ]
     },
     "execution_count": 3,
     "metadata": {},
     "output_type": "execute_result"
    }
   ],
   "source": [
    "#get count of rows\n",
    "incidence_df.count()"
   ]
  },
  {
   "cell_type": "code",
   "execution_count": 4,
   "id": "cf7b9e77",
   "metadata": {},
   "outputs": [
    {
     "data": {
      "text/plain": [
       "White (includes Hispanic)                       2643\n",
       "  White Non-Hispanic                            2335\n",
       "Black (includes Hispanic)                       1308\n",
       "Hispanic (any race)                             1009\n",
       "  White Hispanic                                 912\n",
       "Asian / Pacific Islander (includes Hispanic)     525\n",
       "Amer. Indian / AK Native (includes Hispanic)     428\n",
       "Name: race_ethnicity, dtype: int64"
      ]
     },
     "execution_count": 4,
     "metadata": {},
     "output_type": "execute_result"
    }
   ],
   "source": [
    "#get count of values for race\n",
    "incidence_df[\"race_ethnicity\"].value_counts()"
   ]
  },
  {
   "cell_type": "code",
   "execution_count": 5,
   "id": "59d29f76",
   "metadata": {},
   "outputs": [],
   "source": [
    "#clean race values\n",
    "incidence_df['race_ethnicity'] = incidence_df['race_ethnicity'].str.strip()"
   ]
  },
  {
   "cell_type": "code",
   "execution_count": 6,
   "id": "193fce4a",
   "metadata": {},
   "outputs": [
    {
     "data": {
      "text/plain": [
       "White (includes Hispanic)                       2643\n",
       "White Non-Hispanic                              2335\n",
       "Black (includes Hispanic)                       1308\n",
       "Hispanic (any race)                             1009\n",
       "White Hispanic                                   912\n",
       "Asian / Pacific Islander (includes Hispanic)     525\n",
       "Amer. Indian / AK Native (includes Hispanic)     428\n",
       "Name: race_ethnicity, dtype: int64"
      ]
     },
     "execution_count": 6,
     "metadata": {},
     "output_type": "execute_result"
    }
   ],
   "source": [
    "#get count of values for race\n",
    "incidence_df[\"race_ethnicity\"].value_counts()"
   ]
  },
  {
   "cell_type": "code",
   "execution_count": 7,
   "id": "caaf339b",
   "metadata": {},
   "outputs": [],
   "source": [
    "#drop rows where race equals white non-hispanic and race equals white hispanic to avoid overlap\n",
    "incidence_df = incidence_df[incidence_df[\"race_ethnicity\"] != \"White Non-Hispanic\"]\n",
    "incidence_df = incidence_df[incidence_df[\"race_ethnicity\"] != \"White Hispanic\"]"
   ]
  },
  {
   "cell_type": "code",
   "execution_count": 8,
   "id": "b7caf801",
   "metadata": {},
   "outputs": [
    {
     "data": {
      "text/plain": [
       "White (includes Hispanic)                       2643\n",
       "Black (includes Hispanic)                       1308\n",
       "Hispanic (any race)                             1009\n",
       "Asian / Pacific Islander (includes Hispanic)     525\n",
       "Amer. Indian / AK Native (includes Hispanic)     428\n",
       "Name: race_ethnicity, dtype: int64"
      ]
     },
     "execution_count": 8,
     "metadata": {},
     "output_type": "execute_result"
    }
   ],
   "source": [
    "#get count of values for race\n",
    "incidence_df[\"race_ethnicity\"].value_counts()"
   ]
  },
  {
   "cell_type": "code",
   "execution_count": 9,
   "id": "86163b7a",
   "metadata": {},
   "outputs": [
    {
     "data": {
      "text/plain": [
       "average_annual_count                   5913\n",
       "primary_state_name                     5913\n",
       "cancer                                 5913\n",
       "race_ethnicity                         5913\n",
       "sex                                    5913\n",
       "age                                    5913\n",
       "age_adjusted_rate                      5913\n",
       "county_state                           5913\n",
       "index_of_medical_underservice_score    5165\n",
       "popestimate2015                        5913\n",
       "popestimate2016                        5913\n",
       "popestimate2017                        5913\n",
       "popestimate2018                        5913\n",
       "popestimate2019                        5913\n",
       "abbrv                                  5905\n",
       "median_household_income_2015           5905\n",
       "median_household_income_2016           5905\n",
       "median_household_income_2017           5905\n",
       "median_household_income_2018           5905\n",
       "median_household_income_2019           5905\n",
       "dtype: int64"
      ]
     },
     "execution_count": 9,
     "metadata": {},
     "output_type": "execute_result"
    }
   ],
   "source": [
    "#get count of rows\n",
    "incidence_df.count()"
   ]
  },
  {
   "cell_type": "code",
   "execution_count": 10,
   "id": "04937a74",
   "metadata": {},
   "outputs": [
    {
     "name": "stderr",
     "output_type": "stream",
     "text": [
      "/Users/hankbowman/opt/anaconda3/envs/mlenv/lib/python3.7/site-packages/ipykernel_launcher.py:5: SettingWithCopyWarning: \n",
      "A value is trying to be set on a copy of a slice from a DataFrame.\n",
      "Try using .loc[row_indexer,col_indexer] = value instead\n",
      "\n",
      "See the caveats in the documentation: https://pandas.pydata.org/pandas-docs/stable/user_guide/indexing.html#returning-a-view-versus-a-copy\n",
      "  \"\"\"\n"
     ]
    },
    {
     "data": {
      "text/html": [
       "<div>\n",
       "<style scoped>\n",
       "    .dataframe tbody tr th:only-of-type {\n",
       "        vertical-align: middle;\n",
       "    }\n",
       "\n",
       "    .dataframe tbody tr th {\n",
       "        vertical-align: top;\n",
       "    }\n",
       "\n",
       "    .dataframe thead th {\n",
       "        text-align: right;\n",
       "    }\n",
       "</style>\n",
       "<table border=\"1\" class=\"dataframe\">\n",
       "  <thead>\n",
       "    <tr style=\"text-align: right;\">\n",
       "      <th></th>\n",
       "      <th>age_adjusted_rate</th>\n",
       "    </tr>\n",
       "  </thead>\n",
       "  <tbody>\n",
       "    <tr>\n",
       "      <th>0</th>\n",
       "      <td>681.2</td>\n",
       "    </tr>\n",
       "    <tr>\n",
       "      <th>2</th>\n",
       "      <td>570.1</td>\n",
       "    </tr>\n",
       "    <tr>\n",
       "      <th>3</th>\n",
       "      <td>558.3</td>\n",
       "    </tr>\n",
       "    <tr>\n",
       "      <th>5</th>\n",
       "      <td>442.0</td>\n",
       "    </tr>\n",
       "    <tr>\n",
       "      <th>6</th>\n",
       "      <td>542.5</td>\n",
       "    </tr>\n",
       "  </tbody>\n",
       "</table>\n",
       "</div>"
      ],
      "text/plain": [
       "   age_adjusted_rate\n",
       "0              681.2\n",
       "2              570.1\n",
       "3              558.3\n",
       "5              442.0\n",
       "6              542.5"
      ]
     },
     "execution_count": 10,
     "metadata": {},
     "output_type": "execute_result"
    }
   ],
   "source": [
    "#create target \n",
    "y = incidence_df[['age_adjusted_rate']]\n",
    "\n",
    "#change dtype to numeric\n",
    "y['age_adjusted_rate'] = y['age_adjusted_rate'].astype(float)\n",
    "y.head()"
   ]
  },
  {
   "cell_type": "code",
   "execution_count": 11,
   "id": "6450707a",
   "metadata": {},
   "outputs": [
    {
     "data": {
      "text/html": [
       "<div>\n",
       "<style scoped>\n",
       "    .dataframe tbody tr th:only-of-type {\n",
       "        vertical-align: middle;\n",
       "    }\n",
       "\n",
       "    .dataframe tbody tr th {\n",
       "        vertical-align: top;\n",
       "    }\n",
       "\n",
       "    .dataframe thead th {\n",
       "        text-align: right;\n",
       "    }\n",
       "</style>\n",
       "<table border=\"1\" class=\"dataframe\">\n",
       "  <thead>\n",
       "    <tr style=\"text-align: right;\">\n",
       "      <th></th>\n",
       "      <th>race_ethnicity</th>\n",
       "    </tr>\n",
       "  </thead>\n",
       "  <tbody>\n",
       "    <tr>\n",
       "      <th>0</th>\n",
       "      <td>White (includes Hispanic)</td>\n",
       "    </tr>\n",
       "    <tr>\n",
       "      <th>2</th>\n",
       "      <td>Black (includes Hispanic)</td>\n",
       "    </tr>\n",
       "    <tr>\n",
       "      <th>3</th>\n",
       "      <td>White (includes Hispanic)</td>\n",
       "    </tr>\n",
       "    <tr>\n",
       "      <th>5</th>\n",
       "      <td>Black (includes Hispanic)</td>\n",
       "    </tr>\n",
       "    <tr>\n",
       "      <th>6</th>\n",
       "      <td>White (includes Hispanic)</td>\n",
       "    </tr>\n",
       "  </tbody>\n",
       "</table>\n",
       "</div>"
      ],
      "text/plain": [
       "              race_ethnicity\n",
       "0  White (includes Hispanic)\n",
       "2  Black (includes Hispanic)\n",
       "3  White (includes Hispanic)\n",
       "5  Black (includes Hispanic)\n",
       "6  White (includes Hispanic)"
      ]
     },
     "execution_count": 11,
     "metadata": {},
     "output_type": "execute_result"
    }
   ],
   "source": [
    "#create feautures variable holding race\n",
    "X = incidence_df[[\"race_ethnicity\"]]\n",
    "X.head()"
   ]
  },
  {
   "cell_type": "code",
   "execution_count": 12,
   "id": "81967ef9",
   "metadata": {},
   "outputs": [
    {
     "data": {
      "text/html": [
       "<div>\n",
       "<style scoped>\n",
       "    .dataframe tbody tr th:only-of-type {\n",
       "        vertical-align: middle;\n",
       "    }\n",
       "\n",
       "    .dataframe tbody tr th {\n",
       "        vertical-align: top;\n",
       "    }\n",
       "\n",
       "    .dataframe thead th {\n",
       "        text-align: right;\n",
       "    }\n",
       "</style>\n",
       "<table border=\"1\" class=\"dataframe\">\n",
       "  <thead>\n",
       "    <tr style=\"text-align: right;\">\n",
       "      <th></th>\n",
       "      <th>race_ethnicity_Amer. Indian / AK Native (includes Hispanic)</th>\n",
       "      <th>race_ethnicity_Asian / Pacific Islander (includes Hispanic)</th>\n",
       "      <th>race_ethnicity_Black (includes Hispanic)</th>\n",
       "      <th>race_ethnicity_Hispanic (any race)</th>\n",
       "      <th>race_ethnicity_White (includes Hispanic)</th>\n",
       "    </tr>\n",
       "  </thead>\n",
       "  <tbody>\n",
       "    <tr>\n",
       "      <th>0</th>\n",
       "      <td>0</td>\n",
       "      <td>0</td>\n",
       "      <td>0</td>\n",
       "      <td>0</td>\n",
       "      <td>1</td>\n",
       "    </tr>\n",
       "    <tr>\n",
       "      <th>2</th>\n",
       "      <td>0</td>\n",
       "      <td>0</td>\n",
       "      <td>1</td>\n",
       "      <td>0</td>\n",
       "      <td>0</td>\n",
       "    </tr>\n",
       "    <tr>\n",
       "      <th>3</th>\n",
       "      <td>0</td>\n",
       "      <td>0</td>\n",
       "      <td>0</td>\n",
       "      <td>0</td>\n",
       "      <td>1</td>\n",
       "    </tr>\n",
       "    <tr>\n",
       "      <th>5</th>\n",
       "      <td>0</td>\n",
       "      <td>0</td>\n",
       "      <td>1</td>\n",
       "      <td>0</td>\n",
       "      <td>0</td>\n",
       "    </tr>\n",
       "    <tr>\n",
       "      <th>6</th>\n",
       "      <td>0</td>\n",
       "      <td>0</td>\n",
       "      <td>0</td>\n",
       "      <td>0</td>\n",
       "      <td>1</td>\n",
       "    </tr>\n",
       "  </tbody>\n",
       "</table>\n",
       "</div>"
      ],
      "text/plain": [
       "   race_ethnicity_Amer. Indian / AK Native (includes Hispanic)  \\\n",
       "0                                                  0             \n",
       "2                                                  0             \n",
       "3                                                  0             \n",
       "5                                                  0             \n",
       "6                                                  0             \n",
       "\n",
       "   race_ethnicity_Asian / Pacific Islander (includes Hispanic)  \\\n",
       "0                                                  0             \n",
       "2                                                  0             \n",
       "3                                                  0             \n",
       "5                                                  0             \n",
       "6                                                  0             \n",
       "\n",
       "   race_ethnicity_Black (includes Hispanic)  \\\n",
       "0                                         0   \n",
       "2                                         1   \n",
       "3                                         0   \n",
       "5                                         1   \n",
       "6                                         0   \n",
       "\n",
       "   race_ethnicity_Hispanic (any race)  \\\n",
       "0                                   0   \n",
       "2                                   0   \n",
       "3                                   0   \n",
       "5                                   0   \n",
       "6                                   0   \n",
       "\n",
       "   race_ethnicity_White (includes Hispanic)  \n",
       "0                                         1  \n",
       "2                                         0  \n",
       "3                                         1  \n",
       "5                                         0  \n",
       "6                                         1  "
      ]
     },
     "execution_count": 12,
     "metadata": {},
     "output_type": "execute_result"
    }
   ],
   "source": [
    "#create dummy variables for race\n",
    "X = pd.get_dummies(X, columns=[\"race_ethnicity\"])\n",
    "X.head()"
   ]
  },
  {
   "cell_type": "code",
   "execution_count": 13,
   "id": "2aa76633",
   "metadata": {},
   "outputs": [
    {
     "data": {
      "text/plain": [
       "(5913, 1)"
      ]
     },
     "execution_count": 13,
     "metadata": {},
     "output_type": "execute_result"
    }
   ],
   "source": [
    "#get shape of target array\n",
    "y.shape"
   ]
  },
  {
   "cell_type": "code",
   "execution_count": 14,
   "id": "1280b889",
   "metadata": {},
   "outputs": [
    {
     "data": {
      "text/plain": [
       "(5913, 5)"
      ]
     },
     "execution_count": 14,
     "metadata": {},
     "output_type": "execute_result"
    }
   ],
   "source": [
    "#get shape of feautures array\n",
    "X.shape"
   ]
  },
  {
   "cell_type": "code",
   "execution_count": 15,
   "id": "481444e9",
   "metadata": {},
   "outputs": [],
   "source": [
    "#split data\n",
    "X_train, X_test, y_train, y_test = train_test_split(X, y)"
   ]
  },
  {
   "cell_type": "code",
   "execution_count": 16,
   "id": "d2527940",
   "metadata": {},
   "outputs": [],
   "source": [
    "#create linear regression model using sklearn\n",
    "model = LinearRegression()"
   ]
  },
  {
   "cell_type": "code",
   "execution_count": 17,
   "id": "f8ddaed7",
   "metadata": {},
   "outputs": [],
   "source": [
    "#fit the model\n",
    "regression_race_incidence = model.fit(X_train ,y_train)"
   ]
  },
  {
   "cell_type": "code",
   "execution_count": 19,
   "id": "c7765a0d",
   "metadata": {},
   "outputs": [
    {
     "data": {
      "text/plain": [
       "array([[450.25],\n",
       "       [458.25],\n",
       "       [450.25],\n",
       "       ...,\n",
       "       [458.25],\n",
       "       [347.75],\n",
       "       [450.25]])"
      ]
     },
     "execution_count": 19,
     "metadata": {},
     "output_type": "execute_result"
    }
   ],
   "source": [
    "#Create predictions array using linear regression\n",
    "y_pred = regression_race_incidence.predict(X_test)\n",
    "y_pred"
   ]
  },
  {
   "cell_type": "code",
   "execution_count": 20,
   "id": "d80f5562",
   "metadata": {},
   "outputs": [
    {
     "data": {
      "text/plain": [
       "0.19591440986630704"
      ]
     },
     "execution_count": 20,
     "metadata": {},
     "output_type": "execute_result"
    }
   ],
   "source": [
    "#get R2 value from linear regression\n",
    "from sklearn.metrics import r2_score\n",
    "r2_score(y_test, y_pred)"
   ]
  },
  {
   "cell_type": "code",
   "execution_count": 21,
   "id": "d168955c",
   "metadata": {},
   "outputs": [
    {
     "name": "stderr",
     "output_type": "stream",
     "text": [
      "/Users/hankbowman/opt/anaconda3/envs/mlenv/lib/python3.7/site-packages/statsmodels/tsa/tsatools.py:142: FutureWarning: In a future version of pandas all arguments of concat except for the argument 'objs' will be keyword-only\n",
      "  x = pd.concat(x[::order], 1)\n"
     ]
    }
   ],
   "source": [
    "#run regression again with statsmodels\n",
    "#use statsmodels to add constant to X\n",
    "#add constant to X\n",
    "X1 = sm.add_constant(X)"
   ]
  },
  {
   "cell_type": "code",
   "execution_count": 22,
   "id": "5ebb7adf",
   "metadata": {},
   "outputs": [],
   "source": [
    "#fit linear regression model\n",
    "model = sm.OLS(y, X1).fit()"
   ]
  },
  {
   "cell_type": "code",
   "execution_count": 23,
   "id": "9695608b",
   "metadata": {},
   "outputs": [
    {
     "name": "stdout",
     "output_type": "stream",
     "text": [
      "                            OLS Regression Results                            \n",
      "==============================================================================\n",
      "Dep. Variable:      age_adjusted_rate   R-squared:                       0.210\n",
      "Model:                            OLS   Adj. R-squared:                  0.210\n",
      "Method:                 Least Squares   F-statistic:                     393.7\n",
      "Date:                Fri, 03 Jun 2022   Prob (F-statistic):          4.47e-301\n",
      "Time:                        14:54:19   Log-Likelihood:                -36246.\n",
      "No. Observations:                5913   AIC:                         7.250e+04\n",
      "Df Residuals:                    5908   BIC:                         7.253e+04\n",
      "Df Model:                           4                                         \n",
      "Covariance Type:            nonrobust                                         \n",
      "===============================================================================================================================\n",
      "                                                                  coef    std err          t      P>|t|      [0.025      0.975]\n",
      "-------------------------------------------------------------------------------------------------------------------------------\n",
      "const                                                         329.1637      1.480    222.449      0.000     326.263     332.064\n",
      "race_ethnicity_Amer. Indian / AK Native (includes Hispanic)   106.0419      4.631     22.897      0.000      96.963     115.121\n",
      "race_ethnicity_Asian / Pacific Islander (includes Hispanic)   -45.3995      4.230    -10.733      0.000     -53.691     -37.108\n",
      "race_ethnicity_Black (includes Hispanic)                      128.7865      2.914     44.195      0.000     123.074     134.499\n",
      "race_ethnicity_Hispanic (any race)                             18.3938      3.219      5.715      0.000      12.084      24.703\n",
      "race_ethnicity_White (includes Hispanic)                      121.3410      2.304     52.666      0.000     116.824     125.858\n",
      "==============================================================================\n",
      "Omnibus:                     6448.632   Durbin-Watson:                   1.547\n",
      "Prob(Omnibus):                  0.000   Jarque-Bera (JB):          1791682.976\n",
      "Skew:                           5.050   Prob(JB):                         0.00\n",
      "Kurtosis:                      87.677   Cond. No.                     1.89e+15\n",
      "==============================================================================\n",
      "\n",
      "Notes:\n",
      "[1] Standard Errors assume that the covariance matrix of the errors is correctly specified.\n",
      "[2] The smallest eigenvalue is 2.18e-27. This might indicate that there are\n",
      "strong multicollinearity problems or that the design matrix is singular.\n"
     ]
    }
   ],
   "source": [
    "#view model summary with statsmodels\n",
    "print(model.summary())"
   ]
  },
  {
   "cell_type": "code",
   "execution_count": 24,
   "id": "27fb6f89",
   "metadata": {},
   "outputs": [],
   "source": [
    "##decision tree model\n",
    "#split data\n",
    "X_train, X_test, y_train, y_test = train_test_split(X, y)"
   ]
  },
  {
   "cell_type": "code",
   "execution_count": 25,
   "id": "e657087d",
   "metadata": {},
   "outputs": [
    {
     "data": {
      "text/plain": [
       "DecisionTreeRegressor()"
      ]
     },
     "execution_count": 25,
     "metadata": {},
     "output_type": "execute_result"
    }
   ],
   "source": [
    "#fit the model with training data\n",
    "regressor_DT = DecisionTreeRegressor()\n",
    "regressor_DT.fit(X_train, y_train)"
   ]
  },
  {
   "cell_type": "code",
   "execution_count": 26,
   "id": "18e6ac94",
   "metadata": {},
   "outputs": [
    {
     "data": {
      "text/plain": [
       "array([451.93381148, 457.65481928, 451.93381148, ..., 346.82545455,\n",
       "       451.93381148, 451.93381148])"
      ]
     },
     "execution_count": 26,
     "metadata": {},
     "output_type": "execute_result"
    }
   ],
   "source": [
    "#predict\n",
    "y_pred = regressor_DT.predict(X)\n",
    "y_pred"
   ]
  },
  {
   "cell_type": "code",
   "execution_count": 27,
   "id": "74325c04",
   "metadata": {},
   "outputs": [
    {
     "data": {
      "text/plain": [
       "0.21022658462225763"
      ]
     },
     "execution_count": 27,
     "metadata": {},
     "output_type": "execute_result"
    }
   ],
   "source": [
    "\n",
    "#calculate r2 score\n",
    "r2_score(y, y_pred)"
   ]
  },
  {
   "cell_type": "code",
   "execution_count": null,
   "id": "79d03a32",
   "metadata": {},
   "outputs": [],
   "source": []
  },
  {
   "cell_type": "code",
   "execution_count": null,
   "id": "60f5d582",
   "metadata": {},
   "outputs": [],
   "source": []
  }
 ],
 "metadata": {
  "kernelspec": {
   "display_name": "mlenv",
   "language": "python",
   "name": "mlenv"
  },
  "language_info": {
   "codemirror_mode": {
    "name": "ipython",
    "version": 3
   },
   "file_extension": ".py",
   "mimetype": "text/x-python",
   "name": "python",
   "nbconvert_exporter": "python",
   "pygments_lexer": "ipython3",
   "version": "3.7.11"
  }
 },
 "nbformat": 4,
 "nbformat_minor": 5
}
